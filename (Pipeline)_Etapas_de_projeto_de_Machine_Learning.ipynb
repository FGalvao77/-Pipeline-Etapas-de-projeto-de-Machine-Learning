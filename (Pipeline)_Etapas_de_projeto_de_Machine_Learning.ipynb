{
  "nbformat": 4,
  "nbformat_minor": 0,
  "metadata": {
    "colab": {
      "name": "(Pipeline) Etapas de projeto de Machine Learning.ipynb",
      "provenance": [],
      "collapsed_sections": [],
      "authorship_tag": "ABX9TyMKHjuqHE8ZSjtrU2bLjqMP",
      "include_colab_link": true
    },
    "kernelspec": {
      "name": "python3",
      "display_name": "Python 3"
    },
    "language_info": {
      "name": "python"
    }
  },
  "cells": [
    {
      "cell_type": "markdown",
      "metadata": {
        "id": "view-in-github",
        "colab_type": "text"
      },
      "source": [
        "<a href=\"https://colab.research.google.com/github/FGalvao77/Pipeline-Etapas-de-projeto-de-Machine-Learning/blob/main/(Pipeline)_Etapas_de_projeto_de_Machine_Learning.ipynb\" target=\"_parent\"><img src=\"https://colab.research.google.com/assets/colab-badge.svg\" alt=\"Open In Colab\"/></a>"
      ]
    },
    {
      "cell_type": "markdown",
      "metadata": {
        "id": "iYneP8msQ6de"
      },
      "source": [
        "# **(Pipeline) Etapas de projeto de Machine Learning**\n",
        "\n",
        "---\n",
        "\n"
      ]
    },
    {
      "cell_type": "markdown",
      "metadata": {
        "id": "j0l14HT8RFpG"
      },
      "source": [
        "## **O que é Machine Learning?**\n"
      ]
    },
    {
      "cell_type": "markdown",
      "metadata": {
        "id": "oeNdVm19RMGG"
      },
      "source": [
        "_Machine Learning aborda a questão de como construir computadores que melhoram automaticamente por meio da **experiência**_ (JORDAN & MITCHELL, 2015)."
      ]
    },
    {
      "cell_type": "markdown",
      "metadata": {
        "id": "0SjhAtiiRoAe"
      },
      "source": [
        "### **Pipeline**\n",
        "\n",
        "Nesse notebook será apresentado as etapas principais de um projeto de `Machine Learning`. \n",
        "\n",
        "Para exemplo prático utilizaremos o famoso conjunto de dados do _titanic_, onde nosso objetivo é predizer se o passageiro sobreviveu ou não ao trágico acidente dados alguns atributos."
      ]
    },
    {
      "cell_type": "markdown",
      "metadata": {
        "id": "DTpuJ0aJR3KX"
      },
      "source": [
        "**Etapas de um projeto de Ciência de Dados (Data Science) usando técnicas de Aprendizado de Máquina (Machine Learning)**\n",
        "\n",
        "1. Bibliotecas;\n",
        "2. Observação do conjunto de dados;\n",
        "3. Análise exploratória dos dados;\n",
        "4. Preparação dos dados;\n",
        "5. Treinamento do modelo;\n",
        "6. Avaliação do modelo;\n",
        "7. Predição;\n",
        "8. Otimização do modelo;\n",
        "9. Exportação do modelo e,\n",
        "10. Reutilização do modelo."
      ]
    },
    {
      "cell_type": "markdown",
      "metadata": {
        "id": "8BFkeDEhS8uG"
      },
      "source": [
        "#### 1. Bibliotecas"
      ]
    },
    {
      "cell_type": "code",
      "metadata": {
        "id": "KwKD_DKhQwLy"
      },
      "source": [
        "# bibliotecas para análise e processamento dos dados\n",
        "import pandas as pd\n",
        "import numpy as np"
      ],
      "execution_count": 1,
      "outputs": []
    },
    {
      "cell_type": "code",
      "metadata": {
        "id": "e13XbkAOQxPe"
      },
      "source": [
        "# bibliotecas para visualização gráfica dos dados\n",
        "import matplotlib.pyplot as plt\n",
        "import seaborn as sns\n",
        "import missingno as msno\n",
        "\n",
        "# sns.set()\n",
        "%matplotlib inline"
      ],
      "execution_count": 2,
      "outputs": []
    },
    {
      "cell_type": "code",
      "metadata": {
        "id": "HEHTDh4yBRMJ"
      },
      "source": [
        "# importando a biblioteca para ignorar \"erros\"\n",
        "from warnings import filterwarnings\n",
        "filterwarnings('ignore')"
      ],
      "execution_count": 3,
      "outputs": []
    },
    {
      "cell_type": "code",
      "metadata": {
        "id": "khxproKlQxMe"
      },
      "source": [
        "# função para pré-processamento dos dados\n",
        "from sklearn.preprocessing import StandardScaler"
      ],
      "execution_count": 4,
      "outputs": []
    },
    {
      "cell_type": "code",
      "metadata": {
        "id": "cauZuhZsQxJ2"
      },
      "source": [
        "# função para gerar amostras dos dados\n",
        "from sklearn.model_selection import train_test_split"
      ],
      "execution_count": 5,
      "outputs": []
    },
    {
      "cell_type": "code",
      "metadata": {
        "id": "CN6zOoI2QxHO"
      },
      "source": [
        "# função para aprendizado de máquina - classificação\n",
        "from sklearn.neighbors import KNeighborsClassifier"
      ],
      "execution_count": 6,
      "outputs": []
    },
    {
      "cell_type": "code",
      "metadata": {
        "id": "7hvZvEMkQxEd"
      },
      "source": [
        "# função para avaliação do modelo\n",
        "from sklearn.metrics import accuracy_score, precision_score"
      ],
      "execution_count": 7,
      "outputs": []
    },
    {
      "cell_type": "code",
      "metadata": {
        "id": "NtRYfDZxQxBy"
      },
      "source": [
        "# função para otimização dos hiperparâmetros\n",
        "from sklearn.model_selection import GridSearchCV"
      ],
      "execution_count": 8,
      "outputs": []
    },
    {
      "cell_type": "code",
      "metadata": {
        "id": "yTIVhaJEQw--"
      },
      "source": [
        "# biblioteca para serialização do modelo \n",
        "import pickle"
      ],
      "execution_count": 9,
      "outputs": []
    },
    {
      "cell_type": "markdown",
      "metadata": {
        "id": "z5aP5nEqU1jf"
      },
      "source": [
        "#### 2. Observação do conjunto de dados"
      ]
    },
    {
      "cell_type": "code",
      "metadata": {
        "id": "WMp17pIzQw8j"
      },
      "source": [
        "# carregando o conjunto de dados de uma planilha excel (xls) em um dataframe que se encontra em uma url\n",
        "url = 'https://biostat.app.vumc.org/wiki/pub/Main/DataSets/titanic3.xls'"
      ],
      "execution_count": 10,
      "outputs": []
    },
    {
      "cell_type": "markdown",
      "metadata": {
        "id": "_uLe-3-fFp4W"
      },
      "source": [
        "> Segue o link do site do dataset:\n",
        "- [Department of Biostatistics - Vanderbilt University School of Medicine](https://biostat.app.vumc.org/wiki/Main/WebHome)"
      ]
    },
    {
      "cell_type": "code",
      "metadata": {
        "id": "IhvGdilvQw6Q"
      },
      "source": [
        "# realizando a leitura do conjunto de dados \n",
        "df = pd.read_excel(url)"
      ],
      "execution_count": 11,
      "outputs": []
    },
    {
      "cell_type": "code",
      "metadata": {
        "colab": {
          "base_uri": "https://localhost:8080/",
          "height": 250
        },
        "id": "dxIT4ijYQw2x",
        "outputId": "7c0b07ab-c4eb-49cf-a7ef-bc8eba1d49c8"
      },
      "source": [
        "# visualizando as 5 primeiras linhas do conjunto de dados\n",
        "df.head()"
      ],
      "execution_count": 12,
      "outputs": [
        {
          "output_type": "execute_result",
          "data": {
            "text/html": [
              "\n",
              "  <div id=\"df-4c5879ac-e1f2-42ed-8b5b-28d10bf9f966\">\n",
              "    <div class=\"colab-df-container\">\n",
              "      <div>\n",
              "<style scoped>\n",
              "    .dataframe tbody tr th:only-of-type {\n",
              "        vertical-align: middle;\n",
              "    }\n",
              "\n",
              "    .dataframe tbody tr th {\n",
              "        vertical-align: top;\n",
              "    }\n",
              "\n",
              "    .dataframe thead th {\n",
              "        text-align: right;\n",
              "    }\n",
              "</style>\n",
              "<table border=\"1\" class=\"dataframe\">\n",
              "  <thead>\n",
              "    <tr style=\"text-align: right;\">\n",
              "      <th></th>\n",
              "      <th>pclass</th>\n",
              "      <th>survived</th>\n",
              "      <th>name</th>\n",
              "      <th>sex</th>\n",
              "      <th>age</th>\n",
              "      <th>sibsp</th>\n",
              "      <th>parch</th>\n",
              "      <th>ticket</th>\n",
              "      <th>fare</th>\n",
              "      <th>cabin</th>\n",
              "      <th>embarked</th>\n",
              "      <th>boat</th>\n",
              "      <th>body</th>\n",
              "      <th>home.dest</th>\n",
              "    </tr>\n",
              "  </thead>\n",
              "  <tbody>\n",
              "    <tr>\n",
              "      <th>0</th>\n",
              "      <td>1</td>\n",
              "      <td>1</td>\n",
              "      <td>Allen, Miss. Elisabeth Walton</td>\n",
              "      <td>female</td>\n",
              "      <td>29.0000</td>\n",
              "      <td>0</td>\n",
              "      <td>0</td>\n",
              "      <td>24160</td>\n",
              "      <td>211.3375</td>\n",
              "      <td>B5</td>\n",
              "      <td>S</td>\n",
              "      <td>2</td>\n",
              "      <td>NaN</td>\n",
              "      <td>St Louis, MO</td>\n",
              "    </tr>\n",
              "    <tr>\n",
              "      <th>1</th>\n",
              "      <td>1</td>\n",
              "      <td>1</td>\n",
              "      <td>Allison, Master. Hudson Trevor</td>\n",
              "      <td>male</td>\n",
              "      <td>0.9167</td>\n",
              "      <td>1</td>\n",
              "      <td>2</td>\n",
              "      <td>113781</td>\n",
              "      <td>151.5500</td>\n",
              "      <td>C22 C26</td>\n",
              "      <td>S</td>\n",
              "      <td>11</td>\n",
              "      <td>NaN</td>\n",
              "      <td>Montreal, PQ / Chesterville, ON</td>\n",
              "    </tr>\n",
              "    <tr>\n",
              "      <th>2</th>\n",
              "      <td>1</td>\n",
              "      <td>0</td>\n",
              "      <td>Allison, Miss. Helen Loraine</td>\n",
              "      <td>female</td>\n",
              "      <td>2.0000</td>\n",
              "      <td>1</td>\n",
              "      <td>2</td>\n",
              "      <td>113781</td>\n",
              "      <td>151.5500</td>\n",
              "      <td>C22 C26</td>\n",
              "      <td>S</td>\n",
              "      <td>NaN</td>\n",
              "      <td>NaN</td>\n",
              "      <td>Montreal, PQ / Chesterville, ON</td>\n",
              "    </tr>\n",
              "    <tr>\n",
              "      <th>3</th>\n",
              "      <td>1</td>\n",
              "      <td>0</td>\n",
              "      <td>Allison, Mr. Hudson Joshua Creighton</td>\n",
              "      <td>male</td>\n",
              "      <td>30.0000</td>\n",
              "      <td>1</td>\n",
              "      <td>2</td>\n",
              "      <td>113781</td>\n",
              "      <td>151.5500</td>\n",
              "      <td>C22 C26</td>\n",
              "      <td>S</td>\n",
              "      <td>NaN</td>\n",
              "      <td>135.0</td>\n",
              "      <td>Montreal, PQ / Chesterville, ON</td>\n",
              "    </tr>\n",
              "    <tr>\n",
              "      <th>4</th>\n",
              "      <td>1</td>\n",
              "      <td>0</td>\n",
              "      <td>Allison, Mrs. Hudson J C (Bessie Waldo Daniels)</td>\n",
              "      <td>female</td>\n",
              "      <td>25.0000</td>\n",
              "      <td>1</td>\n",
              "      <td>2</td>\n",
              "      <td>113781</td>\n",
              "      <td>151.5500</td>\n",
              "      <td>C22 C26</td>\n",
              "      <td>S</td>\n",
              "      <td>NaN</td>\n",
              "      <td>NaN</td>\n",
              "      <td>Montreal, PQ / Chesterville, ON</td>\n",
              "    </tr>\n",
              "  </tbody>\n",
              "</table>\n",
              "</div>\n",
              "      <button class=\"colab-df-convert\" onclick=\"convertToInteractive('df-4c5879ac-e1f2-42ed-8b5b-28d10bf9f966')\"\n",
              "              title=\"Convert this dataframe to an interactive table.\"\n",
              "              style=\"display:none;\">\n",
              "        \n",
              "  <svg xmlns=\"http://www.w3.org/2000/svg\" height=\"24px\"viewBox=\"0 0 24 24\"\n",
              "       width=\"24px\">\n",
              "    <path d=\"M0 0h24v24H0V0z\" fill=\"none\"/>\n",
              "    <path d=\"M18.56 5.44l.94 2.06.94-2.06 2.06-.94-2.06-.94-.94-2.06-.94 2.06-2.06.94zm-11 1L8.5 8.5l.94-2.06 2.06-.94-2.06-.94L8.5 2.5l-.94 2.06-2.06.94zm10 10l.94 2.06.94-2.06 2.06-.94-2.06-.94-.94-2.06-.94 2.06-2.06.94z\"/><path d=\"M17.41 7.96l-1.37-1.37c-.4-.4-.92-.59-1.43-.59-.52 0-1.04.2-1.43.59L10.3 9.45l-7.72 7.72c-.78.78-.78 2.05 0 2.83L4 21.41c.39.39.9.59 1.41.59.51 0 1.02-.2 1.41-.59l7.78-7.78 2.81-2.81c.8-.78.8-2.07 0-2.86zM5.41 20L4 18.59l7.72-7.72 1.47 1.35L5.41 20z\"/>\n",
              "  </svg>\n",
              "      </button>\n",
              "      \n",
              "  <style>\n",
              "    .colab-df-container {\n",
              "      display:flex;\n",
              "      flex-wrap:wrap;\n",
              "      gap: 12px;\n",
              "    }\n",
              "\n",
              "    .colab-df-convert {\n",
              "      background-color: #E8F0FE;\n",
              "      border: none;\n",
              "      border-radius: 50%;\n",
              "      cursor: pointer;\n",
              "      display: none;\n",
              "      fill: #1967D2;\n",
              "      height: 32px;\n",
              "      padding: 0 0 0 0;\n",
              "      width: 32px;\n",
              "    }\n",
              "\n",
              "    .colab-df-convert:hover {\n",
              "      background-color: #E2EBFA;\n",
              "      box-shadow: 0px 1px 2px rgba(60, 64, 67, 0.3), 0px 1px 3px 1px rgba(60, 64, 67, 0.15);\n",
              "      fill: #174EA6;\n",
              "    }\n",
              "\n",
              "    [theme=dark] .colab-df-convert {\n",
              "      background-color: #3B4455;\n",
              "      fill: #D2E3FC;\n",
              "    }\n",
              "\n",
              "    [theme=dark] .colab-df-convert:hover {\n",
              "      background-color: #434B5C;\n",
              "      box-shadow: 0px 1px 3px 1px rgba(0, 0, 0, 0.15);\n",
              "      filter: drop-shadow(0px 1px 2px rgba(0, 0, 0, 0.3));\n",
              "      fill: #FFFFFF;\n",
              "    }\n",
              "  </style>\n",
              "\n",
              "      <script>\n",
              "        const buttonEl =\n",
              "          document.querySelector('#df-4c5879ac-e1f2-42ed-8b5b-28d10bf9f966 button.colab-df-convert');\n",
              "        buttonEl.style.display =\n",
              "          google.colab.kernel.accessAllowed ? 'block' : 'none';\n",
              "\n",
              "        async function convertToInteractive(key) {\n",
              "          const element = document.querySelector('#df-4c5879ac-e1f2-42ed-8b5b-28d10bf9f966');\n",
              "          const dataTable =\n",
              "            await google.colab.kernel.invokeFunction('convertToInteractive',\n",
              "                                                     [key], {});\n",
              "          if (!dataTable) return;\n",
              "\n",
              "          const docLinkHtml = 'Like what you see? Visit the ' +\n",
              "            '<a target=\"_blank\" href=https://colab.research.google.com/notebooks/data_table.ipynb>data table notebook</a>'\n",
              "            + ' to learn more about interactive tables.';\n",
              "          element.innerHTML = '';\n",
              "          dataTable['output_type'] = 'display_data';\n",
              "          await google.colab.output.renderOutput(dataTable, element);\n",
              "          const docLink = document.createElement('div');\n",
              "          docLink.innerHTML = docLinkHtml;\n",
              "          element.appendChild(docLink);\n",
              "        }\n",
              "      </script>\n",
              "    </div>\n",
              "  </div>\n",
              "  "
            ],
            "text/plain": [
              "   pclass  survived  ...   body                        home.dest\n",
              "0       1         1  ...    NaN                     St Louis, MO\n",
              "1       1         1  ...    NaN  Montreal, PQ / Chesterville, ON\n",
              "2       1         0  ...    NaN  Montreal, PQ / Chesterville, ON\n",
              "3       1         0  ...  135.0  Montreal, PQ / Chesterville, ON\n",
              "4       1         0  ...    NaN  Montreal, PQ / Chesterville, ON\n",
              "\n",
              "[5 rows x 14 columns]"
            ]
          },
          "metadata": {},
          "execution_count": 12
        }
      ]
    },
    {
      "cell_type": "code",
      "metadata": {
        "colab": {
          "base_uri": "https://localhost:8080/",
          "height": 206
        },
        "id": "EgvXsTzoUxYh",
        "outputId": "2fb1fcdd-242a-4b7e-ac0d-98a1a58b87c9"
      },
      "source": [
        "# visualizando as 5 últimas linhas do conjunto de dados\n",
        "df.tail()"
      ],
      "execution_count": 13,
      "outputs": [
        {
          "output_type": "execute_result",
          "data": {
            "text/html": [
              "\n",
              "  <div id=\"df-4f03a7cc-6b3e-419c-9347-9dfa0f46aad6\">\n",
              "    <div class=\"colab-df-container\">\n",
              "      <div>\n",
              "<style scoped>\n",
              "    .dataframe tbody tr th:only-of-type {\n",
              "        vertical-align: middle;\n",
              "    }\n",
              "\n",
              "    .dataframe tbody tr th {\n",
              "        vertical-align: top;\n",
              "    }\n",
              "\n",
              "    .dataframe thead th {\n",
              "        text-align: right;\n",
              "    }\n",
              "</style>\n",
              "<table border=\"1\" class=\"dataframe\">\n",
              "  <thead>\n",
              "    <tr style=\"text-align: right;\">\n",
              "      <th></th>\n",
              "      <th>pclass</th>\n",
              "      <th>survived</th>\n",
              "      <th>name</th>\n",
              "      <th>sex</th>\n",
              "      <th>age</th>\n",
              "      <th>sibsp</th>\n",
              "      <th>parch</th>\n",
              "      <th>ticket</th>\n",
              "      <th>fare</th>\n",
              "      <th>cabin</th>\n",
              "      <th>embarked</th>\n",
              "      <th>boat</th>\n",
              "      <th>body</th>\n",
              "      <th>home.dest</th>\n",
              "    </tr>\n",
              "  </thead>\n",
              "  <tbody>\n",
              "    <tr>\n",
              "      <th>1304</th>\n",
              "      <td>3</td>\n",
              "      <td>0</td>\n",
              "      <td>Zabour, Miss. Hileni</td>\n",
              "      <td>female</td>\n",
              "      <td>14.5</td>\n",
              "      <td>1</td>\n",
              "      <td>0</td>\n",
              "      <td>2665</td>\n",
              "      <td>14.4542</td>\n",
              "      <td>NaN</td>\n",
              "      <td>C</td>\n",
              "      <td>NaN</td>\n",
              "      <td>328.0</td>\n",
              "      <td>NaN</td>\n",
              "    </tr>\n",
              "    <tr>\n",
              "      <th>1305</th>\n",
              "      <td>3</td>\n",
              "      <td>0</td>\n",
              "      <td>Zabour, Miss. Thamine</td>\n",
              "      <td>female</td>\n",
              "      <td>NaN</td>\n",
              "      <td>1</td>\n",
              "      <td>0</td>\n",
              "      <td>2665</td>\n",
              "      <td>14.4542</td>\n",
              "      <td>NaN</td>\n",
              "      <td>C</td>\n",
              "      <td>NaN</td>\n",
              "      <td>NaN</td>\n",
              "      <td>NaN</td>\n",
              "    </tr>\n",
              "    <tr>\n",
              "      <th>1306</th>\n",
              "      <td>3</td>\n",
              "      <td>0</td>\n",
              "      <td>Zakarian, Mr. Mapriededer</td>\n",
              "      <td>male</td>\n",
              "      <td>26.5</td>\n",
              "      <td>0</td>\n",
              "      <td>0</td>\n",
              "      <td>2656</td>\n",
              "      <td>7.2250</td>\n",
              "      <td>NaN</td>\n",
              "      <td>C</td>\n",
              "      <td>NaN</td>\n",
              "      <td>304.0</td>\n",
              "      <td>NaN</td>\n",
              "    </tr>\n",
              "    <tr>\n",
              "      <th>1307</th>\n",
              "      <td>3</td>\n",
              "      <td>0</td>\n",
              "      <td>Zakarian, Mr. Ortin</td>\n",
              "      <td>male</td>\n",
              "      <td>27.0</td>\n",
              "      <td>0</td>\n",
              "      <td>0</td>\n",
              "      <td>2670</td>\n",
              "      <td>7.2250</td>\n",
              "      <td>NaN</td>\n",
              "      <td>C</td>\n",
              "      <td>NaN</td>\n",
              "      <td>NaN</td>\n",
              "      <td>NaN</td>\n",
              "    </tr>\n",
              "    <tr>\n",
              "      <th>1308</th>\n",
              "      <td>3</td>\n",
              "      <td>0</td>\n",
              "      <td>Zimmerman, Mr. Leo</td>\n",
              "      <td>male</td>\n",
              "      <td>29.0</td>\n",
              "      <td>0</td>\n",
              "      <td>0</td>\n",
              "      <td>315082</td>\n",
              "      <td>7.8750</td>\n",
              "      <td>NaN</td>\n",
              "      <td>S</td>\n",
              "      <td>NaN</td>\n",
              "      <td>NaN</td>\n",
              "      <td>NaN</td>\n",
              "    </tr>\n",
              "  </tbody>\n",
              "</table>\n",
              "</div>\n",
              "      <button class=\"colab-df-convert\" onclick=\"convertToInteractive('df-4f03a7cc-6b3e-419c-9347-9dfa0f46aad6')\"\n",
              "              title=\"Convert this dataframe to an interactive table.\"\n",
              "              style=\"display:none;\">\n",
              "        \n",
              "  <svg xmlns=\"http://www.w3.org/2000/svg\" height=\"24px\"viewBox=\"0 0 24 24\"\n",
              "       width=\"24px\">\n",
              "    <path d=\"M0 0h24v24H0V0z\" fill=\"none\"/>\n",
              "    <path d=\"M18.56 5.44l.94 2.06.94-2.06 2.06-.94-2.06-.94-.94-2.06-.94 2.06-2.06.94zm-11 1L8.5 8.5l.94-2.06 2.06-.94-2.06-.94L8.5 2.5l-.94 2.06-2.06.94zm10 10l.94 2.06.94-2.06 2.06-.94-2.06-.94-.94-2.06-.94 2.06-2.06.94z\"/><path d=\"M17.41 7.96l-1.37-1.37c-.4-.4-.92-.59-1.43-.59-.52 0-1.04.2-1.43.59L10.3 9.45l-7.72 7.72c-.78.78-.78 2.05 0 2.83L4 21.41c.39.39.9.59 1.41.59.51 0 1.02-.2 1.41-.59l7.78-7.78 2.81-2.81c.8-.78.8-2.07 0-2.86zM5.41 20L4 18.59l7.72-7.72 1.47 1.35L5.41 20z\"/>\n",
              "  </svg>\n",
              "      </button>\n",
              "      \n",
              "  <style>\n",
              "    .colab-df-container {\n",
              "      display:flex;\n",
              "      flex-wrap:wrap;\n",
              "      gap: 12px;\n",
              "    }\n",
              "\n",
              "    .colab-df-convert {\n",
              "      background-color: #E8F0FE;\n",
              "      border: none;\n",
              "      border-radius: 50%;\n",
              "      cursor: pointer;\n",
              "      display: none;\n",
              "      fill: #1967D2;\n",
              "      height: 32px;\n",
              "      padding: 0 0 0 0;\n",
              "      width: 32px;\n",
              "    }\n",
              "\n",
              "    .colab-df-convert:hover {\n",
              "      background-color: #E2EBFA;\n",
              "      box-shadow: 0px 1px 2px rgba(60, 64, 67, 0.3), 0px 1px 3px 1px rgba(60, 64, 67, 0.15);\n",
              "      fill: #174EA6;\n",
              "    }\n",
              "\n",
              "    [theme=dark] .colab-df-convert {\n",
              "      background-color: #3B4455;\n",
              "      fill: #D2E3FC;\n",
              "    }\n",
              "\n",
              "    [theme=dark] .colab-df-convert:hover {\n",
              "      background-color: #434B5C;\n",
              "      box-shadow: 0px 1px 3px 1px rgba(0, 0, 0, 0.15);\n",
              "      filter: drop-shadow(0px 1px 2px rgba(0, 0, 0, 0.3));\n",
              "      fill: #FFFFFF;\n",
              "    }\n",
              "  </style>\n",
              "\n",
              "      <script>\n",
              "        const buttonEl =\n",
              "          document.querySelector('#df-4f03a7cc-6b3e-419c-9347-9dfa0f46aad6 button.colab-df-convert');\n",
              "        buttonEl.style.display =\n",
              "          google.colab.kernel.accessAllowed ? 'block' : 'none';\n",
              "\n",
              "        async function convertToInteractive(key) {\n",
              "          const element = document.querySelector('#df-4f03a7cc-6b3e-419c-9347-9dfa0f46aad6');\n",
              "          const dataTable =\n",
              "            await google.colab.kernel.invokeFunction('convertToInteractive',\n",
              "                                                     [key], {});\n",
              "          if (!dataTable) return;\n",
              "\n",
              "          const docLinkHtml = 'Like what you see? Visit the ' +\n",
              "            '<a target=\"_blank\" href=https://colab.research.google.com/notebooks/data_table.ipynb>data table notebook</a>'\n",
              "            + ' to learn more about interactive tables.';\n",
              "          element.innerHTML = '';\n",
              "          dataTable['output_type'] = 'display_data';\n",
              "          await google.colab.output.renderOutput(dataTable, element);\n",
              "          const docLink = document.createElement('div');\n",
              "          docLink.innerHTML = docLinkHtml;\n",
              "          element.appendChild(docLink);\n",
              "        }\n",
              "      </script>\n",
              "    </div>\n",
              "  </div>\n",
              "  "
            ],
            "text/plain": [
              "      pclass  survived                       name  ... boat   body  home.dest\n",
              "1304       3         0       Zabour, Miss. Hileni  ...  NaN  328.0        NaN\n",
              "1305       3         0      Zabour, Miss. Thamine  ...  NaN    NaN        NaN\n",
              "1306       3         0  Zakarian, Mr. Mapriededer  ...  NaN  304.0        NaN\n",
              "1307       3         0        Zakarian, Mr. Ortin  ...  NaN    NaN        NaN\n",
              "1308       3         0         Zimmerman, Mr. Leo  ...  NaN    NaN        NaN\n",
              "\n",
              "[5 rows x 14 columns]"
            ]
          },
          "metadata": {},
          "execution_count": 13
        }
      ]
    },
    {
      "cell_type": "code",
      "metadata": {
        "colab": {
          "base_uri": "https://localhost:8080/"
        },
        "id": "2SeOag24UxVx",
        "outputId": "6bfb1540-4536-48a6-c292-16bbb476f968"
      },
      "source": [
        "# informações gerais do conjunto de dados\n",
        "df.info()"
      ],
      "execution_count": 14,
      "outputs": [
        {
          "output_type": "stream",
          "name": "stdout",
          "text": [
            "<class 'pandas.core.frame.DataFrame'>\n",
            "RangeIndex: 1309 entries, 0 to 1308\n",
            "Data columns (total 14 columns):\n",
            " #   Column     Non-Null Count  Dtype  \n",
            "---  ------     --------------  -----  \n",
            " 0   pclass     1309 non-null   int64  \n",
            " 1   survived   1309 non-null   int64  \n",
            " 2   name       1309 non-null   object \n",
            " 3   sex        1309 non-null   object \n",
            " 4   age        1046 non-null   float64\n",
            " 5   sibsp      1309 non-null   int64  \n",
            " 6   parch      1309 non-null   int64  \n",
            " 7   ticket     1309 non-null   object \n",
            " 8   fare       1308 non-null   float64\n",
            " 9   cabin      295 non-null    object \n",
            " 10  embarked   1307 non-null   object \n",
            " 11  boat       486 non-null    object \n",
            " 12  body       121 non-null    float64\n",
            " 13  home.dest  745 non-null    object \n",
            "dtypes: float64(3), int64(4), object(7)\n",
            "memory usage: 143.3+ KB\n"
          ]
        }
      ]
    },
    {
      "cell_type": "markdown",
      "metadata": {
        "id": "g5FldQmnW9Aa"
      },
      "source": [
        "#### 3. Análise exploratória dos dados"
      ]
    },
    {
      "cell_type": "code",
      "metadata": {
        "colab": {
          "base_uri": "https://localhost:8080/"
        },
        "id": "-jNhTq_NoWYc",
        "outputId": "59b23081-9511-4b04-ecb7-1b7e317fc272"
      },
      "source": [
        "# dimensão do conjunto de dados\n",
        "df.shape    # linhas e atributos (colunas)"
      ],
      "execution_count": 15,
      "outputs": [
        {
          "output_type": "execute_result",
          "data": {
            "text/plain": [
              "(1309, 14)"
            ]
          },
          "metadata": {},
          "execution_count": 15
        }
      ]
    },
    {
      "cell_type": "code",
      "metadata": {
        "colab": {
          "base_uri": "https://localhost:8080/",
          "height": 300
        },
        "id": "qAxB6kIsXS74",
        "outputId": "a0325803-8ac7-4da2-9866-6315e11d2eb1"
      },
      "source": [
        "# estatística descritiva dos dados\n",
        "df.describe()"
      ],
      "execution_count": 16,
      "outputs": [
        {
          "output_type": "execute_result",
          "data": {
            "text/html": [
              "\n",
              "  <div id=\"df-efeb8023-e98f-4277-8c42-f94b721c6939\">\n",
              "    <div class=\"colab-df-container\">\n",
              "      <div>\n",
              "<style scoped>\n",
              "    .dataframe tbody tr th:only-of-type {\n",
              "        vertical-align: middle;\n",
              "    }\n",
              "\n",
              "    .dataframe tbody tr th {\n",
              "        vertical-align: top;\n",
              "    }\n",
              "\n",
              "    .dataframe thead th {\n",
              "        text-align: right;\n",
              "    }\n",
              "</style>\n",
              "<table border=\"1\" class=\"dataframe\">\n",
              "  <thead>\n",
              "    <tr style=\"text-align: right;\">\n",
              "      <th></th>\n",
              "      <th>pclass</th>\n",
              "      <th>survived</th>\n",
              "      <th>age</th>\n",
              "      <th>sibsp</th>\n",
              "      <th>parch</th>\n",
              "      <th>fare</th>\n",
              "      <th>body</th>\n",
              "    </tr>\n",
              "  </thead>\n",
              "  <tbody>\n",
              "    <tr>\n",
              "      <th>count</th>\n",
              "      <td>1309.000000</td>\n",
              "      <td>1309.000000</td>\n",
              "      <td>1046.000000</td>\n",
              "      <td>1309.000000</td>\n",
              "      <td>1309.000000</td>\n",
              "      <td>1308.000000</td>\n",
              "      <td>121.000000</td>\n",
              "    </tr>\n",
              "    <tr>\n",
              "      <th>mean</th>\n",
              "      <td>2.294882</td>\n",
              "      <td>0.381971</td>\n",
              "      <td>29.881135</td>\n",
              "      <td>0.498854</td>\n",
              "      <td>0.385027</td>\n",
              "      <td>33.295479</td>\n",
              "      <td>160.809917</td>\n",
              "    </tr>\n",
              "    <tr>\n",
              "      <th>std</th>\n",
              "      <td>0.837836</td>\n",
              "      <td>0.486055</td>\n",
              "      <td>14.413500</td>\n",
              "      <td>1.041658</td>\n",
              "      <td>0.865560</td>\n",
              "      <td>51.758668</td>\n",
              "      <td>97.696922</td>\n",
              "    </tr>\n",
              "    <tr>\n",
              "      <th>min</th>\n",
              "      <td>1.000000</td>\n",
              "      <td>0.000000</td>\n",
              "      <td>0.166700</td>\n",
              "      <td>0.000000</td>\n",
              "      <td>0.000000</td>\n",
              "      <td>0.000000</td>\n",
              "      <td>1.000000</td>\n",
              "    </tr>\n",
              "    <tr>\n",
              "      <th>25%</th>\n",
              "      <td>2.000000</td>\n",
              "      <td>0.000000</td>\n",
              "      <td>21.000000</td>\n",
              "      <td>0.000000</td>\n",
              "      <td>0.000000</td>\n",
              "      <td>7.895800</td>\n",
              "      <td>72.000000</td>\n",
              "    </tr>\n",
              "    <tr>\n",
              "      <th>50%</th>\n",
              "      <td>3.000000</td>\n",
              "      <td>0.000000</td>\n",
              "      <td>28.000000</td>\n",
              "      <td>0.000000</td>\n",
              "      <td>0.000000</td>\n",
              "      <td>14.454200</td>\n",
              "      <td>155.000000</td>\n",
              "    </tr>\n",
              "    <tr>\n",
              "      <th>75%</th>\n",
              "      <td>3.000000</td>\n",
              "      <td>1.000000</td>\n",
              "      <td>39.000000</td>\n",
              "      <td>1.000000</td>\n",
              "      <td>0.000000</td>\n",
              "      <td>31.275000</td>\n",
              "      <td>256.000000</td>\n",
              "    </tr>\n",
              "    <tr>\n",
              "      <th>max</th>\n",
              "      <td>3.000000</td>\n",
              "      <td>1.000000</td>\n",
              "      <td>80.000000</td>\n",
              "      <td>8.000000</td>\n",
              "      <td>9.000000</td>\n",
              "      <td>512.329200</td>\n",
              "      <td>328.000000</td>\n",
              "    </tr>\n",
              "  </tbody>\n",
              "</table>\n",
              "</div>\n",
              "      <button class=\"colab-df-convert\" onclick=\"convertToInteractive('df-efeb8023-e98f-4277-8c42-f94b721c6939')\"\n",
              "              title=\"Convert this dataframe to an interactive table.\"\n",
              "              style=\"display:none;\">\n",
              "        \n",
              "  <svg xmlns=\"http://www.w3.org/2000/svg\" height=\"24px\"viewBox=\"0 0 24 24\"\n",
              "       width=\"24px\">\n",
              "    <path d=\"M0 0h24v24H0V0z\" fill=\"none\"/>\n",
              "    <path d=\"M18.56 5.44l.94 2.06.94-2.06 2.06-.94-2.06-.94-.94-2.06-.94 2.06-2.06.94zm-11 1L8.5 8.5l.94-2.06 2.06-.94-2.06-.94L8.5 2.5l-.94 2.06-2.06.94zm10 10l.94 2.06.94-2.06 2.06-.94-2.06-.94-.94-2.06-.94 2.06-2.06.94z\"/><path d=\"M17.41 7.96l-1.37-1.37c-.4-.4-.92-.59-1.43-.59-.52 0-1.04.2-1.43.59L10.3 9.45l-7.72 7.72c-.78.78-.78 2.05 0 2.83L4 21.41c.39.39.9.59 1.41.59.51 0 1.02-.2 1.41-.59l7.78-7.78 2.81-2.81c.8-.78.8-2.07 0-2.86zM5.41 20L4 18.59l7.72-7.72 1.47 1.35L5.41 20z\"/>\n",
              "  </svg>\n",
              "      </button>\n",
              "      \n",
              "  <style>\n",
              "    .colab-df-container {\n",
              "      display:flex;\n",
              "      flex-wrap:wrap;\n",
              "      gap: 12px;\n",
              "    }\n",
              "\n",
              "    .colab-df-convert {\n",
              "      background-color: #E8F0FE;\n",
              "      border: none;\n",
              "      border-radius: 50%;\n",
              "      cursor: pointer;\n",
              "      display: none;\n",
              "      fill: #1967D2;\n",
              "      height: 32px;\n",
              "      padding: 0 0 0 0;\n",
              "      width: 32px;\n",
              "    }\n",
              "\n",
              "    .colab-df-convert:hover {\n",
              "      background-color: #E2EBFA;\n",
              "      box-shadow: 0px 1px 2px rgba(60, 64, 67, 0.3), 0px 1px 3px 1px rgba(60, 64, 67, 0.15);\n",
              "      fill: #174EA6;\n",
              "    }\n",
              "\n",
              "    [theme=dark] .colab-df-convert {\n",
              "      background-color: #3B4455;\n",
              "      fill: #D2E3FC;\n",
              "    }\n",
              "\n",
              "    [theme=dark] .colab-df-convert:hover {\n",
              "      background-color: #434B5C;\n",
              "      box-shadow: 0px 1px 3px 1px rgba(0, 0, 0, 0.15);\n",
              "      filter: drop-shadow(0px 1px 2px rgba(0, 0, 0, 0.3));\n",
              "      fill: #FFFFFF;\n",
              "    }\n",
              "  </style>\n",
              "\n",
              "      <script>\n",
              "        const buttonEl =\n",
              "          document.querySelector('#df-efeb8023-e98f-4277-8c42-f94b721c6939 button.colab-df-convert');\n",
              "        buttonEl.style.display =\n",
              "          google.colab.kernel.accessAllowed ? 'block' : 'none';\n",
              "\n",
              "        async function convertToInteractive(key) {\n",
              "          const element = document.querySelector('#df-efeb8023-e98f-4277-8c42-f94b721c6939');\n",
              "          const dataTable =\n",
              "            await google.colab.kernel.invokeFunction('convertToInteractive',\n",
              "                                                     [key], {});\n",
              "          if (!dataTable) return;\n",
              "\n",
              "          const docLinkHtml = 'Like what you see? Visit the ' +\n",
              "            '<a target=\"_blank\" href=https://colab.research.google.com/notebooks/data_table.ipynb>data table notebook</a>'\n",
              "            + ' to learn more about interactive tables.';\n",
              "          element.innerHTML = '';\n",
              "          dataTable['output_type'] = 'display_data';\n",
              "          await google.colab.output.renderOutput(dataTable, element);\n",
              "          const docLink = document.createElement('div');\n",
              "          docLink.innerHTML = docLinkHtml;\n",
              "          element.appendChild(docLink);\n",
              "        }\n",
              "      </script>\n",
              "    </div>\n",
              "  </div>\n",
              "  "
            ],
            "text/plain": [
              "            pclass     survived  ...         fare        body\n",
              "count  1309.000000  1309.000000  ...  1308.000000  121.000000\n",
              "mean      2.294882     0.381971  ...    33.295479  160.809917\n",
              "std       0.837836     0.486055  ...    51.758668   97.696922\n",
              "min       1.000000     0.000000  ...     0.000000    1.000000\n",
              "25%       2.000000     0.000000  ...     7.895800   72.000000\n",
              "50%       3.000000     0.000000  ...    14.454200  155.000000\n",
              "75%       3.000000     1.000000  ...    31.275000  256.000000\n",
              "max       3.000000     1.000000  ...   512.329200  328.000000\n",
              "\n",
              "[8 rows x 7 columns]"
            ]
          },
          "metadata": {},
          "execution_count": 16
        }
      ]
    },
    {
      "cell_type": "code",
      "metadata": {
        "colab": {
          "base_uri": "https://localhost:8080/"
        },
        "id": "Igg4hooyeBLL",
        "outputId": "c852a1bb-2cf2-4097-ac19-23419d11cd89"
      },
      "source": [
        "# podemos selecionar um atributo e visualizar seus dados estatísticos\n",
        "df['age'].describe()"
      ],
      "execution_count": 17,
      "outputs": [
        {
          "output_type": "execute_result",
          "data": {
            "text/plain": [
              "count    1046.000000\n",
              "mean       29.881135\n",
              "std        14.413500\n",
              "min         0.166700\n",
              "25%        21.000000\n",
              "50%        28.000000\n",
              "75%        39.000000\n",
              "max        80.000000\n",
              "Name: age, dtype: float64"
            ]
          },
          "metadata": {},
          "execution_count": 17
        }
      ]
    },
    {
      "cell_type": "code",
      "metadata": {
        "colab": {
          "base_uri": "https://localhost:8080/",
          "height": 112
        },
        "id": "o5KW29F5eRJ-",
        "outputId": "490ba477-e789-4e44-b166-18da31591114"
      },
      "source": [
        "# também podemos selecionar mais que um atributo e visualizar seus dados estatísticos\n",
        "df[['age', 'fare']].describe().T    # com o método \".T\" podemos realizar a transposição da exibição dos dados"
      ],
      "execution_count": 18,
      "outputs": [
        {
          "output_type": "execute_result",
          "data": {
            "text/html": [
              "\n",
              "  <div id=\"df-780efa38-dc06-4291-90aa-6250bb42ce3b\">\n",
              "    <div class=\"colab-df-container\">\n",
              "      <div>\n",
              "<style scoped>\n",
              "    .dataframe tbody tr th:only-of-type {\n",
              "        vertical-align: middle;\n",
              "    }\n",
              "\n",
              "    .dataframe tbody tr th {\n",
              "        vertical-align: top;\n",
              "    }\n",
              "\n",
              "    .dataframe thead th {\n",
              "        text-align: right;\n",
              "    }\n",
              "</style>\n",
              "<table border=\"1\" class=\"dataframe\">\n",
              "  <thead>\n",
              "    <tr style=\"text-align: right;\">\n",
              "      <th></th>\n",
              "      <th>count</th>\n",
              "      <th>mean</th>\n",
              "      <th>std</th>\n",
              "      <th>min</th>\n",
              "      <th>25%</th>\n",
              "      <th>50%</th>\n",
              "      <th>75%</th>\n",
              "      <th>max</th>\n",
              "    </tr>\n",
              "  </thead>\n",
              "  <tbody>\n",
              "    <tr>\n",
              "      <th>age</th>\n",
              "      <td>1046.0</td>\n",
              "      <td>29.881135</td>\n",
              "      <td>14.413500</td>\n",
              "      <td>0.1667</td>\n",
              "      <td>21.0000</td>\n",
              "      <td>28.0000</td>\n",
              "      <td>39.000</td>\n",
              "      <td>80.0000</td>\n",
              "    </tr>\n",
              "    <tr>\n",
              "      <th>fare</th>\n",
              "      <td>1308.0</td>\n",
              "      <td>33.295479</td>\n",
              "      <td>51.758668</td>\n",
              "      <td>0.0000</td>\n",
              "      <td>7.8958</td>\n",
              "      <td>14.4542</td>\n",
              "      <td>31.275</td>\n",
              "      <td>512.3292</td>\n",
              "    </tr>\n",
              "  </tbody>\n",
              "</table>\n",
              "</div>\n",
              "      <button class=\"colab-df-convert\" onclick=\"convertToInteractive('df-780efa38-dc06-4291-90aa-6250bb42ce3b')\"\n",
              "              title=\"Convert this dataframe to an interactive table.\"\n",
              "              style=\"display:none;\">\n",
              "        \n",
              "  <svg xmlns=\"http://www.w3.org/2000/svg\" height=\"24px\"viewBox=\"0 0 24 24\"\n",
              "       width=\"24px\">\n",
              "    <path d=\"M0 0h24v24H0V0z\" fill=\"none\"/>\n",
              "    <path d=\"M18.56 5.44l.94 2.06.94-2.06 2.06-.94-2.06-.94-.94-2.06-.94 2.06-2.06.94zm-11 1L8.5 8.5l.94-2.06 2.06-.94-2.06-.94L8.5 2.5l-.94 2.06-2.06.94zm10 10l.94 2.06.94-2.06 2.06-.94-2.06-.94-.94-2.06-.94 2.06-2.06.94z\"/><path d=\"M17.41 7.96l-1.37-1.37c-.4-.4-.92-.59-1.43-.59-.52 0-1.04.2-1.43.59L10.3 9.45l-7.72 7.72c-.78.78-.78 2.05 0 2.83L4 21.41c.39.39.9.59 1.41.59.51 0 1.02-.2 1.41-.59l7.78-7.78 2.81-2.81c.8-.78.8-2.07 0-2.86zM5.41 20L4 18.59l7.72-7.72 1.47 1.35L5.41 20z\"/>\n",
              "  </svg>\n",
              "      </button>\n",
              "      \n",
              "  <style>\n",
              "    .colab-df-container {\n",
              "      display:flex;\n",
              "      flex-wrap:wrap;\n",
              "      gap: 12px;\n",
              "    }\n",
              "\n",
              "    .colab-df-convert {\n",
              "      background-color: #E8F0FE;\n",
              "      border: none;\n",
              "      border-radius: 50%;\n",
              "      cursor: pointer;\n",
              "      display: none;\n",
              "      fill: #1967D2;\n",
              "      height: 32px;\n",
              "      padding: 0 0 0 0;\n",
              "      width: 32px;\n",
              "    }\n",
              "\n",
              "    .colab-df-convert:hover {\n",
              "      background-color: #E2EBFA;\n",
              "      box-shadow: 0px 1px 2px rgba(60, 64, 67, 0.3), 0px 1px 3px 1px rgba(60, 64, 67, 0.15);\n",
              "      fill: #174EA6;\n",
              "    }\n",
              "\n",
              "    [theme=dark] .colab-df-convert {\n",
              "      background-color: #3B4455;\n",
              "      fill: #D2E3FC;\n",
              "    }\n",
              "\n",
              "    [theme=dark] .colab-df-convert:hover {\n",
              "      background-color: #434B5C;\n",
              "      box-shadow: 0px 1px 3px 1px rgba(0, 0, 0, 0.15);\n",
              "      filter: drop-shadow(0px 1px 2px rgba(0, 0, 0, 0.3));\n",
              "      fill: #FFFFFF;\n",
              "    }\n",
              "  </style>\n",
              "\n",
              "      <script>\n",
              "        const buttonEl =\n",
              "          document.querySelector('#df-780efa38-dc06-4291-90aa-6250bb42ce3b button.colab-df-convert');\n",
              "        buttonEl.style.display =\n",
              "          google.colab.kernel.accessAllowed ? 'block' : 'none';\n",
              "\n",
              "        async function convertToInteractive(key) {\n",
              "          const element = document.querySelector('#df-780efa38-dc06-4291-90aa-6250bb42ce3b');\n",
              "          const dataTable =\n",
              "            await google.colab.kernel.invokeFunction('convertToInteractive',\n",
              "                                                     [key], {});\n",
              "          if (!dataTable) return;\n",
              "\n",
              "          const docLinkHtml = 'Like what you see? Visit the ' +\n",
              "            '<a target=\"_blank\" href=https://colab.research.google.com/notebooks/data_table.ipynb>data table notebook</a>'\n",
              "            + ' to learn more about interactive tables.';\n",
              "          element.innerHTML = '';\n",
              "          dataTable['output_type'] = 'display_data';\n",
              "          await google.colab.output.renderOutput(dataTable, element);\n",
              "          const docLink = document.createElement('div');\n",
              "          docLink.innerHTML = docLinkHtml;\n",
              "          element.appendChild(docLink);\n",
              "        }\n",
              "      </script>\n",
              "    </div>\n",
              "  </div>\n",
              "  "
            ],
            "text/plain": [
              "       count       mean        std     min      25%      50%     75%       max\n",
              "age   1046.0  29.881135  14.413500  0.1667  21.0000  28.0000  39.000   80.0000\n",
              "fare  1308.0  33.295479  51.758668  0.0000   7.8958  14.4542  31.275  512.3292"
            ]
          },
          "metadata": {},
          "execution_count": 18
        }
      ]
    },
    {
      "cell_type": "code",
      "metadata": {
        "colab": {
          "base_uri": "https://localhost:8080/",
          "height": 427
        },
        "id": "hYS3DeD4AFx8",
        "outputId": "fdea7719-4b20-4925-a29b-51795007ef3f"
      },
      "source": [
        "# plotando gráfico de barras com a função \".bar()\" da biblioteca \"missingno\"\n",
        "msno.bar(df, figsize=(9, 5));"
      ],
      "execution_count": 19,
      "outputs": [
        {
          "output_type": "display_data",
          "data": {
            "image/png": "[encoded data removed]",
            "text/plain": [
              "<Figure size 648x360 with 3 Axes>"
            ]
          },
          "metadata": {
            "needs_background": "light"
          }
        }
      ]
    },
    {
      "cell_type": "markdown",
      "metadata": {
        "id": "ldGG2wRXAnqs"
      },
      "source": [
        "> A biblioteca `MissingNo` permite a visualização de forma gráfica de dados nulos/faltantes no dataset, funciona com datasets tradicionais e também se mostra muito útil para dados como _séries temporais_."
      ]
    },
    {
      "cell_type": "code",
      "metadata": {
        "colab": {
          "base_uri": "https://localhost:8080/",
          "height": 320
        },
        "id": "W7eP1w3BXbuw",
        "outputId": "df2ddf9c-5c0d-416d-8a87-90f74d904dcc"
      },
      "source": [
        "# plotando gráfico de histograma para o atributo \"fare\" (tarifa)\n",
        "fig, ax = plt.subplots(figsize=[9, 5])\n",
        "df['fare'].plot(kind='hist', ax=ax, bins=15)\n",
        "plt.show();"
      ],
      "execution_count": 20,
      "outputs": [
        {
          "output_type": "display_data",
          "data": {
            "image/png": "[encoded data removed]",
            "text/plain": [
              "<Figure size 648x360 with 1 Axes>"
            ]
          },
          "metadata": {
            "needs_background": "light"
          }
        }
      ]
    },
    {
      "cell_type": "code",
      "metadata": {
        "colab": {
          "base_uri": "https://localhost:8080/",
          "height": 320
        },
        "id": "JzsWOXOl5A_s",
        "outputId": "cecd1cde-09d2-499d-8af5-27c280dec1de"
      },
      "source": [
        "# plotando gráfico de histograma para o atributo \"age\" (idade)\n",
        "fig, ax = plt.subplots(figsize=[9, 5])\n",
        "df['age'].plot(kind='hist', ax=ax, bins=25)\n",
        "plt.show();"
      ],
      "execution_count": 21,
      "outputs": [
        {
          "output_type": "display_data",
          "data": {
            "image/png": "[encoded data removed]",
            "text/plain": [
              "<Figure size 648x360 with 1 Axes>"
            ]
          },
          "metadata": {
            "needs_background": "light"
          }
        }
      ]
    },
    {
      "cell_type": "code",
      "metadata": {
        "colab": {
          "base_uri": "https://localhost:8080/",
          "height": 359
        },
        "id": "ORF1foTAA1I6",
        "outputId": "3fad407f-22a9-49c0-8451-c1734c4f88eb"
      },
      "source": [
        "# visualizando a distribuição dos dados da variável \"age\" (idade)\n",
        "plt.figure(figsize=(9, 5))\n",
        "plt.title('Distribuição dos dados da coluna \"age\" (idade)\\n', \n",
        "         fontsize = 11, fontweight = 'bold')\n",
        "sns.distplot(df['age'], bins=25)\n",
        "plt.show();"
      ],
      "execution_count": 22,
      "outputs": [
        {
          "output_type": "display_data",
          "data": {
            "image/png": "[encoded data removed]",
            "text/plain": [
              "<Figure size 648x360 with 1 Axes>"
            ]
          },
          "metadata": {
            "needs_background": "light"
          }
        }
      ]
    },
    {
      "cell_type": "code",
      "metadata": {
        "colab": {
          "base_uri": "https://localhost:8080/",
          "height": 334
        },
        "id": "9HLQadj8Xbrg",
        "outputId": "028cb244-53cf-4fd0-a2b8-96a474a24b28"
      },
      "source": [
        "# plotando gráfico de dispersão para age (idade) VS fare (tarifa)\n",
        "fig, ax = plt.subplots(figsize=[9, 5])\n",
        "df.plot.scatter(x='age', y='fare', ax=ax, alpha=0.3)\n",
        "plt.show();"
      ],
      "execution_count": 23,
      "outputs": [
        {
          "output_type": "display_data",
          "data": {
            "image/png": "[encoded data removed]",
            "text/plain": [
              "<Figure size 648x360 with 1 Axes>"
            ]
          },
          "metadata": {
            "needs_background": "light"
          }
        }
      ]
    },
    {
      "cell_type": "code",
      "metadata": {
        "colab": {
          "base_uri": "https://localhost:8080/",
          "height": 350
        },
        "id": "S9FvnKGPXbUA",
        "outputId": "b9e7c2c8-8b6d-4300-9e4b-11232fcfc487"
      },
      "source": [
        "# plotando gráfico de caixa (boxplot) para o atributo \"survived\" (sobreviventes)\n",
        "# com um diagrama de dispersão em relação ao atributo \"age\" (idade)\n",
        "plt.figure(figsize=[9, 5])\n",
        "sns.boxplot(x='survived', y='age', data=df)\n",
        "sns.stripplot(x='survived', y='age', data=df,\n",
        "              jitter=True, edgecolor='gray')\n",
        "plt.xlabel('sobreviventes [0 - não | 1 -sim]')\n",
        "plt.ylabel('idade')\n",
        "plt.title('Sobreviventes por idade')\n",
        "plt.show();"
      ],
      "execution_count": 24,
      "outputs": [
        {
          "output_type": "display_data",
          "data": {
            "image/png": "[encoded data removed]",
            "text/plain": [
              "<Figure size 648x360 with 1 Axes>"
            ]
          },
          "metadata": {
            "needs_background": "light"
          }
        }
      ]
    },
    {
      "cell_type": "code",
      "metadata": {
        "colab": {
          "base_uri": "https://localhost:8080/",
          "height": 359
        },
        "id": "UYrDylCnBdkd",
        "outputId": "0ca5f6fc-5f70-41f9-e0aa-2c2263d97485"
      },
      "source": [
        "# usando a função \".countplot()\" da biblioteca seaborn\n",
        "# visualizando a distribuição dos dados da variável \"sex\"\n",
        "plt.figure(figsize=(9, 5))\n",
        "plt.title('Distribuição dos dados da coluna \"sex\" (sexo)\\n', \n",
        "         fontsize = 11, fontweight = 'bold')\n",
        "sns.countplot(data=df, y='sex');"
      ],
      "execution_count": 25,
      "outputs": [
        {
          "output_type": "display_data",
          "data": {
            "image/png": "[encoded data removed]",
            "text/plain": [
              "<Figure size 648x360 with 1 Axes>"
            ]
          },
          "metadata": {
            "needs_background": "light"
          }
        }
      ]
    },
    {
      "cell_type": "code",
      "metadata": {
        "colab": {
          "base_uri": "https://localhost:8080/",
          "height": 346
        },
        "id": "OtbTU3NN-1XM",
        "outputId": "a6aefe5d-52b9-433e-f92e-0874f98f3f10"
      },
      "source": [
        "# plotando gráfico das distribuição absoluta da coluna \"sex\"\n",
        "plt.figure(figsize=[15, 5])\n",
        "plt.subplots_adjust(wspace=0.2)\n",
        "plt.subplot(1,2,1)\n",
        "plt.bar(df['sex'].unique(), df['sex'].value_counts(), color = 'lightgreen')\n",
        "plt.title('Dist. da freq. absoluta para variável \"sex\"\\n', \n",
        "          {'fontsize': 11,'fontweight': 'bold'})\n",
        "plt.show();"
      ],
      "execution_count": 26,
      "outputs": [
        {
          "output_type": "display_data",
          "data": {
            "image/png": "[encoded data removed]",
            "text/plain": [
              "<Figure size 1080x360 with 1 Axes>"
            ]
          },
          "metadata": {
            "needs_background": "light"
          }
        }
      ]
    },
    {
      "cell_type": "code",
      "metadata": {
        "colab": {
          "base_uri": "https://localhost:8080/",
          "height": 346
        },
        "id": "2E2pxfKp_mTp",
        "outputId": "051adfc4-d038-426f-cf70-1fc254fc3e9f"
      },
      "source": [
        "# plotando gráfico das distribuição relativa da coluna \"sex\"\n",
        "plt.figure(figsize=[15, 5])\n",
        "plt.subplot(1,2,2)\n",
        "plt.bar(df['sex'].unique(), df['sex'].value_counts(normalize=True), color = 'lightblue')\n",
        "plt.title('Dist. da freq. relativa para variável \"sex\"\\n', \n",
        "          {'fontsize': 11,'fontweight': 'bold'})\n",
        "plt.show();"
      ],
      "execution_count": 27,
      "outputs": [
        {
          "output_type": "display_data",
          "data": {
            "image/png": "[encoded data removed]",
            "text/plain": [
              "<Figure size 1080x360 with 1 Axes>"
            ]
          },
          "metadata": {
            "needs_background": "light"
          }
        }
      ]
    },
    {
      "cell_type": "code",
      "metadata": {
        "colab": {
          "base_uri": "https://localhost:8080/",
          "height": 372
        },
        "id": "AdxaDfT9B9GC",
        "outputId": "5d822791-4558-4814-ea03-d2e9266d06da"
      },
      "source": [
        "# visualizando a distribuição dos dados da coluna \"age\" (idade) VS \"survived\" (sobreviventes)\n",
        "plt.figure(figsize=(9, 5))\n",
        "plt.title('Distribuição dos dados da coluna \"age\" VS \"survived\" \\n idade VS sobreviventes [0 - não | 1 - sim]\\n', \n",
        "         fontsize = 11, fontweight = 'bold')\n",
        "sns.histplot(data=df, x='age', hue='survived', bins=50);"
      ],
      "execution_count": 28,
      "outputs": [
        {
          "output_type": "display_data",
          "data": {
            "image/png": "[encoded data removed]",
            "text/plain": [
              "<Figure size 648x360 with 1 Axes>"
            ]
          },
          "metadata": {
            "needs_background": "light"
          }
        }
      ]
    },
    {
      "cell_type": "code",
      "metadata": {
        "colab": {
          "base_uri": "https://localhost:8080/"
        },
        "id": "QwfY7y-yXagx",
        "outputId": "393ec952-b613-4653-8234-974165d8ce17"
      },
      "source": [
        "# visualizando as instâncias únicas no atributo \"survived\" (sobreviventes)\n",
        "df['survived'].unique()"
      ],
      "execution_count": 29,
      "outputs": [
        {
          "output_type": "execute_result",
          "data": {
            "text/plain": [
              "array([1, 0])"
            ]
          },
          "metadata": {},
          "execution_count": 29
        }
      ]
    },
    {
      "cell_type": "code",
      "metadata": {
        "colab": {
          "base_uri": "https://localhost:8080/"
        },
        "id": "TQ33O3-rfUmT",
        "outputId": "2dbf4965-fc7d-4d8a-b5c2-be47eea9a1ce"
      },
      "source": [
        "# contabilizando as instâncias únicas no atributo \"survived\" (sobreviventes)\n",
        "df['survived'].value_counts()"
      ],
      "execution_count": 30,
      "outputs": [
        {
          "output_type": "execute_result",
          "data": {
            "text/plain": [
              "0    809\n",
              "1    500\n",
              "Name: survived, dtype: int64"
            ]
          },
          "metadata": {},
          "execution_count": 30
        }
      ]
    },
    {
      "cell_type": "code",
      "metadata": {
        "colab": {
          "base_uri": "https://localhost:8080/"
        },
        "id": "PArs29TMflH8",
        "outputId": "677b5187-f59b-4ba6-f864-e414e492fa8e"
      },
      "source": [
        "# frequência absoluta e relativa das instâncias únicas no atributo \"survived\" (sobreviventes)\n",
        "print(f'Frequência absoluta:\\n{df.survived.value_counts()}')\n",
        "print()\n",
        "print(f'Frequência relativa:\\n{df.survived.value_counts(normalize=True)}')\n",
        "print()\n",
        "print(f'Frequência relativa (%):\\n{df.survived.value_counts(normalize=True) * 100}')"
      ],
      "execution_count": 31,
      "outputs": [
        {
          "output_type": "stream",
          "name": "stdout",
          "text": [
            "Frequência absoluta:\n",
            "0    809\n",
            "1    500\n",
            "Name: survived, dtype: int64\n",
            "\n",
            "Frequência relativa:\n",
            "0    0.618029\n",
            "1    0.381971\n",
            "Name: survived, dtype: float64\n",
            "\n",
            "Frequência relativa (%):\n",
            "0    61.802903\n",
            "1    38.197097\n",
            "Name: survived, dtype: float64\n"
          ]
        }
      ]
    },
    {
      "cell_type": "code",
      "metadata": {
        "colab": {
          "base_uri": "https://localhost:8080/"
        },
        "id": "7ldFpf985shC",
        "outputId": "8a8a354b-9e96-4e95-d679-3ff4aa4d8b8e"
      },
      "source": [
        "# visualizando as instâncias únicas dos atributos\n",
        "df.nunique()"
      ],
      "execution_count": 32,
      "outputs": [
        {
          "output_type": "execute_result",
          "data": {
            "text/plain": [
              "pclass          3\n",
              "survived        2\n",
              "name         1307\n",
              "sex             2\n",
              "age            98\n",
              "sibsp           7\n",
              "parch           8\n",
              "ticket        939\n",
              "fare          281\n",
              "cabin         186\n",
              "embarked        3\n",
              "boat           28\n",
              "body          121\n",
              "home.dest     369\n",
              "dtype: int64"
            ]
          },
          "metadata": {},
          "execution_count": 32
        }
      ]
    },
    {
      "cell_type": "code",
      "metadata": {
        "colab": {
          "base_uri": "https://localhost:8080/",
          "height": 269
        },
        "id": "hW73bMVCUxN6",
        "outputId": "ba6986f5-335e-4885-a479-57da3c397c16"
      },
      "source": [
        "# correlação entre as variáveis numéricas\n",
        "df.corr()"
      ],
      "execution_count": 33,
      "outputs": [
        {
          "output_type": "execute_result",
          "data": {
            "text/html": [
              "\n",
              "  <div id=\"df-c651d1d4-622c-48d0-86ba-af125c448762\">\n",
              "    <div class=\"colab-df-container\">\n",
              "      <div>\n",
              "<style scoped>\n",
              "    .dataframe tbody tr th:only-of-type {\n",
              "        vertical-align: middle;\n",
              "    }\n",
              "\n",
              "    .dataframe tbody tr th {\n",
              "        vertical-align: top;\n",
              "    }\n",
              "\n",
              "    .dataframe thead th {\n",
              "        text-align: right;\n",
              "    }\n",
              "</style>\n",
              "<table border=\"1\" class=\"dataframe\">\n",
              "  <thead>\n",
              "    <tr style=\"text-align: right;\">\n",
              "      <th></th>\n",
              "      <th>pclass</th>\n",
              "      <th>survived</th>\n",
              "      <th>age</th>\n",
              "      <th>sibsp</th>\n",
              "      <th>parch</th>\n",
              "      <th>fare</th>\n",
              "      <th>body</th>\n",
              "    </tr>\n",
              "  </thead>\n",
              "  <tbody>\n",
              "    <tr>\n",
              "      <th>pclass</th>\n",
              "      <td>1.000000</td>\n",
              "      <td>-0.312469</td>\n",
              "      <td>-0.408106</td>\n",
              "      <td>0.060832</td>\n",
              "      <td>0.018322</td>\n",
              "      <td>-0.558629</td>\n",
              "      <td>-0.034642</td>\n",
              "    </tr>\n",
              "    <tr>\n",
              "      <th>survived</th>\n",
              "      <td>-0.312469</td>\n",
              "      <td>1.000000</td>\n",
              "      <td>-0.055513</td>\n",
              "      <td>-0.027825</td>\n",
              "      <td>0.082660</td>\n",
              "      <td>0.244265</td>\n",
              "      <td>NaN</td>\n",
              "    </tr>\n",
              "    <tr>\n",
              "      <th>age</th>\n",
              "      <td>-0.408106</td>\n",
              "      <td>-0.055513</td>\n",
              "      <td>1.000000</td>\n",
              "      <td>-0.243699</td>\n",
              "      <td>-0.150917</td>\n",
              "      <td>0.178739</td>\n",
              "      <td>0.058809</td>\n",
              "    </tr>\n",
              "    <tr>\n",
              "      <th>sibsp</th>\n",
              "      <td>0.060832</td>\n",
              "      <td>-0.027825</td>\n",
              "      <td>-0.243699</td>\n",
              "      <td>1.000000</td>\n",
              "      <td>0.373587</td>\n",
              "      <td>0.160238</td>\n",
              "      <td>-0.099961</td>\n",
              "    </tr>\n",
              "    <tr>\n",
              "      <th>parch</th>\n",
              "      <td>0.018322</td>\n",
              "      <td>0.082660</td>\n",
              "      <td>-0.150917</td>\n",
              "      <td>0.373587</td>\n",
              "      <td>1.000000</td>\n",
              "      <td>0.221539</td>\n",
              "      <td>0.051099</td>\n",
              "    </tr>\n",
              "    <tr>\n",
              "      <th>fare</th>\n",
              "      <td>-0.558629</td>\n",
              "      <td>0.244265</td>\n",
              "      <td>0.178739</td>\n",
              "      <td>0.160238</td>\n",
              "      <td>0.221539</td>\n",
              "      <td>1.000000</td>\n",
              "      <td>-0.043110</td>\n",
              "    </tr>\n",
              "    <tr>\n",
              "      <th>body</th>\n",
              "      <td>-0.034642</td>\n",
              "      <td>NaN</td>\n",
              "      <td>0.058809</td>\n",
              "      <td>-0.099961</td>\n",
              "      <td>0.051099</td>\n",
              "      <td>-0.043110</td>\n",
              "      <td>1.000000</td>\n",
              "    </tr>\n",
              "  </tbody>\n",
              "</table>\n",
              "</div>\n",
              "      <button class=\"colab-df-convert\" onclick=\"convertToInteractive('df-c651d1d4-622c-48d0-86ba-af125c448762')\"\n",
              "              title=\"Convert this dataframe to an interactive table.\"\n",
              "              style=\"display:none;\">\n",
              "        \n",
              "  <svg xmlns=\"http://www.w3.org/2000/svg\" height=\"24px\"viewBox=\"0 0 24 24\"\n",
              "       width=\"24px\">\n",
              "    <path d=\"M0 0h24v24H0V0z\" fill=\"none\"/>\n",
              "    <path d=\"M18.56 5.44l.94 2.06.94-2.06 2.06-.94-2.06-.94-.94-2.06-.94 2.06-2.06.94zm-11 1L8.5 8.5l.94-2.06 2.06-.94-2.06-.94L8.5 2.5l-.94 2.06-2.06.94zm10 10l.94 2.06.94-2.06 2.06-.94-2.06-.94-.94-2.06-.94 2.06-2.06.94z\"/><path d=\"M17.41 7.96l-1.37-1.37c-.4-.4-.92-.59-1.43-.59-.52 0-1.04.2-1.43.59L10.3 9.45l-7.72 7.72c-.78.78-.78 2.05 0 2.83L4 21.41c.39.39.9.59 1.41.59.51 0 1.02-.2 1.41-.59l7.78-7.78 2.81-2.81c.8-.78.8-2.07 0-2.86zM5.41 20L4 18.59l7.72-7.72 1.47 1.35L5.41 20z\"/>\n",
              "  </svg>\n",
              "      </button>\n",
              "      \n",
              "  <style>\n",
              "    .colab-df-container {\n",
              "      display:flex;\n",
              "      flex-wrap:wrap;\n",
              "      gap: 12px;\n",
              "    }\n",
              "\n",
              "    .colab-df-convert {\n",
              "      background-color: #E8F0FE;\n",
              "      border: none;\n",
              "      border-radius: 50%;\n",
              "      cursor: pointer;\n",
              "      display: none;\n",
              "      fill: #1967D2;\n",
              "      height: 32px;\n",
              "      padding: 0 0 0 0;\n",
              "      width: 32px;\n",
              "    }\n",
              "\n",
              "    .colab-df-convert:hover {\n",
              "      background-color: #E2EBFA;\n",
              "      box-shadow: 0px 1px 2px rgba(60, 64, 67, 0.3), 0px 1px 3px 1px rgba(60, 64, 67, 0.15);\n",
              "      fill: #174EA6;\n",
              "    }\n",
              "\n",
              "    [theme=dark] .colab-df-convert {\n",
              "      background-color: #3B4455;\n",
              "      fill: #D2E3FC;\n",
              "    }\n",
              "\n",
              "    [theme=dark] .colab-df-convert:hover {\n",
              "      background-color: #434B5C;\n",
              "      box-shadow: 0px 1px 3px 1px rgba(0, 0, 0, 0.15);\n",
              "      filter: drop-shadow(0px 1px 2px rgba(0, 0, 0, 0.3));\n",
              "      fill: #FFFFFF;\n",
              "    }\n",
              "  </style>\n",
              "\n",
              "      <script>\n",
              "        const buttonEl =\n",
              "          document.querySelector('#df-c651d1d4-622c-48d0-86ba-af125c448762 button.colab-df-convert');\n",
              "        buttonEl.style.display =\n",
              "          google.colab.kernel.accessAllowed ? 'block' : 'none';\n",
              "\n",
              "        async function convertToInteractive(key) {\n",
              "          const element = document.querySelector('#df-c651d1d4-622c-48d0-86ba-af125c448762');\n",
              "          const dataTable =\n",
              "            await google.colab.kernel.invokeFunction('convertToInteractive',\n",
              "                                                     [key], {});\n",
              "          if (!dataTable) return;\n",
              "\n",
              "          const docLinkHtml = 'Like what you see? Visit the ' +\n",
              "            '<a target=\"_blank\" href=https://colab.research.google.com/notebooks/data_table.ipynb>data table notebook</a>'\n",
              "            + ' to learn more about interactive tables.';\n",
              "          element.innerHTML = '';\n",
              "          dataTable['output_type'] = 'display_data';\n",
              "          await google.colab.output.renderOutput(dataTable, element);\n",
              "          const docLink = document.createElement('div');\n",
              "          docLink.innerHTML = docLinkHtml;\n",
              "          element.appendChild(docLink);\n",
              "        }\n",
              "      </script>\n",
              "    </div>\n",
              "  </div>\n",
              "  "
            ],
            "text/plain": [
              "            pclass  survived       age     sibsp     parch      fare      body\n",
              "pclass    1.000000 -0.312469 -0.408106  0.060832  0.018322 -0.558629 -0.034642\n",
              "survived -0.312469  1.000000 -0.055513 -0.027825  0.082660  0.244265       NaN\n",
              "age      -0.408106 -0.055513  1.000000 -0.243699 -0.150917  0.178739  0.058809\n",
              "sibsp     0.060832 -0.027825 -0.243699  1.000000  0.373587  0.160238 -0.099961\n",
              "parch     0.018322  0.082660 -0.150917  0.373587  1.000000  0.221539  0.051099\n",
              "fare     -0.558629  0.244265  0.178739  0.160238  0.221539  1.000000 -0.043110\n",
              "body     -0.034642       NaN  0.058809 -0.099961  0.051099 -0.043110  1.000000"
            ]
          },
          "metadata": {},
          "execution_count": 33
        }
      ]
    },
    {
      "cell_type": "code",
      "metadata": {
        "colab": {
          "base_uri": "https://localhost:8080/",
          "height": 519
        },
        "id": "6e7IT0dbUxLI",
        "outputId": "754f1719-ccbb-4904-ae54-fb2a687aef97"
      },
      "source": [
        "# gráfico de calor das correlações entre as variáveis numéricas\n",
        "corr = df.corr()\n",
        "plt.figure(figsize = (10, 8))\n",
        "plt.title('Correlação das vars numéricas contínuas\\n', \n",
        "                      {'fontsize': 16,'fontweight': 'bold'})\n",
        "sns.heatmap(corr, fmt = '0.2%', annot = True, square = True,\n",
        "            cmap='coolwarm', vmin=-1, vmax=1\n",
        "            )\n",
        "plt.show();\n",
        "# plt.tight_layout();"
      ],
      "execution_count": 34,
      "outputs": [
        {
          "output_type": "display_data",
          "data": {
            "image/png": "[encoded data removed]",
            "text/plain": [
              "<Figure size 720x576 with 2 Axes>"
            ]
          },
          "metadata": {
            "needs_background": "light"
          }
        }
      ]
    },
    {
      "cell_type": "markdown",
      "metadata": {
        "id": "Ox74d3mWGIDT"
      },
      "source": [
        "Vamos instalar a biblioteca `Researchpy` para auxiliar nas análises estatísticas.\n",
        "\n",
        "_A **Researchpy** produz Pandas DataFrames que contêm informações de teste estatístico relevantes que são normalmente necessárias para pesquisas acadêmicas. As informações são retornadas como DataFrames do Pandas para permitir a exportação rápida e fácil dos resultados para qualquer formato / método que funcione com o DataFrame tradicional do Pandas. O researchpy é essencialmente um wrapper que combina vários pacotes estabelecidos, como pandas, scipy.stats e statsmodels para obter todas as informações padrão exigidas em um método. Se as análises não estivessem disponíveis nesses pacotes, o código foi desenvolvido para preencher a lacuna._"
      ]
    },
    {
      "cell_type": "markdown",
      "metadata": {
        "id": "VcoUtxUYGO0B"
      },
      "source": [
        "> **Official Page:** https://pypi.org/project/researchpy/"
      ]
    },
    {
      "cell_type": "code",
      "metadata": {
        "colab": {
          "base_uri": "https://localhost:8080/"
        },
        "id": "oXOVzjAHDhhU",
        "outputId": "ada731e5-0cd1-4031-d4df-dd742b2f27a0"
      },
      "source": [
        "# instalando a biblioteca\n",
        "!pip install researchpy "
      ],
      "execution_count": 35,
      "outputs": [
        {
          "output_type": "stream",
          "name": "stdout",
          "text": [
            "Requirement already satisfied: researchpy in /usr/local/lib/python3.7/dist-packages (0.3.2)\n",
            "Requirement already satisfied: scipy in /usr/local/lib/python3.7/dist-packages (from researchpy) (1.4.1)\n",
            "Requirement already satisfied: pandas in /usr/local/lib/python3.7/dist-packages (from researchpy) (1.1.5)\n",
            "Requirement already satisfied: numpy in /usr/local/lib/python3.7/dist-packages (from researchpy) (1.19.5)\n",
            "Requirement already satisfied: patsy in /usr/local/lib/python3.7/dist-packages (from researchpy) (0.5.2)\n",
            "Requirement already satisfied: statsmodels in /usr/local/lib/python3.7/dist-packages (from researchpy) (0.10.2)\n",
            "Requirement already satisfied: python-dateutil>=2.7.3 in /usr/local/lib/python3.7/dist-packages (from pandas->researchpy) (2.8.2)\n",
            "Requirement already satisfied: pytz>=2017.2 in /usr/local/lib/python3.7/dist-packages (from pandas->researchpy) (2018.9)\n",
            "Requirement already satisfied: six>=1.5 in /usr/local/lib/python3.7/dist-packages (from python-dateutil>=2.7.3->pandas->researchpy) (1.15.0)\n"
          ]
        }
      ]
    },
    {
      "cell_type": "code",
      "metadata": {
        "id": "DJJl9_AQDdxl"
      },
      "source": [
        "# importando a biblioteca\n",
        "import researchpy as rp "
      ],
      "execution_count": 36,
      "outputs": []
    },
    {
      "cell_type": "code",
      "metadata": {
        "id": "O7N0w80sDsOk"
      },
      "source": [
        "# criando uma função para auxiliar na visualização das avaliações estatísticas e das imagens gráficas\n",
        "def categorical_analysis(data, index, col, figsize=(7, 4)):\n",
        "    abs_tbl, test = rp.crosstab(data[index], data[col], \n",
        "                                test='chi-square', margins=False)\n",
        "    row_tbl = rp.crosstab(data[index], data[col], prop='row')\n",
        "    row_tbl = row_tbl.iloc[:-1, :-1]\n",
        "    \n",
        "    abs_tbl = abs_tbl.sort_values(('survived', 1))\n",
        "    row_tbl = row_tbl.sort_values(('survived', 1))\n",
        "    \n",
        "    print(test)\n",
        "    print('\\n')\n",
        "    \n",
        "    _, ax = plt.subplots(1, 2, figsize=figsize, sharey=True)\n",
        "    \n",
        "    sns.heatmap(abs_tbl, annot=True, fmt='.5g', cbar=False, cmap='Blues', \n",
        "                annot_kws={'fontsize': 20}, ax=ax[0])\n",
        "    sns.heatmap(row_tbl, annot=True, fmt='.5g', cbar=False, cmap='Greens', \n",
        "                annot_kws={'fontsize': 20}, ax=ax[1])\n",
        "    plt.show();"
      ],
      "execution_count": 37,
      "outputs": []
    },
    {
      "cell_type": "code",
      "metadata": {
        "colab": {
          "base_uri": "https://localhost:8080/",
          "height": 383
        },
        "id": "w67SlsQgD6A7",
        "outputId": "9afe97c2-19c1-4d0c-b211-81dbc2433ed5"
      },
      "source": [
        "# visualizando a relação entre as colunas \"sex\" (sexo) e \"survived\" (sobreviventes)\n",
        "categorical_analysis(df, 'sex', 'survived', figsize=(7, 4))"
      ],
      "execution_count": 38,
      "outputs": [
        {
          "output_type": "stream",
          "name": "stdout",
          "text": [
            "                Chi-square test   results\n",
            "0  Pearson Chi-square ( 1.0) =   365.8869\n",
            "1                    p-value =     0.0000\n",
            "2               Cramer's phi =     0.5287\n",
            "\n",
            "\n"
          ]
        },
        {
          "output_type": "display_data",
          "data": {
            "image/png": "[encoded data removed]",
            "text/plain": [
              "<Figure size 504x288 with 2 Axes>"
            ]
          },
          "metadata": {
            "needs_background": "light"
          }
        }
      ]
    },
    {
      "cell_type": "code",
      "metadata": {
        "colab": {
          "base_uri": "https://localhost:8080/",
          "height": 383
        },
        "id": "oZK4cHR5ECqo",
        "outputId": "3f0ef0db-8e32-44e2-e2d3-f15ec64cef1a"
      },
      "source": [
        "# visualizando a relação entre as colunas \"embarked\" (local de embarque) e \"survived\" (sobreviventes)\n",
        "categorical_analysis(df, 'embarked', 'survived')"
      ],
      "execution_count": 39,
      "outputs": [
        {
          "output_type": "stream",
          "name": "stdout",
          "text": [
            "                Chi-square test  results\n",
            "0  Pearson Chi-square ( 2.0) =   44.2417\n",
            "1                    p-value =    0.0000\n",
            "2                 Cramer's V =    0.1840\n",
            "\n",
            "\n"
          ]
        },
        {
          "output_type": "display_data",
          "data": {
            "image/png": "[encoded data removed]",
            "text/plain": [
              "<Figure size 504x288 with 2 Axes>"
            ]
          },
          "metadata": {
            "needs_background": "light"
          }
        }
      ]
    },
    {
      "cell_type": "code",
      "metadata": {
        "colab": {
          "base_uri": "https://localhost:8080/",
          "height": 383
        },
        "id": "nCYl9nHSE0bI",
        "outputId": "313ec8f2-934a-4830-c48d-6d240b90a923"
      },
      "source": [
        "# visualizando a relação entre as colunas \"pclass\" (tipo da classe) e \"survived\" (sobreviventes)\n",
        "categorical_analysis(df, 'pclass', 'survived')"
      ],
      "execution_count": 40,
      "outputs": [
        {
          "output_type": "stream",
          "name": "stdout",
          "text": [
            "                Chi-square test   results\n",
            "0  Pearson Chi-square ( 2.0) =   127.8592\n",
            "1                    p-value =     0.0000\n",
            "2                 Cramer's V =     0.3125\n",
            "\n",
            "\n"
          ]
        },
        {
          "output_type": "display_data",
          "data": {
            "image/png": "[encoded data removed]",
            "text/plain": [
              "<Figure size 504x288 with 2 Axes>"
            ]
          },
          "metadata": {
            "needs_background": "light"
          }
        }
      ]
    },
    {
      "cell_type": "markdown",
      "metadata": {
        "id": "BG7OoxRxICXu"
      },
      "source": [
        "> Diante dos resultados dos testes acima, podemos inferir que **há** fortes evidências estatísticas que as variáveis `sex`, `embarked` e `pclass` explica a nossa variável dependente, nesse caso `survived`.\n",
        "\n",
        "- o sexo `female` (feminino) teve maior número de sobreviventes;\n",
        "- local de embarque `Q` e `S` tiveram maior número de não sobreviventes e,\n",
        "- os passageiros da classe `1` foram os que mais sobreviveram, enquanto o da classe `2` e, principalmente da classe `3` morreram."
      ]
    },
    {
      "cell_type": "markdown",
      "metadata": {
        "id": "HLYiEzeslg5B"
      },
      "source": [
        "#### 4. Preparação dos dados"
      ]
    },
    {
      "cell_type": "code",
      "metadata": {
        "colab": {
          "base_uri": "https://localhost:8080/"
        },
        "id": "WeIT4fz6mUvB",
        "outputId": "bb31dd87-b9ed-4507-a4aa-9c60a8664337"
      },
      "source": [
        "# visualizando o nome dos atributos (colunas)\n",
        "df.columns"
      ],
      "execution_count": 41,
      "outputs": [
        {
          "output_type": "execute_result",
          "data": {
            "text/plain": [
              "Index(['pclass', 'survived', 'name', 'sex', 'age', 'sibsp', 'parch', 'ticket',\n",
              "       'fare', 'cabin', 'embarked', 'boat', 'body', 'home.dest'],\n",
              "      dtype='object')"
            ]
          },
          "metadata": {},
          "execution_count": 41
        }
      ]
    },
    {
      "cell_type": "code",
      "metadata": {
        "id": "CEh31A5gpVmF"
      },
      "source": [
        "# criando uma cópia do conjunto de dados\n",
        "df_copia = df.copy()"
      ],
      "execution_count": 42,
      "outputs": []
    },
    {
      "cell_type": "code",
      "metadata": {
        "id": "VIpEQ9R3UxIf"
      },
      "source": [
        "# removendo atributos pouco ou nada significativos para aprendizagem do modelo\n",
        "df_copia = df_copia.drop(columns=[\n",
        "                                  'name',       # nome\n",
        "                                  'ticket',     # número da passagem\n",
        "                                  'cabin',      # número da cabine\n",
        "                                  'boat',       # barco\n",
        "                                  'body',       # número de identicação do corpo\n",
        "                                  'home.dest'  # origem/destino\n",
        "                                ])"
      ],
      "execution_count": 43,
      "outputs": []
    },
    {
      "cell_type": "code",
      "metadata": {
        "id": "BvvFsg4LXJkV"
      },
      "source": [
        "# criando variáves \"dummy\" para os atributos categóricos\n",
        "df_copia = pd.get_dummies(df_copia, drop_first=True)"
      ],
      "execution_count": 44,
      "outputs": []
    },
    {
      "cell_type": "code",
      "metadata": {
        "colab": {
          "base_uri": "https://localhost:8080/",
          "height": 363
        },
        "id": "gDjXFDeGXJha",
        "outputId": "e3e754d6-036e-4a0b-9f2c-fcf95c15a424"
      },
      "source": [
        "# visualizando o conjunto de dados após o tratamento\n",
        "df_copia.head(10)   # 10 primeiras linhas"
      ],
      "execution_count": 45,
      "outputs": [
        {
          "output_type": "execute_result",
          "data": {
            "text/html": [
              "\n",
              "  <div id=\"df-63792a64-cccf-416d-87ec-5b593029b147\">\n",
              "    <div class=\"colab-df-container\">\n",
              "      <div>\n",
              "<style scoped>\n",
              "    .dataframe tbody tr th:only-of-type {\n",
              "        vertical-align: middle;\n",
              "    }\n",
              "\n",
              "    .dataframe tbody tr th {\n",
              "        vertical-align: top;\n",
              "    }\n",
              "\n",
              "    .dataframe thead th {\n",
              "        text-align: right;\n",
              "    }\n",
              "</style>\n",
              "<table border=\"1\" class=\"dataframe\">\n",
              "  <thead>\n",
              "    <tr style=\"text-align: right;\">\n",
              "      <th></th>\n",
              "      <th>pclass</th>\n",
              "      <th>survived</th>\n",
              "      <th>age</th>\n",
              "      <th>sibsp</th>\n",
              "      <th>parch</th>\n",
              "      <th>fare</th>\n",
              "      <th>sex_male</th>\n",
              "      <th>embarked_Q</th>\n",
              "      <th>embarked_S</th>\n",
              "    </tr>\n",
              "  </thead>\n",
              "  <tbody>\n",
              "    <tr>\n",
              "      <th>0</th>\n",
              "      <td>1</td>\n",
              "      <td>1</td>\n",
              "      <td>29.0000</td>\n",
              "      <td>0</td>\n",
              "      <td>0</td>\n",
              "      <td>211.3375</td>\n",
              "      <td>0</td>\n",
              "      <td>0</td>\n",
              "      <td>1</td>\n",
              "    </tr>\n",
              "    <tr>\n",
              "      <th>1</th>\n",
              "      <td>1</td>\n",
              "      <td>1</td>\n",
              "      <td>0.9167</td>\n",
              "      <td>1</td>\n",
              "      <td>2</td>\n",
              "      <td>151.5500</td>\n",
              "      <td>1</td>\n",
              "      <td>0</td>\n",
              "      <td>1</td>\n",
              "    </tr>\n",
              "    <tr>\n",
              "      <th>2</th>\n",
              "      <td>1</td>\n",
              "      <td>0</td>\n",
              "      <td>2.0000</td>\n",
              "      <td>1</td>\n",
              "      <td>2</td>\n",
              "      <td>151.5500</td>\n",
              "      <td>0</td>\n",
              "      <td>0</td>\n",
              "      <td>1</td>\n",
              "    </tr>\n",
              "    <tr>\n",
              "      <th>3</th>\n",
              "      <td>1</td>\n",
              "      <td>0</td>\n",
              "      <td>30.0000</td>\n",
              "      <td>1</td>\n",
              "      <td>2</td>\n",
              "      <td>151.5500</td>\n",
              "      <td>1</td>\n",
              "      <td>0</td>\n",
              "      <td>1</td>\n",
              "    </tr>\n",
              "    <tr>\n",
              "      <th>4</th>\n",
              "      <td>1</td>\n",
              "      <td>0</td>\n",
              "      <td>25.0000</td>\n",
              "      <td>1</td>\n",
              "      <td>2</td>\n",
              "      <td>151.5500</td>\n",
              "      <td>0</td>\n",
              "      <td>0</td>\n",
              "      <td>1</td>\n",
              "    </tr>\n",
              "    <tr>\n",
              "      <th>5</th>\n",
              "      <td>1</td>\n",
              "      <td>1</td>\n",
              "      <td>48.0000</td>\n",
              "      <td>0</td>\n",
              "      <td>0</td>\n",
              "      <td>26.5500</td>\n",
              "      <td>1</td>\n",
              "      <td>0</td>\n",
              "      <td>1</td>\n",
              "    </tr>\n",
              "    <tr>\n",
              "      <th>6</th>\n",
              "      <td>1</td>\n",
              "      <td>1</td>\n",
              "      <td>63.0000</td>\n",
              "      <td>1</td>\n",
              "      <td>0</td>\n",
              "      <td>77.9583</td>\n",
              "      <td>0</td>\n",
              "      <td>0</td>\n",
              "      <td>1</td>\n",
              "    </tr>\n",
              "    <tr>\n",
              "      <th>7</th>\n",
              "      <td>1</td>\n",
              "      <td>0</td>\n",
              "      <td>39.0000</td>\n",
              "      <td>0</td>\n",
              "      <td>0</td>\n",
              "      <td>0.0000</td>\n",
              "      <td>1</td>\n",
              "      <td>0</td>\n",
              "      <td>1</td>\n",
              "    </tr>\n",
              "    <tr>\n",
              "      <th>8</th>\n",
              "      <td>1</td>\n",
              "      <td>1</td>\n",
              "      <td>53.0000</td>\n",
              "      <td>2</td>\n",
              "      <td>0</td>\n",
              "      <td>51.4792</td>\n",
              "      <td>0</td>\n",
              "      <td>0</td>\n",
              "      <td>1</td>\n",
              "    </tr>\n",
              "    <tr>\n",
              "      <th>9</th>\n",
              "      <td>1</td>\n",
              "      <td>0</td>\n",
              "      <td>71.0000</td>\n",
              "      <td>0</td>\n",
              "      <td>0</td>\n",
              "      <td>49.5042</td>\n",
              "      <td>1</td>\n",
              "      <td>0</td>\n",
              "      <td>0</td>\n",
              "    </tr>\n",
              "  </tbody>\n",
              "</table>\n",
              "</div>\n",
              "      <button class=\"colab-df-convert\" onclick=\"convertToInteractive('df-63792a64-cccf-416d-87ec-5b593029b147')\"\n",
              "              title=\"Convert this dataframe to an interactive table.\"\n",
              "              style=\"display:none;\">\n",
              "        \n",
              "  <svg xmlns=\"http://www.w3.org/2000/svg\" height=\"24px\"viewBox=\"0 0 24 24\"\n",
              "       width=\"24px\">\n",
              "    <path d=\"M0 0h24v24H0V0z\" fill=\"none\"/>\n",
              "    <path d=\"M18.56 5.44l.94 2.06.94-2.06 2.06-.94-2.06-.94-.94-2.06-.94 2.06-2.06.94zm-11 1L8.5 8.5l.94-2.06 2.06-.94-2.06-.94L8.5 2.5l-.94 2.06-2.06.94zm10 10l.94 2.06.94-2.06 2.06-.94-2.06-.94-.94-2.06-.94 2.06-2.06.94z\"/><path d=\"M17.41 7.96l-1.37-1.37c-.4-.4-.92-.59-1.43-.59-.52 0-1.04.2-1.43.59L10.3 9.45l-7.72 7.72c-.78.78-.78 2.05 0 2.83L4 21.41c.39.39.9.59 1.41.59.51 0 1.02-.2 1.41-.59l7.78-7.78 2.81-2.81c.8-.78.8-2.07 0-2.86zM5.41 20L4 18.59l7.72-7.72 1.47 1.35L5.41 20z\"/>\n",
              "  </svg>\n",
              "      </button>\n",
              "      \n",
              "  <style>\n",
              "    .colab-df-container {\n",
              "      display:flex;\n",
              "      flex-wrap:wrap;\n",
              "      gap: 12px;\n",
              "    }\n",
              "\n",
              "    .colab-df-convert {\n",
              "      background-color: #E8F0FE;\n",
              "      border: none;\n",
              "      border-radius: 50%;\n",
              "      cursor: pointer;\n",
              "      display: none;\n",
              "      fill: #1967D2;\n",
              "      height: 32px;\n",
              "      padding: 0 0 0 0;\n",
              "      width: 32px;\n",
              "    }\n",
              "\n",
              "    .colab-df-convert:hover {\n",
              "      background-color: #E2EBFA;\n",
              "      box-shadow: 0px 1px 2px rgba(60, 64, 67, 0.3), 0px 1px 3px 1px rgba(60, 64, 67, 0.15);\n",
              "      fill: #174EA6;\n",
              "    }\n",
              "\n",
              "    [theme=dark] .colab-df-convert {\n",
              "      background-color: #3B4455;\n",
              "      fill: #D2E3FC;\n",
              "    }\n",
              "\n",
              "    [theme=dark] .colab-df-convert:hover {\n",
              "      background-color: #434B5C;\n",
              "      box-shadow: 0px 1px 3px 1px rgba(0, 0, 0, 0.15);\n",
              "      filter: drop-shadow(0px 1px 2px rgba(0, 0, 0, 0.3));\n",
              "      fill: #FFFFFF;\n",
              "    }\n",
              "  </style>\n",
              "\n",
              "      <script>\n",
              "        const buttonEl =\n",
              "          document.querySelector('#df-63792a64-cccf-416d-87ec-5b593029b147 button.colab-df-convert');\n",
              "        buttonEl.style.display =\n",
              "          google.colab.kernel.accessAllowed ? 'block' : 'none';\n",
              "\n",
              "        async function convertToInteractive(key) {\n",
              "          const element = document.querySelector('#df-63792a64-cccf-416d-87ec-5b593029b147');\n",
              "          const dataTable =\n",
              "            await google.colab.kernel.invokeFunction('convertToInteractive',\n",
              "                                                     [key], {});\n",
              "          if (!dataTable) return;\n",
              "\n",
              "          const docLinkHtml = 'Like what you see? Visit the ' +\n",
              "            '<a target=\"_blank\" href=https://colab.research.google.com/notebooks/data_table.ipynb>data table notebook</a>'\n",
              "            + ' to learn more about interactive tables.';\n",
              "          element.innerHTML = '';\n",
              "          dataTable['output_type'] = 'display_data';\n",
              "          await google.colab.output.renderOutput(dataTable, element);\n",
              "          const docLink = document.createElement('div');\n",
              "          docLink.innerHTML = docLinkHtml;\n",
              "          element.appendChild(docLink);\n",
              "        }\n",
              "      </script>\n",
              "    </div>\n",
              "  </div>\n",
              "  "
            ],
            "text/plain": [
              "   pclass  survived      age  sibsp  ...      fare  sex_male  embarked_Q  embarked_S\n",
              "0       1         1  29.0000      0  ...  211.3375         0           0           1\n",
              "1       1         1   0.9167      1  ...  151.5500         1           0           1\n",
              "2       1         0   2.0000      1  ...  151.5500         0           0           1\n",
              "3       1         0  30.0000      1  ...  151.5500         1           0           1\n",
              "4       1         0  25.0000      1  ...  151.5500         0           0           1\n",
              "5       1         1  48.0000      0  ...   26.5500         1           0           1\n",
              "6       1         1  63.0000      1  ...   77.9583         0           0           1\n",
              "7       1         0  39.0000      0  ...    0.0000         1           0           1\n",
              "8       1         1  53.0000      2  ...   51.4792         0           0           1\n",
              "9       1         0  71.0000      0  ...   49.5042         1           0           0\n",
              "\n",
              "[10 rows x 9 columns]"
            ]
          },
          "metadata": {},
          "execution_count": 45
        }
      ]
    },
    {
      "cell_type": "code",
      "metadata": {
        "id": "Pe7MiaGLXJea"
      },
      "source": [
        "# separando os atributos de entrada e de saída\n",
        "X = df_copia.drop(columns='survived')   # variáveis exolicativas\n",
        "y = df_copia.survived                   # variável resposta"
      ],
      "execution_count": 46,
      "outputs": []
    },
    {
      "cell_type": "code",
      "metadata": {
        "id": "WZVNXvqSXJb5"
      },
      "source": [
        "# particionando os dados aleatoriamente para treino e teste\n",
        "# 70% para treinamento do modelo e 30% para validação do modelo\n",
        "X_train, X_test, y_train, y_test = train_test_split(X, y, \n",
        "                                                    test_size=0.3,\n",
        "                                                    random_state=42)"
      ],
      "execution_count": 47,
      "outputs": []
    },
    {
      "cell_type": "code",
      "metadata": {
        "colab": {
          "base_uri": "https://localhost:8080/"
        },
        "id": "ul6oLlfwXJZ1",
        "outputId": "ec5bae72-2316-4b7f-b9f1-60ee45b7d0ea"
      },
      "source": [
        "# visualizando as quantidades em cada subconjunto de dados\n",
        "print('\\tX')\n",
        "print('Treinamento:', len(X_train))\n",
        "print('Teste:      ', len(X_test))\n",
        "print('\\n\\ty')\n",
        "print('Treinamento:', len(y_train))\n",
        "print('Teste:      ', len(y_test))"
      ],
      "execution_count": 48,
      "outputs": [
        {
          "output_type": "stream",
          "name": "stdout",
          "text": [
            "\tX\n",
            "Treinamento: 916\n",
            "Teste:       393\n",
            "\n",
            "\ty\n",
            "Treinamento: 916\n",
            "Teste:       393\n"
          ]
        }
      ]
    },
    {
      "cell_type": "code",
      "metadata": {
        "colab": {
          "base_uri": "https://localhost:8080/"
        },
        "id": "dCWhX1GYXJWY",
        "outputId": "a42b8520-c7d1-41fb-ada6-febf28bddfa1"
      },
      "source": [
        "# visualizando informações gerais do subconjunto de dados de treino\n",
        "X_train.info()"
      ],
      "execution_count": 49,
      "outputs": [
        {
          "output_type": "stream",
          "name": "stdout",
          "text": [
            "<class 'pandas.core.frame.DataFrame'>\n",
            "Int64Index: 916 entries, 1214 to 1126\n",
            "Data columns (total 8 columns):\n",
            " #   Column      Non-Null Count  Dtype  \n",
            "---  ------      --------------  -----  \n",
            " 0   pclass      916 non-null    int64  \n",
            " 1   age         729 non-null    float64\n",
            " 2   sibsp       916 non-null    int64  \n",
            " 3   parch       916 non-null    int64  \n",
            " 4   fare        915 non-null    float64\n",
            " 5   sex_male    916 non-null    uint8  \n",
            " 6   embarked_Q  916 non-null    uint8  \n",
            " 7   embarked_S  916 non-null    uint8  \n",
            "dtypes: float64(2), int64(3), uint8(3)\n",
            "memory usage: 45.6 KB\n"
          ]
        }
      ]
    },
    {
      "cell_type": "code",
      "metadata": {
        "colab": {
          "base_uri": "https://localhost:8080/"
        },
        "id": "hGfQ5bhxXJUG",
        "outputId": "f56a74d0-42bd-4662-a072-4f119d4b052c"
      },
      "source": [
        "# contabilizando a quantidade de valores \"NaN\" no atributo \"age\" (idade)\n",
        "X_train['age'].isna().value_counts()"
      ],
      "execution_count": 50,
      "outputs": [
        {
          "output_type": "execute_result",
          "data": {
            "text/plain": [
              "False    729\n",
              "True     187\n",
              "Name: age, dtype: int64"
            ]
          },
          "metadata": {},
          "execution_count": 50
        }
      ]
    },
    {
      "cell_type": "code",
      "metadata": {
        "id": "M74wq68SXJRj"
      },
      "source": [
        "# iremos tratar os valores ausentes imputando uma medida numérica\n",
        "# para esse exemplo iremos utilizar a média\n",
        "media = X_train.mean()\n",
        "X_train = X_train.fillna(media)\n",
        "X_test = X_test.fillna(media)"
      ],
      "execution_count": 51,
      "outputs": []
    },
    {
      "cell_type": "code",
      "metadata": {
        "colab": {
          "base_uri": "https://localhost:8080/"
        },
        "id": "5Rmh9-fvXJOK",
        "outputId": "071da796-6658-49c5-ac69-a122be2aa5a8"
      },
      "source": [
        "# visualizando novamente as informações do sbconjunto de treino\n",
        "X_train.info()"
      ],
      "execution_count": 52,
      "outputs": [
        {
          "output_type": "stream",
          "name": "stdout",
          "text": [
            "<class 'pandas.core.frame.DataFrame'>\n",
            "Int64Index: 916 entries, 1214 to 1126\n",
            "Data columns (total 8 columns):\n",
            " #   Column      Non-Null Count  Dtype  \n",
            "---  ------      --------------  -----  \n",
            " 0   pclass      916 non-null    int64  \n",
            " 1   age         916 non-null    float64\n",
            " 2   sibsp       916 non-null    int64  \n",
            " 3   parch       916 non-null    int64  \n",
            " 4   fare        916 non-null    float64\n",
            " 5   sex_male    916 non-null    uint8  \n",
            " 6   embarked_Q  916 non-null    uint8  \n",
            " 7   embarked_S  916 non-null    uint8  \n",
            "dtypes: float64(2), int64(3), uint8(3)\n",
            "memory usage: 45.6 KB\n"
          ]
        }
      ]
    },
    {
      "cell_type": "code",
      "metadata": {
        "colab": {
          "base_uri": "https://localhost:8080/"
        },
        "id": "ot0KUXXFXJLS",
        "outputId": "4365b341-c6f4-4304-fbea-06a6403c9484"
      },
      "source": [
        "# contabilizando novamente a quantidade de valores \"NaN\" no atributo \"age\" (idade)\n",
        "X_train['age'].isna().value_counts()"
      ],
      "execution_count": 53,
      "outputs": [
        {
          "output_type": "execute_result",
          "data": {
            "text/plain": [
              "False    916\n",
              "Name: age, dtype: int64"
            ]
          },
          "metadata": {},
          "execution_count": 53
        }
      ]
    },
    {
      "cell_type": "code",
      "metadata": {
        "id": "rcnpIZL8XJIg"
      },
      "source": [
        "# realizando a normalização dos atributos numéricos\n",
        "\n",
        "# instaciando os atributos (colunas)\n",
        "# cols = ['pclass', 'age', 'sibsp', 'parch', 'fare', 'sex_male',\n",
        "#        'embarked_Q', 'embarked_S']\n",
        "cols = X_train.columns\n",
        "# print(cols)\n",
        "\n",
        "std_scaler = StandardScaler()\n",
        "\n",
        "X_train = std_scaler.fit_transform(X_train)\n",
        "X_train = pd.DataFrame(X_train, columns=cols)\n",
        "\n",
        "X_test = std_scaler.fit_transform(X_test)\n",
        "X_test = pd.DataFrame(X_test, columns=cols)"
      ],
      "execution_count": 54,
      "outputs": []
    },
    {
      "cell_type": "code",
      "source": [
        "# visualizando a estatística descritiva do subconjunto de dados de treino\n",
        "X_train.describe()"
      ],
      "metadata": {
        "colab": {
          "base_uri": "https://localhost:8080/",
          "height": 300
        },
        "id": "DPpM0gluP2GK",
        "outputId": "36340ed2-cb7b-4daf-fdf0-96b96f9b3a96"
      },
      "execution_count": 55,
      "outputs": [
        {
          "output_type": "execute_result",
          "data": {
            "text/html": [
              "\n",
              "  <div id=\"df-9ecdbff3-f4eb-4137-a25b-e05544246e74\">\n",
              "    <div class=\"colab-df-container\">\n",
              "      <div>\n",
              "<style scoped>\n",
              "    .dataframe tbody tr th:only-of-type {\n",
              "        vertical-align: middle;\n",
              "    }\n",
              "\n",
              "    .dataframe tbody tr th {\n",
              "        vertical-align: top;\n",
              "    }\n",
              "\n",
              "    .dataframe thead th {\n",
              "        text-align: right;\n",
              "    }\n",
              "</style>\n",
              "<table border=\"1\" class=\"dataframe\">\n",
              "  <thead>\n",
              "    <tr style=\"text-align: right;\">\n",
              "      <th></th>\n",
              "      <th>pclass</th>\n",
              "      <th>age</th>\n",
              "      <th>sibsp</th>\n",
              "      <th>parch</th>\n",
              "      <th>fare</th>\n",
              "      <th>sex_male</th>\n",
              "      <th>embarked_Q</th>\n",
              "      <th>embarked_S</th>\n",
              "    </tr>\n",
              "  </thead>\n",
              "  <tbody>\n",
              "    <tr>\n",
              "      <th>count</th>\n",
              "      <td>9.160000e+02</td>\n",
              "      <td>9.160000e+02</td>\n",
              "      <td>9.160000e+02</td>\n",
              "      <td>9.160000e+02</td>\n",
              "      <td>9.160000e+02</td>\n",
              "      <td>9.160000e+02</td>\n",
              "      <td>9.160000e+02</td>\n",
              "      <td>9.160000e+02</td>\n",
              "    </tr>\n",
              "    <tr>\n",
              "      <th>mean</th>\n",
              "      <td>-1.548979e-16</td>\n",
              "      <td>-3.711854e-17</td>\n",
              "      <td>-1.073862e-16</td>\n",
              "      <td>-2.701623e-16</td>\n",
              "      <td>1.375658e-16</td>\n",
              "      <td>1.090830e-16</td>\n",
              "      <td>-1.065378e-16</td>\n",
              "      <td>-1.013260e-16</td>\n",
              "    </tr>\n",
              "    <tr>\n",
              "      <th>std</th>\n",
              "      <td>1.000546e+00</td>\n",
              "      <td>1.000546e+00</td>\n",
              "      <td>1.000546e+00</td>\n",
              "      <td>1.000546e+00</td>\n",
              "      <td>1.000546e+00</td>\n",
              "      <td>1.000546e+00</td>\n",
              "      <td>1.000546e+00</td>\n",
              "      <td>1.000546e+00</td>\n",
              "    </tr>\n",
              "    <tr>\n",
              "      <th>min</th>\n",
              "      <td>-1.551881e+00</td>\n",
              "      <td>-2.340634e+00</td>\n",
              "      <td>-4.986156e-01</td>\n",
              "      <td>-4.325534e-01</td>\n",
              "      <td>-6.386386e-01</td>\n",
              "      <td>-1.351725e+00</td>\n",
              "      <td>-3.300891e-01</td>\n",
              "      <td>-1.514914e+00</td>\n",
              "    </tr>\n",
              "    <tr>\n",
              "      <th>25%</th>\n",
              "      <td>-3.633166e-01</td>\n",
              "      <td>-5.745139e-01</td>\n",
              "      <td>-4.986156e-01</td>\n",
              "      <td>-4.325534e-01</td>\n",
              "      <td>-4.884954e-01</td>\n",
              "      <td>-1.351725e+00</td>\n",
              "      <td>-3.300891e-01</td>\n",
              "      <td>-1.514914e+00</td>\n",
              "    </tr>\n",
              "    <tr>\n",
              "      <th>50%</th>\n",
              "      <td>8.252478e-01</td>\n",
              "      <td>0.000000e+00</td>\n",
              "      <td>-4.986156e-01</td>\n",
              "      <td>-4.325534e-01</td>\n",
              "      <td>-3.588768e-01</td>\n",
              "      <td>7.397954e-01</td>\n",
              "      <td>-3.300891e-01</td>\n",
              "      <td>6.601035e-01</td>\n",
              "    </tr>\n",
              "    <tr>\n",
              "      <th>75%</th>\n",
              "      <td>8.252478e-01</td>\n",
              "      <td>3.961798e-01</td>\n",
              "      <td>4.259429e-01</td>\n",
              "      <td>-4.325534e-01</td>\n",
              "      <td>-4.611757e-02</td>\n",
              "      <td>7.397954e-01</td>\n",
              "      <td>-3.300891e-01</td>\n",
              "      <td>6.601035e-01</td>\n",
              "    </tr>\n",
              "    <tr>\n",
              "      <th>max</th>\n",
              "      <td>8.252478e-01</td>\n",
              "      <td>4.117172e+00</td>\n",
              "      <td>6.897852e+00</td>\n",
              "      <td>9.640810e+00</td>\n",
              "      <td>9.067702e+00</td>\n",
              "      <td>7.397954e-01</td>\n",
              "      <td>3.029485e+00</td>\n",
              "      <td>6.601035e-01</td>\n",
              "    </tr>\n",
              "  </tbody>\n",
              "</table>\n",
              "</div>\n",
              "      <button class=\"colab-df-convert\" onclick=\"convertToInteractive('df-9ecdbff3-f4eb-4137-a25b-e05544246e74')\"\n",
              "              title=\"Convert this dataframe to an interactive table.\"\n",
              "              style=\"display:none;\">\n",
              "        \n",
              "  <svg xmlns=\"http://www.w3.org/2000/svg\" height=\"24px\"viewBox=\"0 0 24 24\"\n",
              "       width=\"24px\">\n",
              "    <path d=\"M0 0h24v24H0V0z\" fill=\"none\"/>\n",
              "    <path d=\"M18.56 5.44l.94 2.06.94-2.06 2.06-.94-2.06-.94-.94-2.06-.94 2.06-2.06.94zm-11 1L8.5 8.5l.94-2.06 2.06-.94-2.06-.94L8.5 2.5l-.94 2.06-2.06.94zm10 10l.94 2.06.94-2.06 2.06-.94-2.06-.94-.94-2.06-.94 2.06-2.06.94z\"/><path d=\"M17.41 7.96l-1.37-1.37c-.4-.4-.92-.59-1.43-.59-.52 0-1.04.2-1.43.59L10.3 9.45l-7.72 7.72c-.78.78-.78 2.05 0 2.83L4 21.41c.39.39.9.59 1.41.59.51 0 1.02-.2 1.41-.59l7.78-7.78 2.81-2.81c.8-.78.8-2.07 0-2.86zM5.41 20L4 18.59l7.72-7.72 1.47 1.35L5.41 20z\"/>\n",
              "  </svg>\n",
              "      </button>\n",
              "      \n",
              "  <style>\n",
              "    .colab-df-container {\n",
              "      display:flex;\n",
              "      flex-wrap:wrap;\n",
              "      gap: 12px;\n",
              "    }\n",
              "\n",
              "    .colab-df-convert {\n",
              "      background-color: #E8F0FE;\n",
              "      border: none;\n",
              "      border-radius: 50%;\n",
              "      cursor: pointer;\n",
              "      display: none;\n",
              "      fill: #1967D2;\n",
              "      height: 32px;\n",
              "      padding: 0 0 0 0;\n",
              "      width: 32px;\n",
              "    }\n",
              "\n",
              "    .colab-df-convert:hover {\n",
              "      background-color: #E2EBFA;\n",
              "      box-shadow: 0px 1px 2px rgba(60, 64, 67, 0.3), 0px 1px 3px 1px rgba(60, 64, 67, 0.15);\n",
              "      fill: #174EA6;\n",
              "    }\n",
              "\n",
              "    [theme=dark] .colab-df-convert {\n",
              "      background-color: #3B4455;\n",
              "      fill: #D2E3FC;\n",
              "    }\n",
              "\n",
              "    [theme=dark] .colab-df-convert:hover {\n",
              "      background-color: #434B5C;\n",
              "      box-shadow: 0px 1px 3px 1px rgba(0, 0, 0, 0.15);\n",
              "      filter: drop-shadow(0px 1px 2px rgba(0, 0, 0, 0.3));\n",
              "      fill: #FFFFFF;\n",
              "    }\n",
              "  </style>\n",
              "\n",
              "      <script>\n",
              "        const buttonEl =\n",
              "          document.querySelector('#df-9ecdbff3-f4eb-4137-a25b-e05544246e74 button.colab-df-convert');\n",
              "        buttonEl.style.display =\n",
              "          google.colab.kernel.accessAllowed ? 'block' : 'none';\n",
              "\n",
              "        async function convertToInteractive(key) {\n",
              "          const element = document.querySelector('#df-9ecdbff3-f4eb-4137-a25b-e05544246e74');\n",
              "          const dataTable =\n",
              "            await google.colab.kernel.invokeFunction('convertToInteractive',\n",
              "                                                     [key], {});\n",
              "          if (!dataTable) return;\n",
              "\n",
              "          const docLinkHtml = 'Like what you see? Visit the ' +\n",
              "            '<a target=\"_blank\" href=https://colab.research.google.com/notebooks/data_table.ipynb>data table notebook</a>'\n",
              "            + ' to learn more about interactive tables.';\n",
              "          element.innerHTML = '';\n",
              "          dataTable['output_type'] = 'display_data';\n",
              "          await google.colab.output.renderOutput(dataTable, element);\n",
              "          const docLink = document.createElement('div');\n",
              "          docLink.innerHTML = docLinkHtml;\n",
              "          element.appendChild(docLink);\n",
              "        }\n",
              "      </script>\n",
              "    </div>\n",
              "  </div>\n",
              "  "
            ],
            "text/plain": [
              "             pclass           age  ...    embarked_Q    embarked_S\n",
              "count  9.160000e+02  9.160000e+02  ...  9.160000e+02  9.160000e+02\n",
              "mean  -1.548979e-16 -3.711854e-17  ... -1.065378e-16 -1.013260e-16\n",
              "std    1.000546e+00  1.000546e+00  ...  1.000546e+00  1.000546e+00\n",
              "min   -1.551881e+00 -2.340634e+00  ... -3.300891e-01 -1.514914e+00\n",
              "25%   -3.633166e-01 -5.745139e-01  ... -3.300891e-01 -1.514914e+00\n",
              "50%    8.252478e-01  0.000000e+00  ... -3.300891e-01  6.601035e-01\n",
              "75%    8.252478e-01  3.961798e-01  ... -3.300891e-01  6.601035e-01\n",
              "max    8.252478e-01  4.117172e+00  ...  3.029485e+00  6.601035e-01\n",
              "\n",
              "[8 rows x 8 columns]"
            ]
          },
          "metadata": {},
          "execution_count": 55
        }
      ]
    },
    {
      "cell_type": "markdown",
      "metadata": {
        "id": "e2JydErxw9Pk"
      },
      "source": [
        "#### 5. Treinamento do modelo"
      ]
    },
    {
      "cell_type": "code",
      "metadata": {
        "id": "unSusxpovJi3"
      },
      "source": [
        "# instanciando o modelo\n",
        "knn = KNeighborsClassifier()"
      ],
      "execution_count": 56,
      "outputs": []
    },
    {
      "cell_type": "code",
      "metadata": {
        "colab": {
          "base_uri": "https://localhost:8080/"
        },
        "id": "49KxW3whvJgH",
        "outputId": "9f066013-d6d5-48ed-ea8f-c32172a15c89"
      },
      "source": [
        "# treinando o modelo com os subconjuntos de treino - X_train e y_train\n",
        "knn.fit(X_train, y_train)"
      ],
      "execution_count": 57,
      "outputs": [
        {
          "output_type": "execute_result",
          "data": {
            "text/plain": [
              "KNeighborsClassifier()"
            ]
          },
          "metadata": {},
          "execution_count": 57
        }
      ]
    },
    {
      "cell_type": "markdown",
      "metadata": {
        "id": "QZIyHWHDxagV"
      },
      "source": [
        "#### 6. Avaliação do modelo"
      ]
    },
    {
      "cell_type": "code",
      "metadata": {
        "colab": {
          "base_uri": "https://localhost:8080/"
        },
        "id": "Z_YfwMMQvJdL",
        "outputId": "887ab355-7d15-4a01-bf28-308e6cd5c21d"
      },
      "source": [
        "# avaliando a acurácia do modelo com os subconjuntos de teste\n",
        "score = knn.score(X_test, y_test)\n",
        "print('Acurácia: %.2f' % score) "
      ],
      "execution_count": 58,
      "outputs": [
        {
          "output_type": "stream",
          "name": "stdout",
          "text": [
            "Acurácia: 0.79\n"
          ]
        }
      ]
    },
    {
      "cell_type": "markdown",
      "metadata": {
        "id": "m5Sd_SA_0oOt"
      },
      "source": [
        "#### 7. Predição"
      ]
    },
    {
      "cell_type": "code",
      "metadata": {
        "id": "iScw4xiWvJab"
      },
      "source": [
        "# realizando a predição com os dados de teste\n",
        "y_pred = knn.predict(X_test)"
      ],
      "execution_count": 59,
      "outputs": []
    },
    {
      "cell_type": "code",
      "metadata": {
        "colab": {
          "base_uri": "https://localhost:8080/"
        },
        "id": "TVZ4SZgGvJXT",
        "outputId": "fadda1f9-ea32-4f57-8fb4-0ab5c4a6d25b"
      },
      "source": [
        "# visualizando as predições\n",
        "y_pred"
      ],
      "execution_count": 60,
      "outputs": [
        {
          "output_type": "execute_result",
          "data": {
            "text/plain": [
              "array([1, 1, 0, 0, 0, 0, 0, 0, 0, 1, 0, 0, 1, 0, 0, 1, 0, 1, 1, 0, 0, 0,\n",
              "       0, 0, 0, 1, 0, 1, 0, 1, 0, 1, 1, 1, 0, 0, 1, 0, 1, 0, 1, 0, 1, 0,\n",
              "       0, 0, 0, 1, 1, 0, 1, 0, 0, 1, 0, 0, 0, 1, 0, 0, 0, 0, 1, 0, 1, 1,\n",
              "       1, 0, 0, 0, 0, 0, 0, 0, 1, 0, 0, 1, 0, 1, 0, 0, 0, 1, 0, 0, 0, 1,\n",
              "       1, 1, 1, 0, 0, 0, 0, 0, 0, 1, 0, 1, 0, 1, 1, 1, 0, 0, 0, 0, 1, 1,\n",
              "       0, 0, 0, 1, 1, 0, 0, 1, 0, 1, 0, 0, 0, 1, 1, 1, 0, 0, 1, 0, 0, 1,\n",
              "       0, 1, 0, 1, 0, 0, 0, 0, 0, 0, 0, 1, 0, 1, 0, 0, 0, 0, 0, 0, 0, 0,\n",
              "       0, 0, 1, 0, 0, 0, 0, 1, 0, 0, 1, 0, 0, 1, 0, 1, 1, 1, 1, 0, 1, 1,\n",
              "       1, 0, 1, 0, 1, 0, 0, 1, 0, 1, 0, 0, 1, 0, 0, 0, 0, 0, 0, 0, 1, 0,\n",
              "       0, 1, 0, 0, 0, 0, 1, 0, 1, 0, 1, 0, 0, 1, 0, 1, 0, 1, 1, 0, 0, 0,\n",
              "       1, 0, 1, 0, 0, 0, 0, 0, 1, 0, 0, 0, 0, 0, 0, 1, 0, 0, 0, 0, 0, 0,\n",
              "       0, 0, 0, 0, 0, 1, 0, 0, 0, 0, 1, 1, 0, 0, 1, 1, 1, 0, 0, 1, 0, 0,\n",
              "       1, 0, 0, 0, 0, 0, 1, 0, 1, 0, 1, 1, 0, 0, 0, 0, 0, 0, 0, 0, 0, 1,\n",
              "       0, 1, 0, 1, 1, 1, 1, 1, 0, 0, 0, 1, 0, 0, 0, 0, 0, 1, 1, 0, 0, 0,\n",
              "       0, 0, 1, 0, 0, 0, 1, 0, 0, 1, 0, 1, 1, 0, 1, 1, 0, 0, 0, 1, 0, 0,\n",
              "       0, 0, 0, 1, 1, 0, 0, 1, 1, 0, 0, 0, 0, 0, 0, 1, 1, 0, 1, 1, 0, 1,\n",
              "       0, 0, 0, 0, 0, 1, 0, 1, 1, 0, 0, 0, 1, 1, 0, 0, 1, 1, 0, 1, 0, 0,\n",
              "       0, 1, 1, 0, 0, 0, 1, 0, 1, 0, 0, 0, 0, 0, 0, 0, 0, 0, 1])"
            ]
          },
          "metadata": {},
          "execution_count": 60
        }
      ]
    },
    {
      "cell_type": "code",
      "metadata": {
        "colab": {
          "base_uri": "https://localhost:8080/"
        },
        "id": "m2eeiGIcvJUT",
        "outputId": "d97269bb-7785-4bce-a7fa-956b30b7a5cf"
      },
      "source": [
        "# avaliando o modelo sobre os dados de teste\n",
        "# utilizando a métrica de acurácia (0-1)\n",
        "# para isso, utilizaremos a função \"accuracy_score\"\n",
        "acc = accuracy_score(y_test, y_pred)\n",
        "print('Acurácia: %.2f' % acc)"
      ],
      "execution_count": 61,
      "outputs": [
        {
          "output_type": "stream",
          "name": "stdout",
          "text": [
            "Acurácia: 0.79\n"
          ]
        }
      ]
    },
    {
      "cell_type": "code",
      "metadata": {
        "colab": {
          "base_uri": "https://localhost:8080/"
        },
        "id": "Zxwj7f9IxlbW",
        "outputId": "6668db44-fa66-4f31-befc-89f94ef89bc1"
      },
      "source": [
        "# avaliando o modelo sobre os dados de teste\n",
        "# utilizando a métrica de precisão (0-1)\n",
        "# para isso, utilizaremos a função \"precision_score\"\n",
        "prec = precision_score(y_test, y_pred)\n",
        "print('Precisão: %.2f' % prec)"
      ],
      "execution_count": 62,
      "outputs": [
        {
          "output_type": "stream",
          "name": "stdout",
          "text": [
            "Precisão: 0.81\n"
          ]
        }
      ]
    },
    {
      "cell_type": "code",
      "metadata": {
        "id": "1FSdTPHNO7kg"
      },
      "source": [
        "# importando a função para gerar um relatório das metricas e plotar a matriz de confusão\n",
        "from sklearn.metrics import classification_report, plot_confusion_matrix"
      ],
      "execution_count": 63,
      "outputs": []
    },
    {
      "cell_type": "code",
      "metadata": {
        "id": "vkYlHGAaPCPD"
      },
      "source": [
        "# iremos criar uma função para otimizar a aplicação do modelo\n",
        "#  e a exibição do relatório e da matriz de confusão\n",
        "def classification_results(classifier, x_test, y_test, cmap='Blues'):\n",
        "    print('Resultados do modelo:', classifier.__class__.__name__)\n",
        "    \n",
        "    y_pred = classifier.predict(X_test)\n",
        "    \n",
        "    print(classification_report(y_test, y_pred))\n",
        "    \n",
        "    plot_confusion_matrix(classifier, X_test, y_test, cmap=cmap);"
      ],
      "execution_count": 64,
      "outputs": []
    },
    {
      "cell_type": "code",
      "metadata": {
        "colab": {
          "base_uri": "https://localhost:8080/",
          "height": 453
        },
        "id": "AfHcsOGhKxiF",
        "outputId": "e691e374-d2ee-4ca9-bd2e-9adc231d0b98"
      },
      "source": [
        "# aplicando a função criada e passando como argumentos o modelo \n",
        "# e as bases de testes - \"X_test\" e \"y_test\"\n",
        "classification_results(knn, X_test, y_test)"
      ],
      "execution_count": 65,
      "outputs": [
        {
          "output_type": "stream",
          "name": "stdout",
          "text": [
            "Resultados do modelo: KNeighborsClassifier\n",
            "              precision    recall  f1-score   support\n",
            "\n",
            "           0       0.77      0.89      0.83       224\n",
            "           1       0.81      0.65      0.72       169\n",
            "\n",
            "    accuracy                           0.79       393\n",
            "   macro avg       0.79      0.77      0.77       393\n",
            "weighted avg       0.79      0.79      0.78       393\n",
            "\n"
          ]
        },
        {
          "output_type": "display_data",
          "data": {
            "image/png": "[encoded data removed]",
            "text/plain": [
              "<Figure size 432x288 with 2 Axes>"
            ]
          },
          "metadata": {
            "needs_background": "light"
          }
        }
      ]
    },
    {
      "cell_type": "markdown",
      "metadata": {
        "id": "8FELHWEO2DqX"
      },
      "source": [
        "#### 8. Otimização do modelo"
      ]
    },
    {
      "cell_type": "code",
      "metadata": {
        "id": "YlrYFHo4xlY0"
      },
      "source": [
        "# otimização dos hiperparâmetros do modelo K-NN\n",
        "params ={\n",
        "    'n_neighbors': list(range(1, 11)),                      # número de vizinhos\n",
        "    'p': [1, 2],                                            # métrica de distância (manhattan = 1 | euclidiana = 2)\n",
        "    'weights': ['uniform', 'distance'],                     # função de pesos para predição\n",
        "    'algorithm': ['auto', 'ball_tree', 'kd_tree', 'brute']  # algoritmos para computar as distâncias\n",
        "}"
      ],
      "execution_count": 66,
      "outputs": []
    },
    {
      "cell_type": "code",
      "metadata": {
        "colab": {
          "base_uri": "https://localhost:8080/"
        },
        "id": "w1dLwaKQxlV8",
        "outputId": "372e5eeb-0605-446d-8b86-1f0efbf9740e"
      },
      "source": [
        "# definindo a busca em grade para o processo de otimização\n",
        "clf = GridSearchCV(estimator=knn, param_grid=params, \n",
        "                   cv=8, verbose=2)\n",
        "\n",
        "# visualizando os hiperparâmetros\n",
        "clf"
      ],
      "execution_count": 67,
      "outputs": [
        {
          "output_type": "execute_result",
          "data": {
            "text/plain": [
              "GridSearchCV(cv=8, estimator=KNeighborsClassifier(),\n",
              "             param_grid={'algorithm': ['auto', 'ball_tree', 'kd_tree', 'brute'],\n",
              "                         'n_neighbors': [1, 2, 3, 4, 5, 6, 7, 8, 9, 10],\n",
              "                         'p': [1, 2], 'weights': ['uniform', 'distance']},\n",
              "             verbose=2)"
            ]
          },
          "metadata": {},
          "execution_count": 67
        }
      ]
    },
    {
      "cell_type": "code",
      "metadata": {
        "colab": {
          "base_uri": "https://localhost:8080/"
        },
        "id": "EXxtH3FixlQ8",
        "outputId": "97d41b25-d640-407d-a2ef-2243c98067f1"
      },
      "source": [
        "# executando o método de busca para todos os conjuntos de hiperparâmetros\n",
        "best_model = clf.fit(X_train, y_train)\n",
        "best_model"
      ],
      "execution_count": 68,
      "outputs": [
        {
          "output_type": "stream",
          "name": "stdout",
          "text": [
            "Fitting 8 folds for each of 160 candidates, totalling 1280 fits\n",
            "[CV] END algorithm=auto, n_neighbors=1, p=1, weights=uniform; total time=   0.0s\n",
            "[CV] END algorithm=auto, n_neighbors=1, p=1, weights=uniform; total time=   0.0s\n",
            "[CV] END algorithm=auto, n_neighbors=1, p=1, weights=uniform; total time=   0.0s\n",
            "[CV] END algorithm=auto, n_neighbors=1, p=1, weights=uniform; total time=   0.0s\n",
            "[CV] END algorithm=auto, n_neighbors=1, p=1, weights=uniform; total time=   0.0s\n",
            "[CV] END algorithm=auto, n_neighbors=1, p=1, weights=uniform; total time=   0.0s\n",
            "[CV] END algorithm=auto, n_neighbors=1, p=1, weights=uniform; total time=   0.0s\n",
            "[CV] END algorithm=auto, n_neighbors=1, p=1, weights=uniform; total time=   0.0s\n",
            "[CV] END algorithm=auto, n_neighbors=1, p=1, weights=distance; total time=   0.0s\n",
            "[CV] END algorithm=auto, n_neighbors=1, p=1, weights=distance; total time=   0.0s\n",
            "[CV] END algorithm=auto, n_neighbors=1, p=1, weights=distance; total time=   0.0s\n",
            "[CV] END algorithm=auto, n_neighbors=1, p=1, weights=distance; total time=   0.0s\n",
            "[CV] END algorithm=auto, n_neighbors=1, p=1, weights=distance; total time=   0.0s\n",
            "[CV] END algorithm=auto, n_neighbors=1, p=1, weights=distance; total time=   0.0s\n",
            "[CV] END algorithm=auto, n_neighbors=1, p=1, weights=distance; total time=   0.0s\n",
            "[CV] END algorithm=auto, n_neighbors=1, p=1, weights=distance; total time=   0.0s\n",
            "[CV] END algorithm=auto, n_neighbors=1, p=2, weights=uniform; total time=   0.0s\n",
            "[CV] END algorithm=auto, n_neighbors=1, p=2, weights=uniform; total time=   0.0s\n",
            "[CV] END algorithm=auto, n_neighbors=1, p=2, weights=uniform; total time=   0.0s\n",
            "[CV] END algorithm=auto, n_neighbors=1, p=2, weights=uniform; total time=   0.0s\n",
            "[CV] END algorithm=auto, n_neighbors=1, p=2, weights=uniform; total time=   0.0s\n",
            "[CV] END algorithm=auto, n_neighbors=1, p=2, weights=uniform; total time=   0.0s\n",
            "[CV] END algorithm=auto, n_neighbors=1, p=2, weights=uniform; total time=   0.0s\n",
            "[CV] END algorithm=auto, n_neighbors=1, p=2, weights=uniform; total time=   0.0s\n",
            "[CV] END algorithm=auto, n_neighbors=1, p=2, weights=distance; total time=   0.0s\n",
            "[CV] END algorithm=auto, n_neighbors=1, p=2, weights=distance; total time=   0.0s\n",
            "[CV] END algorithm=auto, n_neighbors=1, p=2, weights=distance; total time=   0.0s\n",
            "[CV] END algorithm=auto, n_neighbors=1, p=2, weights=distance; total time=   0.0s\n",
            "[CV] END algorithm=auto, n_neighbors=1, p=2, weights=distance; total time=   0.0s\n",
            "[CV] END algorithm=auto, n_neighbors=1, p=2, weights=distance; total time=   0.0s\n",
            "[CV] END algorithm=auto, n_neighbors=1, p=2, weights=distance; total time=   0.0s\n",
            "[CV] END algorithm=auto, n_neighbors=1, p=2, weights=distance; total time=   0.0s\n",
            "[CV] END algorithm=auto, n_neighbors=2, p=1, weights=uniform; total time=   0.0s\n",
            "[CV] END algorithm=auto, n_neighbors=2, p=1, weights=uniform; total time=   0.0s\n",
            "[CV] END algorithm=auto, n_neighbors=2, p=1, weights=uniform; total time=   0.0s\n",
            "[CV] END algorithm=auto, n_neighbors=2, p=1, weights=uniform; total time=   0.0s\n",
            "[CV] END algorithm=auto, n_neighbors=2, p=1, weights=uniform; total time=   0.0s\n",
            "[CV] END algorithm=auto, n_neighbors=2, p=1, weights=uniform; total time=   0.0s\n",
            "[CV] END algorithm=auto, n_neighbors=2, p=1, weights=uniform; total time=   0.0s\n",
            "[CV] END algorithm=auto, n_neighbors=2, p=1, weights=uniform; total time=   0.0s\n",
            "[CV] END algorithm=auto, n_neighbors=2, p=1, weights=distance; total time=   0.0s\n",
            "[CV] END algorithm=auto, n_neighbors=2, p=1, weights=distance; total time=   0.0s\n",
            "[CV] END algorithm=auto, n_neighbors=2, p=1, weights=distance; total time=   0.0s\n",
            "[CV] END algorithm=auto, n_neighbors=2, p=1, weights=distance; total time=   0.0s\n",
            "[CV] END algorithm=auto, n_neighbors=2, p=1, weights=distance; total time=   0.0s\n",
            "[CV] END algorithm=auto, n_neighbors=2, p=1, weights=distance; total time=   0.0s\n",
            "[CV] END algorithm=auto, n_neighbors=2, p=1, weights=distance; total time=   0.0s\n",
            "[CV] END algorithm=auto, n_neighbors=2, p=1, weights=distance; total time=   0.0s\n",
            "[CV] END algorithm=auto, n_neighbors=2, p=2, weights=uniform; total time=   0.0s\n",
            "[CV] END algorithm=auto, n_neighbors=2, p=2, weights=uniform; total time=   0.0s\n",
            "[CV] END algorithm=auto, n_neighbors=2, p=2, weights=uniform; total time=   0.0s\n",
            "[CV] END algorithm=auto, n_neighbors=2, p=2, weights=uniform; total time=   0.0s\n",
            "[CV] END algorithm=auto, n_neighbors=2, p=2, weights=uniform; total time=   0.0s\n",
            "[CV] END algorithm=auto, n_neighbors=2, p=2, weights=uniform; total time=   0.0s\n",
            "[CV] END algorithm=auto, n_neighbors=2, p=2, weights=uniform; total time=   0.0s\n",
            "[CV] END algorithm=auto, n_neighbors=2, p=2, weights=uniform; total time=   0.0s\n",
            "[CV] END algorithm=auto, n_neighbors=2, p=2, weights=distance; total time=   0.0s\n",
            "[CV] END algorithm=auto, n_neighbors=2, p=2, weights=distance; total time=   0.0s\n",
            "[CV] END algorithm=auto, n_neighbors=2, p=2, weights=distance; total time=   0.0s\n",
            "[CV] END algorithm=auto, n_neighbors=2, p=2, weights=distance; total time=   0.0s\n",
            "[CV] END algorithm=auto, n_neighbors=2, p=2, weights=distance; total time=   0.0s\n",
            "[CV] END algorithm=auto, n_neighbors=2, p=2, weights=distance; total time=   0.0s\n",
            "[CV] END algorithm=auto, n_neighbors=2, p=2, weights=distance; total time=   0.0s\n",
            "[CV] END algorithm=auto, n_neighbors=2, p=2, weights=distance; total time=   0.0s\n",
            "[CV] END algorithm=auto, n_neighbors=3, p=1, weights=uniform; total time=   0.0s\n",
            "[CV] END algorithm=auto, n_neighbors=3, p=1, weights=uniform; total time=   0.0s\n",
            "[CV] END algorithm=auto, n_neighbors=3, p=1, weights=uniform; total time=   0.0s\n",
            "[CV] END algorithm=auto, n_neighbors=3, p=1, weights=uniform; total time=   0.0s\n",
            "[CV] END algorithm=auto, n_neighbors=3, p=1, weights=uniform; total time=   0.0s\n",
            "[CV] END algorithm=auto, n_neighbors=3, p=1, weights=uniform; total time=   0.0s\n",
            "[CV] END algorithm=auto, n_neighbors=3, p=1, weights=uniform; total time=   0.0s\n",
            "[CV] END algorithm=auto, n_neighbors=3, p=1, weights=uniform; total time=   0.0s\n",
            "[CV] END algorithm=auto, n_neighbors=3, p=1, weights=distance; total time=   0.0s\n",
            "[CV] END algorithm=auto, n_neighbors=3, p=1, weights=distance; total time=   0.0s\n",
            "[CV] END algorithm=auto, n_neighbors=3, p=1, weights=distance; total time=   0.0s\n",
            "[CV] END algorithm=auto, n_neighbors=3, p=1, weights=distance; total time=   0.0s\n",
            "[CV] END algorithm=auto, n_neighbors=3, p=1, weights=distance; total time=   0.0s\n",
            "[CV] END algorithm=auto, n_neighbors=3, p=1, weights=distance; total time=   0.0s\n",
            "[CV] END algorithm=auto, n_neighbors=3, p=1, weights=distance; total time=   0.0s\n",
            "[CV] END algorithm=auto, n_neighbors=3, p=1, weights=distance; total time=   0.0s\n",
            "[CV] END algorithm=auto, n_neighbors=3, p=2, weights=uniform; total time=   0.0s\n",
            "[CV] END algorithm=auto, n_neighbors=3, p=2, weights=uniform; total time=   0.0s\n",
            "[CV] END algorithm=auto, n_neighbors=3, p=2, weights=uniform; total time=   0.0s\n",
            "[CV] END algorithm=auto, n_neighbors=3, p=2, weights=uniform; total time=   0.0s\n",
            "[CV] END algorithm=auto, n_neighbors=3, p=2, weights=uniform; total time=   0.0s\n",
            "[CV] END algorithm=auto, n_neighbors=3, p=2, weights=uniform; total time=   0.0s\n",
            "[CV] END algorithm=auto, n_neighbors=3, p=2, weights=uniform; total time=   0.0s\n",
            "[CV] END algorithm=auto, n_neighbors=3, p=2, weights=uniform; total time=   0.0s\n",
            "[CV] END algorithm=auto, n_neighbors=3, p=2, weights=distance; total time=   0.0s\n",
            "[CV] END algorithm=auto, n_neighbors=3, p=2, weights=distance; total time=   0.0s\n",
            "[CV] END algorithm=auto, n_neighbors=3, p=2, weights=distance; total time=   0.0s\n",
            "[CV] END algorithm=auto, n_neighbors=3, p=2, weights=distance; total time=   0.0s\n",
            "[CV] END algorithm=auto, n_neighbors=3, p=2, weights=distance; total time=   0.0s\n",
            "[CV] END algorithm=auto, n_neighbors=3, p=2, weights=distance; total time=   0.0s\n",
            "[CV] END algorithm=auto, n_neighbors=3, p=2, weights=distance; total time=   0.0s\n",
            "[CV] END algorithm=auto, n_neighbors=3, p=2, weights=distance; total time=   0.0s\n",
            "[CV] END algorithm=auto, n_neighbors=4, p=1, weights=uniform; total time=   0.0s\n",
            "[CV] END algorithm=auto, n_neighbors=4, p=1, weights=uniform; total time=   0.0s\n",
            "[CV] END algorithm=auto, n_neighbors=4, p=1, weights=uniform; total time=   0.0s\n",
            "[CV] END algorithm=auto, n_neighbors=4, p=1, weights=uniform; total time=   0.0s\n",
            "[CV] END algorithm=auto, n_neighbors=4, p=1, weights=uniform; total time=   0.0s\n",
            "[CV] END algorithm=auto, n_neighbors=4, p=1, weights=uniform; total time=   0.0s\n",
            "[CV] END algorithm=auto, n_neighbors=4, p=1, weights=uniform; total time=   0.0s\n",
            "[CV] END algorithm=auto, n_neighbors=4, p=1, weights=uniform; total time=   0.0s\n",
            "[CV] END algorithm=auto, n_neighbors=4, p=1, weights=distance; total time=   0.0s\n",
            "[CV] END algorithm=auto, n_neighbors=4, p=1, weights=distance; total time=   0.0s\n",
            "[CV] END algorithm=auto, n_neighbors=4, p=1, weights=distance; total time=   0.0s\n",
            "[CV] END algorithm=auto, n_neighbors=4, p=1, weights=distance; total time=   0.0s\n",
            "[CV] END algorithm=auto, n_neighbors=4, p=1, weights=distance; total time=   0.0s\n",
            "[CV] END algorithm=auto, n_neighbors=4, p=1, weights=distance; total time=   0.0s\n",
            "[CV] END algorithm=auto, n_neighbors=4, p=1, weights=distance; total time=   0.0s\n",
            "[CV] END algorithm=auto, n_neighbors=4, p=1, weights=distance; total time=   0.0s\n",
            "[CV] END algorithm=auto, n_neighbors=4, p=2, weights=uniform; total time=   0.0s\n",
            "[CV] END algorithm=auto, n_neighbors=4, p=2, weights=uniform; total time=   0.0s\n",
            "[CV] END algorithm=auto, n_neighbors=4, p=2, weights=uniform; total time=   0.0s\n",
            "[CV] END algorithm=auto, n_neighbors=4, p=2, weights=uniform; total time=   0.0s\n",
            "[CV] END algorithm=auto, n_neighbors=4, p=2, weights=uniform; total time=   0.0s\n",
            "[CV] END algorithm=auto, n_neighbors=4, p=2, weights=uniform; total time=   0.0s\n",
            "[CV] END algorithm=auto, n_neighbors=4, p=2, weights=uniform; total time=   0.0s\n",
            "[CV] END algorithm=auto, n_neighbors=4, p=2, weights=uniform; total time=   0.0s\n",
            "[CV] END algorithm=auto, n_neighbors=4, p=2, weights=distance; total time=   0.0s\n",
            "[CV] END algorithm=auto, n_neighbors=4, p=2, weights=distance; total time=   0.0s\n",
            "[CV] END algorithm=auto, n_neighbors=4, p=2, weights=distance; total time=   0.0s\n",
            "[CV] END algorithm=auto, n_neighbors=4, p=2, weights=distance; total time=   0.0s\n",
            "[CV] END algorithm=auto, n_neighbors=4, p=2, weights=distance; total time=   0.0s\n",
            "[CV] END algorithm=auto, n_neighbors=4, p=2, weights=distance; total time=   0.0s\n",
            "[CV] END algorithm=auto, n_neighbors=4, p=2, weights=distance; total time=   0.0s\n",
            "[CV] END algorithm=auto, n_neighbors=4, p=2, weights=distance; total time=   0.0s\n",
            "[CV] END algorithm=auto, n_neighbors=5, p=1, weights=uniform; total time=   0.0s\n",
            "[CV] END algorithm=auto, n_neighbors=5, p=1, weights=uniform; total time=   0.0s\n",
            "[CV] END algorithm=auto, n_neighbors=5, p=1, weights=uniform; total time=   0.0s\n",
            "[CV] END algorithm=auto, n_neighbors=5, p=1, weights=uniform; total time=   0.0s\n",
            "[CV] END algorithm=auto, n_neighbors=5, p=1, weights=uniform; total time=   0.0s\n",
            "[CV] END algorithm=auto, n_neighbors=5, p=1, weights=uniform; total time=   0.0s\n",
            "[CV] END algorithm=auto, n_neighbors=5, p=1, weights=uniform; total time=   0.0s\n",
            "[CV] END algorithm=auto, n_neighbors=5, p=1, weights=uniform; total time=   0.0s\n",
            "[CV] END algorithm=auto, n_neighbors=5, p=1, weights=distance; total time=   0.0s\n",
            "[CV] END algorithm=auto, n_neighbors=5, p=1, weights=distance; total time=   0.0s\n",
            "[CV] END algorithm=auto, n_neighbors=5, p=1, weights=distance; total time=   0.0s\n",
            "[CV] END algorithm=auto, n_neighbors=5, p=1, weights=distance; total time=   0.0s\n",
            "[CV] END algorithm=auto, n_neighbors=5, p=1, weights=distance; total time=   0.0s\n",
            "[CV] END algorithm=auto, n_neighbors=5, p=1, weights=distance; total time=   0.0s\n",
            "[CV] END algorithm=auto, n_neighbors=5, p=1, weights=distance; total time=   0.0s\n",
            "[CV] END algorithm=auto, n_neighbors=5, p=1, weights=distance; total time=   0.0s\n",
            "[CV] END algorithm=auto, n_neighbors=5, p=2, weights=uniform; total time=   0.0s\n",
            "[CV] END algorithm=auto, n_neighbors=5, p=2, weights=uniform; total time=   0.0s\n",
            "[CV] END algorithm=auto, n_neighbors=5, p=2, weights=uniform; total time=   0.0s\n",
            "[CV] END algorithm=auto, n_neighbors=5, p=2, weights=uniform; total time=   0.0s\n",
            "[CV] END algorithm=auto, n_neighbors=5, p=2, weights=uniform; total time=   0.0s\n",
            "[CV] END algorithm=auto, n_neighbors=5, p=2, weights=uniform; total time=   0.0s\n",
            "[CV] END algorithm=auto, n_neighbors=5, p=2, weights=uniform; total time=   0.0s\n",
            "[CV] END algorithm=auto, n_neighbors=5, p=2, weights=uniform; total time=   0.0s\n",
            "[CV] END algorithm=auto, n_neighbors=5, p=2, weights=distance; total time=   0.0s\n",
            "[CV] END algorithm=auto, n_neighbors=5, p=2, weights=distance; total time=   0.0s\n",
            "[CV] END algorithm=auto, n_neighbors=5, p=2, weights=distance; total time=   0.0s\n",
            "[CV] END algorithm=auto, n_neighbors=5, p=2, weights=distance; total time=   0.0s\n",
            "[CV] END algorithm=auto, n_neighbors=5, p=2, weights=distance; total time=   0.0s\n",
            "[CV] END algorithm=auto, n_neighbors=5, p=2, weights=distance; total time=   0.0s\n",
            "[CV] END algorithm=auto, n_neighbors=5, p=2, weights=distance; total time=   0.0s\n",
            "[CV] END algorithm=auto, n_neighbors=5, p=2, weights=distance; total time=   0.0s\n",
            "[CV] END algorithm=auto, n_neighbors=6, p=1, weights=uniform; total time=   0.0s\n",
            "[CV] END algorithm=auto, n_neighbors=6, p=1, weights=uniform; total time=   0.0s\n",
            "[CV] END algorithm=auto, n_neighbors=6, p=1, weights=uniform; total time=   0.0s\n",
            "[CV] END algorithm=auto, n_neighbors=6, p=1, weights=uniform; total time=   0.0s\n",
            "[CV] END algorithm=auto, n_neighbors=6, p=1, weights=uniform; total time=   0.0s\n",
            "[CV] END algorithm=auto, n_neighbors=6, p=1, weights=uniform; total time=   0.0s\n",
            "[CV] END algorithm=auto, n_neighbors=6, p=1, weights=uniform; total time=   0.0s\n",
            "[CV] END algorithm=auto, n_neighbors=6, p=1, weights=uniform; total time=   0.0s\n",
            "[CV] END algorithm=auto, n_neighbors=6, p=1, weights=distance; total time=   0.0s\n",
            "[CV] END algorithm=auto, n_neighbors=6, p=1, weights=distance; total time=   0.0s\n",
            "[CV] END algorithm=auto, n_neighbors=6, p=1, weights=distance; total time=   0.0s\n",
            "[CV] END algorithm=auto, n_neighbors=6, p=1, weights=distance; total time=   0.0s\n",
            "[CV] END algorithm=auto, n_neighbors=6, p=1, weights=distance; total time=   0.0s\n",
            "[CV] END algorithm=auto, n_neighbors=6, p=1, weights=distance; total time=   0.0s\n",
            "[CV] END algorithm=auto, n_neighbors=6, p=1, weights=distance; total time=   0.0s\n",
            "[CV] END algorithm=auto, n_neighbors=6, p=1, weights=distance; total time=   0.0s\n",
            "[CV] END algorithm=auto, n_neighbors=6, p=2, weights=uniform; total time=   0.0s\n",
            "[CV] END algorithm=auto, n_neighbors=6, p=2, weights=uniform; total time=   0.0s\n",
            "[CV] END algorithm=auto, n_neighbors=6, p=2, weights=uniform; total time=   0.0s\n",
            "[CV] END algorithm=auto, n_neighbors=6, p=2, weights=uniform; total time=   0.0s\n",
            "[CV] END algorithm=auto, n_neighbors=6, p=2, weights=uniform; total time=   0.0s\n",
            "[CV] END algorithm=auto, n_neighbors=6, p=2, weights=uniform; total time=   0.0s\n",
            "[CV] END algorithm=auto, n_neighbors=6, p=2, weights=uniform; total time=   0.0s\n",
            "[CV] END algorithm=auto, n_neighbors=6, p=2, weights=uniform; total time=   0.0s\n",
            "[CV] END algorithm=auto, n_neighbors=6, p=2, weights=distance; total time=   0.0s\n",
            "[CV] END algorithm=auto, n_neighbors=6, p=2, weights=distance; total time=   0.0s\n",
            "[CV] END algorithm=auto, n_neighbors=6, p=2, weights=distance; total time=   0.0s\n",
            "[CV] END algorithm=auto, n_neighbors=6, p=2, weights=distance; total time=   0.0s\n",
            "[CV] END algorithm=auto, n_neighbors=6, p=2, weights=distance; total time=   0.0s\n",
            "[CV] END algorithm=auto, n_neighbors=6, p=2, weights=distance; total time=   0.0s\n",
            "[CV] END algorithm=auto, n_neighbors=6, p=2, weights=distance; total time=   0.0s\n",
            "[CV] END algorithm=auto, n_neighbors=6, p=2, weights=distance; total time=   0.0s\n",
            "[CV] END algorithm=auto, n_neighbors=7, p=1, weights=uniform; total time=   0.0s\n",
            "[CV] END algorithm=auto, n_neighbors=7, p=1, weights=uniform; total time=   0.0s\n",
            "[CV] END algorithm=auto, n_neighbors=7, p=1, weights=uniform; total time=   0.0s\n",
            "[CV] END algorithm=auto, n_neighbors=7, p=1, weights=uniform; total time=   0.0s\n",
            "[CV] END algorithm=auto, n_neighbors=7, p=1, weights=uniform; total time=   0.0s\n",
            "[CV] END algorithm=auto, n_neighbors=7, p=1, weights=uniform; total time=   0.0s\n",
            "[CV] END algorithm=auto, n_neighbors=7, p=1, weights=uniform; total time=   0.0s\n",
            "[CV] END algorithm=auto, n_neighbors=7, p=1, weights=uniform; total time=   0.0s\n",
            "[CV] END algorithm=auto, n_neighbors=7, p=1, weights=distance; total time=   0.0s\n",
            "[CV] END algorithm=auto, n_neighbors=7, p=1, weights=distance; total time=   0.0s\n",
            "[CV] END algorithm=auto, n_neighbors=7, p=1, weights=distance; total time=   0.0s\n",
            "[CV] END algorithm=auto, n_neighbors=7, p=1, weights=distance; total time=   0.0s\n",
            "[CV] END algorithm=auto, n_neighbors=7, p=1, weights=distance; total time=   0.0s\n",
            "[CV] END algorithm=auto, n_neighbors=7, p=1, weights=distance; total time=   0.0s\n",
            "[CV] END algorithm=auto, n_neighbors=7, p=1, weights=distance; total time=   0.0s\n",
            "[CV] END algorithm=auto, n_neighbors=7, p=1, weights=distance; total time=   0.0s\n",
            "[CV] END algorithm=auto, n_neighbors=7, p=2, weights=uniform; total time=   0.0s\n",
            "[CV] END algorithm=auto, n_neighbors=7, p=2, weights=uniform; total time=   0.0s\n",
            "[CV] END algorithm=auto, n_neighbors=7, p=2, weights=uniform; total time=   0.0s\n",
            "[CV] END algorithm=auto, n_neighbors=7, p=2, weights=uniform; total time=   0.0s\n",
            "[CV] END algorithm=auto, n_neighbors=7, p=2, weights=uniform; total time=   0.0s\n",
            "[CV] END algorithm=auto, n_neighbors=7, p=2, weights=uniform; total time=   0.0s\n",
            "[CV] END algorithm=auto, n_neighbors=7, p=2, weights=uniform; total time=   0.0s\n",
            "[CV] END algorithm=auto, n_neighbors=7, p=2, weights=uniform; total time=   0.0s\n",
            "[CV] END algorithm=auto, n_neighbors=7, p=2, weights=distance; total time=   0.0s\n",
            "[CV] END algorithm=auto, n_neighbors=7, p=2, weights=distance; total time=   0.0s\n",
            "[CV] END algorithm=auto, n_neighbors=7, p=2, weights=distance; total time=   0.0s\n",
            "[CV] END algorithm=auto, n_neighbors=7, p=2, weights=distance; total time=   0.0s\n",
            "[CV] END algorithm=auto, n_neighbors=7, p=2, weights=distance; total time=   0.0s\n",
            "[CV] END algorithm=auto, n_neighbors=7, p=2, weights=distance; total time=   0.0s\n",
            "[CV] END algorithm=auto, n_neighbors=7, p=2, weights=distance; total time=   0.0s\n",
            "[CV] END algorithm=auto, n_neighbors=7, p=2, weights=distance; total time=   0.0s\n",
            "[CV] END algorithm=auto, n_neighbors=8, p=1, weights=uniform; total time=   0.0s\n",
            "[CV] END algorithm=auto, n_neighbors=8, p=1, weights=uniform; total time=   0.0s\n",
            "[CV] END algorithm=auto, n_neighbors=8, p=1, weights=uniform; total time=   0.0s\n",
            "[CV] END algorithm=auto, n_neighbors=8, p=1, weights=uniform; total time=   0.0s\n",
            "[CV] END algorithm=auto, n_neighbors=8, p=1, weights=uniform; total time=   0.0s\n",
            "[CV] END algorithm=auto, n_neighbors=8, p=1, weights=uniform; total time=   0.0s\n",
            "[CV] END algorithm=auto, n_neighbors=8, p=1, weights=uniform; total time=   0.0s\n",
            "[CV] END algorithm=auto, n_neighbors=8, p=1, weights=uniform; total time=   0.0s\n",
            "[CV] END algorithm=auto, n_neighbors=8, p=1, weights=distance; total time=   0.0s\n",
            "[CV] END algorithm=auto, n_neighbors=8, p=1, weights=distance; total time=   0.0s\n",
            "[CV] END algorithm=auto, n_neighbors=8, p=1, weights=distance; total time=   0.0s\n",
            "[CV] END algorithm=auto, n_neighbors=8, p=1, weights=distance; total time=   0.0s\n",
            "[CV] END algorithm=auto, n_neighbors=8, p=1, weights=distance; total time=   0.0s\n",
            "[CV] END algorithm=auto, n_neighbors=8, p=1, weights=distance; total time=   0.0s\n",
            "[CV] END algorithm=auto, n_neighbors=8, p=1, weights=distance; total time=   0.0s\n",
            "[CV] END algorithm=auto, n_neighbors=8, p=1, weights=distance; total time=   0.0s\n",
            "[CV] END algorithm=auto, n_neighbors=8, p=2, weights=uniform; total time=   0.0s\n",
            "[CV] END algorithm=auto, n_neighbors=8, p=2, weights=uniform; total time=   0.0s\n",
            "[CV] END algorithm=auto, n_neighbors=8, p=2, weights=uniform; total time=   0.0s\n",
            "[CV] END algorithm=auto, n_neighbors=8, p=2, weights=uniform; total time=   0.0s\n",
            "[CV] END algorithm=auto, n_neighbors=8, p=2, weights=uniform; total time=   0.0s\n",
            "[CV] END algorithm=auto, n_neighbors=8, p=2, weights=uniform; total time=   0.0s\n",
            "[CV] END algorithm=auto, n_neighbors=8, p=2, weights=uniform; total time=   0.0s\n",
            "[CV] END algorithm=auto, n_neighbors=8, p=2, weights=uniform; total time=   0.0s\n",
            "[CV] END algorithm=auto, n_neighbors=8, p=2, weights=distance; total time=   0.0s\n",
            "[CV] END algorithm=auto, n_neighbors=8, p=2, weights=distance; total time=   0.0s\n",
            "[CV] END algorithm=auto, n_neighbors=8, p=2, weights=distance; total time=   0.0s\n",
            "[CV] END algorithm=auto, n_neighbors=8, p=2, weights=distance; total time=   0.0s\n",
            "[CV] END algorithm=auto, n_neighbors=8, p=2, weights=distance; total time=   0.0s\n",
            "[CV] END algorithm=auto, n_neighbors=8, p=2, weights=distance; total time=   0.0s\n",
            "[CV] END algorithm=auto, n_neighbors=8, p=2, weights=distance; total time=   0.0s\n",
            "[CV] END algorithm=auto, n_neighbors=8, p=2, weights=distance; total time=   0.0s\n",
            "[CV] END algorithm=auto, n_neighbors=9, p=1, weights=uniform; total time=   0.1s\n",
            "[CV] END algorithm=auto, n_neighbors=9, p=1, weights=uniform; total time=   0.0s\n",
            "[CV] END algorithm=auto, n_neighbors=9, p=1, weights=uniform; total time=   0.0s\n",
            "[CV] END algorithm=auto, n_neighbors=9, p=1, weights=uniform; total time=   0.0s\n",
            "[CV] END algorithm=auto, n_neighbors=9, p=1, weights=uniform; total time=   0.0s\n",
            "[CV] END algorithm=auto, n_neighbors=9, p=1, weights=uniform; total time=   0.0s\n",
            "[CV] END algorithm=auto, n_neighbors=9, p=1, weights=uniform; total time=   0.0s\n",
            "[CV] END algorithm=auto, n_neighbors=9, p=1, weights=uniform; total time=   0.0s\n",
            "[CV] END algorithm=auto, n_neighbors=9, p=1, weights=distance; total time=   0.0s\n",
            "[CV] END algorithm=auto, n_neighbors=9, p=1, weights=distance; total time=   0.0s\n",
            "[CV] END algorithm=auto, n_neighbors=9, p=1, weights=distance; total time=   0.0s\n",
            "[CV] END algorithm=auto, n_neighbors=9, p=1, weights=distance; total time=   0.0s\n",
            "[CV] END algorithm=auto, n_neighbors=9, p=1, weights=distance; total time=   0.0s\n",
            "[CV] END algorithm=auto, n_neighbors=9, p=1, weights=distance; total time=   0.0s\n",
            "[CV] END algorithm=auto, n_neighbors=9, p=1, weights=distance; total time=   0.0s\n",
            "[CV] END algorithm=auto, n_neighbors=9, p=1, weights=distance; total time=   0.0s\n",
            "[CV] END algorithm=auto, n_neighbors=9, p=2, weights=uniform; total time=   0.0s\n",
            "[CV] END algorithm=auto, n_neighbors=9, p=2, weights=uniform; total time=   0.0s\n",
            "[CV] END algorithm=auto, n_neighbors=9, p=2, weights=uniform; total time=   0.0s\n",
            "[CV] END algorithm=auto, n_neighbors=9, p=2, weights=uniform; total time=   0.0s\n",
            "[CV] END algorithm=auto, n_neighbors=9, p=2, weights=uniform; total time=   0.0s\n",
            "[CV] END algorithm=auto, n_neighbors=9, p=2, weights=uniform; total time=   0.0s\n",
            "[CV] END algorithm=auto, n_neighbors=9, p=2, weights=uniform; total time=   0.0s\n",
            "[CV] END algorithm=auto, n_neighbors=9, p=2, weights=uniform; total time=   0.0s\n",
            "[CV] END algorithm=auto, n_neighbors=9, p=2, weights=distance; total time=   0.0s\n",
            "[CV] END algorithm=auto, n_neighbors=9, p=2, weights=distance; total time=   0.0s\n",
            "[CV] END algorithm=auto, n_neighbors=9, p=2, weights=distance; total time=   0.0s\n",
            "[CV] END algorithm=auto, n_neighbors=9, p=2, weights=distance; total time=   0.0s\n",
            "[CV] END algorithm=auto, n_neighbors=9, p=2, weights=distance; total time=   0.0s\n",
            "[CV] END algorithm=auto, n_neighbors=9, p=2, weights=distance; total time=   0.0s\n",
            "[CV] END algorithm=auto, n_neighbors=9, p=2, weights=distance; total time=   0.0s\n",
            "[CV] END algorithm=auto, n_neighbors=9, p=2, weights=distance; total time=   0.0s\n",
            "[CV] END algorithm=auto, n_neighbors=10, p=1, weights=uniform; total time=   0.0s\n",
            "[CV] END algorithm=auto, n_neighbors=10, p=1, weights=uniform; total time=   0.0s\n",
            "[CV] END algorithm=auto, n_neighbors=10, p=1, weights=uniform; total time=   0.0s\n",
            "[CV] END algorithm=auto, n_neighbors=10, p=1, weights=uniform; total time=   0.0s\n",
            "[CV] END algorithm=auto, n_neighbors=10, p=1, weights=uniform; total time=   0.0s\n",
            "[CV] END algorithm=auto, n_neighbors=10, p=1, weights=uniform; total time=   0.0s\n",
            "[CV] END algorithm=auto, n_neighbors=10, p=1, weights=uniform; total time=   0.0s\n",
            "[CV] END algorithm=auto, n_neighbors=10, p=1, weights=uniform; total time=   0.0s\n",
            "[CV] END algorithm=auto, n_neighbors=10, p=1, weights=distance; total time=   0.0s\n",
            "[CV] END algorithm=auto, n_neighbors=10, p=1, weights=distance; total time=   0.0s\n",
            "[CV] END algorithm=auto, n_neighbors=10, p=1, weights=distance; total time=   0.0s\n",
            "[CV] END algorithm=auto, n_neighbors=10, p=1, weights=distance; total time=   0.0s\n",
            "[CV] END algorithm=auto, n_neighbors=10, p=1, weights=distance; total time=   0.0s\n",
            "[CV] END algorithm=auto, n_neighbors=10, p=1, weights=distance; total time=   0.0s\n",
            "[CV] END algorithm=auto, n_neighbors=10, p=1, weights=distance; total time=   0.0s\n",
            "[CV] END algorithm=auto, n_neighbors=10, p=1, weights=distance; total time=   0.0s\n",
            "[CV] END algorithm=auto, n_neighbors=10, p=2, weights=uniform; total time=   0.0s\n",
            "[CV] END algorithm=auto, n_neighbors=10, p=2, weights=uniform; total time=   0.0s\n",
            "[CV] END algorithm=auto, n_neighbors=10, p=2, weights=uniform; total time=   0.0s\n",
            "[CV] END algorithm=auto, n_neighbors=10, p=2, weights=uniform; total time=   0.0s\n",
            "[CV] END algorithm=auto, n_neighbors=10, p=2, weights=uniform; total time=   0.0s\n",
            "[CV] END algorithm=auto, n_neighbors=10, p=2, weights=uniform; total time=   0.0s\n",
            "[CV] END algorithm=auto, n_neighbors=10, p=2, weights=uniform; total time=   0.0s\n",
            "[CV] END algorithm=auto, n_neighbors=10, p=2, weights=uniform; total time=   0.0s\n",
            "[CV] END algorithm=auto, n_neighbors=10, p=2, weights=distance; total time=   0.0s\n",
            "[CV] END algorithm=auto, n_neighbors=10, p=2, weights=distance; total time=   0.0s\n",
            "[CV] END algorithm=auto, n_neighbors=10, p=2, weights=distance; total time=   0.0s\n",
            "[CV] END algorithm=auto, n_neighbors=10, p=2, weights=distance; total time=   0.0s\n",
            "[CV] END algorithm=auto, n_neighbors=10, p=2, weights=distance; total time=   0.0s\n",
            "[CV] END algorithm=auto, n_neighbors=10, p=2, weights=distance; total time=   0.0s\n",
            "[CV] END algorithm=auto, n_neighbors=10, p=2, weights=distance; total time=   0.0s\n",
            "[CV] END algorithm=auto, n_neighbors=10, p=2, weights=distance; total time=   0.0s\n",
            "[CV] END algorithm=ball_tree, n_neighbors=1, p=1, weights=uniform; total time=   0.0s\n",
            "[CV] END algorithm=ball_tree, n_neighbors=1, p=1, weights=uniform; total time=   0.0s\n",
            "[CV] END algorithm=ball_tree, n_neighbors=1, p=1, weights=uniform; total time=   0.0s\n",
            "[CV] END algorithm=ball_tree, n_neighbors=1, p=1, weights=uniform; total time=   0.0s\n",
            "[CV] END algorithm=ball_tree, n_neighbors=1, p=1, weights=uniform; total time=   0.0s\n",
            "[CV] END algorithm=ball_tree, n_neighbors=1, p=1, weights=uniform; total time=   0.0s\n",
            "[CV] END algorithm=ball_tree, n_neighbors=1, p=1, weights=uniform; total time=   0.0s\n",
            "[CV] END algorithm=ball_tree, n_neighbors=1, p=1, weights=uniform; total time=   0.0s\n",
            "[CV] END algorithm=ball_tree, n_neighbors=1, p=1, weights=distance; total time=   0.0s\n",
            "[CV] END algorithm=ball_tree, n_neighbors=1, p=1, weights=distance; total time=   0.0s\n",
            "[CV] END algorithm=ball_tree, n_neighbors=1, p=1, weights=distance; total time=   0.0s\n",
            "[CV] END algorithm=ball_tree, n_neighbors=1, p=1, weights=distance; total time=   0.0s\n",
            "[CV] END algorithm=ball_tree, n_neighbors=1, p=1, weights=distance; total time=   0.0s\n",
            "[CV] END algorithm=ball_tree, n_neighbors=1, p=1, weights=distance; total time=   0.0s\n",
            "[CV] END algorithm=ball_tree, n_neighbors=1, p=1, weights=distance; total time=   0.0s\n",
            "[CV] END algorithm=ball_tree, n_neighbors=1, p=1, weights=distance; total time=   0.0s\n",
            "[CV] END algorithm=ball_tree, n_neighbors=1, p=2, weights=uniform; total time=   0.0s\n",
            "[CV] END algorithm=ball_tree, n_neighbors=1, p=2, weights=uniform; total time=   0.0s\n",
            "[CV] END algorithm=ball_tree, n_neighbors=1, p=2, weights=uniform; total time=   0.0s\n",
            "[CV] END algorithm=ball_tree, n_neighbors=1, p=2, weights=uniform; total time=   0.0s\n",
            "[CV] END algorithm=ball_tree, n_neighbors=1, p=2, weights=uniform; total time=   0.0s\n",
            "[CV] END algorithm=ball_tree, n_neighbors=1, p=2, weights=uniform; total time=   0.0s\n",
            "[CV] END algorithm=ball_tree, n_neighbors=1, p=2, weights=uniform; total time=   0.0s\n",
            "[CV] END algorithm=ball_tree, n_neighbors=1, p=2, weights=uniform; total time=   0.0s\n",
            "[CV] END algorithm=ball_tree, n_neighbors=1, p=2, weights=distance; total time=   0.0s\n",
            "[CV] END algorithm=ball_tree, n_neighbors=1, p=2, weights=distance; total time=   0.0s\n",
            "[CV] END algorithm=ball_tree, n_neighbors=1, p=2, weights=distance; total time=   0.0s\n",
            "[CV] END algorithm=ball_tree, n_neighbors=1, p=2, weights=distance; total time=   0.0s\n",
            "[CV] END algorithm=ball_tree, n_neighbors=1, p=2, weights=distance; total time=   0.0s\n",
            "[CV] END algorithm=ball_tree, n_neighbors=1, p=2, weights=distance; total time=   0.0s\n",
            "[CV] END algorithm=ball_tree, n_neighbors=1, p=2, weights=distance; total time=   0.0s\n",
            "[CV] END algorithm=ball_tree, n_neighbors=1, p=2, weights=distance; total time=   0.0s\n",
            "[CV] END algorithm=ball_tree, n_neighbors=2, p=1, weights=uniform; total time=   0.0s\n",
            "[CV] END algorithm=ball_tree, n_neighbors=2, p=1, weights=uniform; total time=   0.0s\n",
            "[CV] END algorithm=ball_tree, n_neighbors=2, p=1, weights=uniform; total time=   0.0s\n",
            "[CV] END algorithm=ball_tree, n_neighbors=2, p=1, weights=uniform; total time=   0.0s\n",
            "[CV] END algorithm=ball_tree, n_neighbors=2, p=1, weights=uniform; total time=   0.0s\n",
            "[CV] END algorithm=ball_tree, n_neighbors=2, p=1, weights=uniform; total time=   0.0s\n",
            "[CV] END algorithm=ball_tree, n_neighbors=2, p=1, weights=uniform; total time=   0.0s\n",
            "[CV] END algorithm=ball_tree, n_neighbors=2, p=1, weights=uniform; total time=   0.0s\n",
            "[CV] END algorithm=ball_tree, n_neighbors=2, p=1, weights=distance; total time=   0.0s\n",
            "[CV] END algorithm=ball_tree, n_neighbors=2, p=1, weights=distance; total time=   0.0s\n",
            "[CV] END algorithm=ball_tree, n_neighbors=2, p=1, weights=distance; total time=   0.0s\n",
            "[CV] END algorithm=ball_tree, n_neighbors=2, p=1, weights=distance; total time=   0.0s\n",
            "[CV] END algorithm=ball_tree, n_neighbors=2, p=1, weights=distance; total time=   0.0s\n",
            "[CV] END algorithm=ball_tree, n_neighbors=2, p=1, weights=distance; total time=   0.0s\n",
            "[CV] END algorithm=ball_tree, n_neighbors=2, p=1, weights=distance; total time=   0.0s\n",
            "[CV] END algorithm=ball_tree, n_neighbors=2, p=1, weights=distance; total time=   0.0s\n",
            "[CV] END algorithm=ball_tree, n_neighbors=2, p=2, weights=uniform; total time=   0.0s\n",
            "[CV] END algorithm=ball_tree, n_neighbors=2, p=2, weights=uniform; total time=   0.0s\n",
            "[CV] END algorithm=ball_tree, n_neighbors=2, p=2, weights=uniform; total time=   0.0s\n",
            "[CV] END algorithm=ball_tree, n_neighbors=2, p=2, weights=uniform; total time=   0.0s\n",
            "[CV] END algorithm=ball_tree, n_neighbors=2, p=2, weights=uniform; total time=   0.0s\n",
            "[CV] END algorithm=ball_tree, n_neighbors=2, p=2, weights=uniform; total time=   0.0s\n",
            "[CV] END algorithm=ball_tree, n_neighbors=2, p=2, weights=uniform; total time=   0.0s\n",
            "[CV] END algorithm=ball_tree, n_neighbors=2, p=2, weights=uniform; total time=   0.0s\n",
            "[CV] END algorithm=ball_tree, n_neighbors=2, p=2, weights=distance; total time=   0.0s\n",
            "[CV] END algorithm=ball_tree, n_neighbors=2, p=2, weights=distance; total time=   0.0s\n",
            "[CV] END algorithm=ball_tree, n_neighbors=2, p=2, weights=distance; total time=   0.0s\n",
            "[CV] END algorithm=ball_tree, n_neighbors=2, p=2, weights=distance; total time=   0.0s\n",
            "[CV] END algorithm=ball_tree, n_neighbors=2, p=2, weights=distance; total time=   0.0s\n",
            "[CV] END algorithm=ball_tree, n_neighbors=2, p=2, weights=distance; total time=   0.0s\n",
            "[CV] END algorithm=ball_tree, n_neighbors=2, p=2, weights=distance; total time=   0.0s\n",
            "[CV] END algorithm=ball_tree, n_neighbors=2, p=2, weights=distance; total time=   0.0s\n",
            "[CV] END algorithm=ball_tree, n_neighbors=3, p=1, weights=uniform; total time=   0.0s\n",
            "[CV] END algorithm=ball_tree, n_neighbors=3, p=1, weights=uniform; total time=   0.0s\n",
            "[CV] END algorithm=ball_tree, n_neighbors=3, p=1, weights=uniform; total time=   0.0s\n",
            "[CV] END algorithm=ball_tree, n_neighbors=3, p=1, weights=uniform; total time=   0.0s\n",
            "[CV] END algorithm=ball_tree, n_neighbors=3, p=1, weights=uniform; total time=   0.0s\n",
            "[CV] END algorithm=ball_tree, n_neighbors=3, p=1, weights=uniform; total time=   0.0s\n",
            "[CV] END algorithm=ball_tree, n_neighbors=3, p=1, weights=uniform; total time=   0.0s\n",
            "[CV] END algorithm=ball_tree, n_neighbors=3, p=1, weights=uniform; total time=   0.0s\n",
            "[CV] END algorithm=ball_tree, n_neighbors=3, p=1, weights=distance; total time=   0.0s\n",
            "[CV] END algorithm=ball_tree, n_neighbors=3, p=1, weights=distance; total time=   0.0s\n",
            "[CV] END algorithm=ball_tree, n_neighbors=3, p=1, weights=distance; total time=   0.0s\n",
            "[CV] END algorithm=ball_tree, n_neighbors=3, p=1, weights=distance; total time=   0.0s\n",
            "[CV] END algorithm=ball_tree, n_neighbors=3, p=1, weights=distance; total time=   0.0s\n",
            "[CV] END algorithm=ball_tree, n_neighbors=3, p=1, weights=distance; total time=   0.0s\n",
            "[CV] END algorithm=ball_tree, n_neighbors=3, p=1, weights=distance; total time=   0.0s\n",
            "[CV] END algorithm=ball_tree, n_neighbors=3, p=1, weights=distance; total time=   0.0s\n",
            "[CV] END algorithm=ball_tree, n_neighbors=3, p=2, weights=uniform; total time=   0.0s\n",
            "[CV] END algorithm=ball_tree, n_neighbors=3, p=2, weights=uniform; total time=   0.0s\n",
            "[CV] END algorithm=ball_tree, n_neighbors=3, p=2, weights=uniform; total time=   0.0s\n",
            "[CV] END algorithm=ball_tree, n_neighbors=3, p=2, weights=uniform; total time=   0.0s\n",
            "[CV] END algorithm=ball_tree, n_neighbors=3, p=2, weights=uniform; total time=   0.0s\n",
            "[CV] END algorithm=ball_tree, n_neighbors=3, p=2, weights=uniform; total time=   0.0s\n",
            "[CV] END algorithm=ball_tree, n_neighbors=3, p=2, weights=uniform; total time=   0.0s\n",
            "[CV] END algorithm=ball_tree, n_neighbors=3, p=2, weights=uniform; total time=   0.0s\n",
            "[CV] END algorithm=ball_tree, n_neighbors=3, p=2, weights=distance; total time=   0.0s\n",
            "[CV] END algorithm=ball_tree, n_neighbors=3, p=2, weights=distance; total time=   0.0s\n",
            "[CV] END algorithm=ball_tree, n_neighbors=3, p=2, weights=distance; total time=   0.0s\n",
            "[CV] END algorithm=ball_tree, n_neighbors=3, p=2, weights=distance; total time=   0.0s\n",
            "[CV] END algorithm=ball_tree, n_neighbors=3, p=2, weights=distance; total time=   0.0s\n",
            "[CV] END algorithm=ball_tree, n_neighbors=3, p=2, weights=distance; total time=   0.0s\n",
            "[CV] END algorithm=ball_tree, n_neighbors=3, p=2, weights=distance; total time=   0.0s\n",
            "[CV] END algorithm=ball_tree, n_neighbors=3, p=2, weights=distance; total time=   0.0s\n",
            "[CV] END algorithm=ball_tree, n_neighbors=4, p=1, weights=uniform; total time=   0.0s\n",
            "[CV] END algorithm=ball_tree, n_neighbors=4, p=1, weights=uniform; total time=   0.0s\n",
            "[CV] END algorithm=ball_tree, n_neighbors=4, p=1, weights=uniform; total time=   0.0s\n",
            "[CV] END algorithm=ball_tree, n_neighbors=4, p=1, weights=uniform; total time=   0.0s\n",
            "[CV] END algorithm=ball_tree, n_neighbors=4, p=1, weights=uniform; total time=   0.0s\n",
            "[CV] END algorithm=ball_tree, n_neighbors=4, p=1, weights=uniform; total time=   0.0s\n",
            "[CV] END algorithm=ball_tree, n_neighbors=4, p=1, weights=uniform; total time=   0.0s\n",
            "[CV] END algorithm=ball_tree, n_neighbors=4, p=1, weights=uniform; total time=   0.0s\n",
            "[CV] END algorithm=ball_tree, n_neighbors=4, p=1, weights=distance; total time=   0.0s\n",
            "[CV] END algorithm=ball_tree, n_neighbors=4, p=1, weights=distance; total time=   0.0s\n",
            "[CV] END algorithm=ball_tree, n_neighbors=4, p=1, weights=distance; total time=   0.0s\n",
            "[CV] END algorithm=ball_tree, n_neighbors=4, p=1, weights=distance; total time=   0.0s\n",
            "[CV] END algorithm=ball_tree, n_neighbors=4, p=1, weights=distance; total time=   0.0s\n",
            "[CV] END algorithm=ball_tree, n_neighbors=4, p=1, weights=distance; total time=   0.0s\n",
            "[CV] END algorithm=ball_tree, n_neighbors=4, p=1, weights=distance; total time=   0.0s\n",
            "[CV] END algorithm=ball_tree, n_neighbors=4, p=1, weights=distance; total time=   0.0s\n",
            "[CV] END algorithm=ball_tree, n_neighbors=4, p=2, weights=uniform; total time=   0.0s\n",
            "[CV] END algorithm=ball_tree, n_neighbors=4, p=2, weights=uniform; total time=   0.0s\n",
            "[CV] END algorithm=ball_tree, n_neighbors=4, p=2, weights=uniform; total time=   0.0s\n",
            "[CV] END algorithm=ball_tree, n_neighbors=4, p=2, weights=uniform; total time=   0.0s\n",
            "[CV] END algorithm=ball_tree, n_neighbors=4, p=2, weights=uniform; total time=   0.0s\n",
            "[CV] END algorithm=ball_tree, n_neighbors=4, p=2, weights=uniform; total time=   0.0s\n",
            "[CV] END algorithm=ball_tree, n_neighbors=4, p=2, weights=uniform; total time=   0.0s\n",
            "[CV] END algorithm=ball_tree, n_neighbors=4, p=2, weights=uniform; total time=   0.0s\n",
            "[CV] END algorithm=ball_tree, n_neighbors=4, p=2, weights=distance; total time=   0.0s\n",
            "[CV] END algorithm=ball_tree, n_neighbors=4, p=2, weights=distance; total time=   0.0s\n",
            "[CV] END algorithm=ball_tree, n_neighbors=4, p=2, weights=distance; total time=   0.0s\n",
            "[CV] END algorithm=ball_tree, n_neighbors=4, p=2, weights=distance; total time=   0.0s\n",
            "[CV] END algorithm=ball_tree, n_neighbors=4, p=2, weights=distance; total time=   0.0s\n",
            "[CV] END algorithm=ball_tree, n_neighbors=4, p=2, weights=distance; total time=   0.0s\n",
            "[CV] END algorithm=ball_tree, n_neighbors=4, p=2, weights=distance; total time=   0.0s\n",
            "[CV] END algorithm=ball_tree, n_neighbors=4, p=2, weights=distance; total time=   0.0s\n",
            "[CV] END algorithm=ball_tree, n_neighbors=5, p=1, weights=uniform; total time=   0.0s\n",
            "[CV] END algorithm=ball_tree, n_neighbors=5, p=1, weights=uniform; total time=   0.0s\n",
            "[CV] END algorithm=ball_tree, n_neighbors=5, p=1, weights=uniform; total time=   0.0s\n",
            "[CV] END algorithm=ball_tree, n_neighbors=5, p=1, weights=uniform; total time=   0.0s\n",
            "[CV] END algorithm=ball_tree, n_neighbors=5, p=1, weights=uniform; total time=   0.0s\n",
            "[CV] END algorithm=ball_tree, n_neighbors=5, p=1, weights=uniform; total time=   0.0s\n",
            "[CV] END algorithm=ball_tree, n_neighbors=5, p=1, weights=uniform; total time=   0.0s\n",
            "[CV] END algorithm=ball_tree, n_neighbors=5, p=1, weights=uniform; total time=   0.0s\n",
            "[CV] END algorithm=ball_tree, n_neighbors=5, p=1, weights=distance; total time=   0.0s\n",
            "[CV] END algorithm=ball_tree, n_neighbors=5, p=1, weights=distance; total time=   0.0s\n",
            "[CV] END algorithm=ball_tree, n_neighbors=5, p=1, weights=distance; total time=   0.0s\n",
            "[CV] END algorithm=ball_tree, n_neighbors=5, p=1, weights=distance; total time=   0.0s\n",
            "[CV] END algorithm=ball_tree, n_neighbors=5, p=1, weights=distance; total time=   0.0s\n",
            "[CV] END algorithm=ball_tree, n_neighbors=5, p=1, weights=distance; total time=   0.0s\n",
            "[CV] END algorithm=ball_tree, n_neighbors=5, p=1, weights=distance; total time=   0.0s\n",
            "[CV] END algorithm=ball_tree, n_neighbors=5, p=1, weights=distance; total time=   0.0s\n",
            "[CV] END algorithm=ball_tree, n_neighbors=5, p=2, weights=uniform; total time=   0.0s\n",
            "[CV] END algorithm=ball_tree, n_neighbors=5, p=2, weights=uniform; total time=   0.0s\n",
            "[CV] END algorithm=ball_tree, n_neighbors=5, p=2, weights=uniform; total time=   0.0s\n",
            "[CV] END algorithm=ball_tree, n_neighbors=5, p=2, weights=uniform; total time=   0.0s\n",
            "[CV] END algorithm=ball_tree, n_neighbors=5, p=2, weights=uniform; total time=   0.0s\n",
            "[CV] END algorithm=ball_tree, n_neighbors=5, p=2, weights=uniform; total time=   0.0s\n",
            "[CV] END algorithm=ball_tree, n_neighbors=5, p=2, weights=uniform; total time=   0.0s\n",
            "[CV] END algorithm=ball_tree, n_neighbors=5, p=2, weights=uniform; total time=   0.0s\n",
            "[CV] END algorithm=ball_tree, n_neighbors=5, p=2, weights=distance; total time=   0.0s\n",
            "[CV] END algorithm=ball_tree, n_neighbors=5, p=2, weights=distance; total time=   0.0s\n",
            "[CV] END algorithm=ball_tree, n_neighbors=5, p=2, weights=distance; total time=   0.0s\n",
            "[CV] END algorithm=ball_tree, n_neighbors=5, p=2, weights=distance; total time=   0.0s\n",
            "[CV] END algorithm=ball_tree, n_neighbors=5, p=2, weights=distance; total time=   0.0s\n",
            "[CV] END algorithm=ball_tree, n_neighbors=5, p=2, weights=distance; total time=   0.0s\n",
            "[CV] END algorithm=ball_tree, n_neighbors=5, p=2, weights=distance; total time=   0.0s\n",
            "[CV] END algorithm=ball_tree, n_neighbors=5, p=2, weights=distance; total time=   0.0s\n",
            "[CV] END algorithm=ball_tree, n_neighbors=6, p=1, weights=uniform; total time=   0.0s\n",
            "[CV] END algorithm=ball_tree, n_neighbors=6, p=1, weights=uniform; total time=   0.0s\n",
            "[CV] END algorithm=ball_tree, n_neighbors=6, p=1, weights=uniform; total time=   0.0s\n",
            "[CV] END algorithm=ball_tree, n_neighbors=6, p=1, weights=uniform; total time=   0.0s\n",
            "[CV] END algorithm=ball_tree, n_neighbors=6, p=1, weights=uniform; total time=   0.0s\n",
            "[CV] END algorithm=ball_tree, n_neighbors=6, p=1, weights=uniform; total time=   0.0s\n",
            "[CV] END algorithm=ball_tree, n_neighbors=6, p=1, weights=uniform; total time=   0.0s\n",
            "[CV] END algorithm=ball_tree, n_neighbors=6, p=1, weights=uniform; total time=   0.0s\n",
            "[CV] END algorithm=ball_tree, n_neighbors=6, p=1, weights=distance; total time=   0.0s\n",
            "[CV] END algorithm=ball_tree, n_neighbors=6, p=1, weights=distance; total time=   0.0s\n",
            "[CV] END algorithm=ball_tree, n_neighbors=6, p=1, weights=distance; total time=   0.0s\n",
            "[CV] END algorithm=ball_tree, n_neighbors=6, p=1, weights=distance; total time=   0.0s\n",
            "[CV] END algorithm=ball_tree, n_neighbors=6, p=1, weights=distance; total time=   0.0s\n",
            "[CV] END algorithm=ball_tree, n_neighbors=6, p=1, weights=distance; total time=   0.0s\n",
            "[CV] END algorithm=ball_tree, n_neighbors=6, p=1, weights=distance; total time=   0.0s\n",
            "[CV] END algorithm=ball_tree, n_neighbors=6, p=1, weights=distance; total time=   0.0s\n",
            "[CV] END algorithm=ball_tree, n_neighbors=6, p=2, weights=uniform; total time=   0.0s\n",
            "[CV] END algorithm=ball_tree, n_neighbors=6, p=2, weights=uniform; total time=   0.0s\n",
            "[CV] END algorithm=ball_tree, n_neighbors=6, p=2, weights=uniform; total time=   0.0s\n",
            "[CV] END algorithm=ball_tree, n_neighbors=6, p=2, weights=uniform; total time=   0.0s\n",
            "[CV] END algorithm=ball_tree, n_neighbors=6, p=2, weights=uniform; total time=   0.0s\n",
            "[CV] END algorithm=ball_tree, n_neighbors=6, p=2, weights=uniform; total time=   0.0s\n",
            "[CV] END algorithm=ball_tree, n_neighbors=6, p=2, weights=uniform; total time=   0.0s\n",
            "[CV] END algorithm=ball_tree, n_neighbors=6, p=2, weights=uniform; total time=   0.0s\n",
            "[CV] END algorithm=ball_tree, n_neighbors=6, p=2, weights=distance; total time=   0.0s\n",
            "[CV] END algorithm=ball_tree, n_neighbors=6, p=2, weights=distance; total time=   0.0s\n",
            "[CV] END algorithm=ball_tree, n_neighbors=6, p=2, weights=distance; total time=   0.0s\n",
            "[CV] END algorithm=ball_tree, n_neighbors=6, p=2, weights=distance; total time=   0.0s\n",
            "[CV] END algorithm=ball_tree, n_neighbors=6, p=2, weights=distance; total time=   0.0s\n",
            "[CV] END algorithm=ball_tree, n_neighbors=6, p=2, weights=distance; total time=   0.0s\n",
            "[CV] END algorithm=ball_tree, n_neighbors=6, p=2, weights=distance; total time=   0.0s\n",
            "[CV] END algorithm=ball_tree, n_neighbors=6, p=2, weights=distance; total time=   0.0s\n",
            "[CV] END algorithm=ball_tree, n_neighbors=7, p=1, weights=uniform; total time=   0.0s\n",
            "[CV] END algorithm=ball_tree, n_neighbors=7, p=1, weights=uniform; total time=   0.0s\n",
            "[CV] END algorithm=ball_tree, n_neighbors=7, p=1, weights=uniform; total time=   0.0s\n",
            "[CV] END algorithm=ball_tree, n_neighbors=7, p=1, weights=uniform; total time=   0.0s\n",
            "[CV] END algorithm=ball_tree, n_neighbors=7, p=1, weights=uniform; total time=   0.0s\n",
            "[CV] END algorithm=ball_tree, n_neighbors=7, p=1, weights=uniform; total time=   0.0s\n",
            "[CV] END algorithm=ball_tree, n_neighbors=7, p=1, weights=uniform; total time=   0.0s\n",
            "[CV] END algorithm=ball_tree, n_neighbors=7, p=1, weights=uniform; total time=   0.0s\n",
            "[CV] END algorithm=ball_tree, n_neighbors=7, p=1, weights=distance; total time=   0.0s\n",
            "[CV] END algorithm=ball_tree, n_neighbors=7, p=1, weights=distance; total time=   0.0s\n",
            "[CV] END algorithm=ball_tree, n_neighbors=7, p=1, weights=distance; total time=   0.0s\n",
            "[CV] END algorithm=ball_tree, n_neighbors=7, p=1, weights=distance; total time=   0.0s\n",
            "[CV] END algorithm=ball_tree, n_neighbors=7, p=1, weights=distance; total time=   0.0s\n",
            "[CV] END algorithm=ball_tree, n_neighbors=7, p=1, weights=distance; total time=   0.0s\n",
            "[CV] END algorithm=ball_tree, n_neighbors=7, p=1, weights=distance; total time=   0.0s\n",
            "[CV] END algorithm=ball_tree, n_neighbors=7, p=1, weights=distance; total time=   0.0s\n",
            "[CV] END algorithm=ball_tree, n_neighbors=7, p=2, weights=uniform; total time=   0.0s\n",
            "[CV] END algorithm=ball_tree, n_neighbors=7, p=2, weights=uniform; total time=   0.0s\n",
            "[CV] END algorithm=ball_tree, n_neighbors=7, p=2, weights=uniform; total time=   0.0s\n",
            "[CV] END algorithm=ball_tree, n_neighbors=7, p=2, weights=uniform; total time=   0.0s\n",
            "[CV] END algorithm=ball_tree, n_neighbors=7, p=2, weights=uniform; total time=   0.0s\n",
            "[CV] END algorithm=ball_tree, n_neighbors=7, p=2, weights=uniform; total time=   0.0s\n",
            "[CV] END algorithm=ball_tree, n_neighbors=7, p=2, weights=uniform; total time=   0.0s\n",
            "[CV] END algorithm=ball_tree, n_neighbors=7, p=2, weights=uniform; total time=   0.0s\n",
            "[CV] END algorithm=ball_tree, n_neighbors=7, p=2, weights=distance; total time=   0.0s\n",
            "[CV] END algorithm=ball_tree, n_neighbors=7, p=2, weights=distance; total time=   0.0s\n",
            "[CV] END algorithm=ball_tree, n_neighbors=7, p=2, weights=distance; total time=   0.0s\n",
            "[CV] END algorithm=ball_tree, n_neighbors=7, p=2, weights=distance; total time=   0.0s\n",
            "[CV] END algorithm=ball_tree, n_neighbors=7, p=2, weights=distance; total time=   0.0s\n",
            "[CV] END algorithm=ball_tree, n_neighbors=7, p=2, weights=distance; total time=   0.0s\n",
            "[CV] END algorithm=ball_tree, n_neighbors=7, p=2, weights=distance; total time=   0.0s\n",
            "[CV] END algorithm=ball_tree, n_neighbors=7, p=2, weights=distance; total time=   0.0s\n",
            "[CV] END algorithm=ball_tree, n_neighbors=8, p=1, weights=uniform; total time=   0.0s\n",
            "[CV] END algorithm=ball_tree, n_neighbors=8, p=1, weights=uniform; total time=   0.0s\n",
            "[CV] END algorithm=ball_tree, n_neighbors=8, p=1, weights=uniform; total time=   0.0s\n",
            "[CV] END algorithm=ball_tree, n_neighbors=8, p=1, weights=uniform; total time=   0.0s\n",
            "[CV] END algorithm=ball_tree, n_neighbors=8, p=1, weights=uniform; total time=   0.0s\n",
            "[CV] END algorithm=ball_tree, n_neighbors=8, p=1, weights=uniform; total time=   0.0s\n",
            "[CV] END algorithm=ball_tree, n_neighbors=8, p=1, weights=uniform; total time=   0.0s\n",
            "[CV] END algorithm=ball_tree, n_neighbors=8, p=1, weights=uniform; total time=   0.0s\n",
            "[CV] END algorithm=ball_tree, n_neighbors=8, p=1, weights=distance; total time=   0.0s\n",
            "[CV] END algorithm=ball_tree, n_neighbors=8, p=1, weights=distance; total time=   0.0s\n",
            "[CV] END algorithm=ball_tree, n_neighbors=8, p=1, weights=distance; total time=   0.0s\n",
            "[CV] END algorithm=ball_tree, n_neighbors=8, p=1, weights=distance; total time=   0.0s\n",
            "[CV] END algorithm=ball_tree, n_neighbors=8, p=1, weights=distance; total time=   0.0s\n",
            "[CV] END algorithm=ball_tree, n_neighbors=8, p=1, weights=distance; total time=   0.0s\n",
            "[CV] END algorithm=ball_tree, n_neighbors=8, p=1, weights=distance; total time=   0.0s\n",
            "[CV] END algorithm=ball_tree, n_neighbors=8, p=1, weights=distance; total time=   0.0s\n",
            "[CV] END algorithm=ball_tree, n_neighbors=8, p=2, weights=uniform; total time=   0.0s\n",
            "[CV] END algorithm=ball_tree, n_neighbors=8, p=2, weights=uniform; total time=   0.0s\n",
            "[CV] END algorithm=ball_tree, n_neighbors=8, p=2, weights=uniform; total time=   0.0s\n",
            "[CV] END algorithm=ball_tree, n_neighbors=8, p=2, weights=uniform; total time=   0.0s\n",
            "[CV] END algorithm=ball_tree, n_neighbors=8, p=2, weights=uniform; total time=   0.0s\n",
            "[CV] END algorithm=ball_tree, n_neighbors=8, p=2, weights=uniform; total time=   0.0s\n",
            "[CV] END algorithm=ball_tree, n_neighbors=8, p=2, weights=uniform; total time=   0.0s\n",
            "[CV] END algorithm=ball_tree, n_neighbors=8, p=2, weights=uniform; total time=   0.0s\n",
            "[CV] END algorithm=ball_tree, n_neighbors=8, p=2, weights=distance; total time=   0.0s\n",
            "[CV] END algorithm=ball_tree, n_neighbors=8, p=2, weights=distance; total time=   0.0s\n",
            "[CV] END algorithm=ball_tree, n_neighbors=8, p=2, weights=distance; total time=   0.0s\n",
            "[CV] END algorithm=ball_tree, n_neighbors=8, p=2, weights=distance; total time=   0.0s\n",
            "[CV] END algorithm=ball_tree, n_neighbors=8, p=2, weights=distance; total time=   0.0s\n",
            "[CV] END algorithm=ball_tree, n_neighbors=8, p=2, weights=distance; total time=   0.0s\n",
            "[CV] END algorithm=ball_tree, n_neighbors=8, p=2, weights=distance; total time=   0.0s\n",
            "[CV] END algorithm=ball_tree, n_neighbors=8, p=2, weights=distance; total time=   0.0s\n",
            "[CV] END algorithm=ball_tree, n_neighbors=9, p=1, weights=uniform; total time=   0.0s\n",
            "[CV] END algorithm=ball_tree, n_neighbors=9, p=1, weights=uniform; total time=   0.0s\n",
            "[CV] END algorithm=ball_tree, n_neighbors=9, p=1, weights=uniform; total time=   0.0s\n",
            "[CV] END algorithm=ball_tree, n_neighbors=9, p=1, weights=uniform; total time=   0.0s\n",
            "[CV] END algorithm=ball_tree, n_neighbors=9, p=1, weights=uniform; total time=   0.0s\n",
            "[CV] END algorithm=ball_tree, n_neighbors=9, p=1, weights=uniform; total time=   0.0s\n",
            "[CV] END algorithm=ball_tree, n_neighbors=9, p=1, weights=uniform; total time=   0.0s\n",
            "[CV] END algorithm=ball_tree, n_neighbors=9, p=1, weights=uniform; total time=   0.0s\n",
            "[CV] END algorithm=ball_tree, n_neighbors=9, p=1, weights=distance; total time=   0.0s\n",
            "[CV] END algorithm=ball_tree, n_neighbors=9, p=1, weights=distance; total time=   0.0s\n",
            "[CV] END algorithm=ball_tree, n_neighbors=9, p=1, weights=distance; total time=   0.0s\n",
            "[CV] END algorithm=ball_tree, n_neighbors=9, p=1, weights=distance; total time=   0.0s\n",
            "[CV] END algorithm=ball_tree, n_neighbors=9, p=1, weights=distance; total time=   0.0s\n",
            "[CV] END algorithm=ball_tree, n_neighbors=9, p=1, weights=distance; total time=   0.0s\n",
            "[CV] END algorithm=ball_tree, n_neighbors=9, p=1, weights=distance; total time=   0.0s\n",
            "[CV] END algorithm=ball_tree, n_neighbors=9, p=1, weights=distance; total time=   0.0s\n",
            "[CV] END algorithm=ball_tree, n_neighbors=9, p=2, weights=uniform; total time=   0.0s\n",
            "[CV] END algorithm=ball_tree, n_neighbors=9, p=2, weights=uniform; total time=   0.0s\n",
            "[CV] END algorithm=ball_tree, n_neighbors=9, p=2, weights=uniform; total time=   0.0s\n",
            "[CV] END algorithm=ball_tree, n_neighbors=9, p=2, weights=uniform; total time=   0.0s\n",
            "[CV] END algorithm=ball_tree, n_neighbors=9, p=2, weights=uniform; total time=   0.0s\n",
            "[CV] END algorithm=ball_tree, n_neighbors=9, p=2, weights=uniform; total time=   0.0s\n",
            "[CV] END algorithm=ball_tree, n_neighbors=9, p=2, weights=uniform; total time=   0.0s\n",
            "[CV] END algorithm=ball_tree, n_neighbors=9, p=2, weights=uniform; total time=   0.0s\n",
            "[CV] END algorithm=ball_tree, n_neighbors=9, p=2, weights=distance; total time=   0.0s\n",
            "[CV] END algorithm=ball_tree, n_neighbors=9, p=2, weights=distance; total time=   0.0s\n",
            "[CV] END algorithm=ball_tree, n_neighbors=9, p=2, weights=distance; total time=   0.0s\n",
            "[CV] END algorithm=ball_tree, n_neighbors=9, p=2, weights=distance; total time=   0.0s\n",
            "[CV] END algorithm=ball_tree, n_neighbors=9, p=2, weights=distance; total time=   0.0s\n",
            "[CV] END algorithm=ball_tree, n_neighbors=9, p=2, weights=distance; total time=   0.0s\n",
            "[CV] END algorithm=ball_tree, n_neighbors=9, p=2, weights=distance; total time=   0.0s\n",
            "[CV] END algorithm=ball_tree, n_neighbors=9, p=2, weights=distance; total time=   0.0s\n",
            "[CV] END algorithm=ball_tree, n_neighbors=10, p=1, weights=uniform; total time=   0.0s\n",
            "[CV] END algorithm=ball_tree, n_neighbors=10, p=1, weights=uniform; total time=   0.0s\n",
            "[CV] END algorithm=ball_tree, n_neighbors=10, p=1, weights=uniform; total time=   0.0s\n",
            "[CV] END algorithm=ball_tree, n_neighbors=10, p=1, weights=uniform; total time=   0.0s\n",
            "[CV] END algorithm=ball_tree, n_neighbors=10, p=1, weights=uniform; total time=   0.0s\n",
            "[CV] END algorithm=ball_tree, n_neighbors=10, p=1, weights=uniform; total time=   0.0s\n",
            "[CV] END algorithm=ball_tree, n_neighbors=10, p=1, weights=uniform; total time=   0.0s\n",
            "[CV] END algorithm=ball_tree, n_neighbors=10, p=1, weights=uniform; total time=   0.0s\n",
            "[CV] END algorithm=ball_tree, n_neighbors=10, p=1, weights=distance; total time=   0.0s\n",
            "[CV] END algorithm=ball_tree, n_neighbors=10, p=1, weights=distance; total time=   0.0s\n",
            "[CV] END algorithm=ball_tree, n_neighbors=10, p=1, weights=distance; total time=   0.0s\n",
            "[CV] END algorithm=ball_tree, n_neighbors=10, p=1, weights=distance; total time=   0.0s\n",
            "[CV] END algorithm=ball_tree, n_neighbors=10, p=1, weights=distance; total time=   0.0s\n",
            "[CV] END algorithm=ball_tree, n_neighbors=10, p=1, weights=distance; total time=   0.0s\n",
            "[CV] END algorithm=ball_tree, n_neighbors=10, p=1, weights=distance; total time=   0.0s\n",
            "[CV] END algorithm=ball_tree, n_neighbors=10, p=1, weights=distance; total time=   0.0s\n",
            "[CV] END algorithm=ball_tree, n_neighbors=10, p=2, weights=uniform; total time=   0.0s\n",
            "[CV] END algorithm=ball_tree, n_neighbors=10, p=2, weights=uniform; total time=   0.0s\n",
            "[CV] END algorithm=ball_tree, n_neighbors=10, p=2, weights=uniform; total time=   0.0s\n",
            "[CV] END algorithm=ball_tree, n_neighbors=10, p=2, weights=uniform; total time=   0.0s\n",
            "[CV] END algorithm=ball_tree, n_neighbors=10, p=2, weights=uniform; total time=   0.0s\n",
            "[CV] END algorithm=ball_tree, n_neighbors=10, p=2, weights=uniform; total time=   0.0s\n",
            "[CV] END algorithm=ball_tree, n_neighbors=10, p=2, weights=uniform; total time=   0.0s\n",
            "[CV] END algorithm=ball_tree, n_neighbors=10, p=2, weights=uniform; total time=   0.0s\n",
            "[CV] END algorithm=ball_tree, n_neighbors=10, p=2, weights=distance; total time=   0.0s\n",
            "[CV] END algorithm=ball_tree, n_neighbors=10, p=2, weights=distance; total time=   0.0s\n",
            "[CV] END algorithm=ball_tree, n_neighbors=10, p=2, weights=distance; total time=   0.0s\n",
            "[CV] END algorithm=ball_tree, n_neighbors=10, p=2, weights=distance; total time=   0.0s\n",
            "[CV] END algorithm=ball_tree, n_neighbors=10, p=2, weights=distance; total time=   0.0s\n",
            "[CV] END algorithm=ball_tree, n_neighbors=10, p=2, weights=distance; total time=   0.0s\n",
            "[CV] END algorithm=ball_tree, n_neighbors=10, p=2, weights=distance; total time=   0.0s\n",
            "[CV] END algorithm=ball_tree, n_neighbors=10, p=2, weights=distance; total time=   0.0s\n",
            "[CV] END algorithm=kd_tree, n_neighbors=1, p=1, weights=uniform; total time=   0.0s\n",
            "[CV] END algorithm=kd_tree, n_neighbors=1, p=1, weights=uniform; total time=   0.0s\n",
            "[CV] END algorithm=kd_tree, n_neighbors=1, p=1, weights=uniform; total time=   0.0s\n",
            "[CV] END algorithm=kd_tree, n_neighbors=1, p=1, weights=uniform; total time=   0.0s\n",
            "[CV] END algorithm=kd_tree, n_neighbors=1, p=1, weights=uniform; total time=   0.0s\n",
            "[CV] END algorithm=kd_tree, n_neighbors=1, p=1, weights=uniform; total time=   0.0s\n",
            "[CV] END algorithm=kd_tree, n_neighbors=1, p=1, weights=uniform; total time=   0.0s\n",
            "[CV] END algorithm=kd_tree, n_neighbors=1, p=1, weights=uniform; total time=   0.0s\n",
            "[CV] END algorithm=kd_tree, n_neighbors=1, p=1, weights=distance; total time=   0.0s\n",
            "[CV] END algorithm=kd_tree, n_neighbors=1, p=1, weights=distance; total time=   0.0s\n",
            "[CV] END algorithm=kd_tree, n_neighbors=1, p=1, weights=distance; total time=   0.0s\n",
            "[CV] END algorithm=kd_tree, n_neighbors=1, p=1, weights=distance; total time=   0.0s\n",
            "[CV] END algorithm=kd_tree, n_neighbors=1, p=1, weights=distance; total time=   0.0s\n",
            "[CV] END algorithm=kd_tree, n_neighbors=1, p=1, weights=distance; total time=   0.0s\n",
            "[CV] END algorithm=kd_tree, n_neighbors=1, p=1, weights=distance; total time=   0.0s\n",
            "[CV] END algorithm=kd_tree, n_neighbors=1, p=1, weights=distance; total time=   0.0s\n",
            "[CV] END algorithm=kd_tree, n_neighbors=1, p=2, weights=uniform; total time=   0.0s\n",
            "[CV] END algorithm=kd_tree, n_neighbors=1, p=2, weights=uniform; total time=   0.0s\n",
            "[CV] END algorithm=kd_tree, n_neighbors=1, p=2, weights=uniform; total time=   0.0s\n",
            "[CV] END algorithm=kd_tree, n_neighbors=1, p=2, weights=uniform; total time=   0.0s\n",
            "[CV] END algorithm=kd_tree, n_neighbors=1, p=2, weights=uniform; total time=   0.0s\n",
            "[CV] END algorithm=kd_tree, n_neighbors=1, p=2, weights=uniform; total time=   0.0s\n",
            "[CV] END algorithm=kd_tree, n_neighbors=1, p=2, weights=uniform; total time=   0.0s\n",
            "[CV] END algorithm=kd_tree, n_neighbors=1, p=2, weights=uniform; total time=   0.0s\n",
            "[CV] END algorithm=kd_tree, n_neighbors=1, p=2, weights=distance; total time=   0.0s\n",
            "[CV] END algorithm=kd_tree, n_neighbors=1, p=2, weights=distance; total time=   0.0s\n",
            "[CV] END algorithm=kd_tree, n_neighbors=1, p=2, weights=distance; total time=   0.0s\n",
            "[CV] END algorithm=kd_tree, n_neighbors=1, p=2, weights=distance; total time=   0.0s\n",
            "[CV] END algorithm=kd_tree, n_neighbors=1, p=2, weights=distance; total time=   0.0s\n",
            "[CV] END algorithm=kd_tree, n_neighbors=1, p=2, weights=distance; total time=   0.0s\n",
            "[CV] END algorithm=kd_tree, n_neighbors=1, p=2, weights=distance; total time=   0.0s\n",
            "[CV] END algorithm=kd_tree, n_neighbors=1, p=2, weights=distance; total time=   0.0s\n",
            "[CV] END algorithm=kd_tree, n_neighbors=2, p=1, weights=uniform; total time=   0.0s\n",
            "[CV] END algorithm=kd_tree, n_neighbors=2, p=1, weights=uniform; total time=   0.0s\n",
            "[CV] END algorithm=kd_tree, n_neighbors=2, p=1, weights=uniform; total time=   0.0s\n",
            "[CV] END algorithm=kd_tree, n_neighbors=2, p=1, weights=uniform; total time=   0.0s\n",
            "[CV] END algorithm=kd_tree, n_neighbors=2, p=1, weights=uniform; total time=   0.0s\n",
            "[CV] END algorithm=kd_tree, n_neighbors=2, p=1, weights=uniform; total time=   0.0s\n",
            "[CV] END algorithm=kd_tree, n_neighbors=2, p=1, weights=uniform; total time=   0.0s\n",
            "[CV] END algorithm=kd_tree, n_neighbors=2, p=1, weights=uniform; total time=   0.0s\n",
            "[CV] END algorithm=kd_tree, n_neighbors=2, p=1, weights=distance; total time=   0.0s\n",
            "[CV] END algorithm=kd_tree, n_neighbors=2, p=1, weights=distance; total time=   0.0s\n",
            "[CV] END algorithm=kd_tree, n_neighbors=2, p=1, weights=distance; total time=   0.0s\n",
            "[CV] END algorithm=kd_tree, n_neighbors=2, p=1, weights=distance; total time=   0.0s\n",
            "[CV] END algorithm=kd_tree, n_neighbors=2, p=1, weights=distance; total time=   0.0s\n",
            "[CV] END algorithm=kd_tree, n_neighbors=2, p=1, weights=distance; total time=   0.0s\n",
            "[CV] END algorithm=kd_tree, n_neighbors=2, p=1, weights=distance; total time=   0.0s\n",
            "[CV] END algorithm=kd_tree, n_neighbors=2, p=1, weights=distance; total time=   0.0s\n",
            "[CV] END algorithm=kd_tree, n_neighbors=2, p=2, weights=uniform; total time=   0.0s\n",
            "[CV] END algorithm=kd_tree, n_neighbors=2, p=2, weights=uniform; total time=   0.0s\n",
            "[CV] END algorithm=kd_tree, n_neighbors=2, p=2, weights=uniform; total time=   0.0s\n",
            "[CV] END algorithm=kd_tree, n_neighbors=2, p=2, weights=uniform; total time=   0.0s\n",
            "[CV] END algorithm=kd_tree, n_neighbors=2, p=2, weights=uniform; total time=   0.0s\n",
            "[CV] END algorithm=kd_tree, n_neighbors=2, p=2, weights=uniform; total time=   0.0s\n",
            "[CV] END algorithm=kd_tree, n_neighbors=2, p=2, weights=uniform; total time=   0.0s\n",
            "[CV] END algorithm=kd_tree, n_neighbors=2, p=2, weights=uniform; total time=   0.0s\n",
            "[CV] END algorithm=kd_tree, n_neighbors=2, p=2, weights=distance; total time=   0.0s\n",
            "[CV] END algorithm=kd_tree, n_neighbors=2, p=2, weights=distance; total time=   0.0s\n",
            "[CV] END algorithm=kd_tree, n_neighbors=2, p=2, weights=distance; total time=   0.0s\n",
            "[CV] END algorithm=kd_tree, n_neighbors=2, p=2, weights=distance; total time=   0.0s\n",
            "[CV] END algorithm=kd_tree, n_neighbors=2, p=2, weights=distance; total time=   0.0s\n",
            "[CV] END algorithm=kd_tree, n_neighbors=2, p=2, weights=distance; total time=   0.0s\n",
            "[CV] END algorithm=kd_tree, n_neighbors=2, p=2, weights=distance; total time=   0.0s\n",
            "[CV] END algorithm=kd_tree, n_neighbors=2, p=2, weights=distance; total time=   0.0s\n",
            "[CV] END algorithm=kd_tree, n_neighbors=3, p=1, weights=uniform; total time=   0.0s\n",
            "[CV] END algorithm=kd_tree, n_neighbors=3, p=1, weights=uniform; total time=   0.0s\n",
            "[CV] END algorithm=kd_tree, n_neighbors=3, p=1, weights=uniform; total time=   0.0s\n",
            "[CV] END algorithm=kd_tree, n_neighbors=3, p=1, weights=uniform; total time=   0.0s\n",
            "[CV] END algorithm=kd_tree, n_neighbors=3, p=1, weights=uniform; total time=   0.0s\n",
            "[CV] END algorithm=kd_tree, n_neighbors=3, p=1, weights=uniform; total time=   0.0s\n",
            "[CV] END algorithm=kd_tree, n_neighbors=3, p=1, weights=uniform; total time=   0.0s\n",
            "[CV] END algorithm=kd_tree, n_neighbors=3, p=1, weights=uniform; total time=   0.0s\n",
            "[CV] END algorithm=kd_tree, n_neighbors=3, p=1, weights=distance; total time=   0.0s\n",
            "[CV] END algorithm=kd_tree, n_neighbors=3, p=1, weights=distance; total time=   0.0s\n",
            "[CV] END algorithm=kd_tree, n_neighbors=3, p=1, weights=distance; total time=   0.0s\n",
            "[CV] END algorithm=kd_tree, n_neighbors=3, p=1, weights=distance; total time=   0.0s\n",
            "[CV] END algorithm=kd_tree, n_neighbors=3, p=1, weights=distance; total time=   0.0s\n",
            "[CV] END algorithm=kd_tree, n_neighbors=3, p=1, weights=distance; total time=   0.0s\n",
            "[CV] END algorithm=kd_tree, n_neighbors=3, p=1, weights=distance; total time=   0.0s\n",
            "[CV] END algorithm=kd_tree, n_neighbors=3, p=1, weights=distance; total time=   0.0s\n",
            "[CV] END algorithm=kd_tree, n_neighbors=3, p=2, weights=uniform; total time=   0.0s\n",
            "[CV] END algorithm=kd_tree, n_neighbors=3, p=2, weights=uniform; total time=   0.0s\n",
            "[CV] END algorithm=kd_tree, n_neighbors=3, p=2, weights=uniform; total time=   0.0s\n",
            "[CV] END algorithm=kd_tree, n_neighbors=3, p=2, weights=uniform; total time=   0.0s\n",
            "[CV] END algorithm=kd_tree, n_neighbors=3, p=2, weights=uniform; total time=   0.0s\n",
            "[CV] END algorithm=kd_tree, n_neighbors=3, p=2, weights=uniform; total time=   0.0s\n",
            "[CV] END algorithm=kd_tree, n_neighbors=3, p=2, weights=uniform; total time=   0.0s\n",
            "[CV] END algorithm=kd_tree, n_neighbors=3, p=2, weights=uniform; total time=   0.0s\n",
            "[CV] END algorithm=kd_tree, n_neighbors=3, p=2, weights=distance; total time=   0.0s\n",
            "[CV] END algorithm=kd_tree, n_neighbors=3, p=2, weights=distance; total time=   0.0s\n",
            "[CV] END algorithm=kd_tree, n_neighbors=3, p=2, weights=distance; total time=   0.0s\n",
            "[CV] END algorithm=kd_tree, n_neighbors=3, p=2, weights=distance; total time=   0.0s\n",
            "[CV] END algorithm=kd_tree, n_neighbors=3, p=2, weights=distance; total time=   0.0s\n",
            "[CV] END algorithm=kd_tree, n_neighbors=3, p=2, weights=distance; total time=   0.0s\n",
            "[CV] END algorithm=kd_tree, n_neighbors=3, p=2, weights=distance; total time=   0.0s\n",
            "[CV] END algorithm=kd_tree, n_neighbors=3, p=2, weights=distance; total time=   0.0s\n",
            "[CV] END algorithm=kd_tree, n_neighbors=4, p=1, weights=uniform; total time=   0.0s\n",
            "[CV] END algorithm=kd_tree, n_neighbors=4, p=1, weights=uniform; total time=   0.0s\n",
            "[CV] END algorithm=kd_tree, n_neighbors=4, p=1, weights=uniform; total time=   0.0s\n",
            "[CV] END algorithm=kd_tree, n_neighbors=4, p=1, weights=uniform; total time=   0.0s\n",
            "[CV] END algorithm=kd_tree, n_neighbors=4, p=1, weights=uniform; total time=   0.0s\n",
            "[CV] END algorithm=kd_tree, n_neighbors=4, p=1, weights=uniform; total time=   0.0s\n",
            "[CV] END algorithm=kd_tree, n_neighbors=4, p=1, weights=uniform; total time=   0.0s\n",
            "[CV] END algorithm=kd_tree, n_neighbors=4, p=1, weights=uniform; total time=   0.0s\n",
            "[CV] END algorithm=kd_tree, n_neighbors=4, p=1, weights=distance; total time=   0.0s\n",
            "[CV] END algorithm=kd_tree, n_neighbors=4, p=1, weights=distance; total time=   0.0s\n",
            "[CV] END algorithm=kd_tree, n_neighbors=4, p=1, weights=distance; total time=   0.0s\n",
            "[CV] END algorithm=kd_tree, n_neighbors=4, p=1, weights=distance; total time=   0.0s\n",
            "[CV] END algorithm=kd_tree, n_neighbors=4, p=1, weights=distance; total time=   0.0s\n",
            "[CV] END algorithm=kd_tree, n_neighbors=4, p=1, weights=distance; total time=   0.0s\n",
            "[CV] END algorithm=kd_tree, n_neighbors=4, p=1, weights=distance; total time=   0.0s\n",
            "[CV] END algorithm=kd_tree, n_neighbors=4, p=1, weights=distance; total time=   0.0s\n",
            "[CV] END algorithm=kd_tree, n_neighbors=4, p=2, weights=uniform; total time=   0.0s\n",
            "[CV] END algorithm=kd_tree, n_neighbors=4, p=2, weights=uniform; total time=   0.0s\n",
            "[CV] END algorithm=kd_tree, n_neighbors=4, p=2, weights=uniform; total time=   0.0s\n",
            "[CV] END algorithm=kd_tree, n_neighbors=4, p=2, weights=uniform; total time=   0.0s\n",
            "[CV] END algorithm=kd_tree, n_neighbors=4, p=2, weights=uniform; total time=   0.0s\n",
            "[CV] END algorithm=kd_tree, n_neighbors=4, p=2, weights=uniform; total time=   0.0s\n",
            "[CV] END algorithm=kd_tree, n_neighbors=4, p=2, weights=uniform; total time=   0.0s\n",
            "[CV] END algorithm=kd_tree, n_neighbors=4, p=2, weights=uniform; total time=   0.0s\n",
            "[CV] END algorithm=kd_tree, n_neighbors=4, p=2, weights=distance; total time=   0.0s\n",
            "[CV] END algorithm=kd_tree, n_neighbors=4, p=2, weights=distance; total time=   0.0s\n",
            "[CV] END algorithm=kd_tree, n_neighbors=4, p=2, weights=distance; total time=   0.0s\n",
            "[CV] END algorithm=kd_tree, n_neighbors=4, p=2, weights=distance; total time=   0.0s\n",
            "[CV] END algorithm=kd_tree, n_neighbors=4, p=2, weights=distance; total time=   0.0s\n",
            "[CV] END algorithm=kd_tree, n_neighbors=4, p=2, weights=distance; total time=   0.0s\n",
            "[CV] END algorithm=kd_tree, n_neighbors=4, p=2, weights=distance; total time=   0.0s\n",
            "[CV] END algorithm=kd_tree, n_neighbors=4, p=2, weights=distance; total time=   0.0s\n",
            "[CV] END algorithm=kd_tree, n_neighbors=5, p=1, weights=uniform; total time=   0.0s\n",
            "[CV] END algorithm=kd_tree, n_neighbors=5, p=1, weights=uniform; total time=   0.0s\n",
            "[CV] END algorithm=kd_tree, n_neighbors=5, p=1, weights=uniform; total time=   0.0s\n",
            "[CV] END algorithm=kd_tree, n_neighbors=5, p=1, weights=uniform; total time=   0.0s\n",
            "[CV] END algorithm=kd_tree, n_neighbors=5, p=1, weights=uniform; total time=   0.0s\n",
            "[CV] END algorithm=kd_tree, n_neighbors=5, p=1, weights=uniform; total time=   0.0s\n",
            "[CV] END algorithm=kd_tree, n_neighbors=5, p=1, weights=uniform; total time=   0.0s\n",
            "[CV] END algorithm=kd_tree, n_neighbors=5, p=1, weights=uniform; total time=   0.0s\n",
            "[CV] END algorithm=kd_tree, n_neighbors=5, p=1, weights=distance; total time=   0.0s\n",
            "[CV] END algorithm=kd_tree, n_neighbors=5, p=1, weights=distance; total time=   0.0s\n",
            "[CV] END algorithm=kd_tree, n_neighbors=5, p=1, weights=distance; total time=   0.0s\n",
            "[CV] END algorithm=kd_tree, n_neighbors=5, p=1, weights=distance; total time=   0.0s\n",
            "[CV] END algorithm=kd_tree, n_neighbors=5, p=1, weights=distance; total time=   0.0s\n",
            "[CV] END algorithm=kd_tree, n_neighbors=5, p=1, weights=distance; total time=   0.0s\n",
            "[CV] END algorithm=kd_tree, n_neighbors=5, p=1, weights=distance; total time=   0.0s\n",
            "[CV] END algorithm=kd_tree, n_neighbors=5, p=1, weights=distance; total time=   0.0s\n",
            "[CV] END algorithm=kd_tree, n_neighbors=5, p=2, weights=uniform; total time=   0.0s\n",
            "[CV] END algorithm=kd_tree, n_neighbors=5, p=2, weights=uniform; total time=   0.0s\n",
            "[CV] END algorithm=kd_tree, n_neighbors=5, p=2, weights=uniform; total time=   0.0s\n",
            "[CV] END algorithm=kd_tree, n_neighbors=5, p=2, weights=uniform; total time=   0.0s\n",
            "[CV] END algorithm=kd_tree, n_neighbors=5, p=2, weights=uniform; total time=   0.0s\n",
            "[CV] END algorithm=kd_tree, n_neighbors=5, p=2, weights=uniform; total time=   0.0s\n",
            "[CV] END algorithm=kd_tree, n_neighbors=5, p=2, weights=uniform; total time=   0.0s\n",
            "[CV] END algorithm=kd_tree, n_neighbors=5, p=2, weights=uniform; total time=   0.0s\n",
            "[CV] END algorithm=kd_tree, n_neighbors=5, p=2, weights=distance; total time=   0.0s\n",
            "[CV] END algorithm=kd_tree, n_neighbors=5, p=2, weights=distance; total time=   0.0s\n",
            "[CV] END algorithm=kd_tree, n_neighbors=5, p=2, weights=distance; total time=   0.0s\n",
            "[CV] END algorithm=kd_tree, n_neighbors=5, p=2, weights=distance; total time=   0.0s\n",
            "[CV] END algorithm=kd_tree, n_neighbors=5, p=2, weights=distance; total time=   0.0s\n",
            "[CV] END algorithm=kd_tree, n_neighbors=5, p=2, weights=distance; total time=   0.0s\n",
            "[CV] END algorithm=kd_tree, n_neighbors=5, p=2, weights=distance; total time=   0.0s\n",
            "[CV] END algorithm=kd_tree, n_neighbors=5, p=2, weights=distance; total time=   0.0s\n",
            "[CV] END algorithm=kd_tree, n_neighbors=6, p=1, weights=uniform; total time=   0.0s\n",
            "[CV] END algorithm=kd_tree, n_neighbors=6, p=1, weights=uniform; total time=   0.0s\n",
            "[CV] END algorithm=kd_tree, n_neighbors=6, p=1, weights=uniform; total time=   0.0s\n",
            "[CV] END algorithm=kd_tree, n_neighbors=6, p=1, weights=uniform; total time=   0.0s\n",
            "[CV] END algorithm=kd_tree, n_neighbors=6, p=1, weights=uniform; total time=   0.0s\n",
            "[CV] END algorithm=kd_tree, n_neighbors=6, p=1, weights=uniform; total time=   0.0s\n",
            "[CV] END algorithm=kd_tree, n_neighbors=6, p=1, weights=uniform; total time=   0.0s\n",
            "[CV] END algorithm=kd_tree, n_neighbors=6, p=1, weights=uniform; total time=   0.0s\n",
            "[CV] END algorithm=kd_tree, n_neighbors=6, p=1, weights=distance; total time=   0.0s\n",
            "[CV] END algorithm=kd_tree, n_neighbors=6, p=1, weights=distance; total time=   0.0s\n",
            "[CV] END algorithm=kd_tree, n_neighbors=6, p=1, weights=distance; total time=   0.0s\n",
            "[CV] END algorithm=kd_tree, n_neighbors=6, p=1, weights=distance; total time=   0.0s\n",
            "[CV] END algorithm=kd_tree, n_neighbors=6, p=1, weights=distance; total time=   0.0s\n",
            "[CV] END algorithm=kd_tree, n_neighbors=6, p=1, weights=distance; total time=   0.0s\n",
            "[CV] END algorithm=kd_tree, n_neighbors=6, p=1, weights=distance; total time=   0.0s\n",
            "[CV] END algorithm=kd_tree, n_neighbors=6, p=1, weights=distance; total time=   0.0s\n",
            "[CV] END algorithm=kd_tree, n_neighbors=6, p=2, weights=uniform; total time=   0.0s\n",
            "[CV] END algorithm=kd_tree, n_neighbors=6, p=2, weights=uniform; total time=   0.0s\n",
            "[CV] END algorithm=kd_tree, n_neighbors=6, p=2, weights=uniform; total time=   0.0s\n",
            "[CV] END algorithm=kd_tree, n_neighbors=6, p=2, weights=uniform; total time=   0.0s\n",
            "[CV] END algorithm=kd_tree, n_neighbors=6, p=2, weights=uniform; total time=   0.0s\n",
            "[CV] END algorithm=kd_tree, n_neighbors=6, p=2, weights=uniform; total time=   0.0s\n",
            "[CV] END algorithm=kd_tree, n_neighbors=6, p=2, weights=uniform; total time=   0.0s\n",
            "[CV] END algorithm=kd_tree, n_neighbors=6, p=2, weights=uniform; total time=   0.0s\n",
            "[CV] END algorithm=kd_tree, n_neighbors=6, p=2, weights=distance; total time=   0.0s\n",
            "[CV] END algorithm=kd_tree, n_neighbors=6, p=2, weights=distance; total time=   0.0s\n",
            "[CV] END algorithm=kd_tree, n_neighbors=6, p=2, weights=distance; total time=   0.0s\n",
            "[CV] END algorithm=kd_tree, n_neighbors=6, p=2, weights=distance; total time=   0.0s\n",
            "[CV] END algorithm=kd_tree, n_neighbors=6, p=2, weights=distance; total time=   0.0s\n",
            "[CV] END algorithm=kd_tree, n_neighbors=6, p=2, weights=distance; total time=   0.0s\n",
            "[CV] END algorithm=kd_tree, n_neighbors=6, p=2, weights=distance; total time=   0.0s\n",
            "[CV] END algorithm=kd_tree, n_neighbors=6, p=2, weights=distance; total time=   0.0s\n",
            "[CV] END algorithm=kd_tree, n_neighbors=7, p=1, weights=uniform; total time=   0.0s\n",
            "[CV] END algorithm=kd_tree, n_neighbors=7, p=1, weights=uniform; total time=   0.0s\n",
            "[CV] END algorithm=kd_tree, n_neighbors=7, p=1, weights=uniform; total time=   0.0s\n",
            "[CV] END algorithm=kd_tree, n_neighbors=7, p=1, weights=uniform; total time=   0.0s\n",
            "[CV] END algorithm=kd_tree, n_neighbors=7, p=1, weights=uniform; total time=   0.0s\n",
            "[CV] END algorithm=kd_tree, n_neighbors=7, p=1, weights=uniform; total time=   0.0s\n",
            "[CV] END algorithm=kd_tree, n_neighbors=7, p=1, weights=uniform; total time=   0.0s\n",
            "[CV] END algorithm=kd_tree, n_neighbors=7, p=1, weights=uniform; total time=   0.0s\n",
            "[CV] END algorithm=kd_tree, n_neighbors=7, p=1, weights=distance; total time=   0.0s\n",
            "[CV] END algorithm=kd_tree, n_neighbors=7, p=1, weights=distance; total time=   0.0s\n",
            "[CV] END algorithm=kd_tree, n_neighbors=7, p=1, weights=distance; total time=   0.0s\n",
            "[CV] END algorithm=kd_tree, n_neighbors=7, p=1, weights=distance; total time=   0.0s\n",
            "[CV] END algorithm=kd_tree, n_neighbors=7, p=1, weights=distance; total time=   0.0s\n",
            "[CV] END algorithm=kd_tree, n_neighbors=7, p=1, weights=distance; total time=   0.0s\n",
            "[CV] END algorithm=kd_tree, n_neighbors=7, p=1, weights=distance; total time=   0.0s\n",
            "[CV] END algorithm=kd_tree, n_neighbors=7, p=1, weights=distance; total time=   0.0s\n",
            "[CV] END algorithm=kd_tree, n_neighbors=7, p=2, weights=uniform; total time=   0.0s\n",
            "[CV] END algorithm=kd_tree, n_neighbors=7, p=2, weights=uniform; total time=   0.0s\n",
            "[CV] END algorithm=kd_tree, n_neighbors=7, p=2, weights=uniform; total time=   0.0s\n",
            "[CV] END algorithm=kd_tree, n_neighbors=7, p=2, weights=uniform; total time=   0.0s\n",
            "[CV] END algorithm=kd_tree, n_neighbors=7, p=2, weights=uniform; total time=   0.0s\n",
            "[CV] END algorithm=kd_tree, n_neighbors=7, p=2, weights=uniform; total time=   0.0s\n",
            "[CV] END algorithm=kd_tree, n_neighbors=7, p=2, weights=uniform; total time=   0.0s\n",
            "[CV] END algorithm=kd_tree, n_neighbors=7, p=2, weights=uniform; total time=   0.0s\n",
            "[CV] END algorithm=kd_tree, n_neighbors=7, p=2, weights=distance; total time=   0.0s\n",
            "[CV] END algorithm=kd_tree, n_neighbors=7, p=2, weights=distance; total time=   0.0s\n",
            "[CV] END algorithm=kd_tree, n_neighbors=7, p=2, weights=distance; total time=   0.0s\n",
            "[CV] END algorithm=kd_tree, n_neighbors=7, p=2, weights=distance; total time=   0.0s\n",
            "[CV] END algorithm=kd_tree, n_neighbors=7, p=2, weights=distance; total time=   0.0s\n",
            "[CV] END algorithm=kd_tree, n_neighbors=7, p=2, weights=distance; total time=   0.0s\n",
            "[CV] END algorithm=kd_tree, n_neighbors=7, p=2, weights=distance; total time=   0.0s\n",
            "[CV] END algorithm=kd_tree, n_neighbors=7, p=2, weights=distance; total time=   0.0s\n",
            "[CV] END algorithm=kd_tree, n_neighbors=8, p=1, weights=uniform; total time=   0.0s\n",
            "[CV] END algorithm=kd_tree, n_neighbors=8, p=1, weights=uniform; total time=   0.0s\n",
            "[CV] END algorithm=kd_tree, n_neighbors=8, p=1, weights=uniform; total time=   0.0s\n",
            "[CV] END algorithm=kd_tree, n_neighbors=8, p=1, weights=uniform; total time=   0.0s\n",
            "[CV] END algorithm=kd_tree, n_neighbors=8, p=1, weights=uniform; total time=   0.0s\n",
            "[CV] END algorithm=kd_tree, n_neighbors=8, p=1, weights=uniform; total time=   0.0s\n",
            "[CV] END algorithm=kd_tree, n_neighbors=8, p=1, weights=uniform; total time=   0.0s\n",
            "[CV] END algorithm=kd_tree, n_neighbors=8, p=1, weights=uniform; total time=   0.0s\n",
            "[CV] END algorithm=kd_tree, n_neighbors=8, p=1, weights=distance; total time=   0.0s\n",
            "[CV] END algorithm=kd_tree, n_neighbors=8, p=1, weights=distance; total time=   0.0s\n",
            "[CV] END algorithm=kd_tree, n_neighbors=8, p=1, weights=distance; total time=   0.0s\n",
            "[CV] END algorithm=kd_tree, n_neighbors=8, p=1, weights=distance; total time=   0.0s\n",
            "[CV] END algorithm=kd_tree, n_neighbors=8, p=1, weights=distance; total time=   0.0s\n",
            "[CV] END algorithm=kd_tree, n_neighbors=8, p=1, weights=distance; total time=   0.0s\n",
            "[CV] END algorithm=kd_tree, n_neighbors=8, p=1, weights=distance; total time=   0.0s\n",
            "[CV] END algorithm=kd_tree, n_neighbors=8, p=1, weights=distance; total time=   0.0s\n",
            "[CV] END algorithm=kd_tree, n_neighbors=8, p=2, weights=uniform; total time=   0.0s\n",
            "[CV] END algorithm=kd_tree, n_neighbors=8, p=2, weights=uniform; total time=   0.0s\n",
            "[CV] END algorithm=kd_tree, n_neighbors=8, p=2, weights=uniform; total time=   0.0s\n",
            "[CV] END algorithm=kd_tree, n_neighbors=8, p=2, weights=uniform; total time=   0.0s\n",
            "[CV] END algorithm=kd_tree, n_neighbors=8, p=2, weights=uniform; total time=   0.0s\n",
            "[CV] END algorithm=kd_tree, n_neighbors=8, p=2, weights=uniform; total time=   0.0s\n",
            "[CV] END algorithm=kd_tree, n_neighbors=8, p=2, weights=uniform; total time=   0.0s\n",
            "[CV] END algorithm=kd_tree, n_neighbors=8, p=2, weights=uniform; total time=   0.0s\n",
            "[CV] END algorithm=kd_tree, n_neighbors=8, p=2, weights=distance; total time=   0.0s\n",
            "[CV] END algorithm=kd_tree, n_neighbors=8, p=2, weights=distance; total time=   0.0s\n",
            "[CV] END algorithm=kd_tree, n_neighbors=8, p=2, weights=distance; total time=   0.0s\n",
            "[CV] END algorithm=kd_tree, n_neighbors=8, p=2, weights=distance; total time=   0.0s\n",
            "[CV] END algorithm=kd_tree, n_neighbors=8, p=2, weights=distance; total time=   0.0s\n",
            "[CV] END algorithm=kd_tree, n_neighbors=8, p=2, weights=distance; total time=   0.0s\n",
            "[CV] END algorithm=kd_tree, n_neighbors=8, p=2, weights=distance; total time=   0.0s\n",
            "[CV] END algorithm=kd_tree, n_neighbors=8, p=2, weights=distance; total time=   0.0s\n",
            "[CV] END algorithm=kd_tree, n_neighbors=9, p=1, weights=uniform; total time=   0.0s\n",
            "[CV] END algorithm=kd_tree, n_neighbors=9, p=1, weights=uniform; total time=   0.0s\n",
            "[CV] END algorithm=kd_tree, n_neighbors=9, p=1, weights=uniform; total time=   0.0s\n",
            "[CV] END algorithm=kd_tree, n_neighbors=9, p=1, weights=uniform; total time=   0.0s\n",
            "[CV] END algorithm=kd_tree, n_neighbors=9, p=1, weights=uniform; total time=   0.0s\n",
            "[CV] END algorithm=kd_tree, n_neighbors=9, p=1, weights=uniform; total time=   0.0s\n",
            "[CV] END algorithm=kd_tree, n_neighbors=9, p=1, weights=uniform; total time=   0.0s\n",
            "[CV] END algorithm=kd_tree, n_neighbors=9, p=1, weights=uniform; total time=   0.0s\n",
            "[CV] END algorithm=kd_tree, n_neighbors=9, p=1, weights=distance; total time=   0.0s\n",
            "[CV] END algorithm=kd_tree, n_neighbors=9, p=1, weights=distance; total time=   0.0s\n",
            "[CV] END algorithm=kd_tree, n_neighbors=9, p=1, weights=distance; total time=   0.0s\n",
            "[CV] END algorithm=kd_tree, n_neighbors=9, p=1, weights=distance; total time=   0.0s\n",
            "[CV] END algorithm=kd_tree, n_neighbors=9, p=1, weights=distance; total time=   0.0s\n",
            "[CV] END algorithm=kd_tree, n_neighbors=9, p=1, weights=distance; total time=   0.0s\n",
            "[CV] END algorithm=kd_tree, n_neighbors=9, p=1, weights=distance; total time=   0.0s\n",
            "[CV] END algorithm=kd_tree, n_neighbors=9, p=1, weights=distance; total time=   0.0s\n",
            "[CV] END algorithm=kd_tree, n_neighbors=9, p=2, weights=uniform; total time=   0.0s\n",
            "[CV] END algorithm=kd_tree, n_neighbors=9, p=2, weights=uniform; total time=   0.0s\n",
            "[CV] END algorithm=kd_tree, n_neighbors=9, p=2, weights=uniform; total time=   0.0s\n",
            "[CV] END algorithm=kd_tree, n_neighbors=9, p=2, weights=uniform; total time=   0.0s\n",
            "[CV] END algorithm=kd_tree, n_neighbors=9, p=2, weights=uniform; total time=   0.0s\n",
            "[CV] END algorithm=kd_tree, n_neighbors=9, p=2, weights=uniform; total time=   0.0s\n",
            "[CV] END algorithm=kd_tree, n_neighbors=9, p=2, weights=uniform; total time=   0.0s\n",
            "[CV] END algorithm=kd_tree, n_neighbors=9, p=2, weights=uniform; total time=   0.0s\n",
            "[CV] END algorithm=kd_tree, n_neighbors=9, p=2, weights=distance; total time=   0.0s\n",
            "[CV] END algorithm=kd_tree, n_neighbors=9, p=2, weights=distance; total time=   0.0s\n",
            "[CV] END algorithm=kd_tree, n_neighbors=9, p=2, weights=distance; total time=   0.0s\n",
            "[CV] END algorithm=kd_tree, n_neighbors=9, p=2, weights=distance; total time=   0.0s\n",
            "[CV] END algorithm=kd_tree, n_neighbors=9, p=2, weights=distance; total time=   0.0s\n",
            "[CV] END algorithm=kd_tree, n_neighbors=9, p=2, weights=distance; total time=   0.0s\n",
            "[CV] END algorithm=kd_tree, n_neighbors=9, p=2, weights=distance; total time=   0.0s\n",
            "[CV] END algorithm=kd_tree, n_neighbors=9, p=2, weights=distance; total time=   0.0s\n",
            "[CV] END algorithm=kd_tree, n_neighbors=10, p=1, weights=uniform; total time=   0.0s\n",
            "[CV] END algorithm=kd_tree, n_neighbors=10, p=1, weights=uniform; total time=   0.0s\n",
            "[CV] END algorithm=kd_tree, n_neighbors=10, p=1, weights=uniform; total time=   0.0s\n",
            "[CV] END algorithm=kd_tree, n_neighbors=10, p=1, weights=uniform; total time=   0.0s\n",
            "[CV] END algorithm=kd_tree, n_neighbors=10, p=1, weights=uniform; total time=   0.0s\n",
            "[CV] END algorithm=kd_tree, n_neighbors=10, p=1, weights=uniform; total time=   0.0s\n",
            "[CV] END algorithm=kd_tree, n_neighbors=10, p=1, weights=uniform; total time=   0.0s\n",
            "[CV] END algorithm=kd_tree, n_neighbors=10, p=1, weights=uniform; total time=   0.0s\n",
            "[CV] END algorithm=kd_tree, n_neighbors=10, p=1, weights=distance; total time=   0.0s\n",
            "[CV] END algorithm=kd_tree, n_neighbors=10, p=1, weights=distance; total time=   0.0s\n",
            "[CV] END algorithm=kd_tree, n_neighbors=10, p=1, weights=distance; total time=   0.0s\n",
            "[CV] END algorithm=kd_tree, n_neighbors=10, p=1, weights=distance; total time=   0.0s\n",
            "[CV] END algorithm=kd_tree, n_neighbors=10, p=1, weights=distance; total time=   0.0s\n",
            "[CV] END algorithm=kd_tree, n_neighbors=10, p=1, weights=distance; total time=   0.0s\n",
            "[CV] END algorithm=kd_tree, n_neighbors=10, p=1, weights=distance; total time=   0.0s\n",
            "[CV] END algorithm=kd_tree, n_neighbors=10, p=1, weights=distance; total time=   0.0s\n",
            "[CV] END algorithm=kd_tree, n_neighbors=10, p=2, weights=uniform; total time=   0.0s\n",
            "[CV] END algorithm=kd_tree, n_neighbors=10, p=2, weights=uniform; total time=   0.0s\n",
            "[CV] END algorithm=kd_tree, n_neighbors=10, p=2, weights=uniform; total time=   0.0s\n",
            "[CV] END algorithm=kd_tree, n_neighbors=10, p=2, weights=uniform; total time=   0.0s\n",
            "[CV] END algorithm=kd_tree, n_neighbors=10, p=2, weights=uniform; total time=   0.0s\n",
            "[CV] END algorithm=kd_tree, n_neighbors=10, p=2, weights=uniform; total time=   0.0s\n",
            "[CV] END algorithm=kd_tree, n_neighbors=10, p=2, weights=uniform; total time=   0.0s\n",
            "[CV] END algorithm=kd_tree, n_neighbors=10, p=2, weights=uniform; total time=   0.0s\n",
            "[CV] END algorithm=kd_tree, n_neighbors=10, p=2, weights=distance; total time=   0.0s\n",
            "[CV] END algorithm=kd_tree, n_neighbors=10, p=2, weights=distance; total time=   0.0s\n",
            "[CV] END algorithm=kd_tree, n_neighbors=10, p=2, weights=distance; total time=   0.0s\n",
            "[CV] END algorithm=kd_tree, n_neighbors=10, p=2, weights=distance; total time=   0.0s\n",
            "[CV] END algorithm=kd_tree, n_neighbors=10, p=2, weights=distance; total time=   0.0s\n",
            "[CV] END algorithm=kd_tree, n_neighbors=10, p=2, weights=distance; total time=   0.0s\n",
            "[CV] END algorithm=kd_tree, n_neighbors=10, p=2, weights=distance; total time=   0.0s\n",
            "[CV] END algorithm=kd_tree, n_neighbors=10, p=2, weights=distance; total time=   0.0s\n",
            "[CV] END algorithm=brute, n_neighbors=1, p=1, weights=uniform; total time=   0.0s\n",
            "[CV] END algorithm=brute, n_neighbors=1, p=1, weights=uniform; total time=   0.0s\n",
            "[CV] END algorithm=brute, n_neighbors=1, p=1, weights=uniform; total time=   0.0s\n",
            "[CV] END algorithm=brute, n_neighbors=1, p=1, weights=uniform; total time=   0.0s\n",
            "[CV] END algorithm=brute, n_neighbors=1, p=1, weights=uniform; total time=   0.0s\n",
            "[CV] END algorithm=brute, n_neighbors=1, p=1, weights=uniform; total time=   0.0s\n",
            "[CV] END algorithm=brute, n_neighbors=1, p=1, weights=uniform; total time=   0.0s\n",
            "[CV] END algorithm=brute, n_neighbors=1, p=1, weights=uniform; total time=   0.0s\n",
            "[CV] END algorithm=brute, n_neighbors=1, p=1, weights=distance; total time=   0.0s\n",
            "[CV] END algorithm=brute, n_neighbors=1, p=1, weights=distance; total time=   0.0s\n",
            "[CV] END algorithm=brute, n_neighbors=1, p=1, weights=distance; total time=   0.0s\n",
            "[CV] END algorithm=brute, n_neighbors=1, p=1, weights=distance; total time=   0.0s\n",
            "[CV] END algorithm=brute, n_neighbors=1, p=1, weights=distance; total time=   0.0s\n",
            "[CV] END algorithm=brute, n_neighbors=1, p=1, weights=distance; total time=   0.0s\n",
            "[CV] END algorithm=brute, n_neighbors=1, p=1, weights=distance; total time=   0.0s\n",
            "[CV] END algorithm=brute, n_neighbors=1, p=1, weights=distance; total time=   0.0s\n",
            "[CV] END algorithm=brute, n_neighbors=1, p=2, weights=uniform; total time=   0.0s\n",
            "[CV] END algorithm=brute, n_neighbors=1, p=2, weights=uniform; total time=   0.0s\n",
            "[CV] END algorithm=brute, n_neighbors=1, p=2, weights=uniform; total time=   0.0s\n",
            "[CV] END algorithm=brute, n_neighbors=1, p=2, weights=uniform; total time=   0.0s\n",
            "[CV] END algorithm=brute, n_neighbors=1, p=2, weights=uniform; total time=   0.0s\n",
            "[CV] END algorithm=brute, n_neighbors=1, p=2, weights=uniform; total time=   0.0s\n",
            "[CV] END algorithm=brute, n_neighbors=1, p=2, weights=uniform; total time=   0.0s\n",
            "[CV] END algorithm=brute, n_neighbors=1, p=2, weights=uniform; total time=   0.0s\n",
            "[CV] END algorithm=brute, n_neighbors=1, p=2, weights=distance; total time=   0.0s\n",
            "[CV] END algorithm=brute, n_neighbors=1, p=2, weights=distance; total time=   0.0s\n",
            "[CV] END algorithm=brute, n_neighbors=1, p=2, weights=distance; total time=   0.0s\n",
            "[CV] END algorithm=brute, n_neighbors=1, p=2, weights=distance; total time=   0.0s\n",
            "[CV] END algorithm=brute, n_neighbors=1, p=2, weights=distance; total time=   0.0s\n",
            "[CV] END algorithm=brute, n_neighbors=1, p=2, weights=distance; total time=   0.0s\n",
            "[CV] END algorithm=brute, n_neighbors=1, p=2, weights=distance; total time=   0.0s\n",
            "[CV] END algorithm=brute, n_neighbors=1, p=2, weights=distance; total time=   0.0s\n",
            "[CV] END algorithm=brute, n_neighbors=2, p=1, weights=uniform; total time=   0.0s\n",
            "[CV] END algorithm=brute, n_neighbors=2, p=1, weights=uniform; total time=   0.0s\n",
            "[CV] END algorithm=brute, n_neighbors=2, p=1, weights=uniform; total time=   0.0s\n",
            "[CV] END algorithm=brute, n_neighbors=2, p=1, weights=uniform; total time=   0.0s\n",
            "[CV] END algorithm=brute, n_neighbors=2, p=1, weights=uniform; total time=   0.0s\n",
            "[CV] END algorithm=brute, n_neighbors=2, p=1, weights=uniform; total time=   0.0s\n",
            "[CV] END algorithm=brute, n_neighbors=2, p=1, weights=uniform; total time=   0.0s\n",
            "[CV] END algorithm=brute, n_neighbors=2, p=1, weights=uniform; total time=   0.0s\n",
            "[CV] END algorithm=brute, n_neighbors=2, p=1, weights=distance; total time=   0.0s\n",
            "[CV] END algorithm=brute, n_neighbors=2, p=1, weights=distance; total time=   0.0s\n",
            "[CV] END algorithm=brute, n_neighbors=2, p=1, weights=distance; total time=   0.0s\n",
            "[CV] END algorithm=brute, n_neighbors=2, p=1, weights=distance; total time=   0.0s\n",
            "[CV] END algorithm=brute, n_neighbors=2, p=1, weights=distance; total time=   0.0s\n",
            "[CV] END algorithm=brute, n_neighbors=2, p=1, weights=distance; total time=   0.0s\n",
            "[CV] END algorithm=brute, n_neighbors=2, p=1, weights=distance; total time=   0.0s\n",
            "[CV] END algorithm=brute, n_neighbors=2, p=1, weights=distance; total time=   0.0s\n",
            "[CV] END algorithm=brute, n_neighbors=2, p=2, weights=uniform; total time=   0.0s\n",
            "[CV] END algorithm=brute, n_neighbors=2, p=2, weights=uniform; total time=   0.0s\n",
            "[CV] END algorithm=brute, n_neighbors=2, p=2, weights=uniform; total time=   0.0s\n",
            "[CV] END algorithm=brute, n_neighbors=2, p=2, weights=uniform; total time=   0.0s\n",
            "[CV] END algorithm=brute, n_neighbors=2, p=2, weights=uniform; total time=   0.0s\n",
            "[CV] END algorithm=brute, n_neighbors=2, p=2, weights=uniform; total time=   0.0s\n",
            "[CV] END algorithm=brute, n_neighbors=2, p=2, weights=uniform; total time=   0.0s\n",
            "[CV] END algorithm=brute, n_neighbors=2, p=2, weights=uniform; total time=   0.0s\n",
            "[CV] END algorithm=brute, n_neighbors=2, p=2, weights=distance; total time=   0.0s\n",
            "[CV] END algorithm=brute, n_neighbors=2, p=2, weights=distance; total time=   0.0s\n",
            "[CV] END algorithm=brute, n_neighbors=2, p=2, weights=distance; total time=   0.0s\n",
            "[CV] END algorithm=brute, n_neighbors=2, p=2, weights=distance; total time=   0.0s\n",
            "[CV] END algorithm=brute, n_neighbors=2, p=2, weights=distance; total time=   0.0s\n",
            "[CV] END algorithm=brute, n_neighbors=2, p=2, weights=distance; total time=   0.0s\n",
            "[CV] END algorithm=brute, n_neighbors=2, p=2, weights=distance; total time=   0.0s\n",
            "[CV] END algorithm=brute, n_neighbors=2, p=2, weights=distance; total time=   0.0s\n",
            "[CV] END algorithm=brute, n_neighbors=3, p=1, weights=uniform; total time=   0.0s\n",
            "[CV] END algorithm=brute, n_neighbors=3, p=1, weights=uniform; total time=   0.0s\n",
            "[CV] END algorithm=brute, n_neighbors=3, p=1, weights=uniform; total time=   0.0s\n",
            "[CV] END algorithm=brute, n_neighbors=3, p=1, weights=uniform; total time=   0.0s\n",
            "[CV] END algorithm=brute, n_neighbors=3, p=1, weights=uniform; total time=   0.0s\n",
            "[CV] END algorithm=brute, n_neighbors=3, p=1, weights=uniform; total time=   0.0s\n",
            "[CV] END algorithm=brute, n_neighbors=3, p=1, weights=uniform; total time=   0.0s\n",
            "[CV] END algorithm=brute, n_neighbors=3, p=1, weights=uniform; total time=   0.0s\n",
            "[CV] END algorithm=brute, n_neighbors=3, p=1, weights=distance; total time=   0.0s\n",
            "[CV] END algorithm=brute, n_neighbors=3, p=1, weights=distance; total time=   0.0s\n",
            "[CV] END algorithm=brute, n_neighbors=3, p=1, weights=distance; total time=   0.0s\n",
            "[CV] END algorithm=brute, n_neighbors=3, p=1, weights=distance; total time=   0.0s\n",
            "[CV] END algorithm=brute, n_neighbors=3, p=1, weights=distance; total time=   0.0s\n",
            "[CV] END algorithm=brute, n_neighbors=3, p=1, weights=distance; total time=   0.0s\n",
            "[CV] END algorithm=brute, n_neighbors=3, p=1, weights=distance; total time=   0.0s\n",
            "[CV] END algorithm=brute, n_neighbors=3, p=1, weights=distance; total time=   0.0s\n",
            "[CV] END algorithm=brute, n_neighbors=3, p=2, weights=uniform; total time=   0.0s\n",
            "[CV] END algorithm=brute, n_neighbors=3, p=2, weights=uniform; total time=   0.0s\n",
            "[CV] END algorithm=brute, n_neighbors=3, p=2, weights=uniform; total time=   0.0s\n",
            "[CV] END algorithm=brute, n_neighbors=3, p=2, weights=uniform; total time=   0.0s\n",
            "[CV] END algorithm=brute, n_neighbors=3, p=2, weights=uniform; total time=   0.0s\n",
            "[CV] END algorithm=brute, n_neighbors=3, p=2, weights=uniform; total time=   0.0s\n",
            "[CV] END algorithm=brute, n_neighbors=3, p=2, weights=uniform; total time=   0.0s\n",
            "[CV] END algorithm=brute, n_neighbors=3, p=2, weights=uniform; total time=   0.0s\n",
            "[CV] END algorithm=brute, n_neighbors=3, p=2, weights=distance; total time=   0.0s\n",
            "[CV] END algorithm=brute, n_neighbors=3, p=2, weights=distance; total time=   0.0s\n",
            "[CV] END algorithm=brute, n_neighbors=3, p=2, weights=distance; total time=   0.0s\n",
            "[CV] END algorithm=brute, n_neighbors=3, p=2, weights=distance; total time=   0.0s\n",
            "[CV] END algorithm=brute, n_neighbors=3, p=2, weights=distance; total time=   0.0s\n",
            "[CV] END algorithm=brute, n_neighbors=3, p=2, weights=distance; total time=   0.0s\n",
            "[CV] END algorithm=brute, n_neighbors=3, p=2, weights=distance; total time=   0.0s\n",
            "[CV] END algorithm=brute, n_neighbors=3, p=2, weights=distance; total time=   0.0s\n",
            "[CV] END algorithm=brute, n_neighbors=4, p=1, weights=uniform; total time=   0.0s\n",
            "[CV] END algorithm=brute, n_neighbors=4, p=1, weights=uniform; total time=   0.0s\n",
            "[CV] END algorithm=brute, n_neighbors=4, p=1, weights=uniform; total time=   0.0s\n",
            "[CV] END algorithm=brute, n_neighbors=4, p=1, weights=uniform; total time=   0.0s\n",
            "[CV] END algorithm=brute, n_neighbors=4, p=1, weights=uniform; total time=   0.0s\n",
            "[CV] END algorithm=brute, n_neighbors=4, p=1, weights=uniform; total time=   0.0s\n",
            "[CV] END algorithm=brute, n_neighbors=4, p=1, weights=uniform; total time=   0.0s\n",
            "[CV] END algorithm=brute, n_neighbors=4, p=1, weights=uniform; total time=   0.0s\n",
            "[CV] END algorithm=brute, n_neighbors=4, p=1, weights=distance; total time=   0.0s\n",
            "[CV] END algorithm=brute, n_neighbors=4, p=1, weights=distance; total time=   0.0s\n",
            "[CV] END algorithm=brute, n_neighbors=4, p=1, weights=distance; total time=   0.0s\n",
            "[CV] END algorithm=brute, n_neighbors=4, p=1, weights=distance; total time=   0.0s\n",
            "[CV] END algorithm=brute, n_neighbors=4, p=1, weights=distance; total time=   0.0s\n",
            "[CV] END algorithm=brute, n_neighbors=4, p=1, weights=distance; total time=   0.0s\n",
            "[CV] END algorithm=brute, n_neighbors=4, p=1, weights=distance; total time=   0.0s\n",
            "[CV] END algorithm=brute, n_neighbors=4, p=1, weights=distance; total time=   0.0s\n",
            "[CV] END algorithm=brute, n_neighbors=4, p=2, weights=uniform; total time=   0.0s\n",
            "[CV] END algorithm=brute, n_neighbors=4, p=2, weights=uniform; total time=   0.0s\n",
            "[CV] END algorithm=brute, n_neighbors=4, p=2, weights=uniform; total time=   0.0s\n",
            "[CV] END algorithm=brute, n_neighbors=4, p=2, weights=uniform; total time=   0.0s\n",
            "[CV] END algorithm=brute, n_neighbors=4, p=2, weights=uniform; total time=   0.0s\n",
            "[CV] END algorithm=brute, n_neighbors=4, p=2, weights=uniform; total time=   0.0s\n",
            "[CV] END algorithm=brute, n_neighbors=4, p=2, weights=uniform; total time=   0.0s\n",
            "[CV] END algorithm=brute, n_neighbors=4, p=2, weights=uniform; total time=   0.0s\n",
            "[CV] END algorithm=brute, n_neighbors=4, p=2, weights=distance; total time=   0.0s\n",
            "[CV] END algorithm=brute, n_neighbors=4, p=2, weights=distance; total time=   0.0s\n",
            "[CV] END algorithm=brute, n_neighbors=4, p=2, weights=distance; total time=   0.0s\n",
            "[CV] END algorithm=brute, n_neighbors=4, p=2, weights=distance; total time=   0.0s\n",
            "[CV] END algorithm=brute, n_neighbors=4, p=2, weights=distance; total time=   0.0s\n",
            "[CV] END algorithm=brute, n_neighbors=4, p=2, weights=distance; total time=   0.0s\n",
            "[CV] END algorithm=brute, n_neighbors=4, p=2, weights=distance; total time=   0.0s\n",
            "[CV] END algorithm=brute, n_neighbors=4, p=2, weights=distance; total time=   0.0s\n",
            "[CV] END algorithm=brute, n_neighbors=5, p=1, weights=uniform; total time=   0.0s\n",
            "[CV] END algorithm=brute, n_neighbors=5, p=1, weights=uniform; total time=   0.0s\n",
            "[CV] END algorithm=brute, n_neighbors=5, p=1, weights=uniform; total time=   0.0s\n",
            "[CV] END algorithm=brute, n_neighbors=5, p=1, weights=uniform; total time=   0.0s\n",
            "[CV] END algorithm=brute, n_neighbors=5, p=1, weights=uniform; total time=   0.0s\n",
            "[CV] END algorithm=brute, n_neighbors=5, p=1, weights=uniform; total time=   0.0s\n",
            "[CV] END algorithm=brute, n_neighbors=5, p=1, weights=uniform; total time=   0.0s\n",
            "[CV] END algorithm=brute, n_neighbors=5, p=1, weights=uniform; total time=   0.0s\n",
            "[CV] END algorithm=brute, n_neighbors=5, p=1, weights=distance; total time=   0.0s\n",
            "[CV] END algorithm=brute, n_neighbors=5, p=1, weights=distance; total time=   0.0s\n",
            "[CV] END algorithm=brute, n_neighbors=5, p=1, weights=distance; total time=   0.0s\n",
            "[CV] END algorithm=brute, n_neighbors=5, p=1, weights=distance; total time=   0.0s\n",
            "[CV] END algorithm=brute, n_neighbors=5, p=1, weights=distance; total time=   0.0s\n",
            "[CV] END algorithm=brute, n_neighbors=5, p=1, weights=distance; total time=   0.0s\n",
            "[CV] END algorithm=brute, n_neighbors=5, p=1, weights=distance; total time=   0.0s\n",
            "[CV] END algorithm=brute, n_neighbors=5, p=1, weights=distance; total time=   0.0s\n",
            "[CV] END algorithm=brute, n_neighbors=5, p=2, weights=uniform; total time=   0.0s\n",
            "[CV] END algorithm=brute, n_neighbors=5, p=2, weights=uniform; total time=   0.0s\n",
            "[CV] END algorithm=brute, n_neighbors=5, p=2, weights=uniform; total time=   0.0s\n",
            "[CV] END algorithm=brute, n_neighbors=5, p=2, weights=uniform; total time=   0.0s\n",
            "[CV] END algorithm=brute, n_neighbors=5, p=2, weights=uniform; total time=   0.0s\n",
            "[CV] END algorithm=brute, n_neighbors=5, p=2, weights=uniform; total time=   0.0s\n",
            "[CV] END algorithm=brute, n_neighbors=5, p=2, weights=uniform; total time=   0.0s\n",
            "[CV] END algorithm=brute, n_neighbors=5, p=2, weights=uniform; total time=   0.0s\n",
            "[CV] END algorithm=brute, n_neighbors=5, p=2, weights=distance; total time=   0.0s\n",
            "[CV] END algorithm=brute, n_neighbors=5, p=2, weights=distance; total time=   0.0s\n",
            "[CV] END algorithm=brute, n_neighbors=5, p=2, weights=distance; total time=   0.0s\n",
            "[CV] END algorithm=brute, n_neighbors=5, p=2, weights=distance; total time=   0.0s\n",
            "[CV] END algorithm=brute, n_neighbors=5, p=2, weights=distance; total time=   0.0s\n",
            "[CV] END algorithm=brute, n_neighbors=5, p=2, weights=distance; total time=   0.0s\n",
            "[CV] END algorithm=brute, n_neighbors=5, p=2, weights=distance; total time=   0.0s\n",
            "[CV] END algorithm=brute, n_neighbors=5, p=2, weights=distance; total time=   0.0s\n",
            "[CV] END algorithm=brute, n_neighbors=6, p=1, weights=uniform; total time=   0.0s\n",
            "[CV] END algorithm=brute, n_neighbors=6, p=1, weights=uniform; total time=   0.0s\n",
            "[CV] END algorithm=brute, n_neighbors=6, p=1, weights=uniform; total time=   0.0s\n",
            "[CV] END algorithm=brute, n_neighbors=6, p=1, weights=uniform; total time=   0.0s\n",
            "[CV] END algorithm=brute, n_neighbors=6, p=1, weights=uniform; total time=   0.0s\n",
            "[CV] END algorithm=brute, n_neighbors=6, p=1, weights=uniform; total time=   0.0s\n",
            "[CV] END algorithm=brute, n_neighbors=6, p=1, weights=uniform; total time=   0.0s\n",
            "[CV] END algorithm=brute, n_neighbors=6, p=1, weights=uniform; total time=   0.0s\n",
            "[CV] END algorithm=brute, n_neighbors=6, p=1, weights=distance; total time=   0.0s\n",
            "[CV] END algorithm=brute, n_neighbors=6, p=1, weights=distance; total time=   0.0s\n",
            "[CV] END algorithm=brute, n_neighbors=6, p=1, weights=distance; total time=   0.0s\n",
            "[CV] END algorithm=brute, n_neighbors=6, p=1, weights=distance; total time=   0.0s\n",
            "[CV] END algorithm=brute, n_neighbors=6, p=1, weights=distance; total time=   0.0s\n",
            "[CV] END algorithm=brute, n_neighbors=6, p=1, weights=distance; total time=   0.0s\n",
            "[CV] END algorithm=brute, n_neighbors=6, p=1, weights=distance; total time=   0.0s\n",
            "[CV] END algorithm=brute, n_neighbors=6, p=1, weights=distance; total time=   0.0s\n",
            "[CV] END algorithm=brute, n_neighbors=6, p=2, weights=uniform; total time=   0.0s\n",
            "[CV] END algorithm=brute, n_neighbors=6, p=2, weights=uniform; total time=   0.0s\n",
            "[CV] END algorithm=brute, n_neighbors=6, p=2, weights=uniform; total time=   0.0s\n",
            "[CV] END algorithm=brute, n_neighbors=6, p=2, weights=uniform; total time=   0.0s\n",
            "[CV] END algorithm=brute, n_neighbors=6, p=2, weights=uniform; total time=   0.0s\n",
            "[CV] END algorithm=brute, n_neighbors=6, p=2, weights=uniform; total time=   0.0s\n",
            "[CV] END algorithm=brute, n_neighbors=6, p=2, weights=uniform; total time=   0.0s\n",
            "[CV] END algorithm=brute, n_neighbors=6, p=2, weights=uniform; total time=   0.0s\n",
            "[CV] END algorithm=brute, n_neighbors=6, p=2, weights=distance; total time=   0.0s\n",
            "[CV] END algorithm=brute, n_neighbors=6, p=2, weights=distance; total time=   0.0s\n",
            "[CV] END algorithm=brute, n_neighbors=6, p=2, weights=distance; total time=   0.0s\n",
            "[CV] END algorithm=brute, n_neighbors=6, p=2, weights=distance; total time=   0.0s\n",
            "[CV] END algorithm=brute, n_neighbors=6, p=2, weights=distance; total time=   0.0s\n",
            "[CV] END algorithm=brute, n_neighbors=6, p=2, weights=distance; total time=   0.0s\n",
            "[CV] END algorithm=brute, n_neighbors=6, p=2, weights=distance; total time=   0.0s\n",
            "[CV] END algorithm=brute, n_neighbors=6, p=2, weights=distance; total time=   0.0s\n",
            "[CV] END algorithm=brute, n_neighbors=7, p=1, weights=uniform; total time=   0.0s\n",
            "[CV] END algorithm=brute, n_neighbors=7, p=1, weights=uniform; total time=   0.0s\n",
            "[CV] END algorithm=brute, n_neighbors=7, p=1, weights=uniform; total time=   0.0s\n",
            "[CV] END algorithm=brute, n_neighbors=7, p=1, weights=uniform; total time=   0.0s\n",
            "[CV] END algorithm=brute, n_neighbors=7, p=1, weights=uniform; total time=   0.0s\n",
            "[CV] END algorithm=brute, n_neighbors=7, p=1, weights=uniform; total time=   0.0s\n",
            "[CV] END algorithm=brute, n_neighbors=7, p=1, weights=uniform; total time=   0.0s\n",
            "[CV] END algorithm=brute, n_neighbors=7, p=1, weights=uniform; total time=   0.0s\n",
            "[CV] END algorithm=brute, n_neighbors=7, p=1, weights=distance; total time=   0.0s\n",
            "[CV] END algorithm=brute, n_neighbors=7, p=1, weights=distance; total time=   0.0s\n",
            "[CV] END algorithm=brute, n_neighbors=7, p=1, weights=distance; total time=   0.0s\n",
            "[CV] END algorithm=brute, n_neighbors=7, p=1, weights=distance; total time=   0.0s\n",
            "[CV] END algorithm=brute, n_neighbors=7, p=1, weights=distance; total time=   0.0s\n",
            "[CV] END algorithm=brute, n_neighbors=7, p=1, weights=distance; total time=   0.0s\n",
            "[CV] END algorithm=brute, n_neighbors=7, p=1, weights=distance; total time=   0.0s\n",
            "[CV] END algorithm=brute, n_neighbors=7, p=1, weights=distance; total time=   0.0s\n",
            "[CV] END algorithm=brute, n_neighbors=7, p=2, weights=uniform; total time=   0.0s\n",
            "[CV] END algorithm=brute, n_neighbors=7, p=2, weights=uniform; total time=   0.0s\n",
            "[CV] END algorithm=brute, n_neighbors=7, p=2, weights=uniform; total time=   0.0s\n",
            "[CV] END algorithm=brute, n_neighbors=7, p=2, weights=uniform; total time=   0.0s\n",
            "[CV] END algorithm=brute, n_neighbors=7, p=2, weights=uniform; total time=   0.0s\n",
            "[CV] END algorithm=brute, n_neighbors=7, p=2, weights=uniform; total time=   0.0s\n",
            "[CV] END algorithm=brute, n_neighbors=7, p=2, weights=uniform; total time=   0.0s\n",
            "[CV] END algorithm=brute, n_neighbors=7, p=2, weights=uniform; total time=   0.0s\n",
            "[CV] END algorithm=brute, n_neighbors=7, p=2, weights=distance; total time=   0.0s\n",
            "[CV] END algorithm=brute, n_neighbors=7, p=2, weights=distance; total time=   0.0s\n",
            "[CV] END algorithm=brute, n_neighbors=7, p=2, weights=distance; total time=   0.0s\n",
            "[CV] END algorithm=brute, n_neighbors=7, p=2, weights=distance; total time=   0.0s\n",
            "[CV] END algorithm=brute, n_neighbors=7, p=2, weights=distance; total time=   0.0s\n",
            "[CV] END algorithm=brute, n_neighbors=7, p=2, weights=distance; total time=   0.0s\n",
            "[CV] END algorithm=brute, n_neighbors=7, p=2, weights=distance; total time=   0.0s\n",
            "[CV] END algorithm=brute, n_neighbors=7, p=2, weights=distance; total time=   0.0s\n",
            "[CV] END algorithm=brute, n_neighbors=8, p=1, weights=uniform; total time=   0.0s\n",
            "[CV] END algorithm=brute, n_neighbors=8, p=1, weights=uniform; total time=   0.0s\n",
            "[CV] END algorithm=brute, n_neighbors=8, p=1, weights=uniform; total time=   0.0s\n",
            "[CV] END algorithm=brute, n_neighbors=8, p=1, weights=uniform; total time=   0.0s\n",
            "[CV] END algorithm=brute, n_neighbors=8, p=1, weights=uniform; total time=   0.0s\n",
            "[CV] END algorithm=brute, n_neighbors=8, p=1, weights=uniform; total time=   0.0s\n",
            "[CV] END algorithm=brute, n_neighbors=8, p=1, weights=uniform; total time=   0.0s\n",
            "[CV] END algorithm=brute, n_neighbors=8, p=1, weights=uniform; total time=   0.0s\n",
            "[CV] END algorithm=brute, n_neighbors=8, p=1, weights=distance; total time=   0.0s\n",
            "[CV] END algorithm=brute, n_neighbors=8, p=1, weights=distance; total time=   0.0s\n",
            "[CV] END algorithm=brute, n_neighbors=8, p=1, weights=distance; total time=   0.0s\n",
            "[CV] END algorithm=brute, n_neighbors=8, p=1, weights=distance; total time=   0.0s\n",
            "[CV] END algorithm=brute, n_neighbors=8, p=1, weights=distance; total time=   0.0s\n",
            "[CV] END algorithm=brute, n_neighbors=8, p=1, weights=distance; total time=   0.0s\n",
            "[CV] END algorithm=brute, n_neighbors=8, p=1, weights=distance; total time=   0.0s\n",
            "[CV] END algorithm=brute, n_neighbors=8, p=1, weights=distance; total time=   0.0s\n",
            "[CV] END algorithm=brute, n_neighbors=8, p=2, weights=uniform; total time=   0.0s\n",
            "[CV] END algorithm=brute, n_neighbors=8, p=2, weights=uniform; total time=   0.0s\n",
            "[CV] END algorithm=brute, n_neighbors=8, p=2, weights=uniform; total time=   0.0s\n",
            "[CV] END algorithm=brute, n_neighbors=8, p=2, weights=uniform; total time=   0.0s\n",
            "[CV] END algorithm=brute, n_neighbors=8, p=2, weights=uniform; total time=   0.0s\n",
            "[CV] END algorithm=brute, n_neighbors=8, p=2, weights=uniform; total time=   0.0s\n",
            "[CV] END algorithm=brute, n_neighbors=8, p=2, weights=uniform; total time=   0.0s\n",
            "[CV] END algorithm=brute, n_neighbors=8, p=2, weights=uniform; total time=   0.0s\n",
            "[CV] END algorithm=brute, n_neighbors=8, p=2, weights=distance; total time=   0.0s\n",
            "[CV] END algorithm=brute, n_neighbors=8, p=2, weights=distance; total time=   0.0s\n",
            "[CV] END algorithm=brute, n_neighbors=8, p=2, weights=distance; total time=   0.0s\n",
            "[CV] END algorithm=brute, n_neighbors=8, p=2, weights=distance; total time=   0.0s\n",
            "[CV] END algorithm=brute, n_neighbors=8, p=2, weights=distance; total time=   0.0s\n",
            "[CV] END algorithm=brute, n_neighbors=8, p=2, weights=distance; total time=   0.0s\n",
            "[CV] END algorithm=brute, n_neighbors=8, p=2, weights=distance; total time=   0.0s\n",
            "[CV] END algorithm=brute, n_neighbors=8, p=2, weights=distance; total time=   0.0s\n",
            "[CV] END algorithm=brute, n_neighbors=9, p=1, weights=uniform; total time=   0.0s\n",
            "[CV] END algorithm=brute, n_neighbors=9, p=1, weights=uniform; total time=   0.0s\n",
            "[CV] END algorithm=brute, n_neighbors=9, p=1, weights=uniform; total time=   0.0s\n",
            "[CV] END algorithm=brute, n_neighbors=9, p=1, weights=uniform; total time=   0.0s\n",
            "[CV] END algorithm=brute, n_neighbors=9, p=1, weights=uniform; total time=   0.0s\n",
            "[CV] END algorithm=brute, n_neighbors=9, p=1, weights=uniform; total time=   0.0s\n",
            "[CV] END algorithm=brute, n_neighbors=9, p=1, weights=uniform; total time=   0.0s\n",
            "[CV] END algorithm=brute, n_neighbors=9, p=1, weights=uniform; total time=   0.0s\n",
            "[CV] END algorithm=brute, n_neighbors=9, p=1, weights=distance; total time=   0.0s\n",
            "[CV] END algorithm=brute, n_neighbors=9, p=1, weights=distance; total time=   0.0s\n",
            "[CV] END algorithm=brute, n_neighbors=9, p=1, weights=distance; total time=   0.0s\n",
            "[CV] END algorithm=brute, n_neighbors=9, p=1, weights=distance; total time=   0.0s\n",
            "[CV] END algorithm=brute, n_neighbors=9, p=1, weights=distance; total time=   0.0s\n",
            "[CV] END algorithm=brute, n_neighbors=9, p=1, weights=distance; total time=   0.0s\n",
            "[CV] END algorithm=brute, n_neighbors=9, p=1, weights=distance; total time=   0.0s\n",
            "[CV] END algorithm=brute, n_neighbors=9, p=1, weights=distance; total time=   0.0s\n",
            "[CV] END algorithm=brute, n_neighbors=9, p=2, weights=uniform; total time=   0.0s\n",
            "[CV] END algorithm=brute, n_neighbors=9, p=2, weights=uniform; total time=   0.0s\n",
            "[CV] END algorithm=brute, n_neighbors=9, p=2, weights=uniform; total time=   0.0s\n",
            "[CV] END algorithm=brute, n_neighbors=9, p=2, weights=uniform; total time=   0.0s\n",
            "[CV] END algorithm=brute, n_neighbors=9, p=2, weights=uniform; total time=   0.0s\n",
            "[CV] END algorithm=brute, n_neighbors=9, p=2, weights=uniform; total time=   0.0s\n",
            "[CV] END algorithm=brute, n_neighbors=9, p=2, weights=uniform; total time=   0.0s\n",
            "[CV] END algorithm=brute, n_neighbors=9, p=2, weights=uniform; total time=   0.0s\n",
            "[CV] END algorithm=brute, n_neighbors=9, p=2, weights=distance; total time=   0.0s\n",
            "[CV] END algorithm=brute, n_neighbors=9, p=2, weights=distance; total time=   0.0s\n",
            "[CV] END algorithm=brute, n_neighbors=9, p=2, weights=distance; total time=   0.0s\n",
            "[CV] END algorithm=brute, n_neighbors=9, p=2, weights=distance; total time=   0.0s\n",
            "[CV] END algorithm=brute, n_neighbors=9, p=2, weights=distance; total time=   0.0s\n",
            "[CV] END algorithm=brute, n_neighbors=9, p=2, weights=distance; total time=   0.0s\n",
            "[CV] END algorithm=brute, n_neighbors=9, p=2, weights=distance; total time=   0.0s\n",
            "[CV] END algorithm=brute, n_neighbors=9, p=2, weights=distance; total time=   0.0s\n",
            "[CV] END algorithm=brute, n_neighbors=10, p=1, weights=uniform; total time=   0.0s\n",
            "[CV] END algorithm=brute, n_neighbors=10, p=1, weights=uniform; total time=   0.0s\n",
            "[CV] END algorithm=brute, n_neighbors=10, p=1, weights=uniform; total time=   0.0s\n",
            "[CV] END algorithm=brute, n_neighbors=10, p=1, weights=uniform; total time=   0.0s\n",
            "[CV] END algorithm=brute, n_neighbors=10, p=1, weights=uniform; total time=   0.0s\n",
            "[CV] END algorithm=brute, n_neighbors=10, p=1, weights=uniform; total time=   0.0s\n",
            "[CV] END algorithm=brute, n_neighbors=10, p=1, weights=uniform; total time=   0.0s\n",
            "[CV] END algorithm=brute, n_neighbors=10, p=1, weights=uniform; total time=   0.0s\n",
            "[CV] END algorithm=brute, n_neighbors=10, p=1, weights=distance; total time=   0.0s\n",
            "[CV] END algorithm=brute, n_neighbors=10, p=1, weights=distance; total time=   0.0s\n",
            "[CV] END algorithm=brute, n_neighbors=10, p=1, weights=distance; total time=   0.0s\n",
            "[CV] END algorithm=brute, n_neighbors=10, p=1, weights=distance; total time=   0.0s\n",
            "[CV] END algorithm=brute, n_neighbors=10, p=1, weights=distance; total time=   0.0s\n",
            "[CV] END algorithm=brute, n_neighbors=10, p=1, weights=distance; total time=   0.0s\n",
            "[CV] END algorithm=brute, n_neighbors=10, p=1, weights=distance; total time=   0.0s\n",
            "[CV] END algorithm=brute, n_neighbors=10, p=1, weights=distance; total time=   0.0s\n",
            "[CV] END algorithm=brute, n_neighbors=10, p=2, weights=uniform; total time=   0.0s\n",
            "[CV] END algorithm=brute, n_neighbors=10, p=2, weights=uniform; total time=   0.0s\n",
            "[CV] END algorithm=brute, n_neighbors=10, p=2, weights=uniform; total time=   0.0s\n",
            "[CV] END algorithm=brute, n_neighbors=10, p=2, weights=uniform; total time=   0.0s\n",
            "[CV] END algorithm=brute, n_neighbors=10, p=2, weights=uniform; total time=   0.0s\n",
            "[CV] END algorithm=brute, n_neighbors=10, p=2, weights=uniform; total time=   0.0s\n",
            "[CV] END algorithm=brute, n_neighbors=10, p=2, weights=uniform; total time=   0.0s\n",
            "[CV] END algorithm=brute, n_neighbors=10, p=2, weights=uniform; total time=   0.0s\n",
            "[CV] END algorithm=brute, n_neighbors=10, p=2, weights=distance; total time=   0.0s\n",
            "[CV] END algorithm=brute, n_neighbors=10, p=2, weights=distance; total time=   0.0s\n",
            "[CV] END algorithm=brute, n_neighbors=10, p=2, weights=distance; total time=   0.0s\n",
            "[CV] END algorithm=brute, n_neighbors=10, p=2, weights=distance; total time=   0.0s\n",
            "[CV] END algorithm=brute, n_neighbors=10, p=2, weights=distance; total time=   0.0s\n",
            "[CV] END algorithm=brute, n_neighbors=10, p=2, weights=distance; total time=   0.0s\n",
            "[CV] END algorithm=brute, n_neighbors=10, p=2, weights=distance; total time=   0.0s\n",
            "[CV] END algorithm=brute, n_neighbors=10, p=2, weights=distance; total time=   0.0s\n"
          ]
        },
        {
          "output_type": "execute_result",
          "data": {
            "text/plain": [
              "GridSearchCV(cv=8, estimator=KNeighborsClassifier(),\n",
              "             param_grid={'algorithm': ['auto', 'ball_tree', 'kd_tree', 'brute'],\n",
              "                         'n_neighbors': [1, 2, 3, 4, 5, 6, 7, 8, 9, 10],\n",
              "                         'p': [1, 2], 'weights': ['uniform', 'distance']},\n",
              "             verbose=2)"
            ]
          },
          "metadata": {},
          "execution_count": 68
        }
      ]
    },
    {
      "cell_type": "code",
      "metadata": {
        "colab": {
          "base_uri": "https://localhost:8080/"
        },
        "id": "KQCbHR7gxlOE",
        "outputId": "6e220570-5ef5-4515-f83b-c867e1348032"
      },
      "source": [
        "# visualizando o melhor hiperparâmetro\n",
        "best_model.best_estimator_"
      ],
      "execution_count": 69,
      "outputs": [
        {
          "output_type": "execute_result",
          "data": {
            "text/plain": [
              "KNeighborsClassifier(n_neighbors=9, p=1)"
            ]
          },
          "metadata": {},
          "execution_count": 69
        }
      ]
    },
    {
      "cell_type": "markdown",
      "metadata": {
        "id": "-1MF0-7V4cau"
      },
      "source": [
        "#### 9. Exportação do modelo"
      ]
    },
    {
      "cell_type": "code",
      "metadata": {
        "id": "AZLxldVh4b4_"
      },
      "source": [
        "# salvando o modelo escolhido em um arquivo\n",
        "pickle.dump(best_model.best_estimator_, \n",
        "            open('modelo.sav', mode='wb'))  # \"wb\" - write binary"
      ],
      "execution_count": 70,
      "outputs": []
    },
    {
      "cell_type": "markdown",
      "metadata": {
        "id": "TNGVx9mV5o4s"
      },
      "source": [
        "#### 10. Reutilização do modelo"
      ]
    },
    {
      "cell_type": "code",
      "metadata": {
        "colab": {
          "base_uri": "https://localhost:8080/"
        },
        "id": "sRRbUgpm4b2T",
        "outputId": "74ea6808-e896-4860-abeb-dd7c1a67a460"
      },
      "source": [
        "# instanciando o modelo no objeto \"arquivo\"\n",
        "arquivo = open('modelo.sav', mode='rb')    # \"rb\" - read binary\n",
        "\n",
        "# realizando a leitura do modelo\n",
        "modelo = pickle.load(arquivo)\n",
        "print(modelo)   # visualizando o modelo"
      ],
      "execution_count": 71,
      "outputs": [
        {
          "output_type": "stream",
          "name": "stdout",
          "text": [
            "KNeighborsClassifier(n_neighbors=9, p=1)\n"
          ]
        }
      ]
    },
    {
      "cell_type": "code",
      "metadata": {
        "colab": {
          "base_uri": "https://localhost:8080/"
        },
        "id": "zODPUMK94bzp",
        "outputId": "7cd5190f-28d6-483f-d71b-2dd1c53cda1f"
      },
      "source": [
        "# realizando a predição com o modelo\n",
        "y_pred2 = modelo.predict(X_test)\n",
        "y_pred2  # visualizando as predições"
      ],
      "execution_count": 72,
      "outputs": [
        {
          "output_type": "execute_result",
          "data": {
            "text/plain": [
              "array([0, 0, 0, 0, 0, 0, 0, 0, 0, 1, 0, 0, 0, 0, 1, 1, 0, 1, 1, 0, 1, 0,\n",
              "       0, 0, 0, 1, 0, 1, 0, 1, 0, 1, 1, 1, 0, 0, 1, 0, 1, 0, 1, 0, 1, 0,\n",
              "       0, 0, 0, 0, 1, 1, 1, 0, 0, 1, 0, 0, 0, 1, 0, 0, 0, 0, 1, 0, 1, 1,\n",
              "       1, 0, 0, 0, 0, 0, 0, 0, 1, 0, 0, 1, 0, 1, 0, 0, 0, 0, 1, 0, 0, 1,\n",
              "       1, 1, 1, 0, 1, 0, 0, 0, 0, 1, 0, 1, 0, 0, 1, 1, 0, 0, 1, 0, 1, 1,\n",
              "       0, 0, 0, 1, 1, 0, 0, 0, 0, 1, 0, 0, 0, 1, 0, 0, 0, 0, 1, 0, 0, 1,\n",
              "       0, 1, 0, 1, 0, 0, 0, 0, 0, 0, 0, 1, 0, 1, 0, 0, 0, 0, 0, 0, 0, 0,\n",
              "       0, 0, 1, 0, 0, 0, 0, 1, 0, 0, 1, 0, 0, 1, 0, 1, 1, 1, 1, 0, 1, 1,\n",
              "       1, 0, 1, 0, 1, 0, 0, 1, 0, 1, 0, 0, 1, 1, 0, 0, 0, 0, 0, 0, 0, 0,\n",
              "       1, 1, 0, 0, 0, 0, 0, 0, 1, 0, 0, 0, 0, 1, 0, 1, 0, 1, 1, 0, 1, 0,\n",
              "       1, 0, 1, 0, 0, 0, 0, 0, 0, 0, 0, 0, 0, 0, 0, 1, 0, 0, 0, 0, 0, 0,\n",
              "       0, 0, 0, 0, 0, 0, 0, 0, 0, 0, 1, 1, 0, 0, 0, 1, 1, 1, 0, 1, 0, 0,\n",
              "       1, 0, 0, 0, 0, 0, 1, 0, 1, 0, 1, 1, 0, 0, 0, 0, 0, 0, 0, 0, 0, 1,\n",
              "       0, 1, 0, 0, 1, 0, 1, 1, 0, 0, 0, 1, 0, 0, 0, 0, 0, 1, 1, 0, 0, 0,\n",
              "       0, 0, 1, 0, 0, 0, 1, 0, 1, 1, 0, 1, 1, 0, 1, 1, 0, 0, 0, 1, 0, 1,\n",
              "       0, 0, 0, 1, 1, 0, 0, 1, 1, 0, 0, 0, 0, 0, 0, 1, 1, 0, 1, 1, 0, 1,\n",
              "       0, 0, 0, 0, 1, 0, 0, 1, 1, 0, 0, 0, 1, 1, 0, 0, 1, 1, 0, 1, 0, 0,\n",
              "       0, 1, 1, 0, 0, 0, 1, 0, 1, 0, 0, 0, 0, 0, 0, 0, 0, 0, 1])"
            ]
          },
          "metadata": {},
          "execution_count": 72
        }
      ]
    },
    {
      "cell_type": "code",
      "metadata": {
        "colab": {
          "base_uri": "https://localhost:8080/"
        },
        "id": "8jna9xTj4bw4",
        "outputId": "8d2291e7-5615-4e0d-be98-e2c00ed1e3a6"
      },
      "source": [
        "    # visualizando a acurácia do modelo\n",
        "    modelo.score(X_test, y_pred2)"
      ],
      "execution_count": 73,
      "outputs": [
        {
          "output_type": "execute_result",
          "data": {
            "text/plain": [
              "1.0"
            ]
          },
          "metadata": {},
          "execution_count": 73
        }
      ]
    },
    {
      "cell_type": "code",
      "metadata": {
        "id": "cBVkgzje6pa8",
        "colab": {
          "base_uri": "https://localhost:8080/"
        },
        "outputId": "2cbf2619-ffee-4bd5-aa74-d5738bad136e"
      },
      "source": [
        "# visualizando a versão do Python utilizado neste notebook\n",
        "from platform import python_version\n",
        "print(f'Versão Python: {python_version()}')"
      ],
      "execution_count": 74,
      "outputs": [
        {
          "output_type": "stream",
          "name": "stdout",
          "text": [
            "Versão Python: 3.7.12\n"
          ]
        }
      ]
    },
    {
      "cell_type": "code",
      "metadata": {
        "id": "Dj0vPFfz4buG",
        "colab": {
          "base_uri": "https://localhost:8080/"
        },
        "outputId": "6847bddf-1bf6-40dd-e29b-619f2878816e"
      },
      "source": [
        "# instalando a biblioteca \"watermark\"\n",
        "!pip install watermark \n",
        "# esse pacote é usado para gravar as versões dos pacotes usados neste notebook"
      ],
      "execution_count": 75,
      "outputs": [
        {
          "output_type": "stream",
          "name": "stdout",
          "text": [
            "Requirement already satisfied: watermark in /usr/local/lib/python3.7/dist-packages (2.3.0)\n",
            "Requirement already satisfied: importlib-metadata<3.0 in /usr/local/lib/python3.7/dist-packages (from watermark) (2.1.2)\n",
            "Requirement already satisfied: ipython in /usr/local/lib/python3.7/dist-packages (from watermark) (5.5.0)\n",
            "Requirement already satisfied: zipp>=0.5 in /usr/local/lib/python3.7/dist-packages (from importlib-metadata<3.0->watermark) (3.7.0)\n",
            "Requirement already satisfied: pickleshare in /usr/local/lib/python3.7/dist-packages (from ipython->watermark) (0.7.5)\n",
            "Requirement already satisfied: setuptools>=18.5 in /usr/local/lib/python3.7/dist-packages (from ipython->watermark) (57.4.0)\n",
            "Requirement already satisfied: prompt-toolkit<2.0.0,>=1.0.4 in /usr/local/lib/python3.7/dist-packages (from ipython->watermark) (1.0.18)\n",
            "Requirement already satisfied: traitlets>=4.2 in /usr/local/lib/python3.7/dist-packages (from ipython->watermark) (5.1.1)\n",
            "Requirement already satisfied: pygments in /usr/local/lib/python3.7/dist-packages (from ipython->watermark) (2.6.1)\n",
            "Requirement already satisfied: simplegeneric>0.8 in /usr/local/lib/python3.7/dist-packages (from ipython->watermark) (0.8.1)\n",
            "Requirement already satisfied: pexpect in /usr/local/lib/python3.7/dist-packages (from ipython->watermark) (4.8.0)\n",
            "Requirement already satisfied: decorator in /usr/local/lib/python3.7/dist-packages (from ipython->watermark) (4.4.2)\n",
            "Requirement already satisfied: six>=1.9.0 in /usr/local/lib/python3.7/dist-packages (from prompt-toolkit<2.0.0,>=1.0.4->ipython->watermark) (1.15.0)\n",
            "Requirement already satisfied: wcwidth in /usr/local/lib/python3.7/dist-packages (from prompt-toolkit<2.0.0,>=1.0.4->ipython->watermark) (0.2.5)\n",
            "Requirement already satisfied: ptyprocess>=0.5 in /usr/local/lib/python3.7/dist-packages (from pexpect->ipython->watermark) (0.7.0)\n"
          ]
        }
      ]
    },
    {
      "cell_type": "code",
      "metadata": {
        "colab": {
          "base_uri": "https://localhost:8080/"
        },
        "id": "FUgpy0CQich_",
        "outputId": "1f87f24d-c39f-4a75-b2fe-485be609f09d"
      },
      "source": [
        "# versões das bibliotecas utilizadas neste notebook\n",
        "%reload_ext watermark\n",
        "%watermark -a 'Fernando Galvão | (Pipeline) Etapas de projeto de Machine Learning #20/11/2021' --iversions"
      ],
      "execution_count": 76,
      "outputs": [
        {
          "output_type": "stream",
          "name": "stdout",
          "text": [
            "Author: Fernando Galvão | (Pipeline) Etapas de projeto de Machine Learning #20/11/2021\n",
            "\n",
            "pandas    : 1.1.5\n",
            "numpy     : 1.19.5\n",
            "IPython   : 5.5.0\n",
            "missingno : 0.5.0\n",
            "matplotlib: 3.2.2\n",
            "researchpy: 0.3.2\n",
            "seaborn   : 0.11.2\n",
            "\n"
          ]
        }
      ]
    },
    {
      "cell_type": "code",
      "metadata": {
        "id": "70ERlvMYicUR"
      },
      "source": [
        ""
      ],
      "execution_count": 76,
      "outputs": []
    },
    {
      "cell_type": "code",
      "metadata": {
        "id": "uQWNjj-yicOV"
      },
      "source": [
        ""
      ],
      "execution_count": 76,
      "outputs": []
    },
    {
      "cell_type": "code",
      "metadata": {
        "id": "qYMFB0DQicCz"
      },
      "source": [
        ""
      ],
      "execution_count": 76,
      "outputs": []
    }
  ]
}