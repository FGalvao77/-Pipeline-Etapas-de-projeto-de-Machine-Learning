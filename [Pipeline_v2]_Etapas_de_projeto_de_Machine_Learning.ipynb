{
  "cells": [
    {
      "cell_type": "markdown",
      "metadata": {
        "id": "view-in-github",
        "colab_type": "text"
      },
      "source": [
        "<a href=\"https://colab.research.google.com/github/FGalvao77/Pipeline-Etapas-de-projeto-de-Machine-Learning/blob/main/%5BPipeline_v2%5D_Etapas_de_projeto_de_Machine_Learning.ipynb\" target=\"_parent\"><img src=\"https://colab.research.google.com/assets/colab-badge.svg\" alt=\"Open In Colab\"/></a>"
      ]
    },
    {
      "cell_type": "markdown",
      "metadata": {
        "id": "iYneP8msQ6de"
      },
      "source": [
        "# **[Pipeline - v2] Etapas de projeto de Machine Learning**\n",
        "\n",
        "---\n",
        "\n"
      ]
    },
    {
      "cell_type": "markdown",
      "metadata": {
        "id": "j0l14HT8RFpG"
      },
      "source": [
        "## **O que é Machine Learning?**\n"
      ]
    },
    {
      "cell_type": "markdown",
      "metadata": {
        "id": "oeNdVm19RMGG"
      },
      "source": [
        "_Machine Learning aborda a questão de como construir computadores que melhoram automaticamente por meio da **experiência**_ (JORDAN & MITCHELL, 2015)."
      ]
    },
    {
      "cell_type": "markdown",
      "metadata": {
        "id": "0SjhAtiiRoAe"
      },
      "source": [
        "### **Pipeline**\n",
        "\n",
        "Nesse notebook será apresentado as etapas principais de um projeto de `Machine Learning`. \n",
        "\n",
        "Para exemplo prático utilizaremos o famoso conjunto de dados do _titanic_, onde nosso objetivo é predizer se o passageiro sobreviveu ou não ao trágico acidente dados alguns atributos."
      ]
    },
    {
      "cell_type": "markdown",
      "metadata": {
        "id": "DTpuJ0aJR3KX"
      },
      "source": [
        "**Etapas de um projeto de Ciência de Dados (Data Science) usando técnicas de Aprendizado de Máquina (Machine Learning)**\n",
        "\n",
        "1. Bibliotecas;\n",
        "2. Observação do conjunto de dados;\n",
        "3. Análise exploratória dos dados;\n",
        "4. Preparação dos dados;\n",
        "5. Treinamento do modelo;\n",
        "6. Avaliação do modelo;\n",
        "7. Predição;\n",
        "8. Otimização do modelo;\n",
        "9. Exportação do modelo e,\n",
        "10. Reutilização do modelo."
      ]
    },
    {
      "cell_type": "markdown",
      "metadata": {
        "id": "8BFkeDEhS8uG"
      },
      "source": [
        "#### **1. Bibliotecas**"
      ]
    },
    {
      "cell_type": "code",
      "execution_count": 1,
      "metadata": {
        "id": "ioqTXGfh7R9O"
      },
      "outputs": [],
      "source": [
        "# !pip install pandas=='1.2.0'\n",
        "# !pip install numpy -U"
      ]
    },
    {
      "cell_type": "code",
      "execution_count": 2,
      "metadata": {
        "id": "KwKD_DKhQwLy"
      },
      "outputs": [],
      "source": [
        "# bibliotecas para análise e processamento dos dados\n",
        "import pandas as pd\n",
        "import numpy as np"
      ]
    },
    {
      "cell_type": "code",
      "execution_count": 3,
      "metadata": {
        "id": "Tc4kuLGqRf-H"
      },
      "outputs": [],
      "source": [
        "# !pip install matplotlib -U\n",
        "# !pip install seaborn -U\n",
        "# !pip install missingno -U"
      ]
    },
    {
      "cell_type": "code",
      "execution_count": 4,
      "metadata": {
        "id": "e13XbkAOQxPe"
      },
      "outputs": [],
      "source": [
        "# bibliotecas para visualização gráfica dos dados\n",
        "import matplotlib.pyplot as plt\n",
        "import seaborn as sns\n",
        "import missingno as msno\n",
        "     \n",
        "%matplotlib inline\n",
        "# sns.set() \n",
        "# plt.style.use('ggplot')"
      ]
    },
    {
      "cell_type": "code",
      "execution_count": 5,
      "metadata": {
        "id": "HEHTDh4yBRMJ"
      },
      "outputs": [],
      "source": [
        "# importando a biblioteca para ignorar mensagens de \"erros\"\n",
        "from warnings import filterwarnings\n",
        "filterwarnings('ignore')"
      ]
    },
    {
      "cell_type": "code",
      "execution_count": 6,
      "metadata": {
        "id": "uIb31uZNRxtt"
      },
      "outputs": [],
      "source": [
        "# !pip install sklearn -U"
      ]
    },
    {
      "cell_type": "code",
      "execution_count": 7,
      "metadata": {
        "id": "khxproKlQxMe"
      },
      "outputs": [],
      "source": [
        "# função para pré-processamento dos dados\n",
        "from sklearn.preprocessing import StandardScaler"
      ]
    },
    {
      "cell_type": "code",
      "execution_count": 8,
      "metadata": {
        "id": "cauZuhZsQxJ2"
      },
      "outputs": [],
      "source": [
        "# função para gerar amostras dos dados\n",
        "from sklearn.model_selection import train_test_split"
      ]
    },
    {
      "cell_type": "code",
      "execution_count": 9,
      "metadata": {
        "id": "CN6zOoI2QxHO"
      },
      "outputs": [],
      "source": [
        "# função para aprendizado de máquina - classificação\n",
        "from sklearn.neighbors import KNeighborsClassifier"
      ]
    },
    {
      "cell_type": "code",
      "execution_count": 10,
      "metadata": {
        "id": "7hvZvEMkQxEd"
      },
      "outputs": [],
      "source": [
        "# funções para avaliação do modelo\n",
        "from sklearn.metrics import accuracy_score, precision_score"
      ]
    },
    {
      "cell_type": "code",
      "execution_count": 11,
      "metadata": {
        "id": "NtRYfDZxQxBy"
      },
      "outputs": [],
      "source": [
        "# função para otimização dos hiperparâmetros\n",
        "from sklearn.model_selection import GridSearchCV"
      ]
    },
    {
      "cell_type": "code",
      "execution_count": 12,
      "metadata": {
        "id": "yTIVhaJEQw--"
      },
      "outputs": [],
      "source": [
        "# biblioteca para serialização do modelo \n",
        "import pickle"
      ]
    },
    {
      "cell_type": "markdown",
      "metadata": {
        "id": "z5aP5nEqU1jf"
      },
      "source": [
        "#### **2. Observação do conjunto de dados**"
      ]
    },
    {
      "cell_type": "code",
      "execution_count": 13,
      "metadata": {
        "id": "WMp17pIzQw8j"
      },
      "outputs": [],
      "source": [
        "# carregando o conjunto de dados de uma planilha excel (xls) em um dataframe que se encontra em uma url\n",
        "url = 'https://biostat.app.vumc.org/wiki/pub/Main/DataSets/titanic3.xls'"
      ]
    },
    {
      "cell_type": "markdown",
      "metadata": {
        "id": "_uLe-3-fFp4W"
      },
      "source": [
        "> Segue o link do site do dataset:\n",
        "- [Department of Biostatistics - Vanderbilt University School of Medicine](https://biostat.app.vumc.org/wiki/Main/WebHome)"
      ]
    },
    {
      "cell_type": "code",
      "execution_count": 14,
      "metadata": {
        "colab": {
          "base_uri": "https://localhost:8080/"
        },
        "id": "Iqr_-1gH7Mts",
        "outputId": "9af89731-5ddc-4a08-db20-51ec4a122382"
      },
      "outputs": [
        {
          "output_type": "stream",
          "name": "stdout",
          "text": [
            "Looking in indexes: https://pypi.org/simple, https://us-python.pkg.dev/colab-wheels/public/simple/\n",
            "Requirement already satisfied: xlrd in /usr/local/lib/python3.7/dist-packages (1.1.0)\n",
            "Collecting xlrd\n",
            "  Downloading xlrd-2.0.1-py2.py3-none-any.whl (96 kB)\n",
            "\u001b[K     |████████████████████████████████| 96 kB 5.2 MB/s \n",
            "\u001b[?25hInstalling collected packages: xlrd\n",
            "  Attempting uninstall: xlrd\n",
            "    Found existing installation: xlrd 1.1.0\n",
            "    Uninstalling xlrd-1.1.0:\n",
            "      Successfully uninstalled xlrd-1.1.0\n",
            "Successfully installed xlrd-2.0.1\n"
          ]
        }
      ],
      "source": [
        "# instalando biblioteca para leitura de arquivos em excel\n",
        "!pip install xlrd -U"
      ]
    },
    {
      "cell_type": "code",
      "execution_count": 15,
      "metadata": {
        "id": "IhvGdilvQw6Q"
      },
      "outputs": [],
      "source": [
        "# realizando a leitura do conjunto de dados \n",
        "df = pd.read_excel(url)"
      ]
    },
    {
      "cell_type": "code",
      "execution_count": 16,
      "metadata": {
        "colab": {
          "base_uri": "https://localhost:8080/",
          "height": 250
        },
        "id": "dxIT4ijYQw2x",
        "outputId": "dea5ae94-1130-43ea-e0f8-5c0086302e78"
      },
      "outputs": [
        {
          "output_type": "execute_result",
          "data": {
            "text/plain": [
              "   pclass  survived                                             name     sex  \\\n",
              "0       1         1                    Allen, Miss. Elisabeth Walton  female   \n",
              "1       1         1                   Allison, Master. Hudson Trevor    male   \n",
              "2       1         0                     Allison, Miss. Helen Loraine  female   \n",
              "3       1         0             Allison, Mr. Hudson Joshua Creighton    male   \n",
              "4       1         0  Allison, Mrs. Hudson J C (Bessie Waldo Daniels)  female   \n",
              "\n",
              "       age  sibsp  parch  ticket      fare    cabin embarked boat   body  \\\n",
              "0  29.0000      0      0   24160  211.3375       B5        S    2    NaN   \n",
              "1   0.9167      1      2  113781  151.5500  C22 C26        S   11    NaN   \n",
              "2   2.0000      1      2  113781  151.5500  C22 C26        S  NaN    NaN   \n",
              "3  30.0000      1      2  113781  151.5500  C22 C26        S  NaN  135.0   \n",
              "4  25.0000      1      2  113781  151.5500  C22 C26        S  NaN    NaN   \n",
              "\n",
              "                         home.dest  \n",
              "0                     St Louis, MO  \n",
              "1  Montreal, PQ / Chesterville, ON  \n",
              "2  Montreal, PQ / Chesterville, ON  \n",
              "3  Montreal, PQ / Chesterville, ON  \n",
              "4  Montreal, PQ / Chesterville, ON  "
            ],
            "text/html": [
              "\n",
              "  <div id=\"df-138ec876-7929-45a3-8f56-8855d66e0688\">\n",
              "    <div class=\"colab-df-container\">\n",
              "      <div>\n",
              "<style scoped>\n",
              "    .dataframe tbody tr th:only-of-type {\n",
              "        vertical-align: middle;\n",
              "    }\n",
              "\n",
              "    .dataframe tbody tr th {\n",
              "        vertical-align: top;\n",
              "    }\n",
              "\n",
              "    .dataframe thead th {\n",
              "        text-align: right;\n",
              "    }\n",
              "</style>\n",
              "<table border=\"1\" class=\"dataframe\">\n",
              "  <thead>\n",
              "    <tr style=\"text-align: right;\">\n",
              "      <th></th>\n",
              "      <th>pclass</th>\n",
              "      <th>survived</th>\n",
              "      <th>name</th>\n",
              "      <th>sex</th>\n",
              "      <th>age</th>\n",
              "      <th>sibsp</th>\n",
              "      <th>parch</th>\n",
              "      <th>ticket</th>\n",
              "      <th>fare</th>\n",
              "      <th>cabin</th>\n",
              "      <th>embarked</th>\n",
              "      <th>boat</th>\n",
              "      <th>body</th>\n",
              "      <th>home.dest</th>\n",
              "    </tr>\n",
              "  </thead>\n",
              "  <tbody>\n",
              "    <tr>\n",
              "      <th>0</th>\n",
              "      <td>1</td>\n",
              "      <td>1</td>\n",
              "      <td>Allen, Miss. Elisabeth Walton</td>\n",
              "      <td>female</td>\n",
              "      <td>29.0000</td>\n",
              "      <td>0</td>\n",
              "      <td>0</td>\n",
              "      <td>24160</td>\n",
              "      <td>211.3375</td>\n",
              "      <td>B5</td>\n",
              "      <td>S</td>\n",
              "      <td>2</td>\n",
              "      <td>NaN</td>\n",
              "      <td>St Louis, MO</td>\n",
              "    </tr>\n",
              "    <tr>\n",
              "      <th>1</th>\n",
              "      <td>1</td>\n",
              "      <td>1</td>\n",
              "      <td>Allison, Master. Hudson Trevor</td>\n",
              "      <td>male</td>\n",
              "      <td>0.9167</td>\n",
              "      <td>1</td>\n",
              "      <td>2</td>\n",
              "      <td>113781</td>\n",
              "      <td>151.5500</td>\n",
              "      <td>C22 C26</td>\n",
              "      <td>S</td>\n",
              "      <td>11</td>\n",
              "      <td>NaN</td>\n",
              "      <td>Montreal, PQ / Chesterville, ON</td>\n",
              "    </tr>\n",
              "    <tr>\n",
              "      <th>2</th>\n",
              "      <td>1</td>\n",
              "      <td>0</td>\n",
              "      <td>Allison, Miss. Helen Loraine</td>\n",
              "      <td>female</td>\n",
              "      <td>2.0000</td>\n",
              "      <td>1</td>\n",
              "      <td>2</td>\n",
              "      <td>113781</td>\n",
              "      <td>151.5500</td>\n",
              "      <td>C22 C26</td>\n",
              "      <td>S</td>\n",
              "      <td>NaN</td>\n",
              "      <td>NaN</td>\n",
              "      <td>Montreal, PQ / Chesterville, ON</td>\n",
              "    </tr>\n",
              "    <tr>\n",
              "      <th>3</th>\n",
              "      <td>1</td>\n",
              "      <td>0</td>\n",
              "      <td>Allison, Mr. Hudson Joshua Creighton</td>\n",
              "      <td>male</td>\n",
              "      <td>30.0000</td>\n",
              "      <td>1</td>\n",
              "      <td>2</td>\n",
              "      <td>113781</td>\n",
              "      <td>151.5500</td>\n",
              "      <td>C22 C26</td>\n",
              "      <td>S</td>\n",
              "      <td>NaN</td>\n",
              "      <td>135.0</td>\n",
              "      <td>Montreal, PQ / Chesterville, ON</td>\n",
              "    </tr>\n",
              "    <tr>\n",
              "      <th>4</th>\n",
              "      <td>1</td>\n",
              "      <td>0</td>\n",
              "      <td>Allison, Mrs. Hudson J C (Bessie Waldo Daniels)</td>\n",
              "      <td>female</td>\n",
              "      <td>25.0000</td>\n",
              "      <td>1</td>\n",
              "      <td>2</td>\n",
              "      <td>113781</td>\n",
              "      <td>151.5500</td>\n",
              "      <td>C22 C26</td>\n",
              "      <td>S</td>\n",
              "      <td>NaN</td>\n",
              "      <td>NaN</td>\n",
              "      <td>Montreal, PQ / Chesterville, ON</td>\n",
              "    </tr>\n",
              "  </tbody>\n",
              "</table>\n",
              "</div>\n",
              "      <button class=\"colab-df-convert\" onclick=\"convertToInteractive('df-138ec876-7929-45a3-8f56-8855d66e0688')\"\n",
              "              title=\"Convert this dataframe to an interactive table.\"\n",
              "              style=\"display:none;\">\n",
              "        \n",
              "  <svg xmlns=\"http://www.w3.org/2000/svg\" height=\"24px\"viewBox=\"0 0 24 24\"\n",
              "       width=\"24px\">\n",
              "    <path d=\"M0 0h24v24H0V0z\" fill=\"none\"/>\n",
              "    <path d=\"M18.56 5.44l.94 2.06.94-2.06 2.06-.94-2.06-.94-.94-2.06-.94 2.06-2.06.94zm-11 1L8.5 8.5l.94-2.06 2.06-.94-2.06-.94L8.5 2.5l-.94 2.06-2.06.94zm10 10l.94 2.06.94-2.06 2.06-.94-2.06-.94-.94-2.06-.94 2.06-2.06.94z\"/><path d=\"M17.41 7.96l-1.37-1.37c-.4-.4-.92-.59-1.43-.59-.52 0-1.04.2-1.43.59L10.3 9.45l-7.72 7.72c-.78.78-.78 2.05 0 2.83L4 21.41c.39.39.9.59 1.41.59.51 0 1.02-.2 1.41-.59l7.78-7.78 2.81-2.81c.8-.78.8-2.07 0-2.86zM5.41 20L4 18.59l7.72-7.72 1.47 1.35L5.41 20z\"/>\n",
              "  </svg>\n",
              "      </button>\n",
              "      \n",
              "  <style>\n",
              "    .colab-df-container {\n",
              "      display:flex;\n",
              "      flex-wrap:wrap;\n",
              "      gap: 12px;\n",
              "    }\n",
              "\n",
              "    .colab-df-convert {\n",
              "      background-color: #E8F0FE;\n",
              "      border: none;\n",
              "      border-radius: 50%;\n",
              "      cursor: pointer;\n",
              "      display: none;\n",
              "      fill: #1967D2;\n",
              "      height: 32px;\n",
              "      padding: 0 0 0 0;\n",
              "      width: 32px;\n",
              "    }\n",
              "\n",
              "    .colab-df-convert:hover {\n",
              "      background-color: #E2EBFA;\n",
              "      box-shadow: 0px 1px 2px rgba(60, 64, 67, 0.3), 0px 1px 3px 1px rgba(60, 64, 67, 0.15);\n",
              "      fill: #174EA6;\n",
              "    }\n",
              "\n",
              "    [theme=dark] .colab-df-convert {\n",
              "      background-color: #3B4455;\n",
              "      fill: #D2E3FC;\n",
              "    }\n",
              "\n",
              "    [theme=dark] .colab-df-convert:hover {\n",
              "      background-color: #434B5C;\n",
              "      box-shadow: 0px 1px 3px 1px rgba(0, 0, 0, 0.15);\n",
              "      filter: drop-shadow(0px 1px 2px rgba(0, 0, 0, 0.3));\n",
              "      fill: #FFFFFF;\n",
              "    }\n",
              "  </style>\n",
              "\n",
              "      <script>\n",
              "        const buttonEl =\n",
              "          document.querySelector('#df-138ec876-7929-45a3-8f56-8855d66e0688 button.colab-df-convert');\n",
              "        buttonEl.style.display =\n",
              "          google.colab.kernel.accessAllowed ? 'block' : 'none';\n",
              "\n",
              "        async function convertToInteractive(key) {\n",
              "          const element = document.querySelector('#df-138ec876-7929-45a3-8f56-8855d66e0688');\n",
              "          const dataTable =\n",
              "            await google.colab.kernel.invokeFunction('convertToInteractive',\n",
              "                                                     [key], {});\n",
              "          if (!dataTable) return;\n",
              "\n",
              "          const docLinkHtml = 'Like what you see? Visit the ' +\n",
              "            '<a target=\"_blank\" href=https://colab.research.google.com/notebooks/data_table.ipynb>data table notebook</a>'\n",
              "            + ' to learn more about interactive tables.';\n",
              "          element.innerHTML = '';\n",
              "          dataTable['output_type'] = 'display_data';\n",
              "          await google.colab.output.renderOutput(dataTable, element);\n",
              "          const docLink = document.createElement('div');\n",
              "          docLink.innerHTML = docLinkHtml;\n",
              "          element.appendChild(docLink);\n",
              "        }\n",
              "      </script>\n",
              "    </div>\n",
              "  </div>\n",
              "  "
            ]
          },
          "metadata": {},
          "execution_count": 16
        }
      ],
      "source": [
        "# visualizando as 5 primeiras linhas do conjunto de dados\n",
        "df.head()"
      ]
    },
    {
      "cell_type": "code",
      "execution_count": 17,
      "metadata": {
        "colab": {
          "base_uri": "https://localhost:8080/",
          "height": 206
        },
        "id": "EgvXsTzoUxYh",
        "outputId": "1dff47d2-c05c-48a2-e455-7d8c6972a6aa"
      },
      "outputs": [
        {
          "output_type": "execute_result",
          "data": {
            "text/plain": [
              "      pclass  survived                       name     sex   age  sibsp  parch  \\\n",
              "1304       3         0       Zabour, Miss. Hileni  female  14.5      1      0   \n",
              "1305       3         0      Zabour, Miss. Thamine  female   NaN      1      0   \n",
              "1306       3         0  Zakarian, Mr. Mapriededer    male  26.5      0      0   \n",
              "1307       3         0        Zakarian, Mr. Ortin    male  27.0      0      0   \n",
              "1308       3         0         Zimmerman, Mr. Leo    male  29.0      0      0   \n",
              "\n",
              "      ticket     fare cabin embarked boat   body home.dest  \n",
              "1304    2665  14.4542   NaN        C  NaN  328.0       NaN  \n",
              "1305    2665  14.4542   NaN        C  NaN    NaN       NaN  \n",
              "1306    2656   7.2250   NaN        C  NaN  304.0       NaN  \n",
              "1307    2670   7.2250   NaN        C  NaN    NaN       NaN  \n",
              "1308  315082   7.8750   NaN        S  NaN    NaN       NaN  "
            ],
            "text/html": [
              "\n",
              "  <div id=\"df-417cf115-c94d-4542-86de-60ae85e3ea47\">\n",
              "    <div class=\"colab-df-container\">\n",
              "      <div>\n",
              "<style scoped>\n",
              "    .dataframe tbody tr th:only-of-type {\n",
              "        vertical-align: middle;\n",
              "    }\n",
              "\n",
              "    .dataframe tbody tr th {\n",
              "        vertical-align: top;\n",
              "    }\n",
              "\n",
              "    .dataframe thead th {\n",
              "        text-align: right;\n",
              "    }\n",
              "</style>\n",
              "<table border=\"1\" class=\"dataframe\">\n",
              "  <thead>\n",
              "    <tr style=\"text-align: right;\">\n",
              "      <th></th>\n",
              "      <th>pclass</th>\n",
              "      <th>survived</th>\n",
              "      <th>name</th>\n",
              "      <th>sex</th>\n",
              "      <th>age</th>\n",
              "      <th>sibsp</th>\n",
              "      <th>parch</th>\n",
              "      <th>ticket</th>\n",
              "      <th>fare</th>\n",
              "      <th>cabin</th>\n",
              "      <th>embarked</th>\n",
              "      <th>boat</th>\n",
              "      <th>body</th>\n",
              "      <th>home.dest</th>\n",
              "    </tr>\n",
              "  </thead>\n",
              "  <tbody>\n",
              "    <tr>\n",
              "      <th>1304</th>\n",
              "      <td>3</td>\n",
              "      <td>0</td>\n",
              "      <td>Zabour, Miss. Hileni</td>\n",
              "      <td>female</td>\n",
              "      <td>14.5</td>\n",
              "      <td>1</td>\n",
              "      <td>0</td>\n",
              "      <td>2665</td>\n",
              "      <td>14.4542</td>\n",
              "      <td>NaN</td>\n",
              "      <td>C</td>\n",
              "      <td>NaN</td>\n",
              "      <td>328.0</td>\n",
              "      <td>NaN</td>\n",
              "    </tr>\n",
              "    <tr>\n",
              "      <th>1305</th>\n",
              "      <td>3</td>\n",
              "      <td>0</td>\n",
              "      <td>Zabour, Miss. Thamine</td>\n",
              "      <td>female</td>\n",
              "      <td>NaN</td>\n",
              "      <td>1</td>\n",
              "      <td>0</td>\n",
              "      <td>2665</td>\n",
              "      <td>14.4542</td>\n",
              "      <td>NaN</td>\n",
              "      <td>C</td>\n",
              "      <td>NaN</td>\n",
              "      <td>NaN</td>\n",
              "      <td>NaN</td>\n",
              "    </tr>\n",
              "    <tr>\n",
              "      <th>1306</th>\n",
              "      <td>3</td>\n",
              "      <td>0</td>\n",
              "      <td>Zakarian, Mr. Mapriededer</td>\n",
              "      <td>male</td>\n",
              "      <td>26.5</td>\n",
              "      <td>0</td>\n",
              "      <td>0</td>\n",
              "      <td>2656</td>\n",
              "      <td>7.2250</td>\n",
              "      <td>NaN</td>\n",
              "      <td>C</td>\n",
              "      <td>NaN</td>\n",
              "      <td>304.0</td>\n",
              "      <td>NaN</td>\n",
              "    </tr>\n",
              "    <tr>\n",
              "      <th>1307</th>\n",
              "      <td>3</td>\n",
              "      <td>0</td>\n",
              "      <td>Zakarian, Mr. Ortin</td>\n",
              "      <td>male</td>\n",
              "      <td>27.0</td>\n",
              "      <td>0</td>\n",
              "      <td>0</td>\n",
              "      <td>2670</td>\n",
              "      <td>7.2250</td>\n",
              "      <td>NaN</td>\n",
              "      <td>C</td>\n",
              "      <td>NaN</td>\n",
              "      <td>NaN</td>\n",
              "      <td>NaN</td>\n",
              "    </tr>\n",
              "    <tr>\n",
              "      <th>1308</th>\n",
              "      <td>3</td>\n",
              "      <td>0</td>\n",
              "      <td>Zimmerman, Mr. Leo</td>\n",
              "      <td>male</td>\n",
              "      <td>29.0</td>\n",
              "      <td>0</td>\n",
              "      <td>0</td>\n",
              "      <td>315082</td>\n",
              "      <td>7.8750</td>\n",
              "      <td>NaN</td>\n",
              "      <td>S</td>\n",
              "      <td>NaN</td>\n",
              "      <td>NaN</td>\n",
              "      <td>NaN</td>\n",
              "    </tr>\n",
              "  </tbody>\n",
              "</table>\n",
              "</div>\n",
              "      <button class=\"colab-df-convert\" onclick=\"convertToInteractive('df-417cf115-c94d-4542-86de-60ae85e3ea47')\"\n",
              "              title=\"Convert this dataframe to an interactive table.\"\n",
              "              style=\"display:none;\">\n",
              "        \n",
              "  <svg xmlns=\"http://www.w3.org/2000/svg\" height=\"24px\"viewBox=\"0 0 24 24\"\n",
              "       width=\"24px\">\n",
              "    <path d=\"M0 0h24v24H0V0z\" fill=\"none\"/>\n",
              "    <path d=\"M18.56 5.44l.94 2.06.94-2.06 2.06-.94-2.06-.94-.94-2.06-.94 2.06-2.06.94zm-11 1L8.5 8.5l.94-2.06 2.06-.94-2.06-.94L8.5 2.5l-.94 2.06-2.06.94zm10 10l.94 2.06.94-2.06 2.06-.94-2.06-.94-.94-2.06-.94 2.06-2.06.94z\"/><path d=\"M17.41 7.96l-1.37-1.37c-.4-.4-.92-.59-1.43-.59-.52 0-1.04.2-1.43.59L10.3 9.45l-7.72 7.72c-.78.78-.78 2.05 0 2.83L4 21.41c.39.39.9.59 1.41.59.51 0 1.02-.2 1.41-.59l7.78-7.78 2.81-2.81c.8-.78.8-2.07 0-2.86zM5.41 20L4 18.59l7.72-7.72 1.47 1.35L5.41 20z\"/>\n",
              "  </svg>\n",
              "      </button>\n",
              "      \n",
              "  <style>\n",
              "    .colab-df-container {\n",
              "      display:flex;\n",
              "      flex-wrap:wrap;\n",
              "      gap: 12px;\n",
              "    }\n",
              "\n",
              "    .colab-df-convert {\n",
              "      background-color: #E8F0FE;\n",
              "      border: none;\n",
              "      border-radius: 50%;\n",
              "      cursor: pointer;\n",
              "      display: none;\n",
              "      fill: #1967D2;\n",
              "      height: 32px;\n",
              "      padding: 0 0 0 0;\n",
              "      width: 32px;\n",
              "    }\n",
              "\n",
              "    .colab-df-convert:hover {\n",
              "      background-color: #E2EBFA;\n",
              "      box-shadow: 0px 1px 2px rgba(60, 64, 67, 0.3), 0px 1px 3px 1px rgba(60, 64, 67, 0.15);\n",
              "      fill: #174EA6;\n",
              "    }\n",
              "\n",
              "    [theme=dark] .colab-df-convert {\n",
              "      background-color: #3B4455;\n",
              "      fill: #D2E3FC;\n",
              "    }\n",
              "\n",
              "    [theme=dark] .colab-df-convert:hover {\n",
              "      background-color: #434B5C;\n",
              "      box-shadow: 0px 1px 3px 1px rgba(0, 0, 0, 0.15);\n",
              "      filter: drop-shadow(0px 1px 2px rgba(0, 0, 0, 0.3));\n",
              "      fill: #FFFFFF;\n",
              "    }\n",
              "  </style>\n",
              "\n",
              "      <script>\n",
              "        const buttonEl =\n",
              "          document.querySelector('#df-417cf115-c94d-4542-86de-60ae85e3ea47 button.colab-df-convert');\n",
              "        buttonEl.style.display =\n",
              "          google.colab.kernel.accessAllowed ? 'block' : 'none';\n",
              "\n",
              "        async function convertToInteractive(key) {\n",
              "          const element = document.querySelector('#df-417cf115-c94d-4542-86de-60ae85e3ea47');\n",
              "          const dataTable =\n",
              "            await google.colab.kernel.invokeFunction('convertToInteractive',\n",
              "                                                     [key], {});\n",
              "          if (!dataTable) return;\n",
              "\n",
              "          const docLinkHtml = 'Like what you see? Visit the ' +\n",
              "            '<a target=\"_blank\" href=https://colab.research.google.com/notebooks/data_table.ipynb>data table notebook</a>'\n",
              "            + ' to learn more about interactive tables.';\n",
              "          element.innerHTML = '';\n",
              "          dataTable['output_type'] = 'display_data';\n",
              "          await google.colab.output.renderOutput(dataTable, element);\n",
              "          const docLink = document.createElement('div');\n",
              "          docLink.innerHTML = docLinkHtml;\n",
              "          element.appendChild(docLink);\n",
              "        }\n",
              "      </script>\n",
              "    </div>\n",
              "  </div>\n",
              "  "
            ]
          },
          "metadata": {},
          "execution_count": 17
        }
      ],
      "source": [
        "# visualizando as 5 últimas linhas do conjunto de dados\n",
        "df.tail()"
      ]
    },
    {
      "cell_type": "code",
      "execution_count": 18,
      "metadata": {
        "colab": {
          "base_uri": "https://localhost:8080/"
        },
        "id": "2SeOag24UxVx",
        "outputId": "59dfe433-fea1-4073-d1c6-b691ba369da2"
      },
      "outputs": [
        {
          "output_type": "stream",
          "name": "stdout",
          "text": [
            "<class 'pandas.core.frame.DataFrame'>\n",
            "RangeIndex: 1309 entries, 0 to 1308\n",
            "Data columns (total 14 columns):\n",
            " #   Column     Non-Null Count  Dtype  \n",
            "---  ------     --------------  -----  \n",
            " 0   pclass     1309 non-null   int64  \n",
            " 1   survived   1309 non-null   int64  \n",
            " 2   name       1309 non-null   object \n",
            " 3   sex        1309 non-null   object \n",
            " 4   age        1046 non-null   float64\n",
            " 5   sibsp      1309 non-null   int64  \n",
            " 6   parch      1309 non-null   int64  \n",
            " 7   ticket     1309 non-null   object \n",
            " 8   fare       1308 non-null   float64\n",
            " 9   cabin      295 non-null    object \n",
            " 10  embarked   1307 non-null   object \n",
            " 11  boat       486 non-null    object \n",
            " 12  body       121 non-null    float64\n",
            " 13  home.dest  745 non-null    object \n",
            "dtypes: float64(3), int64(4), object(7)\n",
            "memory usage: 143.3+ KB\n"
          ]
        }
      ],
      "source": [
        "# informações gerais do conjunto de dados\n",
        "df.info()"
      ]
    },
    {
      "cell_type": "markdown",
      "metadata": {
        "id": "g5FldQmnW9Aa"
      },
      "source": [
        "#### **3. Análise exploratória dos dados**"
      ]
    },
    {
      "cell_type": "code",
      "execution_count": 19,
      "metadata": {
        "colab": {
          "base_uri": "https://localhost:8080/"
        },
        "id": "-jNhTq_NoWYc",
        "outputId": "425de5a9-73bb-40df-a8db-bab358115d35"
      },
      "outputs": [
        {
          "output_type": "execute_result",
          "data": {
            "text/plain": [
              "(1309, 14)"
            ]
          },
          "metadata": {},
          "execution_count": 19
        }
      ],
      "source": [
        "# dimensão do conjunto de dados\n",
        "df.shape    # linhas e atributos (colunas)"
      ]
    },
    {
      "cell_type": "code",
      "execution_count": 20,
      "metadata": {
        "colab": {
          "base_uri": "https://localhost:8080/",
          "height": 300
        },
        "id": "qAxB6kIsXS74",
        "outputId": "08b06801-e400-4a34-e29d-c9a50389e8e2"
      },
      "outputs": [
        {
          "output_type": "execute_result",
          "data": {
            "text/plain": [
              "            pclass     survived          age        sibsp        parch  \\\n",
              "count  1309.000000  1309.000000  1046.000000  1309.000000  1309.000000   \n",
              "mean      2.294882     0.381971    29.881135     0.498854     0.385027   \n",
              "std       0.837836     0.486055    14.413500     1.041658     0.865560   \n",
              "min       1.000000     0.000000     0.166700     0.000000     0.000000   \n",
              "25%       2.000000     0.000000    21.000000     0.000000     0.000000   \n",
              "50%       3.000000     0.000000    28.000000     0.000000     0.000000   \n",
              "75%       3.000000     1.000000    39.000000     1.000000     0.000000   \n",
              "max       3.000000     1.000000    80.000000     8.000000     9.000000   \n",
              "\n",
              "              fare        body  \n",
              "count  1308.000000  121.000000  \n",
              "mean     33.295479  160.809917  \n",
              "std      51.758668   97.696922  \n",
              "min       0.000000    1.000000  \n",
              "25%       7.895800   72.000000  \n",
              "50%      14.454200  155.000000  \n",
              "75%      31.275000  256.000000  \n",
              "max     512.329200  328.000000  "
            ],
            "text/html": [
              "\n",
              "  <div id=\"df-f5556693-64ed-4fa0-a7a0-d2b007a40077\">\n",
              "    <div class=\"colab-df-container\">\n",
              "      <div>\n",
              "<style scoped>\n",
              "    .dataframe tbody tr th:only-of-type {\n",
              "        vertical-align: middle;\n",
              "    }\n",
              "\n",
              "    .dataframe tbody tr th {\n",
              "        vertical-align: top;\n",
              "    }\n",
              "\n",
              "    .dataframe thead th {\n",
              "        text-align: right;\n",
              "    }\n",
              "</style>\n",
              "<table border=\"1\" class=\"dataframe\">\n",
              "  <thead>\n",
              "    <tr style=\"text-align: right;\">\n",
              "      <th></th>\n",
              "      <th>pclass</th>\n",
              "      <th>survived</th>\n",
              "      <th>age</th>\n",
              "      <th>sibsp</th>\n",
              "      <th>parch</th>\n",
              "      <th>fare</th>\n",
              "      <th>body</th>\n",
              "    </tr>\n",
              "  </thead>\n",
              "  <tbody>\n",
              "    <tr>\n",
              "      <th>count</th>\n",
              "      <td>1309.000000</td>\n",
              "      <td>1309.000000</td>\n",
              "      <td>1046.000000</td>\n",
              "      <td>1309.000000</td>\n",
              "      <td>1309.000000</td>\n",
              "      <td>1308.000000</td>\n",
              "      <td>121.000000</td>\n",
              "    </tr>\n",
              "    <tr>\n",
              "      <th>mean</th>\n",
              "      <td>2.294882</td>\n",
              "      <td>0.381971</td>\n",
              "      <td>29.881135</td>\n",
              "      <td>0.498854</td>\n",
              "      <td>0.385027</td>\n",
              "      <td>33.295479</td>\n",
              "      <td>160.809917</td>\n",
              "    </tr>\n",
              "    <tr>\n",
              "      <th>std</th>\n",
              "      <td>0.837836</td>\n",
              "      <td>0.486055</td>\n",
              "      <td>14.413500</td>\n",
              "      <td>1.041658</td>\n",
              "      <td>0.865560</td>\n",
              "      <td>51.758668</td>\n",
              "      <td>97.696922</td>\n",
              "    </tr>\n",
              "    <tr>\n",
              "      <th>min</th>\n",
              "      <td>1.000000</td>\n",
              "      <td>0.000000</td>\n",
              "      <td>0.166700</td>\n",
              "      <td>0.000000</td>\n",
              "      <td>0.000000</td>\n",
              "      <td>0.000000</td>\n",
              "      <td>1.000000</td>\n",
              "    </tr>\n",
              "    <tr>\n",
              "      <th>25%</th>\n",
              "      <td>2.000000</td>\n",
              "      <td>0.000000</td>\n",
              "      <td>21.000000</td>\n",
              "      <td>0.000000</td>\n",
              "      <td>0.000000</td>\n",
              "      <td>7.895800</td>\n",
              "      <td>72.000000</td>\n",
              "    </tr>\n",
              "    <tr>\n",
              "      <th>50%</th>\n",
              "      <td>3.000000</td>\n",
              "      <td>0.000000</td>\n",
              "      <td>28.000000</td>\n",
              "      <td>0.000000</td>\n",
              "      <td>0.000000</td>\n",
              "      <td>14.454200</td>\n",
              "      <td>155.000000</td>\n",
              "    </tr>\n",
              "    <tr>\n",
              "      <th>75%</th>\n",
              "      <td>3.000000</td>\n",
              "      <td>1.000000</td>\n",
              "      <td>39.000000</td>\n",
              "      <td>1.000000</td>\n",
              "      <td>0.000000</td>\n",
              "      <td>31.275000</td>\n",
              "      <td>256.000000</td>\n",
              "    </tr>\n",
              "    <tr>\n",
              "      <th>max</th>\n",
              "      <td>3.000000</td>\n",
              "      <td>1.000000</td>\n",
              "      <td>80.000000</td>\n",
              "      <td>8.000000</td>\n",
              "      <td>9.000000</td>\n",
              "      <td>512.329200</td>\n",
              "      <td>328.000000</td>\n",
              "    </tr>\n",
              "  </tbody>\n",
              "</table>\n",
              "</div>\n",
              "      <button class=\"colab-df-convert\" onclick=\"convertToInteractive('df-f5556693-64ed-4fa0-a7a0-d2b007a40077')\"\n",
              "              title=\"Convert this dataframe to an interactive table.\"\n",
              "              style=\"display:none;\">\n",
              "        \n",
              "  <svg xmlns=\"http://www.w3.org/2000/svg\" height=\"24px\"viewBox=\"0 0 24 24\"\n",
              "       width=\"24px\">\n",
              "    <path d=\"M0 0h24v24H0V0z\" fill=\"none\"/>\n",
              "    <path d=\"M18.56 5.44l.94 2.06.94-2.06 2.06-.94-2.06-.94-.94-2.06-.94 2.06-2.06.94zm-11 1L8.5 8.5l.94-2.06 2.06-.94-2.06-.94L8.5 2.5l-.94 2.06-2.06.94zm10 10l.94 2.06.94-2.06 2.06-.94-2.06-.94-.94-2.06-.94 2.06-2.06.94z\"/><path d=\"M17.41 7.96l-1.37-1.37c-.4-.4-.92-.59-1.43-.59-.52 0-1.04.2-1.43.59L10.3 9.45l-7.72 7.72c-.78.78-.78 2.05 0 2.83L4 21.41c.39.39.9.59 1.41.59.51 0 1.02-.2 1.41-.59l7.78-7.78 2.81-2.81c.8-.78.8-2.07 0-2.86zM5.41 20L4 18.59l7.72-7.72 1.47 1.35L5.41 20z\"/>\n",
              "  </svg>\n",
              "      </button>\n",
              "      \n",
              "  <style>\n",
              "    .colab-df-container {\n",
              "      display:flex;\n",
              "      flex-wrap:wrap;\n",
              "      gap: 12px;\n",
              "    }\n",
              "\n",
              "    .colab-df-convert {\n",
              "      background-color: #E8F0FE;\n",
              "      border: none;\n",
              "      border-radius: 50%;\n",
              "      cursor: pointer;\n",
              "      display: none;\n",
              "      fill: #1967D2;\n",
              "      height: 32px;\n",
              "      padding: 0 0 0 0;\n",
              "      width: 32px;\n",
              "    }\n",
              "\n",
              "    .colab-df-convert:hover {\n",
              "      background-color: #E2EBFA;\n",
              "      box-shadow: 0px 1px 2px rgba(60, 64, 67, 0.3), 0px 1px 3px 1px rgba(60, 64, 67, 0.15);\n",
              "      fill: #174EA6;\n",
              "    }\n",
              "\n",
              "    [theme=dark] .colab-df-convert {\n",
              "      background-color: #3B4455;\n",
              "      fill: #D2E3FC;\n",
              "    }\n",
              "\n",
              "    [theme=dark] .colab-df-convert:hover {\n",
              "      background-color: #434B5C;\n",
              "      box-shadow: 0px 1px 3px 1px rgba(0, 0, 0, 0.15);\n",
              "      filter: drop-shadow(0px 1px 2px rgba(0, 0, 0, 0.3));\n",
              "      fill: #FFFFFF;\n",
              "    }\n",
              "  </style>\n",
              "\n",
              "      <script>\n",
              "        const buttonEl =\n",
              "          document.querySelector('#df-f5556693-64ed-4fa0-a7a0-d2b007a40077 button.colab-df-convert');\n",
              "        buttonEl.style.display =\n",
              "          google.colab.kernel.accessAllowed ? 'block' : 'none';\n",
              "\n",
              "        async function convertToInteractive(key) {\n",
              "          const element = document.querySelector('#df-f5556693-64ed-4fa0-a7a0-d2b007a40077');\n",
              "          const dataTable =\n",
              "            await google.colab.kernel.invokeFunction('convertToInteractive',\n",
              "                                                     [key], {});\n",
              "          if (!dataTable) return;\n",
              "\n",
              "          const docLinkHtml = 'Like what you see? Visit the ' +\n",
              "            '<a target=\"_blank\" href=https://colab.research.google.com/notebooks/data_table.ipynb>data table notebook</a>'\n",
              "            + ' to learn more about interactive tables.';\n",
              "          element.innerHTML = '';\n",
              "          dataTable['output_type'] = 'display_data';\n",
              "          await google.colab.output.renderOutput(dataTable, element);\n",
              "          const docLink = document.createElement('div');\n",
              "          docLink.innerHTML = docLinkHtml;\n",
              "          element.appendChild(docLink);\n",
              "        }\n",
              "      </script>\n",
              "    </div>\n",
              "  </div>\n",
              "  "
            ]
          },
          "metadata": {},
          "execution_count": 20
        }
      ],
      "source": [
        "# estatística descritiva dos dados\n",
        "df.describe()"
      ]
    },
    {
      "cell_type": "code",
      "execution_count": 21,
      "metadata": {
        "colab": {
          "base_uri": "https://localhost:8080/"
        },
        "id": "Igg4hooyeBLL",
        "outputId": "03b8cf38-628e-4c6e-d998-c124bc9c39e8"
      },
      "outputs": [
        {
          "output_type": "execute_result",
          "data": {
            "text/plain": [
              "count    1046.000000\n",
              "mean       29.881135\n",
              "std        14.413500\n",
              "min         0.166700\n",
              "25%        21.000000\n",
              "50%        28.000000\n",
              "75%        39.000000\n",
              "max        80.000000\n",
              "Name: age, dtype: float64"
            ]
          },
          "metadata": {},
          "execution_count": 21
        }
      ],
      "source": [
        "# selecionando um atributo e visualizar seus dados estatísticos\n",
        "df['age'].describe()"
      ]
    },
    {
      "cell_type": "code",
      "execution_count": 22,
      "metadata": {
        "colab": {
          "base_uri": "https://localhost:8080/",
          "height": 112
        },
        "id": "o5KW29F5eRJ-",
        "outputId": "35465d4b-35c2-44b4-ce1d-0a6796943c8c"
      },
      "outputs": [
        {
          "output_type": "execute_result",
          "data": {
            "text/plain": [
              "       count       mean        std     min      25%      50%     75%       max\n",
              "age   1046.0  29.881135  14.413500  0.1667  21.0000  28.0000  39.000   80.0000\n",
              "fare  1308.0  33.295479  51.758668  0.0000   7.8958  14.4542  31.275  512.3292"
            ],
            "text/html": [
              "\n",
              "  <div id=\"df-c7aadceb-a9f3-477c-9e70-54c8d02f1476\">\n",
              "    <div class=\"colab-df-container\">\n",
              "      <div>\n",
              "<style scoped>\n",
              "    .dataframe tbody tr th:only-of-type {\n",
              "        vertical-align: middle;\n",
              "    }\n",
              "\n",
              "    .dataframe tbody tr th {\n",
              "        vertical-align: top;\n",
              "    }\n",
              "\n",
              "    .dataframe thead th {\n",
              "        text-align: right;\n",
              "    }\n",
              "</style>\n",
              "<table border=\"1\" class=\"dataframe\">\n",
              "  <thead>\n",
              "    <tr style=\"text-align: right;\">\n",
              "      <th></th>\n",
              "      <th>count</th>\n",
              "      <th>mean</th>\n",
              "      <th>std</th>\n",
              "      <th>min</th>\n",
              "      <th>25%</th>\n",
              "      <th>50%</th>\n",
              "      <th>75%</th>\n",
              "      <th>max</th>\n",
              "    </tr>\n",
              "  </thead>\n",
              "  <tbody>\n",
              "    <tr>\n",
              "      <th>age</th>\n",
              "      <td>1046.0</td>\n",
              "      <td>29.881135</td>\n",
              "      <td>14.413500</td>\n",
              "      <td>0.1667</td>\n",
              "      <td>21.0000</td>\n",
              "      <td>28.0000</td>\n",
              "      <td>39.000</td>\n",
              "      <td>80.0000</td>\n",
              "    </tr>\n",
              "    <tr>\n",
              "      <th>fare</th>\n",
              "      <td>1308.0</td>\n",
              "      <td>33.295479</td>\n",
              "      <td>51.758668</td>\n",
              "      <td>0.0000</td>\n",
              "      <td>7.8958</td>\n",
              "      <td>14.4542</td>\n",
              "      <td>31.275</td>\n",
              "      <td>512.3292</td>\n",
              "    </tr>\n",
              "  </tbody>\n",
              "</table>\n",
              "</div>\n",
              "      <button class=\"colab-df-convert\" onclick=\"convertToInteractive('df-c7aadceb-a9f3-477c-9e70-54c8d02f1476')\"\n",
              "              title=\"Convert this dataframe to an interactive table.\"\n",
              "              style=\"display:none;\">\n",
              "        \n",
              "  <svg xmlns=\"http://www.w3.org/2000/svg\" height=\"24px\"viewBox=\"0 0 24 24\"\n",
              "       width=\"24px\">\n",
              "    <path d=\"M0 0h24v24H0V0z\" fill=\"none\"/>\n",
              "    <path d=\"M18.56 5.44l.94 2.06.94-2.06 2.06-.94-2.06-.94-.94-2.06-.94 2.06-2.06.94zm-11 1L8.5 8.5l.94-2.06 2.06-.94-2.06-.94L8.5 2.5l-.94 2.06-2.06.94zm10 10l.94 2.06.94-2.06 2.06-.94-2.06-.94-.94-2.06-.94 2.06-2.06.94z\"/><path d=\"M17.41 7.96l-1.37-1.37c-.4-.4-.92-.59-1.43-.59-.52 0-1.04.2-1.43.59L10.3 9.45l-7.72 7.72c-.78.78-.78 2.05 0 2.83L4 21.41c.39.39.9.59 1.41.59.51 0 1.02-.2 1.41-.59l7.78-7.78 2.81-2.81c.8-.78.8-2.07 0-2.86zM5.41 20L4 18.59l7.72-7.72 1.47 1.35L5.41 20z\"/>\n",
              "  </svg>\n",
              "      </button>\n",
              "      \n",
              "  <style>\n",
              "    .colab-df-container {\n",
              "      display:flex;\n",
              "      flex-wrap:wrap;\n",
              "      gap: 12px;\n",
              "    }\n",
              "\n",
              "    .colab-df-convert {\n",
              "      background-color: #E8F0FE;\n",
              "      border: none;\n",
              "      border-radius: 50%;\n",
              "      cursor: pointer;\n",
              "      display: none;\n",
              "      fill: #1967D2;\n",
              "      height: 32px;\n",
              "      padding: 0 0 0 0;\n",
              "      width: 32px;\n",
              "    }\n",
              "\n",
              "    .colab-df-convert:hover {\n",
              "      background-color: #E2EBFA;\n",
              "      box-shadow: 0px 1px 2px rgba(60, 64, 67, 0.3), 0px 1px 3px 1px rgba(60, 64, 67, 0.15);\n",
              "      fill: #174EA6;\n",
              "    }\n",
              "\n",
              "    [theme=dark] .colab-df-convert {\n",
              "      background-color: #3B4455;\n",
              "      fill: #D2E3FC;\n",
              "    }\n",
              "\n",
              "    [theme=dark] .colab-df-convert:hover {\n",
              "      background-color: #434B5C;\n",
              "      box-shadow: 0px 1px 3px 1px rgba(0, 0, 0, 0.15);\n",
              "      filter: drop-shadow(0px 1px 2px rgba(0, 0, 0, 0.3));\n",
              "      fill: #FFFFFF;\n",
              "    }\n",
              "  </style>\n",
              "\n",
              "      <script>\n",
              "        const buttonEl =\n",
              "          document.querySelector('#df-c7aadceb-a9f3-477c-9e70-54c8d02f1476 button.colab-df-convert');\n",
              "        buttonEl.style.display =\n",
              "          google.colab.kernel.accessAllowed ? 'block' : 'none';\n",
              "\n",
              "        async function convertToInteractive(key) {\n",
              "          const element = document.querySelector('#df-c7aadceb-a9f3-477c-9e70-54c8d02f1476');\n",
              "          const dataTable =\n",
              "            await google.colab.kernel.invokeFunction('convertToInteractive',\n",
              "                                                     [key], {});\n",
              "          if (!dataTable) return;\n",
              "\n",
              "          const docLinkHtml = 'Like what you see? Visit the ' +\n",
              "            '<a target=\"_blank\" href=https://colab.research.google.com/notebooks/data_table.ipynb>data table notebook</a>'\n",
              "            + ' to learn more about interactive tables.';\n",
              "          element.innerHTML = '';\n",
              "          dataTable['output_type'] = 'display_data';\n",
              "          await google.colab.output.renderOutput(dataTable, element);\n",
              "          const docLink = document.createElement('div');\n",
              "          docLink.innerHTML = docLinkHtml;\n",
              "          element.appendChild(docLink);\n",
              "        }\n",
              "      </script>\n",
              "    </div>\n",
              "  </div>\n",
              "  "
            ]
          },
          "metadata": {},
          "execution_count": 22
        }
      ],
      "source": [
        "# selecionando mais que um atributo e visualizando os dados estatísticos\n",
        "df[['age', 'fare']].describe().T    # com o método \".T\" podemos realizar a transposição da exibição dos dados"
      ]
    },
    {
      "cell_type": "code",
      "execution_count": 23,
      "metadata": {
        "colab": {
          "base_uri": "https://localhost:8080/",
          "height": 427
        },
        "id": "hYS3DeD4AFx8",
        "outputId": "020d8b92-38f4-4f88-ecc5-8c617a216f31"
      },
      "outputs": [
        {
          "output_type": "display_data",
          "data": {
            "text/plain": [
              "<Figure size 720x360 with 3 Axes>"
            ],
            "image/png": "[encoded data removed]"
          },
          "metadata": {
            "needs_background": "light"
          }
        }
      ],
      "source": [
        "# plotando gráfico de barras com a função \".bar()\" da biblioteca \"missingno\"\n",
        "msno.bar(df, figsize=(10, 5));"
      ]
    },
    {
      "cell_type": "markdown",
      "metadata": {
        "id": "ldGG2wRXAnqs"
      },
      "source": [
        "> A biblioteca `MissingNo` permite a visualização de forma gráfica de dados nulos/faltantes no dataset, funciona com datasets tradicionais e também se mostra muito útil para dados como _séries temporais_."
      ]
    },
    {
      "cell_type": "code",
      "execution_count": 24,
      "metadata": {
        "colab": {
          "base_uri": "https://localhost:8080/",
          "height": 320
        },
        "id": "W7eP1w3BXbuw",
        "outputId": "6a84c3b6-bced-4330-dd01-2dc7bfdacb94"
      },
      "outputs": [
        {
          "output_type": "display_data",
          "data": {
            "text/plain": [
              "<Figure size 720x360 with 1 Axes>"
            ],
            "image/png": "[encoded data removed]"
          },
          "metadata": {
            "needs_background": "light"
          }
        }
      ],
      "source": [
        "# plotando gráfico de histograma para o atributo \"fare\" (tarifa)\n",
        "fig, ax = plt.subplots(figsize=[10, 5])\n",
        "df['fare'].plot(kind='hist', ax=ax, bins=25)\n",
        "plt.show();"
      ]
    },
    {
      "cell_type": "code",
      "execution_count": 25,
      "metadata": {
        "colab": {
          "base_uri": "https://localhost:8080/",
          "height": 320
        },
        "id": "JzsWOXOl5A_s",
        "outputId": "4a66a540-d530-4527-b7e7-094df7bb3b67"
      },
      "outputs": [
        {
          "output_type": "display_data",
          "data": {
            "text/plain": [
              "<Figure size 720x360 with 1 Axes>"
            ],
            "image/png": "[encoded data removed]"
          },
          "metadata": {
            "needs_background": "light"
          }
        }
      ],
      "source": [
        "# plotando gráfico de histograma para o atributo \"age\" (idade)\n",
        "fig, ax = plt.subplots(figsize=[10, 5])\n",
        "df['age'].plot(kind='hist', ax=ax, bins=30)\n",
        "plt.show();"
      ]
    },
    {
      "cell_type": "code",
      "execution_count": 26,
      "metadata": {
        "colab": {
          "base_uri": "https://localhost:8080/",
          "height": 365
        },
        "id": "ORF1foTAA1I6",
        "outputId": "f4909a28-6e2e-47a5-d74e-1560cfe9d8b9"
      },
      "outputs": [
        {
          "output_type": "display_data",
          "data": {
            "text/plain": [
              "<Figure size 720x360 with 1 Axes>"
            ],
            "image/png": "[encoded data removed]"
          },
          "metadata": {
            "needs_background": "light"
          }
        }
      ],
      "source": [
        "# visualizando a distribuição dos dados da variável \"age\" (idade)\n",
        "plt.figure(figsize=(10, 5))\n",
        "plt.title('Distribuição dos dados da coluna \"age\" (idade)\\n', \n",
        "         fontsize = 12, fontweight = 'bold')\n",
        "sns.distplot(df['age'], bins=30)\n",
        "plt.show();"
      ]
    },
    {
      "cell_type": "code",
      "execution_count": 27,
      "metadata": {
        "colab": {
          "base_uri": "https://localhost:8080/",
          "height": 334
        },
        "id": "9HLQadj8Xbrg",
        "outputId": "3953a0f5-b885-4c4c-d1c3-4e7e46789ecc"
      },
      "outputs": [
        {
          "output_type": "display_data",
          "data": {
            "text/plain": [
              "<Figure size 720x360 with 1 Axes>"
            ],
            "image/png": "[encoded data removed]"
          },
          "metadata": {
            "needs_background": "light"
          }
        }
      ],
      "source": [
        "# plotando gráfico de dispersão para age (idade) VS fare (tarifa)\n",
        "fig, ax = plt.subplots(figsize=[10, 5])\n",
        "df.plot.scatter(x='age', y='fare', ax=ax, alpha=0.3)\n",
        "plt.show();"
      ]
    },
    {
      "cell_type": "code",
      "execution_count": 28,
      "metadata": {
        "colab": {
          "base_uri": "https://localhost:8080/",
          "height": 365
        },
        "id": "S9FvnKGPXbUA",
        "outputId": "15ebd2c6-384c-44f2-a68d-5427ead1ef9c"
      },
      "outputs": [
        {
          "output_type": "display_data",
          "data": {
            "text/plain": [
              "<Figure size 720x360 with 1 Axes>"
            ],
            "image/png": "[encoded data removed]"
          },
          "metadata": {
            "needs_background": "light"
          }
        }
      ],
      "source": [
        "# plotando gráfico de caixa (boxplot) para o atributo \"survived\" (sobreviventes)\n",
        "# com um diagrama de dispersão em relação ao atributo \"age\" (idade)\n",
        "plt.figure(figsize=[10, 5])\n",
        "sns.boxplot(x='survived', y='age', data=df)\n",
        "sns.stripplot(x='survived', y='age', data=df,\n",
        "              jitter=True, edgecolor='gray')\n",
        "plt.xlabel('sobreviventes [0 - não | 1 -sim]')\n",
        "plt.ylabel('idade')\n",
        "\n",
        "plt.title('Sobreviventes por idade\\n', \n",
        "         fontsize = 12, fontweight = 'bold')\n",
        "plt.show();"
      ]
    },
    {
      "cell_type": "code",
      "execution_count": 29,
      "metadata": {
        "colab": {
          "base_uri": "https://localhost:8080/",
          "height": 365
        },
        "id": "UYrDylCnBdkd",
        "outputId": "cfa38a21-26f5-4155-e219-5f3df22c9b4c"
      },
      "outputs": [
        {
          "output_type": "display_data",
          "data": {
            "text/plain": [
              "<Figure size 720x360 with 1 Axes>"
            ],
            "image/png": "[encoded data removed]"
          },
          "metadata": {
            "needs_background": "light"
          }
        }
      ],
      "source": [
        "# usando a função \".countplot()\" da biblioteca seaborn\n",
        "# visualizando a distribuição dos dados da variável \"sex\"\n",
        "plt.figure(figsize=(10, 5))\n",
        "plt.title('Distribuição dos dados da coluna \"sex\" (sexo)\\n', \n",
        "         fontsize = 12, fontweight = 'bold')\n",
        "sns.countplot(data=df, y='sex');"
      ]
    },
    {
      "cell_type": "code",
      "execution_count": 30,
      "metadata": {
        "colab": {
          "base_uri": "https://localhost:8080/",
          "height": 351
        },
        "id": "OtbTU3NN-1XM",
        "outputId": "790c7ec8-7d69-4505-e5f1-60d2b2940cda"
      },
      "outputs": [
        {
          "output_type": "display_data",
          "data": {
            "text/plain": [
              "<Figure size 1080x360 with 1 Axes>"
            ],
            "image/png": "[encoded data removed]"
          },
          "metadata": {
            "needs_background": "light"
          }
        }
      ],
      "source": [
        "# plotando gráfico das distribuição absoluta da coluna \"sex\"\n",
        "plt.figure(figsize=[15, 5])\n",
        "plt.subplots_adjust(wspace=0.2)\n",
        "plt.subplot(1,2,1)\n",
        "plt.bar(df['sex'].unique(), df['sex'].value_counts(), color = 'lightgreen')\n",
        "plt.title('Dist. da freq. absoluta para variável \"sex\"\\n', \n",
        "          {'fontsize': 12,'fontweight': 'bold'})\n",
        "plt.show();"
      ]
    },
    {
      "cell_type": "code",
      "execution_count": 31,
      "metadata": {
        "colab": {
          "base_uri": "https://localhost:8080/",
          "height": 351
        },
        "id": "2E2pxfKp_mTp",
        "outputId": "bea63bbf-e9a1-4360-e05c-f0500355331e"
      },
      "outputs": [
        {
          "output_type": "display_data",
          "data": {
            "text/plain": [
              "<Figure size 1080x360 with 1 Axes>"
            ],
            "image/png": "[encoded data removed]"
          },
          "metadata": {
            "needs_background": "light"
          }
        }
      ],
      "source": [
        "# plotando gráfico das distribuição relativa da coluna \"sex\"\n",
        "plt.figure(figsize=[15, 5])\n",
        "plt.subplot(1,2,2)\n",
        "plt.bar(df['sex'].unique(), df['sex'].value_counts(normalize=True), color = 'lightblue')\n",
        "plt.title('Dist. da freq. relativa para variável \"sex\"\\n', \n",
        "          {'fontsize': 12,'fontweight': 'bold'})\n",
        "plt.show();"
      ]
    },
    {
      "cell_type": "code",
      "execution_count": 32,
      "metadata": {
        "colab": {
          "base_uri": "https://localhost:8080/",
          "height": 380
        },
        "id": "AdxaDfT9B9GC",
        "outputId": "9ae207eb-109e-4fc6-9a2c-4f1a810bd45b"
      },
      "outputs": [
        {
          "output_type": "display_data",
          "data": {
            "text/plain": [
              "<Figure size 720x360 with 1 Axes>"
            ],
            "image/png": "[encoded data removed]"
          },
          "metadata": {
            "needs_background": "light"
          }
        }
      ],
      "source": [
        "# visualizando a distribuição dos dados da coluna \"age\" (idade) VS \"survived\" (sobreviventes)\n",
        "plt.figure(figsize=(10, 5))\n",
        "plt.title('Distribuição dos dados da coluna \"age\" VS \"survived\" \\n idade VS sobreviventes [0 - não | 1 - sim]\\n', \n",
        "         fontsize = 12, fontweight = 'bold')\n",
        "sns.histplot(data=df, x='age', hue='survived', bins=80);"
      ]
    },
    {
      "cell_type": "code",
      "execution_count": 33,
      "metadata": {
        "colab": {
          "base_uri": "https://localhost:8080/"
        },
        "id": "QwfY7y-yXagx",
        "outputId": "852b7a7d-1d4e-41d2-cf68-19789ed02716"
      },
      "outputs": [
        {
          "output_type": "execute_result",
          "data": {
            "text/plain": [
              "array([1, 0])"
            ]
          },
          "metadata": {},
          "execution_count": 33
        }
      ],
      "source": [
        "# visualizando as instâncias únicas no atributo \"survived\" (sobreviventes)\n",
        "df['survived'].unique()"
      ]
    },
    {
      "cell_type": "code",
      "execution_count": 34,
      "metadata": {
        "colab": {
          "base_uri": "https://localhost:8080/"
        },
        "id": "TQ33O3-rfUmT",
        "outputId": "be21e8d8-d871-49de-8a84-f38000e25cd2"
      },
      "outputs": [
        {
          "output_type": "execute_result",
          "data": {
            "text/plain": [
              "0    809\n",
              "1    500\n",
              "Name: survived, dtype: int64"
            ]
          },
          "metadata": {},
          "execution_count": 34
        }
      ],
      "source": [
        "# contabilizando as instâncias únicas no atributo \"survived\" (sobreviventes)\n",
        "df['survived'].value_counts()"
      ]
    },
    {
      "cell_type": "code",
      "execution_count": 35,
      "metadata": {
        "colab": {
          "base_uri": "https://localhost:8080/"
        },
        "id": "PArs29TMflH8",
        "outputId": "b449c318-ae9e-47aa-a16f-85abd8e26ae5"
      },
      "outputs": [
        {
          "output_type": "stream",
          "name": "stdout",
          "text": [
            "Frequência absoluta:\n",
            "0    809\n",
            "1    500\n",
            "Name: survived, dtype: int64\n",
            "\n",
            "Frequência relativa:\n",
            "0    0.618029\n",
            "1    0.381971\n",
            "Name: survived, dtype: float64\n",
            "\n",
            "Frequência relativa (%):\n",
            "0    61.802903\n",
            "1    38.197097\n",
            "Name: survived, dtype: float64\n"
          ]
        }
      ],
      "source": [
        "# frequência absoluta e relativa das instâncias únicas no atributo \"survived\" (sobreviventes)\n",
        "print(f'Frequência absoluta:\\n{df.survived.value_counts()}')\n",
        "print()\n",
        "print(f'Frequência relativa:\\n{df.survived.value_counts(normalize=True)}')\n",
        "print()\n",
        "print(f'Frequência relativa (%):\\n{df.survived.value_counts(normalize=True) * 100}')"
      ]
    },
    {
      "cell_type": "code",
      "execution_count": 36,
      "metadata": {
        "colab": {
          "base_uri": "https://localhost:8080/"
        },
        "id": "7ldFpf985shC",
        "outputId": "dcb3913c-c1d9-40f0-98fd-681bd66ae6af"
      },
      "outputs": [
        {
          "output_type": "execute_result",
          "data": {
            "text/plain": [
              "pclass          3\n",
              "survived        2\n",
              "name         1307\n",
              "sex             2\n",
              "age            98\n",
              "sibsp           7\n",
              "parch           8\n",
              "ticket        939\n",
              "fare          281\n",
              "cabin         186\n",
              "embarked        3\n",
              "boat           28\n",
              "body          121\n",
              "home.dest     369\n",
              "dtype: int64"
            ]
          },
          "metadata": {},
          "execution_count": 36
        }
      ],
      "source": [
        "# visualizando as instâncias únicas dos atributos\n",
        "df.nunique()"
      ]
    },
    {
      "cell_type": "code",
      "execution_count": 37,
      "metadata": {
        "colab": {
          "base_uri": "https://localhost:8080/",
          "height": 269
        },
        "id": "hW73bMVCUxN6",
        "outputId": "86c5f4bf-8d66-42c7-c973-c6df8d1dbe9b"
      },
      "outputs": [
        {
          "output_type": "execute_result",
          "data": {
            "text/plain": [
              "            pclass  survived       age     sibsp     parch      fare      body\n",
              "pclass    1.000000 -0.312469 -0.408106  0.060832  0.018322 -0.558629 -0.034642\n",
              "survived -0.312469  1.000000 -0.055513 -0.027825  0.082660  0.244265       NaN\n",
              "age      -0.408106 -0.055513  1.000000 -0.243699 -0.150917  0.178739  0.058809\n",
              "sibsp     0.060832 -0.027825 -0.243699  1.000000  0.373587  0.160238 -0.099961\n",
              "parch     0.018322  0.082660 -0.150917  0.373587  1.000000  0.221539  0.051099\n",
              "fare     -0.558629  0.244265  0.178739  0.160238  0.221539  1.000000 -0.043110\n",
              "body     -0.034642       NaN  0.058809 -0.099961  0.051099 -0.043110  1.000000"
            ],
            "text/html": [
              "\n",
              "  <div id=\"df-0c8a5563-0487-4adf-a2a3-7d752e5f654a\">\n",
              "    <div class=\"colab-df-container\">\n",
              "      <div>\n",
              "<style scoped>\n",
              "    .dataframe tbody tr th:only-of-type {\n",
              "        vertical-align: middle;\n",
              "    }\n",
              "\n",
              "    .dataframe tbody tr th {\n",
              "        vertical-align: top;\n",
              "    }\n",
              "\n",
              "    .dataframe thead th {\n",
              "        text-align: right;\n",
              "    }\n",
              "</style>\n",
              "<table border=\"1\" class=\"dataframe\">\n",
              "  <thead>\n",
              "    <tr style=\"text-align: right;\">\n",
              "      <th></th>\n",
              "      <th>pclass</th>\n",
              "      <th>survived</th>\n",
              "      <th>age</th>\n",
              "      <th>sibsp</th>\n",
              "      <th>parch</th>\n",
              "      <th>fare</th>\n",
              "      <th>body</th>\n",
              "    </tr>\n",
              "  </thead>\n",
              "  <tbody>\n",
              "    <tr>\n",
              "      <th>pclass</th>\n",
              "      <td>1.000000</td>\n",
              "      <td>-0.312469</td>\n",
              "      <td>-0.408106</td>\n",
              "      <td>0.060832</td>\n",
              "      <td>0.018322</td>\n",
              "      <td>-0.558629</td>\n",
              "      <td>-0.034642</td>\n",
              "    </tr>\n",
              "    <tr>\n",
              "      <th>survived</th>\n",
              "      <td>-0.312469</td>\n",
              "      <td>1.000000</td>\n",
              "      <td>-0.055513</td>\n",
              "      <td>-0.027825</td>\n",
              "      <td>0.082660</td>\n",
              "      <td>0.244265</td>\n",
              "      <td>NaN</td>\n",
              "    </tr>\n",
              "    <tr>\n",
              "      <th>age</th>\n",
              "      <td>-0.408106</td>\n",
              "      <td>-0.055513</td>\n",
              "      <td>1.000000</td>\n",
              "      <td>-0.243699</td>\n",
              "      <td>-0.150917</td>\n",
              "      <td>0.178739</td>\n",
              "      <td>0.058809</td>\n",
              "    </tr>\n",
              "    <tr>\n",
              "      <th>sibsp</th>\n",
              "      <td>0.060832</td>\n",
              "      <td>-0.027825</td>\n",
              "      <td>-0.243699</td>\n",
              "      <td>1.000000</td>\n",
              "      <td>0.373587</td>\n",
              "      <td>0.160238</td>\n",
              "      <td>-0.099961</td>\n",
              "    </tr>\n",
              "    <tr>\n",
              "      <th>parch</th>\n",
              "      <td>0.018322</td>\n",
              "      <td>0.082660</td>\n",
              "      <td>-0.150917</td>\n",
              "      <td>0.373587</td>\n",
              "      <td>1.000000</td>\n",
              "      <td>0.221539</td>\n",
              "      <td>0.051099</td>\n",
              "    </tr>\n",
              "    <tr>\n",
              "      <th>fare</th>\n",
              "      <td>-0.558629</td>\n",
              "      <td>0.244265</td>\n",
              "      <td>0.178739</td>\n",
              "      <td>0.160238</td>\n",
              "      <td>0.221539</td>\n",
              "      <td>1.000000</td>\n",
              "      <td>-0.043110</td>\n",
              "    </tr>\n",
              "    <tr>\n",
              "      <th>body</th>\n",
              "      <td>-0.034642</td>\n",
              "      <td>NaN</td>\n",
              "      <td>0.058809</td>\n",
              "      <td>-0.099961</td>\n",
              "      <td>0.051099</td>\n",
              "      <td>-0.043110</td>\n",
              "      <td>1.000000</td>\n",
              "    </tr>\n",
              "  </tbody>\n",
              "</table>\n",
              "</div>\n",
              "      <button class=\"colab-df-convert\" onclick=\"convertToInteractive('df-0c8a5563-0487-4adf-a2a3-7d752e5f654a')\"\n",
              "              title=\"Convert this dataframe to an interactive table.\"\n",
              "              style=\"display:none;\">\n",
              "        \n",
              "  <svg xmlns=\"http://www.w3.org/2000/svg\" height=\"24px\"viewBox=\"0 0 24 24\"\n",
              "       width=\"24px\">\n",
              "    <path d=\"M0 0h24v24H0V0z\" fill=\"none\"/>\n",
              "    <path d=\"M18.56 5.44l.94 2.06.94-2.06 2.06-.94-2.06-.94-.94-2.06-.94 2.06-2.06.94zm-11 1L8.5 8.5l.94-2.06 2.06-.94-2.06-.94L8.5 2.5l-.94 2.06-2.06.94zm10 10l.94 2.06.94-2.06 2.06-.94-2.06-.94-.94-2.06-.94 2.06-2.06.94z\"/><path d=\"M17.41 7.96l-1.37-1.37c-.4-.4-.92-.59-1.43-.59-.52 0-1.04.2-1.43.59L10.3 9.45l-7.72 7.72c-.78.78-.78 2.05 0 2.83L4 21.41c.39.39.9.59 1.41.59.51 0 1.02-.2 1.41-.59l7.78-7.78 2.81-2.81c.8-.78.8-2.07 0-2.86zM5.41 20L4 18.59l7.72-7.72 1.47 1.35L5.41 20z\"/>\n",
              "  </svg>\n",
              "      </button>\n",
              "      \n",
              "  <style>\n",
              "    .colab-df-container {\n",
              "      display:flex;\n",
              "      flex-wrap:wrap;\n",
              "      gap: 12px;\n",
              "    }\n",
              "\n",
              "    .colab-df-convert {\n",
              "      background-color: #E8F0FE;\n",
              "      border: none;\n",
              "      border-radius: 50%;\n",
              "      cursor: pointer;\n",
              "      display: none;\n",
              "      fill: #1967D2;\n",
              "      height: 32px;\n",
              "      padding: 0 0 0 0;\n",
              "      width: 32px;\n",
              "    }\n",
              "\n",
              "    .colab-df-convert:hover {\n",
              "      background-color: #E2EBFA;\n",
              "      box-shadow: 0px 1px 2px rgba(60, 64, 67, 0.3), 0px 1px 3px 1px rgba(60, 64, 67, 0.15);\n",
              "      fill: #174EA6;\n",
              "    }\n",
              "\n",
              "    [theme=dark] .colab-df-convert {\n",
              "      background-color: #3B4455;\n",
              "      fill: #D2E3FC;\n",
              "    }\n",
              "\n",
              "    [theme=dark] .colab-df-convert:hover {\n",
              "      background-color: #434B5C;\n",
              "      box-shadow: 0px 1px 3px 1px rgba(0, 0, 0, 0.15);\n",
              "      filter: drop-shadow(0px 1px 2px rgba(0, 0, 0, 0.3));\n",
              "      fill: #FFFFFF;\n",
              "    }\n",
              "  </style>\n",
              "\n",
              "      <script>\n",
              "        const buttonEl =\n",
              "          document.querySelector('#df-0c8a5563-0487-4adf-a2a3-7d752e5f654a button.colab-df-convert');\n",
              "        buttonEl.style.display =\n",
              "          google.colab.kernel.accessAllowed ? 'block' : 'none';\n",
              "\n",
              "        async function convertToInteractive(key) {\n",
              "          const element = document.querySelector('#df-0c8a5563-0487-4adf-a2a3-7d752e5f654a');\n",
              "          const dataTable =\n",
              "            await google.colab.kernel.invokeFunction('convertToInteractive',\n",
              "                                                     [key], {});\n",
              "          if (!dataTable) return;\n",
              "\n",
              "          const docLinkHtml = 'Like what you see? Visit the ' +\n",
              "            '<a target=\"_blank\" href=https://colab.research.google.com/notebooks/data_table.ipynb>data table notebook</a>'\n",
              "            + ' to learn more about interactive tables.';\n",
              "          element.innerHTML = '';\n",
              "          dataTable['output_type'] = 'display_data';\n",
              "          await google.colab.output.renderOutput(dataTable, element);\n",
              "          const docLink = document.createElement('div');\n",
              "          docLink.innerHTML = docLinkHtml;\n",
              "          element.appendChild(docLink);\n",
              "        }\n",
              "      </script>\n",
              "    </div>\n",
              "  </div>\n",
              "  "
            ]
          },
          "metadata": {},
          "execution_count": 37
        }
      ],
      "source": [
        "# correlação entre as variáveis numéricas\n",
        "df.corr()"
      ]
    },
    {
      "cell_type": "code",
      "execution_count": 38,
      "metadata": {
        "colab": {
          "base_uri": "https://localhost:8080/",
          "height": 514
        },
        "id": "6e7IT0dbUxLI",
        "outputId": "0ba12756-ea03-4302-b129-49470c5b1d75"
      },
      "outputs": [
        {
          "output_type": "display_data",
          "data": {
            "text/plain": [
              "<Figure size 720x576 with 2 Axes>"
            ],
            "image/png": "[encoded data removed]"
          },
          "metadata": {
            "needs_background": "light"
          }
        }
      ],
      "source": [
        "# gráfico de calor das correlações entre as variáveis numéricas\n",
        "corr = df.corr()\n",
        "\n",
        "plt.figure(figsize = (10, 8))\n",
        "plt.title('Correlação das vars numéricas contínuas\\n', \n",
        "          {'fontsize': 12,'fontweight': 'bold'})\n",
        "sns.heatmap(corr, fmt = '0.2%', annot = True, square = True,\n",
        "            cmap='coolwarm', vmin=-1, vmax=1\n",
        "            )\n",
        "plt.show();\n",
        "# plt.tight_layout();"
      ]
    },
    {
      "cell_type": "markdown",
      "metadata": {
        "id": "Ox74d3mWGIDT"
      },
      "source": [
        "Vamos instalar a biblioteca `Researchpy` para auxiliar nas análises estatísticas.\n",
        "\n",
        "_A **Researchpy** produz Pandas DataFrames que contêm informações de teste estatístico relevantes que são normalmente necessárias para pesquisas acadêmicas. As informações são retornadas como DataFrames do Pandas para permitir a exportação rápida e fácil dos resultados para qualquer formato / método que funcione com o DataFrame tradicional do Pandas. O researchpy é essencialmente um wrapper que combina vários pacotes estabelecidos, como pandas, scipy.stats e statsmodels para obter todas as informações padrão exigidas em um método. Se as análises não estivessem disponíveis nesses pacotes, o código foi desenvolvido para preencher a lacuna._"
      ]
    },
    {
      "cell_type": "markdown",
      "metadata": {
        "id": "VcoUtxUYGO0B"
      },
      "source": [
        "> **Official Page:** https://pypi.org/project/researchpy/"
      ]
    },
    {
      "cell_type": "code",
      "execution_count": 39,
      "metadata": {
        "colab": {
          "base_uri": "https://localhost:8080/"
        },
        "id": "oXOVzjAHDhhU",
        "outputId": "fe853ef1-9a43-4cb0-d48f-98832c0be128"
      },
      "outputs": [
        {
          "output_type": "stream",
          "name": "stdout",
          "text": [
            "Looking in indexes: https://pypi.org/simple, https://us-python.pkg.dev/colab-wheels/public/simple/\n",
            "Collecting researchpy\n",
            "  Downloading researchpy-0.3.5-py3-none-any.whl (33 kB)\n",
            "Requirement already satisfied: pandas in /usr/local/lib/python3.7/dist-packages (from researchpy) (1.3.5)\n",
            "Requirement already satisfied: statsmodels in /usr/local/lib/python3.7/dist-packages (from researchpy) (0.12.2)\n",
            "Requirement already satisfied: scipy in /usr/local/lib/python3.7/dist-packages (from researchpy) (1.7.3)\n",
            "Requirement already satisfied: patsy in /usr/local/lib/python3.7/dist-packages (from researchpy) (0.5.2)\n",
            "Requirement already satisfied: numpy in /usr/local/lib/python3.7/dist-packages (from researchpy) (1.21.6)\n",
            "Requirement already satisfied: python-dateutil>=2.7.3 in /usr/local/lib/python3.7/dist-packages (from pandas->researchpy) (2.8.2)\n",
            "Requirement already satisfied: pytz>=2017.3 in /usr/local/lib/python3.7/dist-packages (from pandas->researchpy) (2022.2.1)\n",
            "Requirement already satisfied: six>=1.5 in /usr/local/lib/python3.7/dist-packages (from python-dateutil>=2.7.3->pandas->researchpy) (1.15.0)\n",
            "Installing collected packages: researchpy\n",
            "Successfully installed researchpy-0.3.5\n"
          ]
        }
      ],
      "source": [
        "# instalando a biblioteca\n",
        "!pip install researchpy -U"
      ]
    },
    {
      "cell_type": "code",
      "execution_count": 40,
      "metadata": {
        "id": "DJJl9_AQDdxl"
      },
      "outputs": [],
      "source": [
        "# importando a biblioteca\n",
        "import researchpy as rp "
      ]
    },
    {
      "cell_type": "code",
      "execution_count": 41,
      "metadata": {
        "id": "O7N0w80sDsOk"
      },
      "outputs": [],
      "source": [
        "# criando uma função para auxiliar na visualização das avaliações estatísticas e das imagens gráficas\n",
        "def categorical_analysis(data, index, col, figsize=(10, 5)):\n",
        "    abs_tbl, test = rp.crosstab(data[index], data[col], \n",
        "                                test='chi-square', margins=False)\n",
        "    row_tbl = rp.crosstab(data[index], data[col], prop='row')\n",
        "    row_tbl = row_tbl.iloc[:-1, :-1]\n",
        "    \n",
        "    abs_tbl = abs_tbl.sort_values(('survived', 1))\n",
        "    row_tbl = row_tbl.sort_values(('survived', 1))\n",
        "    \n",
        "    print(test)\n",
        "    print('\\n')\n",
        "    \n",
        "    _, ax = plt.subplots(1, 2, figsize=figsize, sharey=True)\n",
        "    \n",
        "    sns.heatmap(abs_tbl, annot=True, fmt='.5g', cbar=False, cmap='Blues', \n",
        "                annot_kws={'fontsize': 20}, ax=ax[0])\n",
        "    sns.heatmap(row_tbl, annot=True, fmt='.5g', cbar=False, cmap='Greens', \n",
        "                annot_kws={'fontsize': 20}, ax=ax[1])\n",
        "    plt.show();"
      ]
    },
    {
      "cell_type": "code",
      "execution_count": 42,
      "metadata": {
        "colab": {
          "base_uri": "https://localhost:8080/",
          "height": 438
        },
        "id": "w67SlsQgD6A7",
        "outputId": "9309faa2-a297-438a-e8e8-75bbc4b8aa35"
      },
      "outputs": [
        {
          "output_type": "stream",
          "name": "stdout",
          "text": [
            "                Chi-square test   results\n",
            "0  Pearson Chi-square ( 1.0) =   365.8869\n",
            "1                    p-value =     0.0000\n",
            "2               Cramer's phi =     0.5287\n",
            "\n",
            "\n"
          ]
        },
        {
          "output_type": "display_data",
          "data": {
            "text/plain": [
              "<Figure size 720x360 with 2 Axes>"
            ],
            "image/png": "[encoded data removed]"
          },
          "metadata": {
            "needs_background": "light"
          }
        }
      ],
      "source": [
        "# visualizando a relação entre as colunas \"sex\" (sexo) e \"survived\" (sobreviventes)\n",
        "categorical_analysis(df, 'sex', 'survived', \n",
        "                     #figsize=(7, 4)\n",
        "                     )"
      ]
    },
    {
      "cell_type": "code",
      "execution_count": 43,
      "metadata": {
        "colab": {
          "base_uri": "https://localhost:8080/",
          "height": 438
        },
        "id": "oZK4cHR5ECqo",
        "outputId": "a32a0f69-2a4d-4f63-e4fb-fa1b41e37c8d"
      },
      "outputs": [
        {
          "output_type": "stream",
          "name": "stdout",
          "text": [
            "                Chi-square test  results\n",
            "0  Pearson Chi-square ( 2.0) =   44.2417\n",
            "1                    p-value =    0.0000\n",
            "2                 Cramer's V =    0.1840\n",
            "\n",
            "\n"
          ]
        },
        {
          "output_type": "display_data",
          "data": {
            "text/plain": [
              "<Figure size 720x360 with 2 Axes>"
            ],
            "image/png": "[encoded data removed]"
          },
          "metadata": {
            "needs_background": "light"
          }
        }
      ],
      "source": [
        "# visualizando a relação entre as colunas \"embarked\" (local de embarque) e \"survived\" (sobreviventes)\n",
        "categorical_analysis(df, 'embarked', 'survived')"
      ]
    },
    {
      "cell_type": "code",
      "execution_count": 44,
      "metadata": {
        "colab": {
          "base_uri": "https://localhost:8080/",
          "height": 438
        },
        "id": "nCYl9nHSE0bI",
        "outputId": "19270a34-f9c6-46b5-fc3e-8452a72a121c"
      },
      "outputs": [
        {
          "output_type": "stream",
          "name": "stdout",
          "text": [
            "                Chi-square test   results\n",
            "0  Pearson Chi-square ( 2.0) =   127.8592\n",
            "1                    p-value =     0.0000\n",
            "2                 Cramer's V =     0.3125\n",
            "\n",
            "\n"
          ]
        },
        {
          "output_type": "display_data",
          "data": {
            "text/plain": [
              "<Figure size 720x360 with 2 Axes>"
            ],
            "image/png": "[encoded data removed]"
          },
          "metadata": {
            "needs_background": "light"
          }
        }
      ],
      "source": [
        "# visualizando a relação entre as colunas \"pclass\" (tipo da classe) e \"survived\" (sobreviventes)\n",
        "categorical_analysis(df, 'pclass', 'survived')"
      ]
    },
    {
      "cell_type": "markdown",
      "metadata": {
        "id": "BG7OoxRxICXu"
      },
      "source": [
        "> Diante dos resultados dos testes acima, podemos inferir que **há** fortes evidências estatísticas que as variáveis `sex`, `embarked` e `pclass` explica a nossa variável dependente, nesse caso `survived`.\n",
        "\n",
        "- o sexo `female` (feminino) teve maior número de sobreviventes;\n",
        "- local de embarque `Q` e `S` tiveram maior número de não sobreviventes e,\n",
        "- os passageiros da classe `1` foram os que mais sobreviveram, enquanto o da classe `2` e, principalmente da classe `3` morreram."
      ]
    },
    {
      "cell_type": "markdown",
      "metadata": {
        "id": "HLYiEzeslg5B"
      },
      "source": [
        "#### **4. Preparação dos dados**"
      ]
    },
    {
      "cell_type": "code",
      "execution_count": 45,
      "metadata": {
        "colab": {
          "base_uri": "https://localhost:8080/"
        },
        "id": "WeIT4fz6mUvB",
        "outputId": "4b8baeb6-ee27-40a3-93b8-1c1d2a89e281"
      },
      "outputs": [
        {
          "output_type": "execute_result",
          "data": {
            "text/plain": [
              "Index(['pclass', 'survived', 'name', 'sex', 'age', 'sibsp', 'parch', 'ticket',\n",
              "       'fare', 'cabin', 'embarked', 'boat', 'body', 'home.dest'],\n",
              "      dtype='object')"
            ]
          },
          "metadata": {},
          "execution_count": 45
        }
      ],
      "source": [
        "# visualizando o nome dos atributos (colunas)\n",
        "df.columns"
      ]
    },
    {
      "cell_type": "code",
      "execution_count": 46,
      "metadata": {
        "id": "CEh31A5gpVmF"
      },
      "outputs": [],
      "source": [
        "# criando uma cópia do conjunto de dados\n",
        "df_copia = df.copy()"
      ]
    },
    {
      "cell_type": "code",
      "execution_count": 47,
      "metadata": {
        "id": "VIpEQ9R3UxIf"
      },
      "outputs": [],
      "source": [
        "# removendo atributos pouco ou nada significativos para aprendizagem do modelo\n",
        "df_copia = df_copia.drop(columns=[\n",
        "                                  'name',       # nome\n",
        "                                  'ticket',     # número da passagem\n",
        "                                  'cabin',      # número da cabine\n",
        "                                  'boat',       # barco\n",
        "                                  'body',       # número de identicação do corpo\n",
        "                                  'home.dest'  # origem/destino\n",
        "                                ])"
      ]
    },
    {
      "cell_type": "code",
      "execution_count": 48,
      "metadata": {
        "id": "BvvFsg4LXJkV"
      },
      "outputs": [],
      "source": [
        "# criando variáves \"dummy\" para os atributos categóricos\n",
        "df_copia = pd.get_dummies(df_copia, drop_first=True)"
      ]
    },
    {
      "cell_type": "code",
      "execution_count": 49,
      "metadata": {
        "colab": {
          "base_uri": "https://localhost:8080/",
          "height": 363
        },
        "id": "gDjXFDeGXJha",
        "outputId": "2e875213-e9b8-454b-9873-69cf11c58ca2"
      },
      "outputs": [
        {
          "output_type": "execute_result",
          "data": {
            "text/plain": [
              "   pclass  survived      age  sibsp  parch      fare  sex_male  embarked_Q  \\\n",
              "0       1         1  29.0000      0      0  211.3375         0           0   \n",
              "1       1         1   0.9167      1      2  151.5500         1           0   \n",
              "2       1         0   2.0000      1      2  151.5500         0           0   \n",
              "3       1         0  30.0000      1      2  151.5500         1           0   \n",
              "4       1         0  25.0000      1      2  151.5500         0           0   \n",
              "5       1         1  48.0000      0      0   26.5500         1           0   \n",
              "6       1         1  63.0000      1      0   77.9583         0           0   \n",
              "7       1         0  39.0000      0      0    0.0000         1           0   \n",
              "8       1         1  53.0000      2      0   51.4792         0           0   \n",
              "9       1         0  71.0000      0      0   49.5042         1           0   \n",
              "\n",
              "   embarked_S  \n",
              "0           1  \n",
              "1           1  \n",
              "2           1  \n",
              "3           1  \n",
              "4           1  \n",
              "5           1  \n",
              "6           1  \n",
              "7           1  \n",
              "8           1  \n",
              "9           0  "
            ],
            "text/html": [
              "\n",
              "  <div id=\"df-9ada9a50-0a38-425a-b67d-1823c08052c8\">\n",
              "    <div class=\"colab-df-container\">\n",
              "      <div>\n",
              "<style scoped>\n",
              "    .dataframe tbody tr th:only-of-type {\n",
              "        vertical-align: middle;\n",
              "    }\n",
              "\n",
              "    .dataframe tbody tr th {\n",
              "        vertical-align: top;\n",
              "    }\n",
              "\n",
              "    .dataframe thead th {\n",
              "        text-align: right;\n",
              "    }\n",
              "</style>\n",
              "<table border=\"1\" class=\"dataframe\">\n",
              "  <thead>\n",
              "    <tr style=\"text-align: right;\">\n",
              "      <th></th>\n",
              "      <th>pclass</th>\n",
              "      <th>survived</th>\n",
              "      <th>age</th>\n",
              "      <th>sibsp</th>\n",
              "      <th>parch</th>\n",
              "      <th>fare</th>\n",
              "      <th>sex_male</th>\n",
              "      <th>embarked_Q</th>\n",
              "      <th>embarked_S</th>\n",
              "    </tr>\n",
              "  </thead>\n",
              "  <tbody>\n",
              "    <tr>\n",
              "      <th>0</th>\n",
              "      <td>1</td>\n",
              "      <td>1</td>\n",
              "      <td>29.0000</td>\n",
              "      <td>0</td>\n",
              "      <td>0</td>\n",
              "      <td>211.3375</td>\n",
              "      <td>0</td>\n",
              "      <td>0</td>\n",
              "      <td>1</td>\n",
              "    </tr>\n",
              "    <tr>\n",
              "      <th>1</th>\n",
              "      <td>1</td>\n",
              "      <td>1</td>\n",
              "      <td>0.9167</td>\n",
              "      <td>1</td>\n",
              "      <td>2</td>\n",
              "      <td>151.5500</td>\n",
              "      <td>1</td>\n",
              "      <td>0</td>\n",
              "      <td>1</td>\n",
              "    </tr>\n",
              "    <tr>\n",
              "      <th>2</th>\n",
              "      <td>1</td>\n",
              "      <td>0</td>\n",
              "      <td>2.0000</td>\n",
              "      <td>1</td>\n",
              "      <td>2</td>\n",
              "      <td>151.5500</td>\n",
              "      <td>0</td>\n",
              "      <td>0</td>\n",
              "      <td>1</td>\n",
              "    </tr>\n",
              "    <tr>\n",
              "      <th>3</th>\n",
              "      <td>1</td>\n",
              "      <td>0</td>\n",
              "      <td>30.0000</td>\n",
              "      <td>1</td>\n",
              "      <td>2</td>\n",
              "      <td>151.5500</td>\n",
              "      <td>1</td>\n",
              "      <td>0</td>\n",
              "      <td>1</td>\n",
              "    </tr>\n",
              "    <tr>\n",
              "      <th>4</th>\n",
              "      <td>1</td>\n",
              "      <td>0</td>\n",
              "      <td>25.0000</td>\n",
              "      <td>1</td>\n",
              "      <td>2</td>\n",
              "      <td>151.5500</td>\n",
              "      <td>0</td>\n",
              "      <td>0</td>\n",
              "      <td>1</td>\n",
              "    </tr>\n",
              "    <tr>\n",
              "      <th>5</th>\n",
              "      <td>1</td>\n",
              "      <td>1</td>\n",
              "      <td>48.0000</td>\n",
              "      <td>0</td>\n",
              "      <td>0</td>\n",
              "      <td>26.5500</td>\n",
              "      <td>1</td>\n",
              "      <td>0</td>\n",
              "      <td>1</td>\n",
              "    </tr>\n",
              "    <tr>\n",
              "      <th>6</th>\n",
              "      <td>1</td>\n",
              "      <td>1</td>\n",
              "      <td>63.0000</td>\n",
              "      <td>1</td>\n",
              "      <td>0</td>\n",
              "      <td>77.9583</td>\n",
              "      <td>0</td>\n",
              "      <td>0</td>\n",
              "      <td>1</td>\n",
              "    </tr>\n",
              "    <tr>\n",
              "      <th>7</th>\n",
              "      <td>1</td>\n",
              "      <td>0</td>\n",
              "      <td>39.0000</td>\n",
              "      <td>0</td>\n",
              "      <td>0</td>\n",
              "      <td>0.0000</td>\n",
              "      <td>1</td>\n",
              "      <td>0</td>\n",
              "      <td>1</td>\n",
              "    </tr>\n",
              "    <tr>\n",
              "      <th>8</th>\n",
              "      <td>1</td>\n",
              "      <td>1</td>\n",
              "      <td>53.0000</td>\n",
              "      <td>2</td>\n",
              "      <td>0</td>\n",
              "      <td>51.4792</td>\n",
              "      <td>0</td>\n",
              "      <td>0</td>\n",
              "      <td>1</td>\n",
              "    </tr>\n",
              "    <tr>\n",
              "      <th>9</th>\n",
              "      <td>1</td>\n",
              "      <td>0</td>\n",
              "      <td>71.0000</td>\n",
              "      <td>0</td>\n",
              "      <td>0</td>\n",
              "      <td>49.5042</td>\n",
              "      <td>1</td>\n",
              "      <td>0</td>\n",
              "      <td>0</td>\n",
              "    </tr>\n",
              "  </tbody>\n",
              "</table>\n",
              "</div>\n",
              "      <button class=\"colab-df-convert\" onclick=\"convertToInteractive('df-9ada9a50-0a38-425a-b67d-1823c08052c8')\"\n",
              "              title=\"Convert this dataframe to an interactive table.\"\n",
              "              style=\"display:none;\">\n",
              "        \n",
              "  <svg xmlns=\"http://www.w3.org/2000/svg\" height=\"24px\"viewBox=\"0 0 24 24\"\n",
              "       width=\"24px\">\n",
              "    <path d=\"M0 0h24v24H0V0z\" fill=\"none\"/>\n",
              "    <path d=\"M18.56 5.44l.94 2.06.94-2.06 2.06-.94-2.06-.94-.94-2.06-.94 2.06-2.06.94zm-11 1L8.5 8.5l.94-2.06 2.06-.94-2.06-.94L8.5 2.5l-.94 2.06-2.06.94zm10 10l.94 2.06.94-2.06 2.06-.94-2.06-.94-.94-2.06-.94 2.06-2.06.94z\"/><path d=\"M17.41 7.96l-1.37-1.37c-.4-.4-.92-.59-1.43-.59-.52 0-1.04.2-1.43.59L10.3 9.45l-7.72 7.72c-.78.78-.78 2.05 0 2.83L4 21.41c.39.39.9.59 1.41.59.51 0 1.02-.2 1.41-.59l7.78-7.78 2.81-2.81c.8-.78.8-2.07 0-2.86zM5.41 20L4 18.59l7.72-7.72 1.47 1.35L5.41 20z\"/>\n",
              "  </svg>\n",
              "      </button>\n",
              "      \n",
              "  <style>\n",
              "    .colab-df-container {\n",
              "      display:flex;\n",
              "      flex-wrap:wrap;\n",
              "      gap: 12px;\n",
              "    }\n",
              "\n",
              "    .colab-df-convert {\n",
              "      background-color: #E8F0FE;\n",
              "      border: none;\n",
              "      border-radius: 50%;\n",
              "      cursor: pointer;\n",
              "      display: none;\n",
              "      fill: #1967D2;\n",
              "      height: 32px;\n",
              "      padding: 0 0 0 0;\n",
              "      width: 32px;\n",
              "    }\n",
              "\n",
              "    .colab-df-convert:hover {\n",
              "      background-color: #E2EBFA;\n",
              "      box-shadow: 0px 1px 2px rgba(60, 64, 67, 0.3), 0px 1px 3px 1px rgba(60, 64, 67, 0.15);\n",
              "      fill: #174EA6;\n",
              "    }\n",
              "\n",
              "    [theme=dark] .colab-df-convert {\n",
              "      background-color: #3B4455;\n",
              "      fill: #D2E3FC;\n",
              "    }\n",
              "\n",
              "    [theme=dark] .colab-df-convert:hover {\n",
              "      background-color: #434B5C;\n",
              "      box-shadow: 0px 1px 3px 1px rgba(0, 0, 0, 0.15);\n",
              "      filter: drop-shadow(0px 1px 2px rgba(0, 0, 0, 0.3));\n",
              "      fill: #FFFFFF;\n",
              "    }\n",
              "  </style>\n",
              "\n",
              "      <script>\n",
              "        const buttonEl =\n",
              "          document.querySelector('#df-9ada9a50-0a38-425a-b67d-1823c08052c8 button.colab-df-convert');\n",
              "        buttonEl.style.display =\n",
              "          google.colab.kernel.accessAllowed ? 'block' : 'none';\n",
              "\n",
              "        async function convertToInteractive(key) {\n",
              "          const element = document.querySelector('#df-9ada9a50-0a38-425a-b67d-1823c08052c8');\n",
              "          const dataTable =\n",
              "            await google.colab.kernel.invokeFunction('convertToInteractive',\n",
              "                                                     [key], {});\n",
              "          if (!dataTable) return;\n",
              "\n",
              "          const docLinkHtml = 'Like what you see? Visit the ' +\n",
              "            '<a target=\"_blank\" href=https://colab.research.google.com/notebooks/data_table.ipynb>data table notebook</a>'\n",
              "            + ' to learn more about interactive tables.';\n",
              "          element.innerHTML = '';\n",
              "          dataTable['output_type'] = 'display_data';\n",
              "          await google.colab.output.renderOutput(dataTable, element);\n",
              "          const docLink = document.createElement('div');\n",
              "          docLink.innerHTML = docLinkHtml;\n",
              "          element.appendChild(docLink);\n",
              "        }\n",
              "      </script>\n",
              "    </div>\n",
              "  </div>\n",
              "  "
            ]
          },
          "metadata": {},
          "execution_count": 49
        }
      ],
      "source": [
        "# visualizando o conjunto de dados após o tratamento\n",
        "df_copia.head(10)   # 10 primeiras linhas"
      ]
    },
    {
      "cell_type": "code",
      "execution_count": 50,
      "metadata": {
        "id": "Pe7MiaGLXJea"
      },
      "outputs": [],
      "source": [
        "# separando os atributos de entrada e de saída\n",
        "X = df_copia.drop(columns='survived')   # variáveis explicativas\n",
        "y = df_copia.survived                   # variável resposta"
      ]
    },
    {
      "cell_type": "code",
      "execution_count": 51,
      "metadata": {
        "id": "WZVNXvqSXJb5"
      },
      "outputs": [],
      "source": [
        "# particionando os dados aleatoriamente para treino e teste\n",
        "# 60% para treinamento do modelo e 40% para validação do modelo\n",
        "X_train, X_test, y_train, y_test = train_test_split(X, y, \n",
        "                                                    test_size=0.4,\n",
        "                                                    random_state=42)"
      ]
    },
    {
      "cell_type": "code",
      "execution_count": 52,
      "metadata": {
        "colab": {
          "base_uri": "https://localhost:8080/"
        },
        "id": "ul6oLlfwXJZ1",
        "outputId": "70bce68c-1825-4cbb-ec73-5ecb3992a769"
      },
      "outputs": [
        {
          "output_type": "stream",
          "name": "stdout",
          "text": [
            "\tX\n",
            "==================\n",
            "Treinamento: 785\n",
            "Teste:       524\n",
            "\n",
            "\ty\n",
            "==================\n",
            "Treinamento: 785\n",
            "Teste:       524\n"
          ]
        }
      ],
      "source": [
        "# visualizando as quantidades em cada subconjunto de dados\n",
        "print('\\tX')\n",
        "print('==================')\n",
        "print('Treinamento:', len(X_train))\n",
        "print('Teste:      ', len(X_test))\n",
        "\n",
        "print('\\n\\ty')\n",
        "print('==================')\n",
        "print('Treinamento:', len(y_train))\n",
        "print('Teste:      ', len(y_test))"
      ]
    },
    {
      "cell_type": "code",
      "execution_count": 53,
      "metadata": {
        "colab": {
          "base_uri": "https://localhost:8080/"
        },
        "id": "dCWhX1GYXJWY",
        "outputId": "790ce7b4-4baf-44c1-9675-06dcb2446306"
      },
      "outputs": [
        {
          "output_type": "stream",
          "name": "stdout",
          "text": [
            "<class 'pandas.core.frame.DataFrame'>\n",
            "Int64Index: 785 entries, 72 to 1126\n",
            "Data columns (total 8 columns):\n",
            " #   Column      Non-Null Count  Dtype  \n",
            "---  ------      --------------  -----  \n",
            " 0   pclass      785 non-null    int64  \n",
            " 1   age         625 non-null    float64\n",
            " 2   sibsp       785 non-null    int64  \n",
            " 3   parch       785 non-null    int64  \n",
            " 4   fare        784 non-null    float64\n",
            " 5   sex_male    785 non-null    uint8  \n",
            " 6   embarked_Q  785 non-null    uint8  \n",
            " 7   embarked_S  785 non-null    uint8  \n",
            "dtypes: float64(2), int64(3), uint8(3)\n",
            "memory usage: 39.1 KB\n"
          ]
        }
      ],
      "source": [
        "# visualizando informações gerais do subconjunto de dados de treino\n",
        "X_train.info()"
      ]
    },
    {
      "cell_type": "code",
      "execution_count": 54,
      "metadata": {
        "colab": {
          "base_uri": "https://localhost:8080/"
        },
        "id": "hGfQ5bhxXJUG",
        "outputId": "ac5fc606-2a9d-44db-9fd5-7a567bac4776"
      },
      "outputs": [
        {
          "output_type": "execute_result",
          "data": {
            "text/plain": [
              "False    625\n",
              "True     160\n",
              "Name: age, dtype: int64"
            ]
          },
          "metadata": {},
          "execution_count": 54
        }
      ],
      "source": [
        "# contabilizando a quantidade de valores \"NaN\" no atributo \"age\" (idade)\n",
        "X_train['age'].isna().value_counts() "
      ]
    },
    {
      "cell_type": "code",
      "execution_count": 55,
      "metadata": {
        "id": "M74wq68SXJRj"
      },
      "outputs": [],
      "source": [
        "# iremos tratar os valores ausentes imputando uma medida numérica para esse exemplo iremos utilizar a média\n",
        "media = X_train.mean()\n",
        "X_train = X_train.fillna(media) \n",
        "X_test = X_test.fillna(media)"
      ]
    },
    {
      "cell_type": "code",
      "execution_count": 56,
      "metadata": {
        "colab": {
          "base_uri": "https://localhost:8080/"
        },
        "id": "5Rmh9-fvXJOK",
        "outputId": "8ad42c40-9664-4145-ed65-4b3a0a652de8"
      },
      "outputs": [
        {
          "output_type": "stream",
          "name": "stdout",
          "text": [
            "<class 'pandas.core.frame.DataFrame'>\n",
            "Int64Index: 785 entries, 72 to 1126\n",
            "Data columns (total 8 columns):\n",
            " #   Column      Non-Null Count  Dtype  \n",
            "---  ------      --------------  -----  \n",
            " 0   pclass      785 non-null    int64  \n",
            " 1   age         785 non-null    float64\n",
            " 2   sibsp       785 non-null    int64  \n",
            " 3   parch       785 non-null    int64  \n",
            " 4   fare        785 non-null    float64\n",
            " 5   sex_male    785 non-null    uint8  \n",
            " 6   embarked_Q  785 non-null    uint8  \n",
            " 7   embarked_S  785 non-null    uint8  \n",
            "dtypes: float64(2), int64(3), uint8(3)\n",
            "memory usage: 39.1 KB\n"
          ]
        }
      ],
      "source": [
        "# visualizando novamente as informações do subconjunto de treino\n",
        "X_train.info()"
      ]
    },
    {
      "cell_type": "code",
      "execution_count": 57,
      "metadata": {
        "colab": {
          "base_uri": "https://localhost:8080/"
        },
        "id": "ot0KUXXFXJLS",
        "outputId": "78d99c7b-c885-4fc0-e362-bece43095bce"
      },
      "outputs": [
        {
          "output_type": "execute_result",
          "data": {
            "text/plain": [
              "False    785\n",
              "Name: age, dtype: int64"
            ]
          },
          "metadata": {},
          "execution_count": 57
        }
      ],
      "source": [
        "# contabilizando novamente a quantidade de valores \"NaN\" no atributo \"age\" (idade)\n",
        "X_train['age'].isna().value_counts()"
      ]
    },
    {
      "cell_type": "code",
      "execution_count": 143,
      "metadata": {
        "id": "rcnpIZL8XJIg",
        "colab": {
          "base_uri": "https://localhost:8080/"
        },
        "outputId": "dc056ab8-13ad-4e26-c150-8f5cf13ee6f9"
      },
      "outputs": [
        {
          "output_type": "stream",
          "name": "stdout",
          "text": [
            "Index(['pclass', 'age', 'sibsp', 'parch', 'fare', 'sex_male', 'embarked_Q',\n",
            "       'embarked_S'],\n",
            "      dtype='object')\n"
          ]
        }
      ],
      "source": [
        "# realizando a normalização dos atributos numéricos\n",
        "\n",
        "# instaciando os atributos (colunas)\n",
        "# cols = ['pclass', 'age', 'sibsp', 'parch', 'fare', 'sex_male',\n",
        "#        'embarked_Q', 'embarked_S']\n",
        "cols = X_train.columns\n",
        "print(cols)\n",
        "\n",
        "std_scaler = StandardScaler()\n",
        "\n",
        "X_train_scal = std_scaler.fit_transform(X_train)\n",
        "X_train_scal = pd.DataFrame(X_train_scal, columns=cols)\n",
        "\n",
        "# X_test = std_scaler.fit_transform(X_test)\n",
        "# X_test = pd.DataFrame(X_test, columns=cols)\n",
        "\n",
        "X_test_scal = std_scaler.transform(X_test)\n",
        "X_test_scal = pd.DataFrame(X_test_scal, columns=cols)"
      ]
    },
    {
      "cell_type": "code",
      "execution_count": 59,
      "metadata": {
        "colab": {
          "base_uri": "https://localhost:8080/",
          "height": 300
        },
        "id": "DPpM0gluP2GK",
        "outputId": "b2b6123d-81bd-4708-f9aa-1c36275434b2"
      },
      "outputs": [
        {
          "output_type": "execute_result",
          "data": {
            "text/plain": [
              "             pclass           age         sibsp         parch          fare  \\\n",
              "count  7.850000e+02  7.850000e+02  7.850000e+02  7.850000e+02  7.850000e+02   \n",
              "mean   6.336050e-17  1.674527e-16  3.168025e-17 -5.430900e-17 -2.715450e-17   \n",
              "std    1.000638e+00  1.000638e+00  1.000638e+00  1.000638e+00  1.000638e+00   \n",
              "min   -1.548692e+00 -2.356816e+00 -5.043030e-01 -4.194656e-01 -6.270561e-01   \n",
              "25%   -3.603018e-01 -5.820079e-01 -5.043030e-01 -4.194656e-01 -4.771639e-01   \n",
              "50%    8.280886e-01  0.000000e+00 -5.043030e-01 -4.194656e-01 -3.517912e-01   \n",
              "75%    8.280886e-01  3.934607e-01  4.636135e-01 -4.194656e-01 -3.855869e-02   \n",
              "max    8.280886e-01  4.132757e+00  7.239029e+00  9.558731e+00  9.098892e+00   \n",
              "\n",
              "           sex_male    embarked_Q    embarked_S  \n",
              "count  7.850000e+02  7.850000e+02  7.850000e+02  \n",
              "mean  -2.262875e-18  2.262875e-17  1.493497e-16  \n",
              "std    1.000638e+00  1.000638e+00  1.000638e+00  \n",
              "min   -1.350460e+00 -3.297834e-01 -1.511462e+00  \n",
              "25%   -1.350460e+00 -3.297834e-01 -1.511462e+00  \n",
              "50%    7.404887e-01 -3.297834e-01  6.616109e-01  \n",
              "75%    7.404887e-01 -3.297834e-01  6.616109e-01  \n",
              "max    7.404887e-01  3.032294e+00  6.616109e-01  "
            ],
            "text/html": [
              "\n",
              "  <div id=\"df-b47274f5-1540-49b0-9c46-712484cc3c20\">\n",
              "    <div class=\"colab-df-container\">\n",
              "      <div>\n",
              "<style scoped>\n",
              "    .dataframe tbody tr th:only-of-type {\n",
              "        vertical-align: middle;\n",
              "    }\n",
              "\n",
              "    .dataframe tbody tr th {\n",
              "        vertical-align: top;\n",
              "    }\n",
              "\n",
              "    .dataframe thead th {\n",
              "        text-align: right;\n",
              "    }\n",
              "</style>\n",
              "<table border=\"1\" class=\"dataframe\">\n",
              "  <thead>\n",
              "    <tr style=\"text-align: right;\">\n",
              "      <th></th>\n",
              "      <th>pclass</th>\n",
              "      <th>age</th>\n",
              "      <th>sibsp</th>\n",
              "      <th>parch</th>\n",
              "      <th>fare</th>\n",
              "      <th>sex_male</th>\n",
              "      <th>embarked_Q</th>\n",
              "      <th>embarked_S</th>\n",
              "    </tr>\n",
              "  </thead>\n",
              "  <tbody>\n",
              "    <tr>\n",
              "      <th>count</th>\n",
              "      <td>7.850000e+02</td>\n",
              "      <td>7.850000e+02</td>\n",
              "      <td>7.850000e+02</td>\n",
              "      <td>7.850000e+02</td>\n",
              "      <td>7.850000e+02</td>\n",
              "      <td>7.850000e+02</td>\n",
              "      <td>7.850000e+02</td>\n",
              "      <td>7.850000e+02</td>\n",
              "    </tr>\n",
              "    <tr>\n",
              "      <th>mean</th>\n",
              "      <td>6.336050e-17</td>\n",
              "      <td>1.674527e-16</td>\n",
              "      <td>3.168025e-17</td>\n",
              "      <td>-5.430900e-17</td>\n",
              "      <td>-2.715450e-17</td>\n",
              "      <td>-2.262875e-18</td>\n",
              "      <td>2.262875e-17</td>\n",
              "      <td>1.493497e-16</td>\n",
              "    </tr>\n",
              "    <tr>\n",
              "      <th>std</th>\n",
              "      <td>1.000638e+00</td>\n",
              "      <td>1.000638e+00</td>\n",
              "      <td>1.000638e+00</td>\n",
              "      <td>1.000638e+00</td>\n",
              "      <td>1.000638e+00</td>\n",
              "      <td>1.000638e+00</td>\n",
              "      <td>1.000638e+00</td>\n",
              "      <td>1.000638e+00</td>\n",
              "    </tr>\n",
              "    <tr>\n",
              "      <th>min</th>\n",
              "      <td>-1.548692e+00</td>\n",
              "      <td>-2.356816e+00</td>\n",
              "      <td>-5.043030e-01</td>\n",
              "      <td>-4.194656e-01</td>\n",
              "      <td>-6.270561e-01</td>\n",
              "      <td>-1.350460e+00</td>\n",
              "      <td>-3.297834e-01</td>\n",
              "      <td>-1.511462e+00</td>\n",
              "    </tr>\n",
              "    <tr>\n",
              "      <th>25%</th>\n",
              "      <td>-3.603018e-01</td>\n",
              "      <td>-5.820079e-01</td>\n",
              "      <td>-5.043030e-01</td>\n",
              "      <td>-4.194656e-01</td>\n",
              "      <td>-4.771639e-01</td>\n",
              "      <td>-1.350460e+00</td>\n",
              "      <td>-3.297834e-01</td>\n",
              "      <td>-1.511462e+00</td>\n",
              "    </tr>\n",
              "    <tr>\n",
              "      <th>50%</th>\n",
              "      <td>8.280886e-01</td>\n",
              "      <td>0.000000e+00</td>\n",
              "      <td>-5.043030e-01</td>\n",
              "      <td>-4.194656e-01</td>\n",
              "      <td>-3.517912e-01</td>\n",
              "      <td>7.404887e-01</td>\n",
              "      <td>-3.297834e-01</td>\n",
              "      <td>6.616109e-01</td>\n",
              "    </tr>\n",
              "    <tr>\n",
              "      <th>75%</th>\n",
              "      <td>8.280886e-01</td>\n",
              "      <td>3.934607e-01</td>\n",
              "      <td>4.636135e-01</td>\n",
              "      <td>-4.194656e-01</td>\n",
              "      <td>-3.855869e-02</td>\n",
              "      <td>7.404887e-01</td>\n",
              "      <td>-3.297834e-01</td>\n",
              "      <td>6.616109e-01</td>\n",
              "    </tr>\n",
              "    <tr>\n",
              "      <th>max</th>\n",
              "      <td>8.280886e-01</td>\n",
              "      <td>4.132757e+00</td>\n",
              "      <td>7.239029e+00</td>\n",
              "      <td>9.558731e+00</td>\n",
              "      <td>9.098892e+00</td>\n",
              "      <td>7.404887e-01</td>\n",
              "      <td>3.032294e+00</td>\n",
              "      <td>6.616109e-01</td>\n",
              "    </tr>\n",
              "  </tbody>\n",
              "</table>\n",
              "</div>\n",
              "      <button class=\"colab-df-convert\" onclick=\"convertToInteractive('df-b47274f5-1540-49b0-9c46-712484cc3c20')\"\n",
              "              title=\"Convert this dataframe to an interactive table.\"\n",
              "              style=\"display:none;\">\n",
              "        \n",
              "  <svg xmlns=\"http://www.w3.org/2000/svg\" height=\"24px\"viewBox=\"0 0 24 24\"\n",
              "       width=\"24px\">\n",
              "    <path d=\"M0 0h24v24H0V0z\" fill=\"none\"/>\n",
              "    <path d=\"M18.56 5.44l.94 2.06.94-2.06 2.06-.94-2.06-.94-.94-2.06-.94 2.06-2.06.94zm-11 1L8.5 8.5l.94-2.06 2.06-.94-2.06-.94L8.5 2.5l-.94 2.06-2.06.94zm10 10l.94 2.06.94-2.06 2.06-.94-2.06-.94-.94-2.06-.94 2.06-2.06.94z\"/><path d=\"M17.41 7.96l-1.37-1.37c-.4-.4-.92-.59-1.43-.59-.52 0-1.04.2-1.43.59L10.3 9.45l-7.72 7.72c-.78.78-.78 2.05 0 2.83L4 21.41c.39.39.9.59 1.41.59.51 0 1.02-.2 1.41-.59l7.78-7.78 2.81-2.81c.8-.78.8-2.07 0-2.86zM5.41 20L4 18.59l7.72-7.72 1.47 1.35L5.41 20z\"/>\n",
              "  </svg>\n",
              "      </button>\n",
              "      \n",
              "  <style>\n",
              "    .colab-df-container {\n",
              "      display:flex;\n",
              "      flex-wrap:wrap;\n",
              "      gap: 12px;\n",
              "    }\n",
              "\n",
              "    .colab-df-convert {\n",
              "      background-color: #E8F0FE;\n",
              "      border: none;\n",
              "      border-radius: 50%;\n",
              "      cursor: pointer;\n",
              "      display: none;\n",
              "      fill: #1967D2;\n",
              "      height: 32px;\n",
              "      padding: 0 0 0 0;\n",
              "      width: 32px;\n",
              "    }\n",
              "\n",
              "    .colab-df-convert:hover {\n",
              "      background-color: #E2EBFA;\n",
              "      box-shadow: 0px 1px 2px rgba(60, 64, 67, 0.3), 0px 1px 3px 1px rgba(60, 64, 67, 0.15);\n",
              "      fill: #174EA6;\n",
              "    }\n",
              "\n",
              "    [theme=dark] .colab-df-convert {\n",
              "      background-color: #3B4455;\n",
              "      fill: #D2E3FC;\n",
              "    }\n",
              "\n",
              "    [theme=dark] .colab-df-convert:hover {\n",
              "      background-color: #434B5C;\n",
              "      box-shadow: 0px 1px 3px 1px rgba(0, 0, 0, 0.15);\n",
              "      filter: drop-shadow(0px 1px 2px rgba(0, 0, 0, 0.3));\n",
              "      fill: #FFFFFF;\n",
              "    }\n",
              "  </style>\n",
              "\n",
              "      <script>\n",
              "        const buttonEl =\n",
              "          document.querySelector('#df-b47274f5-1540-49b0-9c46-712484cc3c20 button.colab-df-convert');\n",
              "        buttonEl.style.display =\n",
              "          google.colab.kernel.accessAllowed ? 'block' : 'none';\n",
              "\n",
              "        async function convertToInteractive(key) {\n",
              "          const element = document.querySelector('#df-b47274f5-1540-49b0-9c46-712484cc3c20');\n",
              "          const dataTable =\n",
              "            await google.colab.kernel.invokeFunction('convertToInteractive',\n",
              "                                                     [key], {});\n",
              "          if (!dataTable) return;\n",
              "\n",
              "          const docLinkHtml = 'Like what you see? Visit the ' +\n",
              "            '<a target=\"_blank\" href=https://colab.research.google.com/notebooks/data_table.ipynb>data table notebook</a>'\n",
              "            + ' to learn more about interactive tables.';\n",
              "          element.innerHTML = '';\n",
              "          dataTable['output_type'] = 'display_data';\n",
              "          await google.colab.output.renderOutput(dataTable, element);\n",
              "          const docLink = document.createElement('div');\n",
              "          docLink.innerHTML = docLinkHtml;\n",
              "          element.appendChild(docLink);\n",
              "        }\n",
              "      </script>\n",
              "    </div>\n",
              "  </div>\n",
              "  "
            ]
          },
          "metadata": {},
          "execution_count": 59
        }
      ],
      "source": [
        "# visualizando a estatística descritiva do subconjunto de dados de treino\n",
        "X_train_scal.describe()"
      ]
    },
    {
      "cell_type": "markdown",
      "metadata": {
        "id": "e2JydErxw9Pk"
      },
      "source": [
        "#### **5. Treinamento do modelo `KNN`**"
      ]
    },
    {
      "cell_type": "code",
      "execution_count": 60,
      "metadata": {
        "id": "unSusxpovJi3"
      },
      "outputs": [],
      "source": [
        "# instanciando o modelo \"baseline\"\n",
        "knn_baseline = KNeighborsClassifier(n_jobs=-1)"
      ]
    },
    {
      "cell_type": "code",
      "execution_count": 61,
      "metadata": {
        "colab": {
          "base_uri": "https://localhost:8080/"
        },
        "id": "49KxW3whvJgH",
        "outputId": "76618a65-55f2-4e5d-9ef7-8f6adb6673de"
      },
      "outputs": [
        {
          "output_type": "execute_result",
          "data": {
            "text/plain": [
              "KNeighborsClassifier(n_jobs=-1)"
            ]
          },
          "metadata": {},
          "execution_count": 61
        }
      ],
      "source": [
        "# treinando o modelo com os subconjuntos de treino - X_train_scal e y_train\n",
        "knn_baseline.fit(X_train_scal, y_train)"
      ]
    },
    {
      "cell_type": "markdown",
      "metadata": {
        "id": "QZIyHWHDxagV"
      },
      "source": [
        "#### **6. Avaliação do modelo _baseline_**"
      ]
    },
    {
      "cell_type": "code",
      "execution_count": 62,
      "metadata": {
        "colab": {
          "base_uri": "https://localhost:8080/"
        },
        "id": "Z_YfwMMQvJdL",
        "outputId": "32c7bf7b-b3db-4bb4-f85c-f2b99e67771d"
      },
      "outputs": [
        {
          "output_type": "stream",
          "name": "stdout",
          "text": [
            "Acurácia: 0.79\n"
          ]
        }
      ],
      "source": [
        "# avaliando a acurácia do modelo com os subconjuntos de teste\n",
        "score_knn = knn_baseline.score(X_test_scal, y_test)\n",
        "print('Acurácia: %.2f' % score_knn) "
      ]
    },
    {
      "cell_type": "markdown",
      "metadata": {
        "id": "m5Sd_SA_0oOt"
      },
      "source": [
        "#### **7. Predição do modelo _baseline_**"
      ]
    },
    {
      "cell_type": "code",
      "execution_count": 63,
      "metadata": {
        "id": "iScw4xiWvJab"
      },
      "outputs": [],
      "source": [
        "# realizando a predição com os dados de teste\n",
        "y_pred_knn = knn_baseline.predict(X_test_scal)"
      ]
    },
    {
      "cell_type": "code",
      "execution_count": 64,
      "metadata": {
        "colab": {
          "base_uri": "https://localhost:8080/"
        },
        "id": "TVZ4SZgGvJXT",
        "outputId": "f6b7ec18-e420-4ff3-a96d-e9a887b1f689"
      },
      "outputs": [
        {
          "output_type": "execute_result",
          "data": {
            "text/plain": [
              "array([0, 1, 0, 0, 0, 0, 0, 0, 0, 1, 0, 0, 1, 0, 0, 1, 0, 1, 1, 0, 1, 0,\n",
              "       0, 0, 0, 1, 0, 1, 1, 1, 0, 1, 1, 1, 0, 0, 1, 0, 1, 0, 1, 0, 1, 0,\n",
              "       0, 0, 0, 1, 1, 1, 1, 0, 0, 1, 0, 0, 1, 1, 0, 0, 0, 0, 1, 0, 1, 1,\n",
              "       1, 0, 0, 0, 1, 0, 0, 0, 1, 0, 0, 1, 0, 1, 0, 0, 0, 0, 0, 0, 0, 1,\n",
              "       1, 1, 1, 0, 1, 0, 0, 0, 0, 1, 0, 1, 0, 0, 1, 1, 0, 0, 0, 0, 1, 1,\n",
              "       0, 0, 0, 1, 1, 0, 1, 0, 0, 1, 0, 0, 0, 1, 0, 0, 0, 0, 1, 0, 0, 1,\n",
              "       0, 1, 0, 1, 0, 1, 0, 0, 0, 0, 0, 1, 0, 1, 0, 0, 0, 0, 0, 0, 0, 0,\n",
              "       0, 1, 1, 0, 0, 0, 0, 1, 0, 0, 1, 0, 0, 1, 0, 1, 1, 1, 1, 0, 1, 1,\n",
              "       1, 0, 1, 0, 1, 0, 0, 1, 0, 1, 0, 1, 1, 1, 0, 0, 0, 0, 0, 1, 0, 0,\n",
              "       1, 1, 0, 0, 0, 0, 0, 0, 1, 0, 1, 0, 0, 1, 0, 1, 0, 1, 1, 1, 1, 0,\n",
              "       1, 0, 1, 0, 0, 0, 0, 0, 1, 0, 0, 0, 0, 0, 0, 1, 0, 0, 0, 0, 0, 0,\n",
              "       0, 0, 0, 0, 0, 0, 0, 1, 0, 0, 1, 1, 0, 0, 0, 1, 1, 0, 0, 1, 0, 0,\n",
              "       1, 0, 0, 0, 0, 0, 1, 0, 1, 0, 1, 1, 0, 0, 0, 0, 0, 0, 0, 0, 0, 1,\n",
              "       0, 1, 0, 0, 1, 1, 1, 1, 1, 0, 0, 1, 0, 0, 0, 1, 0, 1, 1, 0, 0, 0,\n",
              "       0, 0, 1, 0, 0, 0, 1, 0, 1, 1, 0, 0, 1, 0, 1, 1, 0, 0, 0, 1, 0, 0,\n",
              "       0, 0, 0, 0, 1, 0, 0, 1, 1, 0, 0, 0, 0, 0, 0, 1, 1, 0, 1, 1, 0, 1,\n",
              "       0, 0, 0, 0, 0, 1, 0, 1, 1, 0, 0, 0, 1, 1, 0, 0, 1, 1, 0, 1, 0, 0,\n",
              "       1, 1, 1, 0, 0, 0, 1, 0, 1, 0, 0, 0, 0, 0, 0, 1, 0, 0, 1, 0, 0, 1,\n",
              "       0, 0, 0, 0, 0, 0, 0, 0, 0, 0, 0, 0, 0, 0, 0, 0, 0, 0, 1, 0, 0, 1,\n",
              "       1, 0, 0, 0, 0, 0, 0, 1, 1, 0, 0, 0, 0, 0, 0, 0, 1, 1, 0, 1, 0, 0,\n",
              "       0, 1, 0, 0, 0, 1, 0, 0, 1, 0, 0, 0, 1, 0, 0, 1, 1, 1, 1, 1, 0, 0,\n",
              "       1, 0, 0, 1, 1, 0, 0, 1, 0, 0, 0, 0, 0, 1, 0, 0, 0, 0, 0, 1, 1, 1,\n",
              "       0, 0, 0, 1, 1, 1, 1, 1, 0, 1, 0, 0, 0, 1, 0, 1, 0, 0, 1, 0, 0, 1,\n",
              "       0, 0, 0, 0, 0, 0, 0, 0, 0, 0, 1, 1, 1, 0, 1, 1, 0, 0])"
            ]
          },
          "metadata": {},
          "execution_count": 64
        }
      ],
      "source": [
        "# visualizando as predições\n",
        "y_pred_knn"
      ]
    },
    {
      "cell_type": "code",
      "execution_count": 65,
      "metadata": {
        "colab": {
          "base_uri": "https://localhost:8080/"
        },
        "id": "m2eeiGIcvJUT",
        "outputId": "c4870422-48bf-4bad-a957-b3dea0a846f6"
      },
      "outputs": [
        {
          "output_type": "stream",
          "name": "stdout",
          "text": [
            "Acurácia: 0.79\n"
          ]
        }
      ],
      "source": [
        "# avaliando o modelo sobre os dados de teste utilizando a métrica de acurácia (0-1)\n",
        "# para isso, utilizaremos a função \"accuracy_score\"\n",
        "acc_knn = accuracy_score(y_test, y_pred_knn)\n",
        "print('Acurácia: %.2f' % acc_knn)"
      ]
    },
    {
      "cell_type": "code",
      "execution_count": 66,
      "metadata": {
        "colab": {
          "base_uri": "https://localhost:8080/"
        },
        "id": "Zxwj7f9IxlbW",
        "outputId": "0a588320-7f41-4c2a-d75d-b187414d042f"
      },
      "outputs": [
        {
          "output_type": "stream",
          "name": "stdout",
          "text": [
            "Precisão: 0.78\n"
          ]
        }
      ],
      "source": [
        "# avaliando o modelo sobre os dados de teste utilizando a métrica de precisão (0-1)\n",
        "# para isso, utilizaremos a função \"precision_score\"\n",
        "prec_knn = precision_score(y_test, y_pred_knn)\n",
        "print('Precisão: %.2f' % prec_knn)"
      ]
    },
    {
      "cell_type": "code",
      "execution_count": 67,
      "metadata": {
        "id": "1FSdTPHNO7kg"
      },
      "outputs": [],
      "source": [
        "# importando a função para gerar um relatório das metricas \n",
        "# e plotar a matriz de confusão\n",
        "from sklearn.metrics import classification_report, plot_confusion_matrix"
      ]
    },
    {
      "cell_type": "code",
      "execution_count": 68,
      "metadata": {
        "id": "vkYlHGAaPCPD"
      },
      "outputs": [],
      "source": [
        "# iremos criar uma função para otimizar a aplicação do modelo \n",
        "# e a exibição do relatório e da matriz de confusão\n",
        "def classification_results(classifier, X_test, y_test, y_pred, cmap='Blues'):\n",
        "    print('Resultados do modelo:', classifier.__class__.__name__)\n",
        "    \n",
        "    y_pred = classifier.predict(X_test_scal)\n",
        "    \n",
        "    print(classification_report(y_test, y_pred))\n",
        "    \n",
        "    plot_confusion_matrix(classifier, X_test_scal, y_test, cmap=cmap);"
      ]
    },
    {
      "cell_type": "code",
      "execution_count": 69,
      "metadata": {
        "colab": {
          "base_uri": "https://localhost:8080/",
          "height": 453
        },
        "id": "AfHcsOGhKxiF",
        "outputId": "28b481cd-b7a2-459b-ae3a-010b3afd4db7"
      },
      "outputs": [
        {
          "output_type": "stream",
          "name": "stdout",
          "text": [
            "Resultados do modelo: KNeighborsClassifier\n",
            "              precision    recall  f1-score   support\n",
            "\n",
            "           0       0.79      0.87      0.83       309\n",
            "           1       0.78      0.67      0.72       215\n",
            "\n",
            "    accuracy                           0.79       524\n",
            "   macro avg       0.79      0.77      0.78       524\n",
            "weighted avg       0.79      0.79      0.78       524\n",
            "\n"
          ]
        },
        {
          "output_type": "display_data",
          "data": {
            "text/plain": [
              "<Figure size 432x288 with 2 Axes>"
            ],
            "image/png": "[encoded data removed]"
          },
          "metadata": {
            "needs_background": "light"
          }
        }
      ],
      "source": [
        "# aplicando a função criada e passando como argumentos o modelo \n",
        "# e as bases de testes - \"X_test\" e \"y_test\"\n",
        "classification_results(knn_baseline, X_test_scal, y_test, y_pred_knn)"
      ]
    },
    {
      "cell_type": "markdown",
      "metadata": {
        "id": "8FELHWEO2DqX"
      },
      "source": [
        "#### **8. Otimização do modelo _baseline_**"
      ]
    },
    {
      "cell_type": "code",
      "execution_count": 70,
      "metadata": {
        "id": "z14RFIcOPQuK"
      },
      "outputs": [],
      "source": [
        "# visualizando a documentação\n",
        "?KNeighborsClassifier"
      ]
    },
    {
      "cell_type": "code",
      "execution_count": 71,
      "metadata": {
        "colab": {
          "base_uri": "https://localhost:8080/"
        },
        "id": "RbkefUQPO6I9",
        "outputId": "884ea47a-a4a7-451f-9e6f-eb9e1b744373"
      },
      "outputs": [
        {
          "output_type": "stream",
          "name": "stdout",
          "text": [
            "dict_keys(['algorithm', 'leaf_size', 'metric', 'metric_params', 'n_jobs', 'n_neighbors', 'p', 'weights'])\n"
          ]
        }
      ],
      "source": [
        "# imprimindo os parâmetros\n",
        "print(KNeighborsClassifier().get_params().keys())"
      ]
    },
    {
      "cell_type": "code",
      "execution_count": 72,
      "metadata": {
        "colab": {
          "base_uri": "https://localhost:8080/"
        },
        "id": "YlrYFHo4xlY0",
        "outputId": "da9436d9-b24f-4df1-acb2-170984236e81"
      },
      "outputs": [
        {
          "output_type": "execute_result",
          "data": {
            "text/plain": [
              "{'algorithm': ['auto', 'ball_tree', 'kd_tree', 'brute'],\n",
              " 'leaf_size': [30, 35, 40, 45, 50, 55, 60, 65, 70, 75, 80, 85, 90, 95, 100],\n",
              " 'metric': ['minkowski', 'euclidean'],\n",
              " 'n_neighbors': [2, 3, 4, 5],\n",
              " 'p': [1, 2],\n",
              " 'weights': ['uniform', 'distance']}"
            ]
          },
          "metadata": {},
          "execution_count": 72
        }
      ],
      "source": [
        "# otimização dos hiperparâmetros do modelo K-NN\n",
        "params_knn = {\n",
        "    'algorithm': ['auto', 'ball_tree', 'kd_tree', 'brute'],  # algoritmos para computar as distâncias\n",
        "    'leaf_size': [int(x) for x in np.linspace(start=30, stop=100, num=15)],\n",
        "    'metric': ['minkowski', 'euclidean'],\n",
        "    'n_neighbors': list(range(2, 6)),                        # número de vizinhos\n",
        "    'p': [1, 2],                                             # métrica de distância (manhattan = 1 | euclidiana = 2)\n",
        "    'weights': ['uniform', 'distance'],                      # função de pesos para predição\n",
        "}\n",
        "\n",
        "params_knn"
      ]
    },
    {
      "cell_type": "code",
      "execution_count": 73,
      "metadata": {
        "colab": {
          "base_uri": "https://localhost:8080/"
        },
        "id": "w1dLwaKQxlV8",
        "outputId": "9e723ad8-550f-4505-a301-f38523124552"
      },
      "outputs": [
        {
          "output_type": "execute_result",
          "data": {
            "text/plain": [
              "GridSearchCV(cv=10, estimator=KNeighborsClassifier(n_jobs=-1), n_jobs=-1,\n",
              "             param_grid={'algorithm': ['auto', 'ball_tree', 'kd_tree', 'brute'],\n",
              "                         'leaf_size': [30, 35, 40, 45, 50, 55, 60, 65, 70, 75,\n",
              "                                       80, 85, 90, 95, 100],\n",
              "                         'metric': ['minkowski', 'euclidean'],\n",
              "                         'n_neighbors': [2, 3, 4, 5], 'p': [1, 2],\n",
              "                         'weights': ['uniform', 'distance']},\n",
              "             verbose=2)"
            ]
          },
          "metadata": {},
          "execution_count": 73
        }
      ],
      "source": [
        "# definindo a busca em grade para o processo de otimização\n",
        "clf_baseline = GridSearchCV(estimator=knn_baseline, param_grid=params_knn, \n",
        "                   cv=10, verbose=2, n_jobs=-1)\n",
        "\n",
        "# visualizando os hiperparâmetros\n",
        "clf_baseline"
      ]
    },
    {
      "cell_type": "code",
      "execution_count": 74,
      "metadata": {
        "colab": {
          "base_uri": "https://localhost:8080/"
        },
        "id": "EXxtH3FixlQ8",
        "outputId": "14eefdb8-ca36-41cd-92af-8f5654f46c19"
      },
      "outputs": [
        {
          "output_type": "stream",
          "name": "stdout",
          "text": [
            "Fitting 10 folds for each of 1920 candidates, totalling 19200 fits\n"
          ]
        },
        {
          "output_type": "execute_result",
          "data": {
            "text/plain": [
              "GridSearchCV(cv=10, estimator=KNeighborsClassifier(n_jobs=-1), n_jobs=-1,\n",
              "             param_grid={'algorithm': ['auto', 'ball_tree', 'kd_tree', 'brute'],\n",
              "                         'leaf_size': [30, 35, 40, 45, 50, 55, 60, 65, 70, 75,\n",
              "                                       80, 85, 90, 95, 100],\n",
              "                         'metric': ['minkowski', 'euclidean'],\n",
              "                         'n_neighbors': [2, 3, 4, 5], 'p': [1, 2],\n",
              "                         'weights': ['uniform', 'distance']},\n",
              "             verbose=2)"
            ]
          },
          "metadata": {},
          "execution_count": 74
        }
      ],
      "source": [
        "# executando o método de busca para todos os conjuntos de hiperparâmetros\n",
        "best_model_knn = clf_baseline.fit(X_train_scal, y_train)\n",
        "best_model_knn"
      ]
    },
    {
      "cell_type": "code",
      "execution_count": 75,
      "metadata": {
        "colab": {
          "base_uri": "https://localhost:8080/"
        },
        "id": "KdrEBoPUm4Zf",
        "outputId": "2d5bc404-e1bb-4356-b7a6-37412c1558ff"
      },
      "outputs": [
        {
          "output_type": "execute_result",
          "data": {
            "text/plain": [
              "{'algorithm': 'auto',\n",
              " 'leaf_size': 30,\n",
              " 'metric': 'minkowski',\n",
              " 'n_neighbors': 3,\n",
              " 'p': 1,\n",
              " 'weights': 'uniform'}"
            ]
          },
          "metadata": {},
          "execution_count": 75
        }
      ],
      "source": [
        "# visualizando o melhor hiperparâmetro\n",
        "best_model_knn.best_params_"
      ]
    },
    {
      "cell_type": "code",
      "execution_count": 76,
      "metadata": {
        "colab": {
          "base_uri": "https://localhost:8080/"
        },
        "id": "KQCbHR7gxlOE",
        "outputId": "8f1d6c7a-950c-4493-ec01-fc84bf70bc8c"
      },
      "outputs": [
        {
          "output_type": "execute_result",
          "data": {
            "text/plain": [
              "KNeighborsClassifier(n_jobs=-1, n_neighbors=3, p=1)"
            ]
          },
          "metadata": {},
          "execution_count": 76
        }
      ],
      "source": [
        "# visualizando os melhores estimadores\n",
        "best_model_knn.best_estimator_"
      ]
    },
    {
      "cell_type": "code",
      "execution_count": 77,
      "metadata": {
        "colab": {
          "base_uri": "https://localhost:8080/"
        },
        "id": "Z3XDfUDn_wxz",
        "outputId": "b4916744-fc5f-49ab-940c-0412f62d6e7a"
      },
      "outputs": [
        {
          "output_type": "execute_result",
          "data": {
            "text/plain": [
              "KNeighborsClassifier(n_jobs=-1, n_neighbors=3, p=1)"
            ]
          },
          "metadata": {},
          "execution_count": 77
        }
      ],
      "source": [
        "# instanciando o modelo com os melhores parâmetros\n",
        "knn_bestParams = best_model_knn.best_estimator_\n",
        "knn_bestParams"
      ]
    },
    {
      "cell_type": "code",
      "execution_count": 78,
      "metadata": {
        "colab": {
          "base_uri": "https://localhost:8080/"
        },
        "id": "y4lX97MV_wtN",
        "outputId": "9f56da6b-4681-442d-f67c-0b59d32e593b"
      },
      "outputs": [
        {
          "output_type": "execute_result",
          "data": {
            "text/plain": [
              "KNeighborsClassifier(n_jobs=-1, n_neighbors=3, p=1)"
            ]
          },
          "metadata": {},
          "execution_count": 78
        }
      ],
      "source": [
        "# treinando o modelo com os subconjuntos de treino - X_train_scal e y_train\n",
        "knn_bestParams.fit(X_train_scal, y_train)"
      ]
    },
    {
      "cell_type": "code",
      "execution_count": 79,
      "metadata": {
        "colab": {
          "base_uri": "https://localhost:8080/"
        },
        "id": "KXzduej5_wn0",
        "outputId": "40aabc52-9459-4f41-f5ea-012d31162732"
      },
      "outputs": [
        {
          "output_type": "stream",
          "name": "stdout",
          "text": [
            "Acurácia: 0.76\n"
          ]
        }
      ],
      "source": [
        "# avaliando a acurácia do modelo com os subconjuntos de teste\n",
        "score_knn2 = knn_bestParams.score(X_test_scal, y_test)\n",
        "print('Acurácia: %.2f' % score_knn2)"
      ]
    },
    {
      "cell_type": "code",
      "execution_count": 80,
      "metadata": {
        "id": "ZhWBY6TaxWu3"
      },
      "outputs": [],
      "source": [
        "# realizando a predição com os dados de teste\n",
        "y_pred_knn2 = knn_bestParams.predict(X_test_scal)"
      ]
    },
    {
      "cell_type": "code",
      "execution_count": 81,
      "metadata": {
        "colab": {
          "base_uri": "https://localhost:8080/",
          "height": 453
        },
        "id": "1W3reE-XrPgG",
        "outputId": "118f6ace-f6db-49d0-c9e3-a8f7d4d195bd"
      },
      "outputs": [
        {
          "output_type": "stream",
          "name": "stdout",
          "text": [
            "Resultados do modelo: KNeighborsClassifier\n",
            "              precision    recall  f1-score   support\n",
            "\n",
            "           0       0.77      0.85      0.81       309\n",
            "           1       0.75      0.63      0.68       215\n",
            "\n",
            "    accuracy                           0.76       524\n",
            "   macro avg       0.76      0.74      0.75       524\n",
            "weighted avg       0.76      0.76      0.76       524\n",
            "\n"
          ]
        },
        {
          "output_type": "display_data",
          "data": {
            "text/plain": [
              "<Figure size 432x288 with 2 Axes>"
            ],
            "image/png": "[encoded data removed]"
          },
          "metadata": {
            "needs_background": "light"
          }
        }
      ],
      "source": [
        "# aplicando a função criada e passando como argumentos o modelo \n",
        "# e as bases de testes - \"X_test_scal\" e \"y_test\"\n",
        "classification_results(knn_bestParams, X_test_scal, y_test, y_pred_knn2)"
      ]
    },
    {
      "cell_type": "markdown",
      "metadata": {
        "id": "DE18xTxrCxAR"
      },
      "source": [
        "### **[EXTRA] 5. Treinamento do modelo `Random Forest`**"
      ]
    },
    {
      "cell_type": "code",
      "execution_count": 82,
      "metadata": {
        "id": "8JBdj2tMXzG3"
      },
      "outputs": [],
      "source": [
        "# importando a função\n",
        "from sklearn.ensemble import RandomForestClassifier"
      ]
    },
    {
      "cell_type": "code",
      "execution_count": 83,
      "metadata": {
        "id": "Vvw4p5rJCwuD"
      },
      "outputs": [],
      "source": [
        "# instanciando o modelo\n",
        "model_randFor = RandomForestClassifier(n_estimators=250, random_state=0, n_jobs=-1)"
      ]
    },
    {
      "cell_type": "code",
      "execution_count": 84,
      "metadata": {
        "colab": {
          "base_uri": "https://localhost:8080/"
        },
        "id": "QFIQNZNhCwrH",
        "outputId": "f8f81f35-5bc0-4e64-b7ae-6bb080f07c14"
      },
      "outputs": [
        {
          "output_type": "execute_result",
          "data": {
            "text/plain": [
              "RandomForestClassifier(n_estimators=250, n_jobs=-1, random_state=0)"
            ]
          },
          "metadata": {},
          "execution_count": 84
        }
      ],
      "source": [
        "# treinando o modelo com os subconjuntos de treino - X_train_scal e y_train\n",
        "model_randFor.fit(X_train_scal, y_train)"
      ]
    },
    {
      "cell_type": "markdown",
      "metadata": {
        "id": "QSM5W2o6rCfA"
      },
      "source": [
        "#### **[EXTRA] 6. Avaliação do segundo modelo**"
      ]
    },
    {
      "cell_type": "code",
      "execution_count": 85,
      "metadata": {
        "colab": {
          "base_uri": "https://localhost:8080/"
        },
        "id": "lNRXo4BjCwoe",
        "outputId": "0cff8fe7-6384-4d5e-9d68-6d2a3184382b"
      },
      "outputs": [
        {
          "output_type": "stream",
          "name": "stdout",
          "text": [
            "Acurácia: 0.79\n"
          ]
        }
      ],
      "source": [
        "# avaliando a acurácia do modelo com os subconjuntos de teste\n",
        "score_randFor = model_randFor.score(X_test_scal, y_test)\n",
        "print('Acurácia: %.2f' % score_randFor) "
      ]
    },
    {
      "cell_type": "markdown",
      "metadata": {
        "id": "eYpgpxgBrjvi"
      },
      "source": [
        "#### **[EXTRA] 7. Predição do segundo modelo**"
      ]
    },
    {
      "cell_type": "code",
      "execution_count": 86,
      "metadata": {
        "id": "IHC8ztBNCwlm"
      },
      "outputs": [],
      "source": [
        "# realizando a predição com os dados de teste\n",
        "y_pred_randFor = model_randFor.predict(X_test_scal)"
      ]
    },
    {
      "cell_type": "code",
      "execution_count": 87,
      "metadata": {
        "colab": {
          "base_uri": "https://localhost:8080/"
        },
        "id": "_r4o8V97CwkD",
        "outputId": "5e956b9c-ef8e-49af-a01b-56dad0f28991"
      },
      "outputs": [
        {
          "output_type": "execute_result",
          "data": {
            "text/plain": [
              "array([0, 1, 0, 0, 0, 0, 0, 0, 0, 1, 0, 0, 0, 0, 0, 1, 0, 1, 1, 0, 0, 0,\n",
              "       0, 1, 1, 1, 0, 1, 0, 1, 0, 0, 1, 1, 0, 0, 1, 0, 1, 0, 1, 0, 1, 0,\n",
              "       0, 0, 0, 0, 1, 1, 1, 0, 0, 1, 1, 0, 0, 0, 0, 0, 0, 0, 1, 0, 1, 1,\n",
              "       1, 0, 0, 0, 1, 0, 0, 0, 1, 0, 0, 1, 0, 1, 0, 0, 0, 1, 1, 0, 0, 1,\n",
              "       1, 1, 1, 0, 0, 0, 0, 0, 0, 1, 0, 1, 0, 0, 1, 1, 0, 0, 0, 0, 1, 1,\n",
              "       0, 0, 0, 1, 1, 0, 0, 1, 0, 1, 0, 0, 0, 1, 0, 0, 0, 1, 1, 0, 1, 1,\n",
              "       0, 0, 0, 1, 0, 0, 0, 0, 0, 0, 0, 1, 0, 1, 0, 0, 0, 0, 0, 0, 0, 0,\n",
              "       0, 0, 1, 0, 0, 0, 0, 1, 0, 0, 1, 0, 0, 1, 0, 1, 1, 1, 1, 0, 1, 0,\n",
              "       1, 1, 1, 0, 1, 0, 0, 1, 0, 1, 0, 1, 1, 1, 0, 0, 0, 0, 0, 1, 0, 0,\n",
              "       1, 1, 0, 0, 0, 0, 0, 0, 1, 0, 1, 0, 0, 1, 0, 1, 0, 1, 1, 1, 1, 0,\n",
              "       1, 1, 1, 0, 0, 1, 0, 1, 1, 0, 0, 1, 0, 0, 0, 1, 0, 0, 0, 0, 0, 0,\n",
              "       0, 0, 0, 0, 0, 0, 0, 1, 0, 0, 1, 1, 0, 0, 0, 1, 1, 1, 0, 1, 0, 0,\n",
              "       1, 0, 1, 0, 0, 0, 1, 0, 1, 0, 1, 1, 0, 0, 0, 0, 0, 0, 0, 0, 0, 1,\n",
              "       0, 1, 0, 0, 1, 1, 1, 1, 1, 0, 0, 1, 0, 0, 0, 1, 0, 1, 1, 0, 0, 0,\n",
              "       0, 0, 1, 0, 0, 0, 1, 0, 0, 1, 0, 0, 1, 0, 1, 1, 0, 0, 0, 1, 0, 1,\n",
              "       1, 0, 0, 0, 1, 0, 0, 1, 1, 0, 0, 0, 0, 0, 0, 1, 1, 0, 1, 0, 0, 1,\n",
              "       0, 0, 0, 0, 1, 1, 0, 1, 1, 0, 0, 0, 1, 1, 1, 1, 1, 1, 0, 1, 0, 0,\n",
              "       1, 1, 1, 0, 0, 0, 1, 0, 1, 0, 0, 0, 0, 0, 0, 1, 0, 0, 1, 0, 0, 1,\n",
              "       0, 0, 0, 0, 0, 0, 0, 0, 0, 0, 0, 1, 0, 0, 0, 0, 0, 0, 1, 0, 0, 0,\n",
              "       0, 0, 0, 0, 1, 0, 0, 0, 1, 0, 0, 0, 0, 0, 0, 0, 1, 1, 0, 1, 0, 0,\n",
              "       0, 1, 0, 0, 0, 1, 0, 0, 1, 0, 0, 0, 1, 0, 0, 0, 1, 1, 0, 1, 0, 0,\n",
              "       1, 0, 0, 0, 1, 0, 0, 0, 1, 0, 0, 0, 0, 0, 0, 0, 0, 0, 0, 1, 1, 1,\n",
              "       0, 0, 0, 1, 1, 1, 1, 0, 0, 1, 0, 0, 0, 1, 0, 1, 0, 0, 1, 0, 0, 0,\n",
              "       0, 0, 0, 0, 0, 0, 0, 1, 0, 0, 0, 1, 1, 0, 1, 0, 0, 0])"
            ]
          },
          "metadata": {},
          "execution_count": 87
        }
      ],
      "source": [
        "# visualizando as predições\n",
        "y_pred_randFor"
      ]
    },
    {
      "cell_type": "code",
      "execution_count": 88,
      "metadata": {
        "colab": {
          "base_uri": "https://localhost:8080/"
        },
        "id": "c1z0ORaRCwgZ",
        "outputId": "b3b4424b-6c6c-4e41-d3ff-b0fa24b277ed"
      },
      "outputs": [
        {
          "output_type": "stream",
          "name": "stdout",
          "text": [
            "Acurácia: 0.79\n"
          ]
        }
      ],
      "source": [
        "# avaliando o modelo sobre os dados de teste utilizando a métrica de acurácia (0-1)\n",
        "# para isso, utilizaremos a função \"accuracy_score\"\n",
        "acc_randFor = accuracy_score(y_test, y_pred_randFor)\n",
        "print('Acurácia: %.2f' % acc_randFor)"
      ]
    },
    {
      "cell_type": "code",
      "execution_count": 89,
      "metadata": {
        "colab": {
          "base_uri": "https://localhost:8080/"
        },
        "id": "VIB9sMFPCwd9",
        "outputId": "159afc32-02fc-4713-caae-e377955b6056"
      },
      "outputs": [
        {
          "output_type": "stream",
          "name": "stdout",
          "text": [
            "Precisão: 0.80\n"
          ]
        }
      ],
      "source": [
        "# avaliando o modelo sobre os dados de teste utilizando a métrica de precisão (0-1)\n",
        "# para isso, utilizaremos a função \"precision_score\"\n",
        "prec_randFor = precision_score(y_test, y_pred_randFor)\n",
        "print('Precisão: %.2f' % prec_randFor)"
      ]
    },
    {
      "cell_type": "code",
      "execution_count": 90,
      "metadata": {
        "colab": {
          "base_uri": "https://localhost:8080/",
          "height": 453
        },
        "id": "mNZShWq-CwbA",
        "outputId": "796eedd4-929c-4cff-bba1-3e1d41bc60f0"
      },
      "outputs": [
        {
          "output_type": "stream",
          "name": "stdout",
          "text": [
            "Resultados do modelo: RandomForestClassifier\n",
            "              precision    recall  f1-score   support\n",
            "\n",
            "           0       0.79      0.88      0.83       309\n",
            "           1       0.80      0.67      0.73       215\n",
            "\n",
            "    accuracy                           0.79       524\n",
            "   macro avg       0.79      0.78      0.78       524\n",
            "weighted avg       0.79      0.79      0.79       524\n",
            "\n"
          ]
        },
        {
          "output_type": "display_data",
          "data": {
            "text/plain": [
              "<Figure size 432x288 with 2 Axes>"
            ],
            "image/png": "[encoded data removed]"
          },
          "metadata": {
            "needs_background": "light"
          }
        }
      ],
      "source": [
        "# aplicando a função criada e passando como argumentos o modelo \n",
        "# e as bases de testes - \"X_test_scal\" e \"y_test\"\n",
        "classification_results(model_randFor, X_test_scal, y_test, y_pred_randFor)"
      ]
    },
    {
      "cell_type": "markdown",
      "metadata": {
        "id": "d75R7n3lsTzV"
      },
      "source": [
        "#### **[EXTRA] 8. Otimização do segundo modelo**"
      ]
    },
    {
      "cell_type": "code",
      "execution_count": 91,
      "metadata": {
        "colab": {
          "base_uri": "https://localhost:8080/"
        },
        "id": "Q_IMFoxGF2Ii",
        "outputId": "997f8b35-5271-4cb3-96e2-d55f169b5a35"
      },
      "outputs": [
        {
          "output_type": "stream",
          "name": "stdout",
          "text": [
            "dict_keys(['bootstrap', 'ccp_alpha', 'class_weight', 'criterion', 'max_depth', 'max_features', 'max_leaf_nodes', 'max_samples', 'min_impurity_decrease', 'min_samples_leaf', 'min_samples_split', 'min_weight_fraction_leaf', 'n_estimators', 'n_jobs', 'oob_score', 'random_state', 'verbose', 'warm_start'])\n"
          ]
        }
      ],
      "source": [
        "# imprimindo os parâmetros\n",
        "print(RandomForestClassifier().get_params().keys())"
      ]
    },
    {
      "cell_type": "code",
      "execution_count": 93,
      "metadata": {
        "id": "PYaiAinpF1q0"
      },
      "outputs": [],
      "source": [
        "# bootstrap = [True, False]\n",
        "# criterion = ['gini', 'entropy']\n",
        "# max_depth = [2, 6]\n",
        "# max_features = ['auto', 'sqrt']\n",
        "# min_samples_leaf = [2, 5]\n",
        "# min_samples_split = [2, 5]\n",
        "# n_estimators = [int(x) for x in np.linspace(start=100, stop=1_000, num=5)]\n",
        "\n",
        "# params_randFor = {\n",
        "#     'bootstrap': bootstrap,\n",
        "#     'criterion': criterion, \n",
        "#     'max_depth': max_depth,\n",
        "#     'max_features': max_features,\n",
        "#     'min_samples_leaf': min_samples_leaf, \n",
        "#     'min_samples_split': min_samples_split,\n",
        "#     'n_estimators': n_estimators\n",
        "# }\n",
        "\n",
        "# criando um dicionário com os parâmetros instanciados do \"Random Forest\"\n",
        "params_randFor = {\n",
        "    'bootstrap': [True, False],\n",
        "    'class_weight': ['balanced', 'balanced_subsample'],\n",
        "    'criterion': ['gini', 'entropy', 'log_loss'], \n",
        "    'max_depth': [int(x) for x in np.linspace(start=2, stop=20, num=9)], \n",
        "    'max_features': ['auto', 'sqrt', 'log2'],\n",
        "    'min_samples_leaf':[int(x) for x in np.linspace(start=5, stop=100, num=50)], \n",
        "    'min_samples_split': [int(x) for x in np.linspace(start=5, stop=10, num=50)], \n",
        "    'n_estimators': [int(x) for x in np.linspace(start=50, stop=1_000, num=100)]\n",
        "}\n",
        "\n",
        "# params_randFor"
      ]
    },
    {
      "cell_type": "code",
      "execution_count": 94,
      "metadata": {
        "colab": {
          "base_uri": "https://localhost:8080/"
        },
        "id": "V59OjIYcQJzj",
        "outputId": "0ea83076-9c94-42cf-9653-bafb80c06fce"
      },
      "outputs": [
        {
          "output_type": "execute_result",
          "data": {
            "text/plain": [
              "RandomForestClassifier(n_jobs=-1, random_state=0)"
            ]
          },
          "metadata": {},
          "execution_count": 94
        }
      ],
      "source": [
        "# instanciando o modelo\n",
        "model_randFor2 = RandomForestClassifier(n_jobs=-1, random_state=0)\n",
        "model_randFor2"
      ]
    },
    {
      "cell_type": "code",
      "execution_count": 95,
      "metadata": {
        "id": "cDaKDF8uQJw2"
      },
      "outputs": [],
      "source": [
        "# importando função para otimização dos hiperparâmetrsp\n",
        "from sklearn.model_selection import RandomizedSearchCV"
      ]
    },
    {
      "cell_type": "code",
      "execution_count": 96,
      "metadata": {
        "id": "97sd7JfLQJun"
      },
      "outputs": [],
      "source": [
        "# visualizando a documentação\n",
        "?RandomizedSearchCV"
      ]
    },
    {
      "cell_type": "code",
      "execution_count": 97,
      "metadata": {
        "id": "AQyavla6QJsA"
      },
      "outputs": [],
      "source": [
        "# instanciando o \"search\"\n",
        "randSearch_randFor = RandomizedSearchCV(\n",
        "    estimator=model_randFor2, param_distributions=params_randFor, \n",
        "    cv=10, random_state=0, n_jobs=-1\n",
        ")"
      ]
    },
    {
      "cell_type": "code",
      "execution_count": 98,
      "metadata": {
        "id": "s2bGH7baQJpf"
      },
      "outputs": [],
      "source": [
        "# treinando o \"search\" com os dados de treino\n",
        "best_model_randFor = randSearch_randFor.fit(X_train_scal, y_train)"
      ]
    },
    {
      "cell_type": "code",
      "execution_count": 99,
      "metadata": {
        "colab": {
          "base_uri": "https://localhost:8080/"
        },
        "id": "lxCL-hjytNpu",
        "outputId": "285d6bb7-5215-4413-ac41-237afcfecb43"
      },
      "outputs": [
        {
          "output_type": "execute_result",
          "data": {
            "text/plain": [
              "{'n_estimators': 88,\n",
              " 'min_samples_split': 5,\n",
              " 'min_samples_leaf': 88,\n",
              " 'max_features': 'log2',\n",
              " 'max_depth': 6,\n",
              " 'criterion': 'gini',\n",
              " 'class_weight': 'balanced',\n",
              " 'bootstrap': True}"
            ]
          },
          "metadata": {},
          "execution_count": 99
        }
      ],
      "source": [
        "# visualizando os melhores hiperparâmetros\n",
        "best_model_randFor.best_params_"
      ]
    },
    {
      "cell_type": "code",
      "execution_count": 100,
      "metadata": {
        "colab": {
          "base_uri": "https://localhost:8080/"
        },
        "id": "zztjVi1kQJmE",
        "outputId": "576c6a45-5644-43c6-8386-0ccb0576eeaa"
      },
      "outputs": [
        {
          "output_type": "execute_result",
          "data": {
            "text/plain": [
              "RandomForestClassifier(class_weight='balanced', max_depth=6,\n",
              "                       max_features='log2', min_samples_leaf=88,\n",
              "                       min_samples_split=5, n_estimators=88, n_jobs=-1,\n",
              "                       random_state=0)"
            ]
          },
          "metadata": {},
          "execution_count": 100
        }
      ],
      "source": [
        "# instanciando o modelo com os melhores parâmetros\n",
        "randFor_bestParams = best_model_randFor.best_estimator_\n",
        "randFor_bestParams"
      ]
    },
    {
      "cell_type": "code",
      "execution_count": 101,
      "metadata": {
        "colab": {
          "base_uri": "https://localhost:8080/"
        },
        "id": "j2Jr3hHhQJha",
        "outputId": "0ac00cfa-5628-44d6-f275-b29ee732946b"
      },
      "outputs": [
        {
          "output_type": "execute_result",
          "data": {
            "text/plain": [
              "RandomForestClassifier(class_weight='balanced', max_depth=6,\n",
              "                       max_features='log2', min_samples_leaf=88,\n",
              "                       min_samples_split=5, n_estimators=88, n_jobs=-1,\n",
              "                       random_state=0)"
            ]
          },
          "metadata": {},
          "execution_count": 101
        }
      ],
      "source": [
        "# treinando o modelo com os subconjuntos de treino - X_train_scal e y_train\n",
        "randFor_bestParams.fit(X_train_scal, y_train)"
      ]
    },
    {
      "cell_type": "code",
      "execution_count": 102,
      "metadata": {
        "colab": {
          "base_uri": "https://localhost:8080/"
        },
        "id": "ZejOWlhXk0Ae",
        "outputId": "c84747c6-495c-4969-96f9-a6ba24882f89"
      },
      "outputs": [
        {
          "output_type": "stream",
          "name": "stdout",
          "text": [
            "Acurácia: 0.77\n"
          ]
        }
      ],
      "source": [
        "# avaliando a acurácia do modelo com os subconjuntos de teste\n",
        "score_randFor2 = randFor_bestParams.score(X_test_scal, y_test)\n",
        "print('Acurácia: %.2f' % score_randFor2) "
      ]
    },
    {
      "cell_type": "code",
      "execution_count": 103,
      "metadata": {
        "id": "NTap2Th2kz-O"
      },
      "outputs": [],
      "source": [
        "# realizando a predição com os dados de teste\n",
        "y_pred_randFor2 = randFor_bestParams.predict(X_test_scal)"
      ]
    },
    {
      "cell_type": "code",
      "execution_count": 104,
      "metadata": {
        "colab": {
          "base_uri": "https://localhost:8080/",
          "height": 453
        },
        "id": "7EuTqnhmkz8n",
        "outputId": "19bc6bed-9a65-467d-a1f5-d09a97cdeb3b"
      },
      "outputs": [
        {
          "output_type": "stream",
          "name": "stdout",
          "text": [
            "Resultados do modelo: RandomForestClassifier\n",
            "              precision    recall  f1-score   support\n",
            "\n",
            "           0       0.80      0.83      0.81       309\n",
            "           1       0.74      0.70      0.72       215\n",
            "\n",
            "    accuracy                           0.77       524\n",
            "   macro avg       0.77      0.76      0.76       524\n",
            "weighted avg       0.77      0.77      0.77       524\n",
            "\n"
          ]
        },
        {
          "output_type": "display_data",
          "data": {
            "text/plain": [
              "<Figure size 432x288 with 2 Axes>"
            ],
            "image/png": "[encoded data removed]"
          },
          "metadata": {
            "needs_background": "light"
          }
        }
      ],
      "source": [
        "# aplicando a função criada e passando como argumentos o modelo \n",
        "# e as bases de testes - \"X_test\" e \"y_test\"\n",
        "classification_results(randFor_bestParams, X_test_scal, y_test, y_pred_randFor2)"
      ]
    },
    {
      "cell_type": "markdown",
      "metadata": {
        "id": "emWgbpnpttIL"
      },
      "source": [
        "#### **[EXTRA] 5. Treinamento do modelo `Light GBM` e `XG Boost`**"
      ]
    },
    {
      "cell_type": "code",
      "execution_count": 105,
      "metadata": {
        "id": "5MQdSBLEt7o5"
      },
      "outputs": [],
      "source": [
        "# importando as funções\n",
        "from lightgbm import LGBMClassifier\n",
        "from xgboost import XGBClassifier"
      ]
    },
    {
      "cell_type": "code",
      "execution_count": 106,
      "metadata": {
        "id": "ibC7UpJEkz6W"
      },
      "outputs": [],
      "source": [
        "# instanciando os modelos\n",
        "model_lightGBM = LGBMClassifier(n_estimators=250, random_state=0, n_jobs=-1)\n",
        "model_XGB = XGBClassifier(n_estimators=250, random_state=0, n_jobs=-1)"
      ]
    },
    {
      "cell_type": "code",
      "execution_count": 107,
      "metadata": {
        "colab": {
          "base_uri": "https://localhost:8080/"
        },
        "id": "IYGIFaOmuMHp",
        "outputId": "d0724bba-c192-419b-e158-2a2be9d85812"
      },
      "outputs": [
        {
          "output_type": "stream",
          "name": "stdout",
          "text": [
            "LGBMClassifier(n_estimators=250, random_state=0)\n",
            "XGBClassifier(n_estimators=250, n_jobs=-1)\n"
          ]
        }
      ],
      "source": [
        "# treinando os modelos com os subconjuntos de treino - X_train_scal e y_train\n",
        "print(\n",
        "    model_lightGBM.fit(X_train_scal, y_train),\n",
        "    model_XGB.fit(X_train_scal, y_train), \n",
        "    sep='\\n'\n",
        ")"
      ]
    },
    {
      "cell_type": "markdown",
      "metadata": {
        "id": "XB3TxP9mueDd"
      },
      "source": [
        "#### **[EXTRA] 6. Avaliação dos modelos**"
      ]
    },
    {
      "cell_type": "code",
      "execution_count": 108,
      "metadata": {
        "colab": {
          "base_uri": "https://localhost:8080/"
        },
        "id": "xeKDvTGRuMEa",
        "outputId": "8b28d2ed-7115-4c1e-d98f-a5c5ffc3c02b"
      },
      "outputs": [
        {
          "output_type": "stream",
          "name": "stdout",
          "text": [
            "Acurácia [Light GBM]: 0.78\n",
            "Acurácia [XG Boost]: 0.80\n"
          ]
        }
      ],
      "source": [
        "# avaliando a acurácia do modelo com os subconjuntos de teste\n",
        "score_lgbm = model_lightGBM.score(X_test_scal, y_test)\n",
        "score_xgb = model_XGB.score(X_test_scal, y_test)\n",
        "\n",
        "print('Acurácia [Light GBM]: %.2f' % score_lgbm) \n",
        "print('Acurácia [XG Boost]: %.2f' % score_xgb) "
      ]
    },
    {
      "cell_type": "markdown",
      "metadata": {
        "id": "rO8ZwybJuqIX"
      },
      "source": [
        "#### **[EXTRA] 7. Predição dos modelos**"
      ]
    },
    {
      "cell_type": "code",
      "execution_count": 109,
      "metadata": {
        "id": "noP17VJBuMCa"
      },
      "outputs": [],
      "source": [
        "# realizando a predição com os dados de teste\n",
        "y_pred_lgbm = model_lightGBM.predict(X_test_scal)\n",
        "y_pred_xgb = model_XGB.predict(X_test_scal)"
      ]
    },
    {
      "cell_type": "code",
      "execution_count": 110,
      "metadata": {
        "colab": {
          "base_uri": "https://localhost:8080/"
        },
        "id": "1kVeWa-LuMAl",
        "outputId": "c12f5b81-2389-459b-a1f8-2e55aafeaa7d"
      },
      "outputs": [
        {
          "output_type": "stream",
          "name": "stdout",
          "text": [
            "Acurácia [Light GBM]: 0.78\n",
            "Acurácia [XG Boost]: 0.80\n"
          ]
        }
      ],
      "source": [
        "# avaliando o modelo sobre os dados de teste utilizando a métrica de acurácia (0-1)\n",
        "# para isso, utilizaremos a função \"accuracy_score\"\n",
        "acc_lgbm = accuracy_score(y_test, y_pred_lgbm)\n",
        "acc_xgb = accuracy_score(y_test, y_pred_xgb)\n",
        "\n",
        "print('Acurácia [Light GBM]: %.2f' % acc_lgbm)\n",
        "print('Acurácia [XG Boost]: %.2f' % acc_xgb)"
      ]
    },
    {
      "cell_type": "code",
      "execution_count": 111,
      "metadata": {
        "colab": {
          "base_uri": "https://localhost:8080/"
        },
        "id": "_WMd5C5cuL-2",
        "outputId": "bcee86bb-085b-406f-940c-fec3773ca563"
      },
      "outputs": [
        {
          "output_type": "stream",
          "name": "stdout",
          "text": [
            "Precisão [Light GBM]: 0.78\n",
            "Precisão [XG Boost]: 0.82\n"
          ]
        }
      ],
      "source": [
        "# avaliando o modelo sobre os dados de teste utilizando a métrica de precisão (0-1)\n",
        "# para isso, utilizaremos a função \"precision_score\"\n",
        "prec_lgbm = precision_score(y_test, y_pred_lgbm)\n",
        "prec_xgb = precision_score(y_test, y_pred_xgb)\n",
        "\n",
        "print('Precisão [Light GBM]: %.2f' % prec_lgbm)\n",
        "print('Precisão [XG Boost]: %.2f' % prec_xgb)"
      ]
    },
    {
      "cell_type": "code",
      "execution_count": 112,
      "metadata": {
        "colab": {
          "base_uri": "https://localhost:8080/",
          "height": 453
        },
        "id": "DCwuN7oSuL9H",
        "outputId": "a99e8c39-fa99-4a40-df93-51c28a6838a3"
      },
      "outputs": [
        {
          "output_type": "stream",
          "name": "stdout",
          "text": [
            "Resultados do modelo: LGBMClassifier\n",
            "              precision    recall  f1-score   support\n",
            "\n",
            "           0       0.78      0.87      0.83       309\n",
            "           1       0.78      0.65      0.71       215\n",
            "\n",
            "    accuracy                           0.78       524\n",
            "   macro avg       0.78      0.76      0.77       524\n",
            "weighted avg       0.78      0.78      0.78       524\n",
            "\n"
          ]
        },
        {
          "output_type": "display_data",
          "data": {
            "text/plain": [
              "<Figure size 432x288 with 2 Axes>"
            ],
            "image/png": "[encoded data removed]"
          },
          "metadata": {
            "needs_background": "light"
          }
        }
      ],
      "source": [
        "# aplicando a função criada e passando como argumentos o modelo \n",
        "# e as bases de testes - \"X_test\" e \"y_test\"\n",
        "classification_results(model_lightGBM, X_test_scal, y_test, y_pred_lgbm)"
      ]
    },
    {
      "cell_type": "code",
      "execution_count": 113,
      "metadata": {
        "colab": {
          "base_uri": "https://localhost:8080/",
          "height": 453
        },
        "id": "gJyQ3XhMz7Im",
        "outputId": "63f79450-d746-4364-ea5b-fdffcc4e686d"
      },
      "outputs": [
        {
          "output_type": "stream",
          "name": "stdout",
          "text": [
            "Resultados do modelo: XGBClassifier\n",
            "              precision    recall  f1-score   support\n",
            "\n",
            "           0       0.78      0.90      0.84       309\n",
            "           1       0.82      0.64      0.72       215\n",
            "\n",
            "    accuracy                           0.80       524\n",
            "   macro avg       0.80      0.77      0.78       524\n",
            "weighted avg       0.80      0.80      0.79       524\n",
            "\n"
          ]
        },
        {
          "output_type": "display_data",
          "data": {
            "text/plain": [
              "<Figure size 432x288 with 2 Axes>"
            ],
            "image/png": "[encoded data removed]"
          },
          "metadata": {
            "needs_background": "light"
          }
        }
      ],
      "source": [
        "# aplicando a função criada e passando como argumentos o modelo \n",
        "# e as bases de testes - \"X_test\" e \"y_test\"\n",
        "classification_results(model_XGB, X_test_scal, y_test, y_pred_xgb)"
      ]
    },
    {
      "cell_type": "markdown",
      "source": [
        "#### **[EXTRA] 8. Otimização dos modelos**"
      ],
      "metadata": {
        "id": "as2bD_yMjw7T"
      }
    },
    {
      "cell_type": "code",
      "execution_count": 114,
      "metadata": {
        "colab": {
          "base_uri": "https://localhost:8080/"
        },
        "id": "DX-Ao-HAuL7U",
        "outputId": "c3f79d50-8ac2-4d03-ab63-5ebc8d2fe101"
      },
      "outputs": [
        {
          "output_type": "stream",
          "name": "stdout",
          "text": [
            "dict_keys(['boosting_type', 'class_weight', 'colsample_bytree', 'importance_type', 'learning_rate', 'max_depth', 'min_child_samples', 'min_child_weight', 'min_split_gain', 'n_estimators', 'n_jobs', 'num_leaves', 'objective', 'random_state', 'reg_alpha', 'reg_lambda', 'silent', 'subsample', 'subsample_for_bin', 'subsample_freq'])\n",
            "dict_keys(['base_score', 'booster', 'colsample_bylevel', 'colsample_bynode', 'colsample_bytree', 'gamma', 'learning_rate', 'max_delta_step', 'max_depth', 'min_child_weight', 'missing', 'n_estimators', 'n_jobs', 'nthread', 'objective', 'random_state', 'reg_alpha', 'reg_lambda', 'scale_pos_weight', 'seed', 'silent', 'subsample', 'verbosity'])\n"
          ]
        }
      ],
      "source": [
        "# visualizando os parâmetros dos modelos\n",
        "print(LGBMClassifier().get_params().keys())\n",
        "print(XGBClassifier().get_params().keys())"
      ]
    },
    {
      "cell_type": "code",
      "execution_count": 115,
      "metadata": {
        "id": "LiWiPq01dbYR"
      },
      "outputs": [],
      "source": [
        "# visualizando a documentação\n",
        "?LGBMClassifier"
      ]
    },
    {
      "cell_type": "code",
      "execution_count": 116,
      "metadata": {
        "id": "zybo78Bj0iyF"
      },
      "outputs": [],
      "source": [
        "# visualizando a documentação\n",
        "XGBClassifier"
      ]
    },
    {
      "cell_type": "code",
      "execution_count": 117,
      "metadata": {
        "id": "FdL-hWd9t0g7"
      },
      "outputs": [],
      "source": [
        "# importando funções matemáticas\n",
        "from scipy.stats import uniform, randint"
      ]
    },
    {
      "cell_type": "code",
      "execution_count": 118,
      "metadata": {
        "id": "5yOSWHHzuL4L"
      },
      "outputs": [],
      "source": [
        "# instanciando os parâmetros do \"Light GBM\"\n",
        "boosting_type = ['gbdt', 'dart', 'goss', 'rf']\n",
        "colsample_bytree = uniform(0.9, 0.2)\n",
        "learning_rate = uniform(0.03, 0.9)\n",
        "max_depth = randint(2, 6)\n",
        "subsample = [0.1, 0.2, 0.3, 0.4, 0.5, 0.6, 0.7, 0.8, 0.9]\n",
        "num_leaves = [int(x) for x in np.linspace(start=30, stop=100, num=35)]\n",
        "n_estimators = [int(x) for x in np.linspace(start=100, stop=1_000, num=100)]"
      ]
    },
    {
      "cell_type": "code",
      "execution_count": 119,
      "metadata": {
        "id": "lS2fST95uL2R"
      },
      "outputs": [],
      "source": [
        "# criando um dicionário com os parâmetros instanciados do \"Light GBM\"\n",
        "params_lgbm = {\n",
        "    'boosting_type': boosting_type,\n",
        "    'colsample_bytree': colsample_bytree,\n",
        "    'learning_rate': learning_rate,\n",
        "    'max_depth': max_depth,\n",
        "    'subsample': subsample,\n",
        "    'num_leaves': num_leaves, \n",
        "    'n_estimators': n_estimators\n",
        "}"
      ]
    },
    {
      "cell_type": "code",
      "execution_count": 120,
      "metadata": {
        "colab": {
          "base_uri": "https://localhost:8080/"
        },
        "id": "C6rJJ2yItuw1",
        "outputId": "1d3739ef-7484-4e7b-a9a2-56c784142248"
      },
      "outputs": [
        {
          "output_type": "execute_result",
          "data": {
            "text/plain": [
              "{'learning_rate': <scipy.stats._distn_infrastructure.rv_frozen at 0x7f94e1efa250>,\n",
              " 'n_estimators': <scipy.stats._distn_infrastructure.rv_frozen at 0x7f94e1b5bdd0>,\n",
              " 'max_depth': <scipy.stats._distn_infrastructure.rv_frozen at 0x7f94e0ed9110>,\n",
              " 'gamma': <scipy.stats._distn_infrastructure.rv_frozen at 0x7f94e1c31c90>,\n",
              " 'subsample': <scipy.stats._distn_infrastructure.rv_frozen at 0x7f94e1e3af50>,\n",
              " 'colsample_bytree': <scipy.stats._distn_infrastructure.rv_frozen at 0x7f94e1e3ad90>}"
            ]
          },
          "metadata": {},
          "execution_count": 120
        }
      ],
      "source": [
        "# criando um dicionário com os parâmetros instanciados do \"Light GBM\"\n",
        "params_xgb = {\n",
        "    'learning_rate': uniform(0.03, 0.9),\n",
        "    'n_estimators': randint(100, 1_500),\n",
        "    'max_depth': randint(2, 6),\n",
        "    'gamma': uniform(0, 0.5),\n",
        "    'subsample': uniform(0.9, 0.2),\n",
        "    'colsample_bytree': uniform(0.9, 0.2), \n",
        "    # gpu_id='0',           # parâmetro para utilizar a gpu do colab\n",
        "    # tree_method='exact'   \n",
        "}\n",
        "\n",
        "params_xgb"
      ]
    },
    {
      "cell_type": "code",
      "execution_count": 121,
      "metadata": {
        "id": "pja-iD6LuLzq"
      },
      "outputs": [],
      "source": [
        "# instanciando os modelos\n",
        "model_lightGBM2 = LGBMClassifier(n_estimators=250, random_state=0, n_jobs=-1)\n",
        "model_XGB2 = XGBClassifier(n_estimators=250, random_state=0, n_jobs=-1)"
      ]
    },
    {
      "cell_type": "code",
      "execution_count": 122,
      "metadata": {
        "id": "oHlpHNA9uLyM"
      },
      "outputs": [],
      "source": [
        "# instanciando o \"search\" com os hiperparâmtros dos modelos\n",
        "randSearch_lightGBM = RandomizedSearchCV(\n",
        "    estimator=model_lightGBM2, param_distributions=params_lgbm, \n",
        "    cv=10, random_state=0, n_jobs=-1\n",
        ")\n",
        "\n",
        "randSearch_XGB = RandomizedSearchCV(\n",
        "    estimator=model_XGB2, param_distributions=params_xgb, \n",
        "    cv=10, random_state=0, n_jobs=-1\n",
        ")"
      ]
    },
    {
      "cell_type": "code",
      "execution_count": 123,
      "metadata": {
        "id": "-EO0aqv6uLvi"
      },
      "outputs": [],
      "source": [
        "# treinando o modelo \"Light GBM\"\n",
        "best_model_lightGBM = randSearch_lightGBM.fit(X_train_scal, y_train)"
      ]
    },
    {
      "cell_type": "code",
      "execution_count": 124,
      "metadata": {
        "id": "pNYgJ9Yg1Vpk"
      },
      "outputs": [],
      "source": [
        "# treinando o modelo \"XG Boost\"\n",
        "best_model_XGB = randSearch_XGB.fit(X_train_scal, y_train)"
      ]
    },
    {
      "cell_type": "code",
      "execution_count": 125,
      "metadata": {
        "colab": {
          "base_uri": "https://localhost:8080/"
        },
        "id": "QaqydK1KgiYk",
        "outputId": "ab64303c-27d2-452f-f46a-e9ca1ff9064b"
      },
      "outputs": [
        {
          "output_type": "execute_result",
          "data": {
            "text/plain": [
              "{'boosting_type': 'dart',\n",
              " 'colsample_bytree': 0.97687634145854,\n",
              " 'learning_rate': 0.297781145890025,\n",
              " 'max_depth': 2,\n",
              " 'n_estimators': 900,\n",
              " 'num_leaves': 54,\n",
              " 'subsample': 0.2}"
            ]
          },
          "metadata": {},
          "execution_count": 125
        }
      ],
      "source": [
        "# visualizando os melhores hiperparâmetros do modelo \"Light GBM\"\n",
        "best_model_lightGBM.best_params_"
      ]
    },
    {
      "cell_type": "code",
      "execution_count": 126,
      "metadata": {
        "colab": {
          "base_uri": "https://localhost:8080/"
        },
        "id": "oXIWUEu81evy",
        "outputId": "a060da5c-5679-4a14-b3c5-a948f02a38c2"
      },
      "outputs": [
        {
          "output_type": "execute_result",
          "data": {
            "text/plain": [
              "{'colsample_bytree': 0.9286706574818093,\n",
              " 'gamma': 0.47233445852479194,\n",
              " 'learning_rate': 0.49966348957506457,\n",
              " 'max_depth': 2,\n",
              " 'n_estimators': 251,\n",
              " 'subsample': 0.9529111224209255}"
            ]
          },
          "metadata": {},
          "execution_count": 126
        }
      ],
      "source": [
        "# visualizando os melhores hiperparâmetros do modelo \"XG Boost\"\n",
        "best_model_XGB.best_params_"
      ]
    },
    {
      "cell_type": "code",
      "execution_count": 127,
      "metadata": {
        "colab": {
          "base_uri": "https://localhost:8080/"
        },
        "id": "GwkWNzK2kz13",
        "outputId": "9f29650d-3193-4fb6-895a-86a57d140805"
      },
      "outputs": [
        {
          "output_type": "execute_result",
          "data": {
            "text/plain": [
              "LGBMClassifier(boosting_type='dart', colsample_bytree=0.97687634145854,\n",
              "               learning_rate=0.297781145890025, max_depth=2, n_estimators=900,\n",
              "               num_leaves=54, random_state=0, subsample=0.2)"
            ]
          },
          "metadata": {},
          "execution_count": 127
        }
      ],
      "source": [
        "# instanciando os melhores hiperparâmetros do modelo \"Light GBM\"\n",
        "lightGBM_bestParams = best_model_lightGBM.best_estimator_\n",
        "lightGBM_bestParams"
      ]
    },
    {
      "cell_type": "code",
      "execution_count": 128,
      "metadata": {
        "colab": {
          "base_uri": "https://localhost:8080/"
        },
        "id": "fkyRY66Z1lZ2",
        "outputId": "4cd8bfad-5eca-4308-bbae-6ff112f06f52"
      },
      "outputs": [
        {
          "output_type": "execute_result",
          "data": {
            "text/plain": [
              "XGBClassifier(colsample_bytree=0.9286706574818093, gamma=0.47233445852479194,\n",
              "              learning_rate=0.49966348957506457, max_depth=2, n_estimators=251,\n",
              "              n_jobs=-1, subsample=0.9529111224209255)"
            ]
          },
          "metadata": {},
          "execution_count": 128
        }
      ],
      "source": [
        "# instanciando os melhores hiperparâmetros do modelo \"XG Boost\"\n",
        "XGB_bestParams = best_model_XGB.best_estimator_\n",
        "XGB_bestParams"
      ]
    },
    {
      "cell_type": "code",
      "execution_count": 129,
      "metadata": {
        "colab": {
          "base_uri": "https://localhost:8080/"
        },
        "id": "iuRQ6Knckzzj",
        "outputId": "7fd7b807-76fb-4933-a7ea-b51d680b5918"
      },
      "outputs": [
        {
          "output_type": "execute_result",
          "data": {
            "text/plain": [
              "LGBMClassifier(boosting_type='dart', colsample_bytree=0.97687634145854,\n",
              "               learning_rate=0.297781145890025, max_depth=2, n_estimators=900,\n",
              "               num_leaves=54, random_state=0, subsample=0.2)"
            ]
          },
          "metadata": {},
          "execution_count": 129
        }
      ],
      "source": [
        "# treinando o modelo \"Light GBM\"\n",
        "lightGBM_bestParams.fit(X_train_scal, y_train)"
      ]
    },
    {
      "cell_type": "code",
      "execution_count": 130,
      "metadata": {
        "colab": {
          "base_uri": "https://localhost:8080/"
        },
        "id": "iNfyFd1b12Xp",
        "outputId": "4fab14e2-ab3f-4593-e3f3-63ce7ce07cab"
      },
      "outputs": [
        {
          "output_type": "execute_result",
          "data": {
            "text/plain": [
              "XGBClassifier(colsample_bytree=0.9286706574818093, gamma=0.47233445852479194,\n",
              "              learning_rate=0.49966348957506457, max_depth=2, n_estimators=251,\n",
              "              n_jobs=-1, subsample=0.9529111224209255)"
            ]
          },
          "metadata": {},
          "execution_count": 130
        }
      ],
      "source": [
        "# treinando o modelo \"XG Boost\"\n",
        "XGB_bestParams.fit(X_train_scal, y_train)"
      ]
    },
    {
      "cell_type": "code",
      "execution_count": 131,
      "metadata": {
        "id": "nrhOfZVSjjCz"
      },
      "outputs": [],
      "source": [
        "# realizando as predições com o modelo\n",
        "y_pred_lgbm2 = lightGBM_bestParams.predict(X_test_scal)\n",
        "y_pred_xgb2 = XGB_bestParams.predict(X_test_scal)"
      ]
    },
    {
      "cell_type": "code",
      "execution_count": 132,
      "metadata": {
        "colab": {
          "base_uri": "https://localhost:8080/"
        },
        "id": "w0CsoRmDgbCu",
        "outputId": "4847294f-c6e3-4336-80eb-ed48d5aac367"
      },
      "outputs": [
        {
          "output_type": "stream",
          "name": "stdout",
          "text": [
            "Acurácia [Light GBM v2]: 0.79\n",
            "Acurácia [XG Boost v2]: 0.78\n"
          ]
        }
      ],
      "source": [
        "# avaliando acurácia dos modelos\n",
        "acc_lgbm2 = accuracy_score(y_test, y_pred_lgbm2)\n",
        "acc_xgb2 = accuracy_score(y_test, y_pred_xgb2)\n",
        "\n",
        "print('Acurácia [Light GBM v2]: %.2f' % acc_lgbm2)\n",
        "print('Acurácia [XG Boost v2]: %.2f' % acc_xgb2)"
      ]
    },
    {
      "cell_type": "code",
      "execution_count": 133,
      "metadata": {
        "colab": {
          "base_uri": "https://localhost:8080/",
          "height": 453
        },
        "id": "tt1DlgyCgbAA",
        "outputId": "e79aa875-2b3a-46c4-bddb-8120aab1eebb"
      },
      "outputs": [
        {
          "output_type": "stream",
          "name": "stdout",
          "text": [
            "Resultados do modelo: LGBMClassifier\n",
            "              precision    recall  f1-score   support\n",
            "\n",
            "           0       0.77      0.92      0.84       309\n",
            "           1       0.84      0.60      0.70       215\n",
            "\n",
            "    accuracy                           0.79       524\n",
            "   macro avg       0.80      0.76      0.77       524\n",
            "weighted avg       0.80      0.79      0.78       524\n",
            "\n"
          ]
        },
        {
          "output_type": "display_data",
          "data": {
            "text/plain": [
              "<Figure size 432x288 with 2 Axes>"
            ],
            "image/png": "[encoded data removed]"
          },
          "metadata": {
            "needs_background": "light"
          }
        }
      ],
      "source": [
        "# visualizando os resultados do modelo \"Light GBM\"\n",
        "classification_results(lightGBM_bestParams, X_test_scal, y_test, y_pred_lgbm2)"
      ]
    },
    {
      "cell_type": "code",
      "execution_count": 134,
      "metadata": {
        "colab": {
          "base_uri": "https://localhost:8080/",
          "height": 453
        },
        "id": "QxqWUcby2dS8",
        "outputId": "f674b056-800c-4707-c970-de391150bae9"
      },
      "outputs": [
        {
          "output_type": "stream",
          "name": "stdout",
          "text": [
            "Resultados do modelo: XGBClassifier\n",
            "              precision    recall  f1-score   support\n",
            "\n",
            "           0       0.79      0.87      0.83       309\n",
            "           1       0.78      0.66      0.72       215\n",
            "\n",
            "    accuracy                           0.78       524\n",
            "   macro avg       0.78      0.77      0.77       524\n",
            "weighted avg       0.78      0.78      0.78       524\n",
            "\n"
          ]
        },
        {
          "output_type": "display_data",
          "data": {
            "text/plain": [
              "<Figure size 432x288 with 2 Axes>"
            ],
            "image/png": "[encoded data removed]"
          },
          "metadata": {
            "needs_background": "light"
          }
        }
      ],
      "source": [
        "# visualizando os resultados do modelo \"XG Boost\"\n",
        "classification_results(XGB_bestParams, X_test_scal, y_test, y_pred_xgb2)"
      ]
    },
    {
      "cell_type": "markdown",
      "metadata": {
        "id": "-1MF0-7V4cau"
      },
      "source": [
        "#### **9. Exportação do modelo**"
      ]
    },
    {
      "cell_type": "code",
      "execution_count": 135,
      "metadata": {
        "id": "AZLxldVh4b4_"
      },
      "outputs": [],
      "source": [
        "# salvando o modelo escolhido em um arquivo\n",
        "pickle.dump(best_model_lightGBM.best_estimator_, \n",
        "            open('model_LightGBM.sav', mode='wb'))  # \"wb\" - write binary"
      ]
    },
    {
      "cell_type": "markdown",
      "metadata": {
        "id": "TNGVx9mV5o4s"
      },
      "source": [
        "#### **10. Reutilização do modelo**"
      ]
    },
    {
      "cell_type": "code",
      "execution_count": 136,
      "metadata": {
        "colab": {
          "base_uri": "https://localhost:8080/"
        },
        "id": "sRRbUgpm4b2T",
        "outputId": "47d41907-9714-4b70-b4e9-8462287c0d19"
      },
      "outputs": [
        {
          "output_type": "stream",
          "name": "stdout",
          "text": [
            "LGBMClassifier(boosting_type='dart', colsample_bytree=0.97687634145854,\n",
            "               learning_rate=0.297781145890025, max_depth=2, n_estimators=900,\n",
            "               num_leaves=54, random_state=0, subsample=0.2)\n"
          ]
        }
      ],
      "source": [
        "# instanciando o modelo no objeto \"arquivo\"\n",
        "archive = open('model_LightGBM.sav', mode='rb')    # \"rb\" - read binary\n",
        "\n",
        "# realizando a leitura do modelo\n",
        "model_final = pickle.load(archive)\n",
        "print(model_final)   # visualizando o modelo"
      ]
    },
    {
      "cell_type": "code",
      "execution_count": 137,
      "metadata": {
        "colab": {
          "base_uri": "https://localhost:8080/"
        },
        "id": "zODPUMK94bzp",
        "outputId": "64b85615-44f3-435c-b36f-c1ccbee1b140"
      },
      "outputs": [
        {
          "output_type": "execute_result",
          "data": {
            "text/plain": [
              "array([0, 1, 0, 0, 0, 0, 0, 0, 0, 1, 0, 0, 1, 0, 0, 1, 0, 0, 1, 0, 0, 0,\n",
              "       0, 0, 0, 1, 0, 1, 1, 1, 0, 0, 0, 1, 0, 0, 1, 0, 1, 0, 1, 0, 1, 0,\n",
              "       0, 0, 0, 0, 1, 1, 1, 0, 0, 1, 0, 0, 0, 0, 0, 0, 0, 0, 1, 0, 1, 1,\n",
              "       1, 0, 0, 0, 0, 0, 0, 0, 1, 0, 0, 1, 0, 1, 0, 0, 0, 0, 0, 0, 0, 1,\n",
              "       1, 1, 1, 0, 0, 0, 0, 0, 0, 1, 0, 1, 0, 0, 1, 1, 0, 0, 0, 0, 1, 1,\n",
              "       0, 0, 0, 1, 1, 0, 0, 0, 0, 1, 0, 0, 0, 1, 0, 0, 0, 0, 1, 0, 1, 1,\n",
              "       0, 0, 0, 1, 0, 0, 0, 0, 0, 0, 0, 1, 0, 1, 0, 0, 0, 0, 0, 0, 0, 0,\n",
              "       0, 0, 1, 0, 0, 0, 0, 1, 0, 0, 1, 1, 0, 1, 0, 1, 1, 1, 1, 0, 1, 0,\n",
              "       1, 0, 1, 0, 1, 1, 0, 1, 0, 1, 0, 0, 1, 1, 0, 0, 0, 0, 0, 0, 0, 0,\n",
              "       1, 1, 0, 0, 0, 0, 0, 0, 1, 0, 0, 0, 0, 1, 0, 1, 0, 1, 1, 0, 1, 0,\n",
              "       1, 0, 1, 0, 0, 0, 0, 1, 0, 0, 0, 1, 0, 0, 0, 1, 0, 0, 0, 0, 0, 0,\n",
              "       0, 0, 0, 0, 0, 0, 0, 0, 0, 0, 1, 1, 0, 0, 1, 1, 0, 0, 0, 1, 0, 0,\n",
              "       1, 0, 0, 0, 0, 0, 1, 0, 1, 0, 1, 1, 0, 0, 0, 0, 0, 0, 0, 0, 0, 1,\n",
              "       0, 1, 0, 0, 1, 0, 1, 1, 0, 0, 0, 1, 0, 0, 0, 1, 0, 0, 1, 0, 0, 0,\n",
              "       0, 0, 0, 0, 0, 0, 1, 0, 1, 0, 1, 0, 1, 0, 1, 1, 0, 0, 0, 1, 0, 1,\n",
              "       0, 0, 0, 0, 1, 0, 0, 1, 1, 0, 0, 0, 0, 0, 0, 1, 1, 0, 1, 0, 0, 1,\n",
              "       0, 0, 0, 0, 1, 0, 0, 1, 1, 0, 0, 0, 1, 1, 0, 0, 0, 1, 0, 1, 0, 0,\n",
              "       0, 1, 1, 0, 0, 0, 1, 0, 0, 0, 0, 0, 0, 0, 0, 0, 0, 0, 1, 0, 0, 1,\n",
              "       0, 1, 0, 0, 0, 0, 0, 0, 0, 0, 0, 0, 0, 0, 0, 0, 0, 0, 1, 0, 0, 0,\n",
              "       0, 0, 1, 0, 1, 0, 0, 0, 1, 0, 0, 0, 0, 0, 0, 0, 1, 1, 0, 1, 0, 0,\n",
              "       0, 1, 0, 0, 0, 1, 0, 0, 1, 0, 0, 0, 1, 0, 0, 0, 1, 1, 0, 1, 0, 0,\n",
              "       1, 0, 0, 0, 1, 0, 0, 1, 1, 0, 0, 0, 0, 0, 0, 0, 0, 0, 0, 1, 1, 1,\n",
              "       0, 0, 0, 1, 1, 1, 1, 1, 0, 1, 0, 0, 0, 1, 0, 1, 0, 0, 0, 1, 0, 0,\n",
              "       0, 0, 0, 0, 0, 0, 0, 0, 0, 0, 0, 1, 1, 0, 1, 0, 0, 0])"
            ]
          },
          "metadata": {},
          "execution_count": 137
        }
      ],
      "source": [
        "# realizando a predição com o modelo\n",
        "y_pred_modelFinal = model_final.predict(X_test_scal)\n",
        "y_pred_modelFinal  # visualizando as predições"
      ]
    },
    {
      "cell_type": "code",
      "execution_count": 138,
      "metadata": {
        "colab": {
          "base_uri": "https://localhost:8080/"
        },
        "id": "8jna9xTj4bw4",
        "outputId": "3b870e85-be6a-44e6-d710-aa0f63df7040"
      },
      "outputs": [
        {
          "output_type": "execute_result",
          "data": {
            "text/plain": [
              "1.0"
            ]
          },
          "metadata": {},
          "execution_count": 138
        }
      ],
      "source": [
        "# visualizando a acurácia do modelo\n",
        "model_final.score(X_test_scal, y_pred_modelFinal)"
      ]
    },
    {
      "cell_type": "code",
      "execution_count": 139,
      "metadata": {
        "colab": {
          "base_uri": "https://localhost:8080/",
          "height": 453
        },
        "id": "e93E4m2tswze",
        "outputId": "611a5de4-2653-41cc-d166-a5194b31972c"
      },
      "outputs": [
        {
          "output_type": "stream",
          "name": "stdout",
          "text": [
            "Resultados do modelo: LGBMClassifier\n",
            "              precision    recall  f1-score   support\n",
            "\n",
            "           0       0.77      0.92      0.84       309\n",
            "           1       0.84      0.60      0.70       215\n",
            "\n",
            "    accuracy                           0.79       524\n",
            "   macro avg       0.80      0.76      0.77       524\n",
            "weighted avg       0.80      0.79      0.78       524\n",
            "\n"
          ]
        },
        {
          "output_type": "display_data",
          "data": {
            "text/plain": [
              "<Figure size 432x288 with 2 Axes>"
            ],
            "image/png": "[encoded data removed]"
          },
          "metadata": {
            "needs_background": "light"
          }
        }
      ],
      "source": [
        "# visualizando os resultados do modelo final\n",
        "classification_results(model_final, X_test_scal, y_test, y_pred_modelFinal)"
      ]
    },
    {
      "cell_type": "code",
      "execution_count": 140,
      "metadata": {
        "colab": {
          "base_uri": "https://localhost:8080/"
        },
        "id": "cBVkgzje6pa8",
        "outputId": "308d7f76-d678-4c12-ff10-edea417acf2e"
      },
      "outputs": [
        {
          "output_type": "stream",
          "name": "stdout",
          "text": [
            "Versão Python: 3.7.14\n"
          ]
        }
      ],
      "source": [
        "# visualizando a versão do Python utilizado neste notebook\n",
        "from platform import python_version\n",
        "\n",
        "print(f'Versão Python: {python_version()}')"
      ]
    },
    {
      "cell_type": "code",
      "execution_count": 141,
      "metadata": {
        "colab": {
          "base_uri": "https://localhost:8080/"
        },
        "id": "Dj0vPFfz4buG",
        "outputId": "6089d27f-cc55-46b2-e034-06008999f077"
      },
      "outputs": [
        {
          "output_type": "stream",
          "name": "stdout",
          "text": [
            "Looking in indexes: https://pypi.org/simple, https://us-python.pkg.dev/colab-wheels/public/simple/\n",
            "Collecting watermark\n",
            "  Downloading watermark-2.3.1-py2.py3-none-any.whl (7.2 kB)\n",
            "Requirement already satisfied: importlib-metadata>=1.4 in /usr/local/lib/python3.7/dist-packages (from watermark) (4.12.0)\n",
            "Requirement already satisfied: ipython in /usr/local/lib/python3.7/dist-packages (from watermark) (7.9.0)\n",
            "Requirement already satisfied: typing-extensions>=3.6.4 in /usr/local/lib/python3.7/dist-packages (from importlib-metadata>=1.4->watermark) (4.1.1)\n",
            "Requirement already satisfied: zipp>=0.5 in /usr/local/lib/python3.7/dist-packages (from importlib-metadata>=1.4->watermark) (3.8.1)\n",
            "Requirement already satisfied: decorator in /usr/local/lib/python3.7/dist-packages (from ipython->watermark) (4.4.2)\n",
            "Collecting jedi>=0.10\n",
            "  Downloading jedi-0.18.1-py2.py3-none-any.whl (1.6 MB)\n",
            "\u001b[K     |████████████████████████████████| 1.6 MB 20.6 MB/s \n",
            "\u001b[?25hRequirement already satisfied: pexpect in /usr/local/lib/python3.7/dist-packages (from ipython->watermark) (4.8.0)\n",
            "Requirement already satisfied: traitlets>=4.2 in /usr/local/lib/python3.7/dist-packages (from ipython->watermark) (5.1.1)\n",
            "Requirement already satisfied: setuptools>=18.5 in /usr/local/lib/python3.7/dist-packages (from ipython->watermark) (57.4.0)\n",
            "Requirement already satisfied: backcall in /usr/local/lib/python3.7/dist-packages (from ipython->watermark) (0.2.0)\n",
            "Requirement already satisfied: prompt-toolkit<2.1.0,>=2.0.0 in /usr/local/lib/python3.7/dist-packages (from ipython->watermark) (2.0.10)\n",
            "Requirement already satisfied: pickleshare in /usr/local/lib/python3.7/dist-packages (from ipython->watermark) (0.7.5)\n",
            "Requirement already satisfied: pygments in /usr/local/lib/python3.7/dist-packages (from ipython->watermark) (2.6.1)\n",
            "Requirement already satisfied: parso<0.9.0,>=0.8.0 in /usr/local/lib/python3.7/dist-packages (from jedi>=0.10->ipython->watermark) (0.8.3)\n",
            "Requirement already satisfied: wcwidth in /usr/local/lib/python3.7/dist-packages (from prompt-toolkit<2.1.0,>=2.0.0->ipython->watermark) (0.2.5)\n",
            "Requirement already satisfied: six>=1.9.0 in /usr/local/lib/python3.7/dist-packages (from prompt-toolkit<2.1.0,>=2.0.0->ipython->watermark) (1.15.0)\n",
            "Requirement already satisfied: ptyprocess>=0.5 in /usr/local/lib/python3.7/dist-packages (from pexpect->ipython->watermark) (0.7.0)\n",
            "Installing collected packages: jedi, watermark\n",
            "Successfully installed jedi-0.18.1 watermark-2.3.1\n"
          ]
        }
      ],
      "source": [
        "# instalando a biblioteca \"watermark\"\n",
        "!pip install watermark -U\n",
        "# esse pacote é usado para gravar as versões dos pacotes usados neste notebook"
      ]
    },
    {
      "cell_type": "code",
      "execution_count": 142,
      "metadata": {
        "colab": {
          "base_uri": "https://localhost:8080/"
        },
        "id": "FUgpy0CQich_",
        "outputId": "6a231cec-842a-47ab-e320-19eb66baa331"
      },
      "outputs": [
        {
          "output_type": "stream",
          "name": "stdout",
          "text": [
            "Author: Fernando Galvão | (Pipeline) Etapas de projeto de Machine Learning #20/11/2021\n",
            "\n",
            "missingno : 0.5.1\n",
            "researchpy: 0.3.5\n",
            "pandas    : 1.3.5\n",
            "seaborn   : 0.11.2\n",
            "numpy     : 1.21.6\n",
            "matplotlib: 3.2.2\n",
            "\n"
          ]
        }
      ],
      "source": [
        "# versões das bibliotecas utilizadas neste notebook\n",
        "%reload_ext watermark\n",
        "%watermark -a 'Fernando Galvão | (Pipeline) Etapas de projeto de Machine Learning #20/11/2021' --iversions"
      ]
    },
    {
      "cell_type": "code",
      "execution_count": 142,
      "metadata": {
        "id": "70ERlvMYicUR"
      },
      "outputs": [],
      "source": []
    },
    {
      "cell_type": "code",
      "execution_count": 142,
      "metadata": {
        "id": "uQWNjj-yicOV"
      },
      "outputs": [],
      "source": []
    },
    {
      "cell_type": "code",
      "execution_count": 142,
      "metadata": {
        "id": "qYMFB0DQicCz"
      },
      "outputs": [],
      "source": []
    }
  ],
  "metadata": {
    "colab": {
      "collapsed_sections": [],
      "provenance": [],
      "authorship_tag": "ABX9TyNzPIlryIqrmgKyScsLdMkO",
      "include_colab_link": true
    },
    "kernelspec": {
      "display_name": "Python 3",
      "name": "python3"
    },
    "language_info": {
      "name": "python"
    }
  },
  "nbformat": 4,
  "nbformat_minor": 0
}